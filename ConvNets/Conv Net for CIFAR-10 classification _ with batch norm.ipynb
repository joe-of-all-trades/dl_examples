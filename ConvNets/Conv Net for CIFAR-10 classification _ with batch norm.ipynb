{
 "cells": [
  {
   "cell_type": "markdown",
   "metadata": {},
   "source": [
    "In this project, we'll build a simple convolutional neural network for CIFAR-10 image classification. Code contained in this project was based on Tensorflow 1.2.1 and python 3.5. "
   ]
  },
  {
   "cell_type": "code",
   "execution_count": 1,
   "metadata": {
    "collapsed": true
   },
   "outputs": [],
   "source": [
    "from urllib.request import urlretrieve\n",
    "from os.path import isfile, isdir\n",
    "from tqdm import tqdm\n",
    "import tarfile\n",
    "import tensorflow as tf\n",
    "\n",
    "cifar10_dataset_folder_path = 'cifar-10-batches-py'\n",
    "tar_gz_path = 'cifar-10-python.tar.gz'\n",
    "\n",
    "class DLProgress(tqdm):\n",
    "    last_block = 0\n",
    "\n",
    "    def hook(self, block_num=1, block_size=1, total_size=None):\n",
    "        self.total = total_size\n",
    "        self.update((block_num - self.last_block) * block_size)\n",
    "        self.last_block = block_num\n",
    "\n",
    "if not isfile(tar_gz_path):\n",
    "    with DLProgress(unit='B', unit_scale=True, miniters=1, desc='CIFAR-10 Dataset') as pbar:\n",
    "        urlretrieve(\n",
    "            'https://www.cs.toronto.edu/~kriz/cifar-10-python.tar.gz',\n",
    "            tar_gz_path,\n",
    "            pbar.hook)\n",
    "\n",
    "if not isdir(cifar10_dataset_folder_path):\n",
    "    with tarfile.open(tar_gz_path) as tar:\n",
    "        tar.extractall()\n",
    "        tar.close()"
   ]
  },
  {
   "cell_type": "code",
   "execution_count": 2,
   "metadata": {},
   "outputs": [
    {
     "name": "stdout",
     "output_type": "stream",
     "text": [
      "\n",
      "Stats of batch 1:\n",
      "Samples: 10000\n",
      "Label Counts: {0: 1005, 1: 974, 2: 1032, 3: 1016, 4: 999, 5: 937, 6: 1030, 7: 1001, 8: 1025, 9: 981}\n",
      "First 20 Labels: [6, 9, 9, 4, 1, 1, 2, 7, 8, 3, 4, 7, 7, 2, 9, 9, 9, 3, 2, 6]\n",
      "\n",
      "Example of Image 6:\n",
      "Image - Min Value: 7 Max Value: 249\n",
      "Image - Shape: (32, 32, 3)\n",
      "Label - Label Id: 2 Name: bird\n"
     ]
    },
    {
     "data": {
      "image/png": "[encoded data removed]",
      "text/plain": [
       "<matplotlib.figure.Figure at 0x21240b01978>"
      ]
     },
     "metadata": {
      "image/png": {
       "height": 250,
       "width": 253
      }
     },
     "output_type": "display_data"
    }
   ],
   "source": [
    "%matplotlib inline\n",
    "%config InlineBackend.figure_format = 'retina'\n",
    "\n",
    "import helper\n",
    "import numpy as np\n",
    "\n",
    "# Explore the dataset\n",
    "batch_id = 1\n",
    "sample_id = 6\n",
    "helper.display_stats(cifar10_dataset_folder_path, batch_id, sample_id)"
   ]
  },
  {
   "cell_type": "markdown",
   "metadata": {},
   "source": [
    "# Preprocess Data\n",
    "\n",
    "## Normalize"
   ]
  },
  {
   "cell_type": "code",
   "execution_count": 3,
   "metadata": {
    "collapsed": true
   },
   "outputs": [],
   "source": [
    "def normalize(x):\n",
    "    \"\"\"\n",
    "    Normalize a list of sample image data in the range of 0 to 1\n",
    "    : x: List of image data.  The image shape is (32, 32, 3)\n",
    "    \"\"\"\n",
    "    return ( x - x.min() ) / ( x.max() - x.min() )"
   ]
  },
  {
   "cell_type": "markdown",
   "metadata": {},
   "source": [
    "## One hot encode"
   ]
  },
  {
   "cell_type": "code",
   "execution_count": 4,
   "metadata": {
    "collapsed": true
   },
   "outputs": [],
   "source": [
    "def one_hot_encode(x):\n",
    "    \"\"\"\n",
    "    One hot encode a list of sample labels. Return a one-hot encoded vector for each label.\n",
    "    : x: List of sample Labels\n",
    "    : return: Numpy array of one-hot encoded labels\n",
    "    \"\"\"\n",
    "    output = np.zeros([len(x), 10])\n",
    "    for idx, item in enumerate(x):\n",
    "        output[idx, item] = 1\n",
    "    return output"
   ]
  },
  {
   "cell_type": "markdown",
   "metadata": {},
   "source": [
    "This above function is equivalent to tf.one_hot(x, 10), but tensorflow module can not be pickled so we're sticking with the above implementation."
   ]
  },
  {
   "cell_type": "markdown",
   "metadata": {},
   "source": [
    "## Preprocess Data\n",
    "We will randomly shuffle the data, normalize them and save them in binary format."
   ]
  },
  {
   "cell_type": "code",
   "execution_count": 5,
   "metadata": {
    "collapsed": true
   },
   "outputs": [],
   "source": [
    "import tensorflow as tf\n",
    "# Preprocess Training, Validation, and Testing Data\n",
    "helper.preprocess_and_save_data(cifar10_dataset_folder_path, normalize, one_hot_encode)"
   ]
  },
  {
   "cell_type": "markdown",
   "metadata": {},
   "source": [
    "# Checkpoint\n",
    "The above work is all saved so when we're revisiting this notebook we don't have to do those work again. We can start from here."
   ]
  },
  {
   "cell_type": "code",
   "execution_count": 6,
   "metadata": {
    "collapsed": true
   },
   "outputs": [],
   "source": [
    "import pickle\n",
    "import helper\n",
    "\n",
    "valid_features, valid_labels = pickle.load(open('preprocess_validation.p', mode='rb'))"
   ]
  },
  {
   "cell_type": "markdown",
   "metadata": {},
   "source": [
    "# Building the network"
   ]
  },
  {
   "cell_type": "markdown",
   "metadata": {},
   "source": [
    "## Defining input"
   ]
  },
  {
   "cell_type": "code",
   "execution_count": 7,
   "metadata": {
    "collapsed": true
   },
   "outputs": [],
   "source": [
    "import tensorflow as tf\n",
    "\n",
    "def neural_net_image_input(image_shape):\n",
    "    \"\"\"\n",
    "    Return a Tensor for a batch of image input\n",
    "    : image_shape: Shape of the images\n",
    "    \"\"\"\n",
    "    return tf.placeholder(tf.float32, [None, image_shape[0], image_shape[1], image_shape[2]], \"x\")\n",
    "\n",
    "\n",
    "def neural_net_label_input(n_classes):\n",
    "    \"\"\"\n",
    "    Return a Tensor for a batch of label input\n",
    "    : n_classes: Number of classes\n",
    "    \"\"\"\n",
    "    return tf.placeholder(tf.float32, [None, n_classes], \"y\")\n",
    "\n",
    "\n",
    "def neural_net_keep_prob_input():\n",
    "    \"\"\"\n",
    "    Return a Tensor for keep probability\n",
    "    \"\"\"\n",
    "    return tf.placeholder(tf.float32, None, \"keep_prob\")\n",
    "\n",
    "def neural_net_training_flag():\n",
    "    return tf.placeholder(tf.bool, None, \"train_flag\")"
   ]
  },
  {
   "cell_type": "markdown",
   "metadata": {},
   "source": [
    "## Convolution and maxpool layer"
   ]
  },
  {
   "cell_type": "code",
   "execution_count": 8,
   "metadata": {
    "collapsed": true
   },
   "outputs": [],
   "source": [
    "def conv2d_maxpool(x_tensor, conv_num_outputs, conv_ksize, conv_strides, pool_ksize, pool_strides, is_train, maxpool=True):\n",
    "    \"\"\"\n",
    "    Apply convolution then max pooling to x_tensor\n",
    "    :param x_tensor: TensorFlow Tensor\n",
    "    :param conv_num_outputs: Number of outputs for the convolutional layer\n",
    "    :param conv_ksize: kernal size 2-D Tuple for the convolutional layer\n",
    "    :param conv_strides: Stride 2-D Tuple for convolution\n",
    "    :param pool_ksize: kernal size 2-D Tuple for pool\n",
    "    :param pool_strides: Stride 2-D Tuple for pool\n",
    "    : return: A tensor that represents convolution and max pooling of x_tensor\n",
    "    \"\"\"\n",
    "    w = tf.get_variable(\"w\", shape=[conv_ksize[0], conv_ksize[1], x_tensor.get_shape().as_list()[3], conv_num_outputs],\n",
    "                         initializer=tf.contrib.layers.xavier_initializer())\n",
    "    \n",
    "    #b = tf.Variable(tf.truncated_normal([conv_num_outputs],\n",
    "    #                                  mean=0.0, stddev=0.1, dtype=tf.float32))\n",
    "    \n",
    "    wc = tf.nn.conv2d(x_tensor, w, strides=[1, conv_strides[0], conv_strides[1], 1], padding='SAME')\n",
    "    # z = tf.nn.bias_add(wc, b)\n",
    "    z = tf.layers.batch_normalization(wc, training=is_train)\n",
    "    \n",
    "    if maxpool==True:\n",
    "        z = tf.nn.max_pool(z, ksize=[1, pool_ksize[0], pool_ksize[1], 1], \n",
    "                           strides=[1, pool_strides[0], pool_strides[1], 1], padding='SAME')\n",
    "    \n",
    "    return tf.nn.relu(z)\n"
   ]
  },
  {
   "cell_type": "markdown",
   "metadata": {},
   "source": [
    "## Flatten layer\n",
    "Implement the flatten function to change the dimension of x_tensor from a 4-D tensor to a 2-D tensor. The output should be the shape (Batch Size, Flattened Image Size). Shortcut option: you can use classes from the TensorFlow Layers or TensorFlow Layers (contrib) packages for this layer. For more of a challenge, only use other TensorFlow packages."
   ]
  },
  {
   "cell_type": "code",
   "execution_count": 9,
   "metadata": {
    "collapsed": true
   },
   "outputs": [],
   "source": [
    "def flatten(x_tensor):\n",
    "    \"\"\"\n",
    "    Flatten x_tensor to (Batch Size, Flattened Image Size)\n",
    "    : x_tensor: A tensor of size (Batch Size, ...), where ... are the image dimensions.\n",
    "    : return: A tensor of size (Batch Size, Flattened Image Size).\n",
    "    \"\"\"\n",
    "    # reference : https://github.com/tensorflow/tensorflow/issues/7253\n",
    "    return tf.reshape(x_tensor, [tf.shape(x_tensor)[0], np.prod(x_tensor.get_shape().as_list()[1:])])\n",
    "    \n",
    "    # This also works\n",
    "    #return tf.reshape(x_tensor, [-1, np.prod(x_tensor.shape[1:]).value])"
   ]
  },
  {
   "cell_type": "markdown",
   "metadata": {},
   "source": [
    "## Fully connected layer"
   ]
  },
  {
   "cell_type": "code",
   "execution_count": 10,
   "metadata": {
    "collapsed": true
   },
   "outputs": [],
   "source": [
    "def fully_conn(x_tensor, num_outputs, is_train):\n",
    "    \"\"\"\n",
    "    Apply a fully connected layer to x_tensor using weight and bias\n",
    "    : x_tensor: A 2-D tensor where the first dimension is batch size.\n",
    "    : num_outputs: The number of output that the new tensor should be.\n",
    "    : return: A 2-D tensor where the second dimension is num_outputs.\n",
    "    \"\"\"\n",
    "    fc = tf.reshape(x_tensor, [-1, np.prod(x_tensor.get_shape().as_list()[1:])])\n",
    "    \n",
    "    w = tf.get_variable(\"w\", shape=[np.prod(x_tensor.get_shape().as_list()[1:]), num_outputs],\n",
    "                         initializer=tf.contrib.layers.xavier_initializer())\n",
    "    \n",
    "    # b = tf.Variable(tf.truncated_normal([num_outputs],mean=0.0, stddev=0.1, dtype=tf.float32))\n",
    "    z = tf.matmul(fc, w)\n",
    "    z = tf.layers.batch_normalization(z, training=is_train)\n",
    "    \n",
    "    return tf.nn.relu(z)"
   ]
  },
  {
   "cell_type": "markdown",
   "metadata": {},
   "source": [
    "## Output layer"
   ]
  },
  {
   "cell_type": "code",
   "execution_count": 11,
   "metadata": {
    "collapsed": true
   },
   "outputs": [],
   "source": [
    "def output(x_tensor, num_outputs):\n",
    "    \"\"\"\n",
    "    Apply a output layer to x_tensor using weight and bias\n",
    "    : x_tensor: A 2-D tensor where the first dimension is batch size.\n",
    "    : num_outputs: The number of output that the new tensor should be.\n",
    "    : return: A 2-D tensor where the second dimension is num_outputs.\n",
    "    \"\"\"\n",
    "    w = tf.get_variable(\"w\", shape=[np.prod(x_tensor.get_shape().as_list()[1:]), num_outputs],\n",
    "                         initializer=tf.contrib.layers.xavier_initializer())\n",
    "    \n",
    "    b = tf.Variable(tf.truncated_normal([num_outputs],mean=0.0, stddev=0.1, dtype=tf.float32))\n",
    "    return tf.add(tf.matmul(x_tensor, w), b)\n"
   ]
  },
  {
   "cell_type": "markdown",
   "metadata": {},
   "source": [
    "## Create the convolutional neural network model"
   ]
  },
  {
   "cell_type": "code",
   "execution_count": 12,
   "metadata": {
    "collapsed": true
   },
   "outputs": [],
   "source": [
    "def conv_net(x, keep_prob, train_flag):\n",
    "    \"\"\"\n",
    "    Create a convolutional neural network model\n",
    "    : x: Placeholder tensor that holds image data.\n",
    "    : keep_prob: Placeholder tensor that hold dropout keep probability.\n",
    "    : return: Tensor that represents logits\n",
    "    \"\"\"\n",
    "    # Convolution and maxpooling layers\n",
    "    with tf.variable_scope(\"conv1\"):\n",
    "        conv1 = conv2d_maxpool(x, 40, (3, 3), (1, 1), (2, 2), (2, 2), train_flag, maxpool=False)\n",
    "    with tf.variable_scope(\"conv2\"):\n",
    "        conv2 = conv2d_maxpool(conv1, 80, (3, 3), (1, 1), (2, 2), (2, 2), train_flag, maxpool=True)\n",
    "    # norm1 = tf.nn.lrn(conv2, 4, bias=1.0, alpha=0.001 / 9.0, beta=0.75,name='norm1')\n",
    "    conv2 = tf.nn.dropout(conv2, keep_prob)\n",
    "    with tf.variable_scope(\"conv3\"):\n",
    "        conv3 = conv2d_maxpool(conv2, 160, (3, 3), (1, 1), (2, 2), (2, 2), train_flag, maxpool=False)\n",
    "    with tf.variable_scope(\"conv4\"):\n",
    "        conv4 = conv2d_maxpool(conv3, 320, (3, 3), (1, 1), (2, 2), (2, 2), train_flag, maxpool=True)\n",
    "    #norm2 = tf.nn.lrn(conv4, 4, bias=1.0, alpha=0.001 / 9.0, beta=0.75,name='norm2')\n",
    "    conv4 = tf.nn.dropout(conv4, keep_prob)\n",
    "    \n",
    "    # Flatten Layer\n",
    "    f = flatten(conv4)\n",
    "\n",
    "    # Fully Connected layers\n",
    "    with tf.variable_scope(\"fc1\"):\n",
    "        fc1 = fully_conn(f, 512, train_flag)\n",
    "        fc1 = tf.nn.dropout(fc1, keep_prob)\n",
    "    with tf.variable_scope(\"fc2\"):\n",
    "        fc2 = fully_conn(fc1, 256, train_flag)\n",
    "        fc2 = tf.nn.dropout(fc2, keep_prob)\n",
    "    \n",
    "    # Output Layer\n",
    "    with tf.variable_scope(\"out\"):\n",
    "        o = output(fc2, 10)\n",
    "    \n",
    "    # TODO: return output\n",
    "    return o"
   ]
  },
  {
   "cell_type": "markdown",
   "metadata": {},
   "source": [
    "## Build the network"
   ]
  },
  {
   "cell_type": "code",
   "execution_count": 13,
   "metadata": {
    "collapsed": true
   },
   "outputs": [],
   "source": [
    "tf.reset_default_graph()\n",
    "\n",
    "# Inputs\n",
    "x = neural_net_image_input((32, 32, 3))\n",
    "y = neural_net_label_input(10)\n",
    "keep_prob = neural_net_keep_prob_input()\n",
    "train_flag = neural_net_training_flag()\n",
    "\n",
    "# Model\n",
    "logits = conv_net(x, keep_prob, train_flag)\n",
    "\n",
    "# Name logits Tensor, so that is can be loaded from disk after training\n",
    "logits = tf.identity(logits, name='logits')\n",
    "\n",
    "# Loss and Optimizer\n",
    "cost = tf.reduce_mean(tf.nn.softmax_cross_entropy_with_logits(logits=logits, labels=y))\n",
    "\n",
    "# Collect batch mean and variance for batch normalization\n",
    "update_ops = tf.get_collection(tf.GraphKeys.UPDATE_OPS)\n",
    "with tf.control_dependencies(update_ops):\n",
    "    optimizer = tf.train.AdamOptimizer(epsilon=1e-04).minimize(cost)\n",
    "\n",
    "# Accuracy\n",
    "correct_pred = tf.equal(tf.argmax(logits, 1), tf.argmax(y, 1))\n",
    "accuracy = tf.reduce_mean(tf.cast(correct_pred, tf.float32), name='accuracy')"
   ]
  },
  {
   "cell_type": "markdown",
   "metadata": {},
   "source": [
    "## Train network"
   ]
  },
  {
   "cell_type": "code",
   "execution_count": 14,
   "metadata": {
    "collapsed": true
   },
   "outputs": [],
   "source": [
    "def train_neural_network(session, optimizer, keep_probability, feature_batch, label_batch, is_train):\n",
    "    \"\"\"\n",
    "    Optimize the session on a batch of images and labels\n",
    "    \"\"\"\n",
    "    session.run(optimizer, feed_dict={x: feature_batch, y: label_batch, keep_prob: keep_probability, train_flag:is_train})"
   ]
  },
  {
   "cell_type": "markdown",
   "metadata": {},
   "source": [
    "## Print Stats\n",
    "It's important to evaluate the performance of model once in a while. If effect, we're feeding a small batch of data to the neural network through forward propagation and then caculate the accuracy of prediction. We don't want to do this too often as this slows down the overall process. It's important to keep in mind that since we're actually using the model for prediction but not training it, we need to set keep probability for dropout to 1 so we're not losing any connection between neurons. "
   ]
  },
  {
   "cell_type": "code",
   "execution_count": 15,
   "metadata": {
    "collapsed": true
   },
   "outputs": [],
   "source": [
    "def print_stats(session, feature_batch, label_batch, cost, accuracy):\n",
    "    \"\"\"\n",
    "    Print information about loss and validation accuracy\n",
    "    \"\"\"\n",
    "    loss = session.run(cost, feed_dict={x: feature_batch, y: label_batch, keep_prob: 1., train_flag:False})\n",
    "    valid_acc = session.run(accuracy, feed_dict={x: valid_features, y: valid_labels, keep_prob: 1., train_flag:False})\n",
    "    print('Loss: {:>10.4f} Validation Accuracy: {:.6f}'.format(loss, valid_acc))"
   ]
  },
  {
   "cell_type": "markdown",
   "metadata": {},
   "source": [
    "## Hyperparameters"
   ]
  },
  {
   "cell_type": "code",
   "execution_count": 16,
   "metadata": {
    "collapsed": true
   },
   "outputs": [],
   "source": [
    "epochs = 30\n",
    "batch_size = 128\n",
    "keep_probability = 0.5"
   ]
  },
  {
   "cell_type": "markdown",
   "metadata": {},
   "source": [
    "## Train on a single CIFAR-10 batch"
   ]
  },
  {
   "cell_type": "code",
   "execution_count": 17,
   "metadata": {},
   "outputs": [
    {
     "name": "stdout",
     "output_type": "stream",
     "text": [
      "Checking the Training on a Single Batch...\n",
      "Epoch  1, CIFAR-10 Batch 1:  Loss:     4.6006 Validation Accuracy: 0.097000\n",
      "Epoch  2, CIFAR-10 Batch 1:  Loss:     4.9447 Validation Accuracy: 0.097000\n",
      "Epoch  3, CIFAR-10 Batch 1:  Loss:     4.1664 Validation Accuracy: 0.099400\n",
      "Epoch  4, CIFAR-10 Batch 1:  Loss:     3.0742 Validation Accuracy: 0.147200\n",
      "Epoch  5, CIFAR-10 Batch 1:  Loss:     2.8091 Validation Accuracy: 0.212600\n",
      "Epoch  6, CIFAR-10 Batch 1:  Loss:     1.6775 Validation Accuracy: 0.354000\n",
      "Epoch  7, CIFAR-10 Batch 1:  Loss:     0.9474 Validation Accuracy: 0.515200\n",
      "Epoch  8, CIFAR-10 Batch 1:  Loss:     0.8900 Validation Accuracy: 0.545200\n",
      "Epoch  9, CIFAR-10 Batch 1:  Loss:     0.5649 Validation Accuracy: 0.621400\n",
      "Epoch 10, CIFAR-10 Batch 1:  Loss:     0.6431 Validation Accuracy: 0.635800\n",
      "Epoch 11, CIFAR-10 Batch 1:  Loss:     0.5293 Validation Accuracy: 0.632800\n",
      "Epoch 12, CIFAR-10 Batch 1:  Loss:     0.4932 Validation Accuracy: 0.653800\n",
      "Epoch 13, CIFAR-10 Batch 1:  Loss:     0.6180 Validation Accuracy: 0.594200\n",
      "Epoch 14, CIFAR-10 Batch 1:  Loss:     0.1876 Validation Accuracy: 0.680000\n",
      "Epoch 15, CIFAR-10 Batch 1:  Loss:     0.2788 Validation Accuracy: 0.647800\n",
      "Epoch 16, CIFAR-10 Batch 1:  Loss:     0.3981 Validation Accuracy: 0.600600\n",
      "Epoch 17, CIFAR-10 Batch 1:  Loss:     0.4177 Validation Accuracy: 0.623000\n",
      "Epoch 18, CIFAR-10 Batch 1:  Loss:     0.7724 Validation Accuracy: 0.574600\n",
      "Epoch 19, CIFAR-10 Batch 1:  Loss:     0.2899 Validation Accuracy: 0.646600\n",
      "Epoch 20, CIFAR-10 Batch 1:  Loss:     0.1176 Validation Accuracy: 0.688400\n",
      "Epoch 21, CIFAR-10 Batch 1:  Loss:     0.2116 Validation Accuracy: 0.668600\n",
      "Epoch 22, CIFAR-10 Batch 1:  Loss:     0.2449 Validation Accuracy: 0.609000\n",
      "Epoch 23, CIFAR-10 Batch 1:  Loss:     0.1017 Validation Accuracy: 0.683000\n",
      "Epoch 24, CIFAR-10 Batch 1:  Loss:     0.0525 Validation Accuracy: 0.697400\n",
      "Epoch 25, CIFAR-10 Batch 1:  Loss:     0.0281 Validation Accuracy: 0.720000\n",
      "Epoch 26, CIFAR-10 Batch 1:  Loss:     0.1071 Validation Accuracy: 0.673800\n",
      "Epoch 27, CIFAR-10 Batch 1:  Loss:     0.0206 Validation Accuracy: 0.692600\n",
      "Epoch 28, CIFAR-10 Batch 1:  Loss:     0.0626 Validation Accuracy: 0.712800\n",
      "Epoch 29, CIFAR-10 Batch 1:  Loss:     0.0564 Validation Accuracy: 0.684400\n",
      "Epoch 30, CIFAR-10 Batch 1:  Loss:     0.0187 Validation Accuracy: 0.684600\n"
     ]
    }
   ],
   "source": [
    "print('Checking the Training on a Single Batch...')\n",
    "with tf.Session() as sess:\n",
    "    sess.run(tf.global_variables_initializer())\n",
    "    \n",
    "    # Training cycle\n",
    "    for epoch in range(epochs):\n",
    "        batch_i = 1\n",
    "        for batch_features, batch_labels in helper.load_preprocess_training_batch(batch_i, batch_size):\n",
    "            train_neural_network(sess, optimizer, keep_probability, batch_features, batch_labels, True)\n",
    "        print('Epoch {:>2}, CIFAR-10 Batch {}:  '.format(epoch + 1, batch_i), end='')\n",
    "        print_stats(sess, batch_features, batch_labels, cost, accuracy)"
   ]
  },
  {
   "cell_type": "markdown",
   "metadata": {},
   "source": [
    "## Fully train the model"
   ]
  },
  {
   "cell_type": "code",
   "execution_count": 19,
   "metadata": {},
   "outputs": [
    {
     "name": "stdout",
     "output_type": "stream",
     "text": [
      "Training...\n",
      "Epoch  1, CIFAR-10 Batch 1:  Loss:     4.3535 Validation Accuracy: 0.094600\n",
      "Epoch  1, CIFAR-10 Batch 2:  Loss:     4.4140 Validation Accuracy: 0.101600\n",
      "Epoch  1, CIFAR-10 Batch 3:  Loss:     3.9045 Validation Accuracy: 0.127600\n",
      "Epoch  1, CIFAR-10 Batch 4:  Loss:     2.8509 Validation Accuracy: 0.111600\n",
      "Epoch  1, CIFAR-10 Batch 5:  Loss:     2.8115 Validation Accuracy: 0.248600\n",
      "Epoch  2, CIFAR-10 Batch 1:  Loss:     1.4874 Validation Accuracy: 0.422600\n",
      "Epoch  2, CIFAR-10 Batch 2:  Loss:     1.6534 Validation Accuracy: 0.462200\n",
      "Epoch  2, CIFAR-10 Batch 3:  Loss:     0.8974 Validation Accuracy: 0.612000\n",
      "Epoch  2, CIFAR-10 Batch 4:  Loss:     1.2834 Validation Accuracy: 0.606000\n",
      "Epoch  2, CIFAR-10 Batch 5:  Loss:     0.6789 Validation Accuracy: 0.680800\n",
      "Epoch  3, CIFAR-10 Batch 1:  Loss:     1.3108 Validation Accuracy: 0.586200\n",
      "Epoch  3, CIFAR-10 Batch 2:  Loss:     1.0229 Validation Accuracy: 0.603000\n",
      "Epoch  3, CIFAR-10 Batch 3:  Loss:     0.5840 Validation Accuracy: 0.689200\n",
      "Epoch  3, CIFAR-10 Batch 4:  Loss:     0.7224 Validation Accuracy: 0.687400\n",
      "Epoch  3, CIFAR-10 Batch 5:  Loss:     0.7370 Validation Accuracy: 0.659800\n",
      "Epoch  4, CIFAR-10 Batch 1:  Loss:     0.7273 Validation Accuracy: 0.705600\n",
      "Epoch  4, CIFAR-10 Batch 2:  Loss:     1.5900 Validation Accuracy: 0.530600\n",
      "Epoch  4, CIFAR-10 Batch 3:  Loss:     0.5478 Validation Accuracy: 0.689200\n",
      "Epoch  4, CIFAR-10 Batch 4:  Loss:     0.5743 Validation Accuracy: 0.714600\n",
      "Epoch  4, CIFAR-10 Batch 5:  Loss:     0.6326 Validation Accuracy: 0.713600\n",
      "Epoch  5, CIFAR-10 Batch 1:  Loss:     0.6518 Validation Accuracy: 0.705000\n",
      "Epoch  5, CIFAR-10 Batch 2:  Loss:     0.7477 Validation Accuracy: 0.686800\n",
      "Epoch  5, CIFAR-10 Batch 3:  Loss:     0.4146 Validation Accuracy: 0.735000\n",
      "Epoch  5, CIFAR-10 Batch 4:  Loss:     0.4496 Validation Accuracy: 0.760800\n",
      "Epoch  5, CIFAR-10 Batch 5:  Loss:     0.7082 Validation Accuracy: 0.697200\n",
      "Epoch  6, CIFAR-10 Batch 1:  Loss:     0.7451 Validation Accuracy: 0.690200\n",
      "Epoch  6, CIFAR-10 Batch 2:  Loss:     0.6951 Validation Accuracy: 0.699200\n",
      "Epoch  6, CIFAR-10 Batch 3:  Loss:     0.3618 Validation Accuracy: 0.763200\n",
      "Epoch  6, CIFAR-10 Batch 4:  Loss:     0.5250 Validation Accuracy: 0.752200\n",
      "Epoch  6, CIFAR-10 Batch 5:  Loss:     0.3904 Validation Accuracy: 0.750200\n",
      "Epoch  7, CIFAR-10 Batch 1:  Loss:     0.4471 Validation Accuracy: 0.764400\n",
      "Epoch  7, CIFAR-10 Batch 2:  Loss:     0.4577 Validation Accuracy: 0.744800\n",
      "Epoch  7, CIFAR-10 Batch 3:  Loss:     0.2857 Validation Accuracy: 0.776600\n",
      "Epoch  7, CIFAR-10 Batch 4:  Loss:     0.3203 Validation Accuracy: 0.780000\n",
      "Epoch  7, CIFAR-10 Batch 5:  Loss:     0.4361 Validation Accuracy: 0.752000\n",
      "Epoch  8, CIFAR-10 Batch 1:  Loss:     0.3548 Validation Accuracy: 0.757200\n",
      "Epoch  8, CIFAR-10 Batch 2:  Loss:     0.4321 Validation Accuracy: 0.746800\n",
      "Epoch  8, CIFAR-10 Batch 3:  Loss:     0.2892 Validation Accuracy: 0.768800\n",
      "Epoch  8, CIFAR-10 Batch 4:  Loss:     0.3503 Validation Accuracy: 0.782400\n",
      "Epoch  8, CIFAR-10 Batch 5:  Loss:     0.2854 Validation Accuracy: 0.760800\n",
      "Epoch  9, CIFAR-10 Batch 1:  Loss:     0.4036 Validation Accuracy: 0.771000\n",
      "Epoch  9, CIFAR-10 Batch 2:  Loss:     0.3494 Validation Accuracy: 0.757000\n",
      "Epoch  9, CIFAR-10 Batch 3:  Loss:     0.2476 Validation Accuracy: 0.782800\n",
      "Epoch  9, CIFAR-10 Batch 4:  Loss:     0.3101 Validation Accuracy: 0.787600\n",
      "Epoch  9, CIFAR-10 Batch 5:  Loss:     0.4666 Validation Accuracy: 0.732600\n",
      "Epoch 10, CIFAR-10 Batch 1:  Loss:     0.2408 Validation Accuracy: 0.793200\n",
      "Epoch 10, CIFAR-10 Batch 2:  Loss:     0.1975 Validation Accuracy: 0.785600\n",
      "Epoch 10, CIFAR-10 Batch 3:  Loss:     0.1351 Validation Accuracy: 0.812800\n",
      "Epoch 10, CIFAR-10 Batch 4:  Loss:     0.2448 Validation Accuracy: 0.782200\n",
      "Epoch 10, CIFAR-10 Batch 5:  Loss:     0.2336 Validation Accuracy: 0.793600\n",
      "Epoch 11, CIFAR-10 Batch 1:  Loss:     0.2234 Validation Accuracy: 0.791600\n",
      "Epoch 11, CIFAR-10 Batch 2:  Loss:     0.2523 Validation Accuracy: 0.783600\n",
      "Epoch 11, CIFAR-10 Batch 3:  Loss:     0.1494 Validation Accuracy: 0.802400\n",
      "Epoch 11, CIFAR-10 Batch 4:  Loss:     0.1679 Validation Accuracy: 0.812600\n",
      "Epoch 11, CIFAR-10 Batch 5:  Loss:     0.2143 Validation Accuracy: 0.785200\n",
      "Epoch 12, CIFAR-10 Batch 1:  Loss:     0.2224 Validation Accuracy: 0.764800\n",
      "Epoch 12, CIFAR-10 Batch 2:  Loss:     0.1291 Validation Accuracy: 0.799400\n",
      "Epoch 12, CIFAR-10 Batch 3:  Loss:     0.1045 Validation Accuracy: 0.798800\n",
      "Epoch 12, CIFAR-10 Batch 4:  Loss:     0.1452 Validation Accuracy: 0.801400\n",
      "Epoch 12, CIFAR-10 Batch 5:  Loss:     0.1989 Validation Accuracy: 0.795400\n",
      "Epoch 13, CIFAR-10 Batch 1:  Loss:     0.2533 Validation Accuracy: 0.774200\n",
      "Epoch 13, CIFAR-10 Batch 2:  Loss:     0.1620 Validation Accuracy: 0.785000\n",
      "Epoch 13, CIFAR-10 Batch 3:  Loss:     0.1769 Validation Accuracy: 0.772000\n",
      "Epoch 13, CIFAR-10 Batch 4:  Loss:     0.1370 Validation Accuracy: 0.801600\n",
      "Epoch 13, CIFAR-10 Batch 5:  Loss:     0.1409 Validation Accuracy: 0.803200\n",
      "Epoch 14, CIFAR-10 Batch 1:  Loss:     0.2257 Validation Accuracy: 0.785400\n",
      "Epoch 14, CIFAR-10 Batch 2:  Loss:     0.2344 Validation Accuracy: 0.778600\n",
      "Epoch 14, CIFAR-10 Batch 3:  Loss:     0.1709 Validation Accuracy: 0.773600\n",
      "Epoch 14, CIFAR-10 Batch 4:  Loss:     0.1735 Validation Accuracy: 0.808400\n",
      "Epoch 14, CIFAR-10 Batch 5:  Loss:     0.2254 Validation Accuracy: 0.763000\n",
      "Epoch 15, CIFAR-10 Batch 1:  Loss:     0.1556 Validation Accuracy: 0.809400\n",
      "Epoch 15, CIFAR-10 Batch 2:  Loss:     0.1073 Validation Accuracy: 0.806400\n",
      "Epoch 15, CIFAR-10 Batch 3:  Loss:     0.0991 Validation Accuracy: 0.804800\n",
      "Epoch 15, CIFAR-10 Batch 4:  Loss:     0.0553 Validation Accuracy: 0.831000\n",
      "Epoch 15, CIFAR-10 Batch 5:  Loss:     0.1060 Validation Accuracy: 0.797600\n",
      "Epoch 16, CIFAR-10 Batch 1:  Loss:     0.1248 Validation Accuracy: 0.811000\n",
      "Epoch 16, CIFAR-10 Batch 2:  Loss:     0.1521 Validation Accuracy: 0.802000\n",
      "Epoch 16, CIFAR-10 Batch 3:  Loss:     0.0707 Validation Accuracy: 0.815800\n",
      "Epoch 16, CIFAR-10 Batch 4:  Loss:     0.0898 Validation Accuracy: 0.809200\n",
      "Epoch 16, CIFAR-10 Batch 5:  Loss:     0.0665 Validation Accuracy: 0.780000\n",
      "Epoch 17, CIFAR-10 Batch 1:  Loss:     0.1167 Validation Accuracy: 0.824200\n",
      "Epoch 17, CIFAR-10 Batch 2:  Loss:     0.0501 Validation Accuracy: 0.824200\n",
      "Epoch 17, CIFAR-10 Batch 3:  Loss:     0.1246 Validation Accuracy: 0.787800\n",
      "Epoch 17, CIFAR-10 Batch 4:  Loss:     0.0281 Validation Accuracy: 0.844200\n",
      "Epoch 17, CIFAR-10 Batch 5:  Loss:     0.0184 Validation Accuracy: 0.832200\n",
      "Epoch 18, CIFAR-10 Batch 1:  Loss:     0.2029 Validation Accuracy: 0.784000\n",
      "Epoch 18, CIFAR-10 Batch 2:  Loss:     0.0700 Validation Accuracy: 0.812600\n",
      "Epoch 18, CIFAR-10 Batch 3:  Loss:     0.0696 Validation Accuracy: 0.814000\n",
      "Epoch 18, CIFAR-10 Batch 4:  Loss:     0.0340 Validation Accuracy: 0.847600\n",
      "Epoch 18, CIFAR-10 Batch 5:  Loss:     0.0414 Validation Accuracy: 0.826400\n",
      "Epoch 19, CIFAR-10 Batch 1:  Loss:     0.1926 Validation Accuracy: 0.782200\n",
      "Epoch 19, CIFAR-10 Batch 2:  Loss:     0.0298 Validation Accuracy: 0.834200\n",
      "Epoch 19, CIFAR-10 Batch 3:  Loss:     0.0503 Validation Accuracy: 0.818000\n",
      "Epoch 19, CIFAR-10 Batch 4:  Loss:     0.0168 Validation Accuracy: 0.847000\n",
      "Epoch 19, CIFAR-10 Batch 5:  Loss:     0.0149 Validation Accuracy: 0.834200\n",
      "Epoch 20, CIFAR-10 Batch 1:  Loss:     0.0532 Validation Accuracy: 0.811800\n",
      "Epoch 20, CIFAR-10 Batch 2:  Loss:     0.1280 Validation Accuracy: 0.794800\n",
      "Epoch 20, CIFAR-10 Batch 3:  Loss:     0.0485 Validation Accuracy: 0.807600\n",
      "Epoch 20, CIFAR-10 Batch 4:  Loss:     0.0328 Validation Accuracy: 0.822400\n",
      "Epoch 20, CIFAR-10 Batch 5:  Loss:     0.0145 Validation Accuracy: 0.829000\n",
      "Epoch 21, CIFAR-10 Batch 1:  Loss:     0.0223 Validation Accuracy: 0.833000\n",
      "Epoch 21, CIFAR-10 Batch 2:  Loss:     0.0517 Validation Accuracy: 0.825600\n",
      "Epoch 21, CIFAR-10 Batch 3:  Loss:     0.1026 Validation Accuracy: 0.818400\n",
      "Epoch 21, CIFAR-10 Batch 4:  Loss:     0.0108 Validation Accuracy: 0.837800\n",
      "Epoch 21, CIFAR-10 Batch 5:  Loss:     0.0211 Validation Accuracy: 0.816200\n",
      "Epoch 22, CIFAR-10 Batch 1:  Loss:     0.0482 Validation Accuracy: 0.824800\n",
      "Epoch 22, CIFAR-10 Batch 2:  Loss:     0.1421 Validation Accuracy: 0.800600\n"
     ]
    },
    {
     "name": "stdout",
     "output_type": "stream",
     "text": [
      "Epoch 22, CIFAR-10 Batch 3:  Loss:     0.0170 Validation Accuracy: 0.836600\n",
      "Epoch 22, CIFAR-10 Batch 4:  Loss:     0.0152 Validation Accuracy: 0.828600\n",
      "Epoch 22, CIFAR-10 Batch 5:  Loss:     0.0203 Validation Accuracy: 0.836200\n",
      "Epoch 23, CIFAR-10 Batch 1:  Loss:     0.0174 Validation Accuracy: 0.848400\n",
      "Epoch 23, CIFAR-10 Batch 2:  Loss:     0.0806 Validation Accuracy: 0.823000\n",
      "Epoch 23, CIFAR-10 Batch 3:  Loss:     0.0236 Validation Accuracy: 0.835000\n",
      "Epoch 23, CIFAR-10 Batch 4:  Loss:     0.0173 Validation Accuracy: 0.840200\n",
      "Epoch 23, CIFAR-10 Batch 5:  Loss:     0.0594 Validation Accuracy: 0.830200\n",
      "Epoch 24, CIFAR-10 Batch 1:  Loss:     0.0339 Validation Accuracy: 0.823800\n",
      "Epoch 24, CIFAR-10 Batch 2:  Loss:     0.0188 Validation Accuracy: 0.848800\n",
      "Epoch 24, CIFAR-10 Batch 3:  Loss:     0.0391 Validation Accuracy: 0.824400\n",
      "Epoch 24, CIFAR-10 Batch 4:  Loss:     0.0119 Validation Accuracy: 0.848200\n",
      "Epoch 24, CIFAR-10 Batch 5:  Loss:     0.0111 Validation Accuracy: 0.836000\n",
      "Epoch 25, CIFAR-10 Batch 1:  Loss:     0.0789 Validation Accuracy: 0.811600\n",
      "Epoch 25, CIFAR-10 Batch 2:  Loss:     0.0116 Validation Accuracy: 0.856400\n",
      "Epoch 25, CIFAR-10 Batch 3:  Loss:     0.1278 Validation Accuracy: 0.819000\n",
      "Epoch 25, CIFAR-10 Batch 4:  Loss:     0.0289 Validation Accuracy: 0.840000\n",
      "Epoch 25, CIFAR-10 Batch 5:  Loss:     0.0082 Validation Accuracy: 0.826400\n",
      "Epoch 26, CIFAR-10 Batch 1:  Loss:     0.0323 Validation Accuracy: 0.848400\n",
      "Epoch 26, CIFAR-10 Batch 2:  Loss:     0.0219 Validation Accuracy: 0.832600\n",
      "Epoch 26, CIFAR-10 Batch 3:  Loss:     0.0091 Validation Accuracy: 0.831800\n",
      "Epoch 26, CIFAR-10 Batch 4:  Loss:     0.0092 Validation Accuracy: 0.836800\n",
      "Epoch 26, CIFAR-10 Batch 5:  Loss:     0.0144 Validation Accuracy: 0.847400\n",
      "Epoch 27, CIFAR-10 Batch 1:  Loss:     0.0152 Validation Accuracy: 0.849600\n",
      "Epoch 27, CIFAR-10 Batch 2:  Loss:     0.0946 Validation Accuracy: 0.837000\n",
      "Epoch 27, CIFAR-10 Batch 3:  Loss:     0.0114 Validation Accuracy: 0.839600\n",
      "Epoch 27, CIFAR-10 Batch 4:  Loss:     0.0088 Validation Accuracy: 0.854800\n",
      "Epoch 27, CIFAR-10 Batch 5:  Loss:     0.0109 Validation Accuracy: 0.843600\n",
      "Epoch 28, CIFAR-10 Batch 1:  Loss:     0.0150 Validation Accuracy: 0.836400\n",
      "Epoch 28, CIFAR-10 Batch 2:  Loss:     0.0056 Validation Accuracy: 0.847200\n",
      "Epoch 28, CIFAR-10 Batch 3:  Loss:     0.0047 Validation Accuracy: 0.857000\n",
      "Epoch 28, CIFAR-10 Batch 4:  Loss:     0.0327 Validation Accuracy: 0.839000\n",
      "Epoch 28, CIFAR-10 Batch 5:  Loss:     0.0056 Validation Accuracy: 0.851600\n",
      "Epoch 29, CIFAR-10 Batch 1:  Loss:     0.0133 Validation Accuracy: 0.846800\n",
      "Epoch 29, CIFAR-10 Batch 2:  Loss:     0.0036 Validation Accuracy: 0.840800\n",
      "Epoch 29, CIFAR-10 Batch 3:  Loss:     0.0013 Validation Accuracy: 0.856200\n",
      "Epoch 29, CIFAR-10 Batch 4:  Loss:     0.0128 Validation Accuracy: 0.851200\n",
      "Epoch 29, CIFAR-10 Batch 5:  Loss:     0.0019 Validation Accuracy: 0.848200\n",
      "Epoch 30, CIFAR-10 Batch 1:  Loss:     0.0438 Validation Accuracy: 0.830000\n",
      "Epoch 30, CIFAR-10 Batch 2:  Loss:     0.0089 Validation Accuracy: 0.837600\n",
      "Epoch 30, CIFAR-10 Batch 3:  Loss:     0.0013 Validation Accuracy: 0.846400\n",
      "Epoch 30, CIFAR-10 Batch 4:  Loss:     0.0837 Validation Accuracy: 0.813000\n",
      "Epoch 30, CIFAR-10 Batch 5:  Loss:     0.0050 Validation Accuracy: 0.842800\n"
     ]
    }
   ],
   "source": [
    "save_model_path = './image_classification'\n",
    "\n",
    "print('Training...')\n",
    "with tf.Session() as sess:\n",
    "    # Initializing the variables\n",
    "    sess.run(tf.global_variables_initializer())\n",
    "    \n",
    "    # Training cycle\n",
    "    for epoch in range(epochs):\n",
    "        # Loop over all batches\n",
    "        n_batches = 5\n",
    "        for batch_i in range(1, n_batches + 1):\n",
    "            for batch_features, batch_labels in helper.load_preprocess_training_batch(batch_i, batch_size):\n",
    "                train_neural_network(sess, optimizer, keep_probability, batch_features, batch_labels, True)\n",
    "            print('Epoch {:>2}, CIFAR-10 Batch {}:  '.format(epoch + 1, batch_i), end='')\n",
    "            print_stats(sess, batch_features, batch_labels, cost, accuracy)\n",
    "            \n",
    "    # Save Model\n",
    "    saver = tf.train.Saver()\n",
    "    save_path = saver.save(sess, save_model_path)"
   ]
  },
  {
   "cell_type": "markdown",
   "metadata": {},
   "source": [
    "## Test model"
   ]
  },
  {
   "cell_type": "code",
   "execution_count": 20,
   "metadata": {},
   "outputs": [
    {
     "name": "stdout",
     "output_type": "stream",
     "text": [
      "INFO:tensorflow:Restoring parameters from ./image_classification\n",
      "Testing Accuracy: 0.8344541139240507\n",
      "\n"
     ]
    },
    {
     "data": {
      "image/png": "[encoded data removed]",
      "text/plain": [
       "<matplotlib.figure.Figure at 0x21203292c50>"
      ]
     },
     "metadata": {
      "image/png": {
       "height": 319,
       "width": 355
      }
     },
     "output_type": "display_data"
    }
   ],
   "source": [
    "%matplotlib inline\n",
    "%config InlineBackend.figure_format = 'retina'\n",
    "\n",
    "import tensorflow as tf\n",
    "import pickle\n",
    "import helper\n",
    "import random\n",
    "\n",
    "batch_size = 128\n",
    "\n",
    "save_model_path = './image_classification'\n",
    "n_samples = 4\n",
    "top_n_predictions = 3\n",
    "\n",
    "def test_model():\n",
    "    \"\"\"\n",
    "    Test the saved model against the test dataset\n",
    "    \"\"\"\n",
    "    test_features, test_labels = pickle.load(open('preprocess_test.p', mode='rb'))\n",
    "    loaded_graph = tf.Graph()\n",
    "\n",
    "    with tf.Session(graph=loaded_graph) as sess:\n",
    "        # Load model\n",
    "        loader = tf.train.import_meta_graph(save_model_path + '.meta')\n",
    "        loader.restore(sess, save_model_path)\n",
    "\n",
    "        # Get Tensors from loaded model\n",
    "        loaded_x = loaded_graph.get_tensor_by_name('x:0')\n",
    "        loaded_y = loaded_graph.get_tensor_by_name('y:0')\n",
    "        loaded_keep_prob = loaded_graph.get_tensor_by_name('keep_prob:0')\n",
    "        loaded_logits = loaded_graph.get_tensor_by_name('logits:0')\n",
    "        loaded_acc = loaded_graph.get_tensor_by_name('accuracy:0')\n",
    "        loaded_train_flag = loaded_graph.get_tensor_by_name('train_flag:0')\n",
    "        \n",
    "        # Get accuracy in batches for memory limitations\n",
    "        test_batch_acc_total = 0\n",
    "        test_batch_count = 0\n",
    "        \n",
    "        for test_feature_batch, test_label_batch in helper.batch_features_labels(test_features, test_labels, batch_size):\n",
    "            test_batch_acc_total += sess.run(loaded_acc,\n",
    "                feed_dict={loaded_x: test_feature_batch, loaded_y: test_label_batch, loaded_keep_prob: 1.0, loaded_train_flag:False})\n",
    "            test_batch_count += 1\n",
    "\n",
    "        print('Testing Accuracy: {}\\n'.format(test_batch_acc_total/test_batch_count))\n",
    "\n",
    "        # Print Random Samples\n",
    "        random_test_features, random_test_labels = tuple(zip(*random.sample(list(zip(test_features, test_labels)), n_samples)))\n",
    "        random_test_predictions = sess.run(tf.nn.top_k(tf.nn.softmax(loaded_logits), top_n_predictions),\n",
    "            feed_dict={loaded_x: random_test_features, loaded_y: random_test_labels, loaded_keep_prob: 1.0, loaded_train_flag:False})\n",
    "        helper.display_image_predictions(random_test_features, random_test_labels, random_test_predictions)\n",
    "\n",
    "test_model()"
   ]
  },
  {
   "cell_type": "code",
   "execution_count": null,
   "metadata": {
    "collapsed": true
   },
   "outputs": [],
   "source": []
  }
 ],
 "metadata": {
  "kernelspec": {
   "display_name": "Python [conda env:tf_1_2]",
   "language": "python",
   "name": "conda-env-tf_1_2-py"
  },
  "language_info": {
   "codemirror_mode": {
    "name": "ipython",
    "version": 3
   },
   "file_extension": ".py",
   "mimetype": "text/x-python",
   "name": "python",
   "nbconvert_exporter": "python",
   "pygments_lexer": "ipython3",
   "version": "3.5.3"
  }
 },
 "nbformat": 4,
 "nbformat_minor": 2
}
