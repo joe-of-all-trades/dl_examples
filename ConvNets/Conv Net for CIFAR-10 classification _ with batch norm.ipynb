{
 "cells": [
  {
   "cell_type": "markdown",
   "metadata": {},
   "source": [
    "In this project, we'll build a simple convolutional neural network for CIFAR-10 image classification. Code contained in this project was based on Tensorflow 1.2.1 and python 3.5. "
   ]
  },
  {
   "cell_type": "code",
   "execution_count": 1,
   "metadata": {
    "collapsed": true
   },
   "outputs": [],
   "source": [
    "from urllib.request import urlretrieve\n",
    "from os.path import isfile, isdir\n",
    "from tqdm import tqdm\n",
    "import tarfile\n",
    "import tensorflow as tf\n",
    "\n",
    "cifar10_dataset_folder_path = 'cifar-10-batches-py'\n",
    "tar_gz_path = 'cifar-10-python.tar.gz'\n",
    "\n",
    "class DLProgress(tqdm):\n",
    "    last_block = 0\n",
    "\n",
    "    def hook(self, block_num=1, block_size=1, total_size=None):\n",
    "        self.total = total_size\n",
    "        self.update((block_num - self.last_block) * block_size)\n",
    "        self.last_block = block_num\n",
    "\n",
    "if not isfile(tar_gz_path):\n",
    "    with DLProgress(unit='B', unit_scale=True, miniters=1, desc='CIFAR-10 Dataset') as pbar:\n",
    "        urlretrieve(\n",
    "            'https://www.cs.toronto.edu/~kriz/cifar-10-python.tar.gz',\n",
    "            tar_gz_path,\n",
    "            pbar.hook)\n",
    "\n",
    "if not isdir(cifar10_dataset_folder_path):\n",
    "    with tarfile.open(tar_gz_path) as tar:\n",
    "        tar.extractall()\n",
    "        tar.close()"
   ]
  },
  {
   "cell_type": "code",
   "execution_count": 2,
   "metadata": {},
   "outputs": [
    {
     "name": "stdout",
     "output_type": "stream",
     "text": [
      "\n",
      "Stats of batch 1:\n",
      "Samples: 10000\n",
      "Label Counts: {0: 1005, 1: 974, 2: 1032, 3: 1016, 4: 999, 5: 937, 6: 1030, 7: 1001, 8: 1025, 9: 981}\n",
      "First 20 Labels: [6, 9, 9, 4, 1, 1, 2, 7, 8, 3, 4, 7, 7, 2, 9, 9, 9, 3, 2, 6]\n",
      "\n",
      "Example of Image 6:\n",
      "Image - Min Value: 7 Max Value: 249\n",
      "Image - Shape: (32, 32, 3)\n",
      "Label - Label Id: 2 Name: bird\n"
     ]
    },
    {
     "data": {
      "image/png": "[encoded data removed]",
      "text/plain": [
       "<matplotlib.figure.Figure at 0x1d4471a2978>"
      ]
     },
     "metadata": {
      "image/png": {
       "height": 250,
       "width": 253
      }
     },
     "output_type": "display_data"
    }
   ],
   "source": [
    "%matplotlib inline\n",
    "%config InlineBackend.figure_format = 'retina'\n",
    "\n",
    "import helper\n",
    "import numpy as np\n",
    "\n",
    "# Explore the dataset\n",
    "batch_id = 1\n",
    "sample_id = 6\n",
    "helper.display_stats(cifar10_dataset_folder_path, batch_id, sample_id)"
   ]
  },
  {
   "cell_type": "markdown",
   "metadata": {},
   "source": [
    "# Preprocess Data\n",
    "\n",
    "## Normalize"
   ]
  },
  {
   "cell_type": "code",
   "execution_count": 3,
   "metadata": {
    "collapsed": true
   },
   "outputs": [],
   "source": [
    "def normalize(x):\n",
    "    \"\"\"\n",
    "    Normalize a list of sample image data in the range of 0 to 1\n",
    "    : x: List of image data.  The image shape is (32, 32, 3)\n",
    "    \"\"\"\n",
    "    return (x - np.mean(x)) / np.std(x)\n",
    "    # return ( x - x.min() ) / ( x.max() - x.min() )"
   ]
  },
  {
   "cell_type": "markdown",
   "metadata": {},
   "source": [
    "## One hot encode"
   ]
  },
  {
   "cell_type": "code",
   "execution_count": 4,
   "metadata": {
    "collapsed": true
   },
   "outputs": [],
   "source": [
    "def one_hot_encode(x):\n",
    "    \"\"\"\n",
    "    One hot encode a list of sample labels. Return a one-hot encoded vector for each label.\n",
    "    : x: List of sample Labels\n",
    "    : return: Numpy array of one-hot encoded labels\n",
    "    \"\"\"\n",
    "    output = np.zeros([len(x), 10])\n",
    "    for idx, item in enumerate(x):\n",
    "        output[idx, item] = 1\n",
    "    return output"
   ]
  },
  {
   "cell_type": "markdown",
   "metadata": {},
   "source": [
    "This above function is equivalent to tf.one_hot(x, 10), but tensorflow module can not be pickled so we're sticking with the above implementation."
   ]
  },
  {
   "cell_type": "markdown",
   "metadata": {},
   "source": [
    "## Preprocess Data\n",
    "We will randomly shuffle the data, normalize them and save them in binary format."
   ]
  },
  {
   "cell_type": "code",
   "execution_count": 5,
   "metadata": {
    "collapsed": true
   },
   "outputs": [],
   "source": [
    "import tensorflow as tf\n",
    "# Preprocess Training, Validation, and Testing Data\n",
    "helper.preprocess_and_save_data(cifar10_dataset_folder_path, normalize, one_hot_encode)"
   ]
  },
  {
   "cell_type": "markdown",
   "metadata": {},
   "source": [
    "# Checkpoint\n",
    "The above work is all saved so when we're revisiting this notebook we don't have to do those work again. We can start from here."
   ]
  },
  {
   "cell_type": "code",
   "execution_count": 6,
   "metadata": {
    "collapsed": true
   },
   "outputs": [],
   "source": [
    "import pickle\n",
    "import helper\n",
    "\n",
    "valid_features, valid_labels = pickle.load(open('preprocess_validation.p', mode='rb'))"
   ]
  },
  {
   "cell_type": "markdown",
   "metadata": {},
   "source": [
    "# Building the network"
   ]
  },
  {
   "cell_type": "markdown",
   "metadata": {},
   "source": [
    "## Defining input"
   ]
  },
  {
   "cell_type": "code",
   "execution_count": 7,
   "metadata": {
    "collapsed": true
   },
   "outputs": [],
   "source": [
    "import tensorflow as tf\n",
    "\n",
    "def neural_net_image_input(image_shape):\n",
    "    \"\"\"\n",
    "    Return a Tensor for a batch of image input\n",
    "    : image_shape: Shape of the images\n",
    "    \"\"\"\n",
    "    return tf.placeholder(tf.float32, [None, image_shape[0], image_shape[1], image_shape[2]], \"x\")\n",
    "\n",
    "\n",
    "def neural_net_label_input(n_classes):\n",
    "    \"\"\"\n",
    "    Return a Tensor for a batch of label input\n",
    "    : n_classes: Number of classes\n",
    "    \"\"\"\n",
    "    return tf.placeholder(tf.float32, [None, n_classes], \"y\")\n",
    "\n",
    "\n",
    "def neural_net_keep_prob_input():\n",
    "    \"\"\"\n",
    "    Return a Tensor for keep probability\n",
    "    \"\"\"\n",
    "    return tf.placeholder(tf.float32, None, \"keep_prob\")\n",
    "\n",
    "def neural_net_training_flag():\n",
    "    return tf.placeholder(tf.bool, None, \"train_flag\")"
   ]
  },
  {
   "cell_type": "markdown",
   "metadata": {},
   "source": [
    "## Convolution and maxpool layer"
   ]
  },
  {
   "cell_type": "code",
   "execution_count": 8,
   "metadata": {
    "collapsed": true
   },
   "outputs": [],
   "source": [
    "def conv2d_maxpool(x_tensor, conv_num_outputs, conv_ksize, conv_strides, pool_ksize, pool_strides, is_train, maxpool=True):\n",
    "    \"\"\"\n",
    "    Apply convolution then max pooling to x_tensor\n",
    "    :param x_tensor: TensorFlow Tensor\n",
    "    :param conv_num_outputs: Number of outputs for the convolutional layer\n",
    "    :param conv_ksize: kernal size 2-D Tuple for the convolutional layer\n",
    "    :param conv_strides: Stride 2-D Tuple for convolution\n",
    "    :param pool_ksize: kernal size 2-D Tuple for pool\n",
    "    :param pool_strides: Stride 2-D Tuple for pool\n",
    "    : return: A tensor that represents convolution and max pooling of x_tensor\n",
    "    \"\"\"\n",
    "    w = tf.get_variable(\"w\", shape=[conv_ksize[0], conv_ksize[1], x_tensor.get_shape().as_list()[3], conv_num_outputs],\n",
    "                         initializer=tf.contrib.layers.xavier_initializer())\n",
    "    \n",
    "    #b = tf.Variable(tf.truncated_normal([conv_num_outputs],\n",
    "    #                                  mean=0.0, stddev=0.1, dtype=tf.float32))\n",
    "    \n",
    "    wc = tf.nn.conv2d(x_tensor, w, strides=[1, conv_strides[0], conv_strides[1], 1], padding='SAME')\n",
    "    # z = tf.nn.bias_add(wc, b)\n",
    "    z = tf.layers.batch_normalization(wc, training=is_train)\n",
    "    \n",
    "    if maxpool==True:\n",
    "        z = tf.nn.max_pool(z, ksize=[1, pool_ksize[0], pool_ksize[1], 1], \n",
    "                           strides=[1, pool_strides[0], pool_strides[1], 1], padding='SAME')\n",
    "    \n",
    "    return tf.nn.relu(z)\n"
   ]
  },
  {
   "cell_type": "markdown",
   "metadata": {},
   "source": [
    "## Flatten layer\n",
    "Implement the flatten function to change the dimension of x_tensor from a 4-D tensor to a 2-D tensor. The output should be the shape (Batch Size, Flattened Image Size). Shortcut option: you can use classes from the TensorFlow Layers or TensorFlow Layers (contrib) packages for this layer. For more of a challenge, only use other TensorFlow packages."
   ]
  },
  {
   "cell_type": "code",
   "execution_count": 9,
   "metadata": {
    "collapsed": true
   },
   "outputs": [],
   "source": [
    "def flatten(x_tensor):\n",
    "    \"\"\"\n",
    "    Flatten x_tensor to (Batch Size, Flattened Image Size)\n",
    "    : x_tensor: A tensor of size (Batch Size, ...), where ... are the image dimensions.\n",
    "    : return: A tensor of size (Batch Size, Flattened Image Size).\n",
    "    \"\"\"\n",
    "    # reference : https://github.com/tensorflow/tensorflow/issues/7253\n",
    "    return tf.reshape(x_tensor, [tf.shape(x_tensor)[0], np.prod(x_tensor.get_shape().as_list()[1:])])\n",
    "    \n",
    "    # This also works\n",
    "    #return tf.reshape(x_tensor, [-1, np.prod(x_tensor.shape[1:]).value])"
   ]
  },
  {
   "cell_type": "markdown",
   "metadata": {},
   "source": [
    "## Fully connected layer"
   ]
  },
  {
   "cell_type": "code",
   "execution_count": 10,
   "metadata": {
    "collapsed": true
   },
   "outputs": [],
   "source": [
    "def fully_conn(x_tensor, num_outputs, is_train):\n",
    "    \"\"\"\n",
    "    Apply a fully connected layer to x_tensor using weight and bias\n",
    "    : x_tensor: A 2-D tensor where the first dimension is batch size.\n",
    "    : num_outputs: The number of output that the new tensor should be.\n",
    "    : return: A 2-D tensor where the second dimension is num_outputs.\n",
    "    \"\"\"\n",
    "    fc = tf.reshape(x_tensor, [-1, np.prod(x_tensor.get_shape().as_list()[1:])])\n",
    "    \n",
    "    w = tf.get_variable(\"w\", shape=[np.prod(x_tensor.get_shape().as_list()[1:]), num_outputs],\n",
    "                         initializer=tf.contrib.layers.xavier_initializer())\n",
    "    \n",
    "    # b = tf.Variable(tf.truncated_normal([num_outputs],mean=0.0, stddev=0.1, dtype=tf.float32))\n",
    "    z = tf.matmul(fc, w)\n",
    "    z = tf.layers.batch_normalization(z, training=is_train)\n",
    "    \n",
    "    return tf.nn.relu(z)"
   ]
  },
  {
   "cell_type": "markdown",
   "metadata": {},
   "source": [
    "## Output layer"
   ]
  },
  {
   "cell_type": "code",
   "execution_count": 11,
   "metadata": {
    "collapsed": true
   },
   "outputs": [],
   "source": [
    "def output(x_tensor, num_outputs):\n",
    "    \"\"\"\n",
    "    Apply a output layer to x_tensor using weight and bias\n",
    "    : x_tensor: A 2-D tensor where the first dimension is batch size.\n",
    "    : num_outputs: The number of output that the new tensor should be.\n",
    "    : return: A 2-D tensor where the second dimension is num_outputs.\n",
    "    \"\"\"\n",
    "    w = tf.get_variable(\"w\", shape=[np.prod(x_tensor.get_shape().as_list()[1:]), num_outputs],\n",
    "                         initializer=tf.contrib.layers.xavier_initializer())\n",
    "    \n",
    "    b = tf.Variable(tf.truncated_normal([num_outputs],mean=0.0, stddev=0.1, dtype=tf.float32))\n",
    "    return tf.add(tf.matmul(x_tensor, w), b)\n"
   ]
  },
  {
   "cell_type": "markdown",
   "metadata": {},
   "source": [
    "## Create the convolutional neural network model"
   ]
  },
  {
   "cell_type": "code",
   "execution_count": 12,
   "metadata": {
    "collapsed": true
   },
   "outputs": [],
   "source": [
    "def conv_net(x, keep_prob, train_flag):\n",
    "    \"\"\"\n",
    "    Create a convolutional neural network model\n",
    "    : x: Placeholder tensor that holds image data.\n",
    "    : keep_prob: Placeholder tensor that hold dropout keep probability.\n",
    "    : return: Tensor that represents logits\n",
    "    \"\"\"\n",
    "    # Convolution and maxpooling layers\n",
    "    with tf.variable_scope(\"conv1\"):\n",
    "        conv1 = conv2d_maxpool(x, 40, (3, 3), (1, 1), (2, 2), (2, 2), train_flag, maxpool=False)\n",
    "    with tf.variable_scope(\"conv2\"):\n",
    "        conv2 = conv2d_maxpool(conv1, 80, (3, 3), (1, 1), (2, 2), (2, 2), train_flag, maxpool=True)\n",
    "    # norm1 = tf.nn.lrn(conv2, 4, bias=1.0, alpha=0.001 / 9.0, beta=0.75,name='norm1')\n",
    "    conv2 = tf.nn.dropout(conv2, keep_prob)\n",
    "    with tf.variable_scope(\"conv3\"):\n",
    "        conv3 = conv2d_maxpool(conv2, 160, (3, 3), (1, 1), (2, 2), (2, 2), train_flag, maxpool=False)\n",
    "    with tf.variable_scope(\"conv4\"):\n",
    "        conv4 = conv2d_maxpool(conv3, 320, (3, 3), (1, 1), (2, 2), (2, 2), train_flag, maxpool=True)\n",
    "    #norm2 = tf.nn.lrn(conv4, 4, bias=1.0, alpha=0.001 / 9.0, beta=0.75,name='norm2')\n",
    "    conv4 = tf.nn.dropout(conv4, keep_prob)\n",
    "    \n",
    "    # Flatten Layer\n",
    "    f = flatten(conv4)\n",
    "\n",
    "    # Fully Connected layers\n",
    "    with tf.variable_scope(\"fc1\"):\n",
    "        fc1 = fully_conn(f, 512, train_flag)\n",
    "        fc1 = tf.nn.dropout(fc1, keep_prob)\n",
    "    with tf.variable_scope(\"fc2\"):\n",
    "        fc2 = fully_conn(fc1, 256, train_flag)\n",
    "        fc2 = tf.nn.dropout(fc2, keep_prob)\n",
    "    \n",
    "    # Output Layer\n",
    "    with tf.variable_scope(\"out\"):\n",
    "        o = output(fc2, 10)\n",
    "    \n",
    "    # TODO: return output\n",
    "    return o"
   ]
  },
  {
   "cell_type": "markdown",
   "metadata": {},
   "source": [
    "## Build the network"
   ]
  },
  {
   "cell_type": "code",
   "execution_count": 13,
   "metadata": {
    "collapsed": true
   },
   "outputs": [],
   "source": [
    "tf.reset_default_graph()\n",
    "\n",
    "# Inputs\n",
    "x = neural_net_image_input((32, 32, 3))\n",
    "y = neural_net_label_input(10)\n",
    "keep_prob = neural_net_keep_prob_input()\n",
    "train_flag = neural_net_training_flag()\n",
    "\n",
    "# Model\n",
    "logits = conv_net(x, keep_prob, train_flag)\n",
    "\n",
    "# Name logits Tensor, so that is can be loaded from disk after training\n",
    "logits = tf.identity(logits, name='logits')\n",
    "\n",
    "# Loss and Optimizer\n",
    "cost = tf.reduce_mean(tf.nn.softmax_cross_entropy_with_logits(logits=logits, labels=y))\n",
    "\n",
    "# Collect batch mean and variance for batch normalization\n",
    "update_ops = tf.get_collection(tf.GraphKeys.UPDATE_OPS)\n",
    "with tf.control_dependencies(update_ops):\n",
    "    optimizer = tf.train.AdamOptimizer(epsilon=1e-04).minimize(cost)\n",
    "\n",
    "# Accuracy\n",
    "correct_pred = tf.equal(tf.argmax(logits, 1), tf.argmax(y, 1))\n",
    "accuracy = tf.reduce_mean(tf.cast(correct_pred, tf.float32), name='accuracy')"
   ]
  },
  {
   "cell_type": "markdown",
   "metadata": {},
   "source": [
    "## Train network"
   ]
  },
  {
   "cell_type": "code",
   "execution_count": 14,
   "metadata": {
    "collapsed": true
   },
   "outputs": [],
   "source": [
    "def train_neural_network(session, optimizer, keep_probability, feature_batch, label_batch, is_train):\n",
    "    \"\"\"\n",
    "    Optimize the session on a batch of images and labels\n",
    "    \"\"\"\n",
    "    session.run(optimizer, feed_dict={x: feature_batch, y: label_batch, keep_prob: keep_probability, train_flag:is_train})"
   ]
  },
  {
   "cell_type": "markdown",
   "metadata": {},
   "source": [
    "## Print Stats\n",
    "It's important to evaluate the performance of model once in a while. If effect, we're feeding a small batch of data to the neural network through forward propagation and then caculate the accuracy of prediction. We don't want to do this too often as this slows down the overall process. It's important to keep in mind that since we're actually using the model for prediction but not training it, we need to set keep probability for dropout to 1 so we're not losing any connection between neurons. "
   ]
  },
  {
   "cell_type": "code",
   "execution_count": 15,
   "metadata": {
    "collapsed": true
   },
   "outputs": [],
   "source": [
    "def print_stats(session, feature_batch, label_batch, cost, accuracy):\n",
    "    \"\"\"\n",
    "    Print information about loss and validation accuracy\n",
    "    \"\"\"\n",
    "    loss = session.run(cost, feed_dict={x: feature_batch, y: label_batch, keep_prob: 1., train_flag:False})\n",
    "    valid_acc = session.run(accuracy, feed_dict={x: valid_features, y: valid_labels, keep_prob: 1., train_flag:False})\n",
    "    print('Loss: {:>10.4f} Validation Accuracy: {:.6f}'.format(loss, valid_acc))"
   ]
  },
  {
   "cell_type": "markdown",
   "metadata": {},
   "source": [
    "## Hyperparameters"
   ]
  },
  {
   "cell_type": "code",
   "execution_count": 16,
   "metadata": {
    "collapsed": true
   },
   "outputs": [],
   "source": [
    "epochs = 30\n",
    "batch_size = 128\n",
    "keep_probability = 0.5"
   ]
  },
  {
   "cell_type": "markdown",
   "metadata": {},
   "source": [
    "## Train on a single CIFAR-10 batch"
   ]
  },
  {
   "cell_type": "code",
   "execution_count": 17,
   "metadata": {},
   "outputs": [
    {
     "name": "stdout",
     "output_type": "stream",
     "text": [
      "Checking the Training on a Single Batch...\n",
      "Epoch  1, CIFAR-10 Batch 1:  Loss:     3.4918 Validation Accuracy: 0.112400\n",
      "Epoch  2, CIFAR-10 Batch 1:  Loss:     3.1207 Validation Accuracy: 0.154800\n",
      "Epoch  3, CIFAR-10 Batch 1:  Loss:     2.5725 Validation Accuracy: 0.212600\n",
      "Epoch  4, CIFAR-10 Batch 1:  Loss:     1.6645 Validation Accuracy: 0.333000\n",
      "Epoch  5, CIFAR-10 Batch 1:  Loss:     1.0102 Validation Accuracy: 0.513400\n",
      "Epoch  6, CIFAR-10 Batch 1:  Loss:     0.9358 Validation Accuracy: 0.528600\n",
      "Epoch  7, CIFAR-10 Batch 1:  Loss:     0.6507 Validation Accuracy: 0.620400\n",
      "Epoch  8, CIFAR-10 Batch 1:  Loss:     0.4767 Validation Accuracy: 0.630000\n",
      "Epoch  9, CIFAR-10 Batch 1:  Loss:     0.4234 Validation Accuracy: 0.647400\n",
      "Epoch 10, CIFAR-10 Batch 1:  Loss:     0.4633 Validation Accuracy: 0.638200\n",
      "Epoch 11, CIFAR-10 Batch 1:  Loss:     0.3004 Validation Accuracy: 0.669200\n",
      "Epoch 12, CIFAR-10 Batch 1:  Loss:     0.2871 Validation Accuracy: 0.633600\n",
      "Epoch 13, CIFAR-10 Batch 1:  Loss:     0.2163 Validation Accuracy: 0.671800\n",
      "Epoch 14, CIFAR-10 Batch 1:  Loss:     0.2373 Validation Accuracy: 0.667800\n",
      "Epoch 15, CIFAR-10 Batch 1:  Loss:     0.1901 Validation Accuracy: 0.680000\n",
      "Epoch 16, CIFAR-10 Batch 1:  Loss:     0.1570 Validation Accuracy: 0.689000\n",
      "Epoch 17, CIFAR-10 Batch 1:  Loss:     0.1781 Validation Accuracy: 0.686600\n",
      "Epoch 18, CIFAR-10 Batch 1:  Loss:     0.0998 Validation Accuracy: 0.697800\n",
      "Epoch 19, CIFAR-10 Batch 1:  Loss:     0.0966 Validation Accuracy: 0.691400\n",
      "Epoch 20, CIFAR-10 Batch 1:  Loss:     0.1045 Validation Accuracy: 0.672400\n",
      "Epoch 21, CIFAR-10 Batch 1:  Loss:     0.0672 Validation Accuracy: 0.703200\n",
      "Epoch 22, CIFAR-10 Batch 1:  Loss:     0.0424 Validation Accuracy: 0.702600\n",
      "Epoch 23, CIFAR-10 Batch 1:  Loss:     0.0543 Validation Accuracy: 0.701600\n",
      "Epoch 24, CIFAR-10 Batch 1:  Loss:     0.0409 Validation Accuracy: 0.707000\n",
      "Epoch 25, CIFAR-10 Batch 1:  Loss:     0.0236 Validation Accuracy: 0.713400\n",
      "Epoch 26, CIFAR-10 Batch 1:  Loss:     0.0215 Validation Accuracy: 0.694800\n",
      "Epoch 27, CIFAR-10 Batch 1:  Loss:     0.0114 Validation Accuracy: 0.707200\n",
      "Epoch 28, CIFAR-10 Batch 1:  Loss:     0.0195 Validation Accuracy: 0.719600\n",
      "Epoch 29, CIFAR-10 Batch 1:  Loss:     0.0094 Validation Accuracy: 0.713600\n",
      "Epoch 30, CIFAR-10 Batch 1:  Loss:     0.0040 Validation Accuracy: 0.718200\n"
     ]
    }
   ],
   "source": [
    "print('Checking the Training on a Single Batch...')\n",
    "with tf.Session() as sess:\n",
    "    sess.run(tf.global_variables_initializer())\n",
    "    \n",
    "    # Training cycle\n",
    "    for epoch in range(epochs):\n",
    "        batch_i = 1\n",
    "        for batch_features, batch_labels in helper.load_preprocess_training_batch(batch_i, batch_size):\n",
    "            train_neural_network(sess, optimizer, keep_probability, batch_features, batch_labels, True)\n",
    "        print('Epoch {:>2}, CIFAR-10 Batch {}:  '.format(epoch + 1, batch_i), end='')\n",
    "        print_stats(sess, batch_features, batch_labels, cost, accuracy)"
   ]
  },
  {
   "cell_type": "markdown",
   "metadata": {},
   "source": [
    "## Fully train the model"
   ]
  },
  {
   "cell_type": "code",
   "execution_count": 18,
   "metadata": {},
   "outputs": [
    {
     "name": "stdout",
     "output_type": "stream",
     "text": [
      "Training...\n",
      "Epoch  1, CIFAR-10 Batch 1:  Loss:     3.7685 Validation Accuracy: 0.102200\n",
      "Epoch  1, CIFAR-10 Batch 2:  Loss:     3.1146 Validation Accuracy: 0.177600\n",
      "Epoch  1, CIFAR-10 Batch 3:  Loss:     2.2047 Validation Accuracy: 0.254600\n",
      "Epoch  1, CIFAR-10 Batch 4:  Loss:     1.7259 Validation Accuracy: 0.361400\n",
      "Epoch  1, CIFAR-10 Batch 5:  Loss:     1.8748 Validation Accuracy: 0.453600\n",
      "Epoch  2, CIFAR-10 Batch 1:  Loss:     1.2238 Validation Accuracy: 0.540800\n",
      "Epoch  2, CIFAR-10 Batch 2:  Loss:     1.1413 Validation Accuracy: 0.560000\n",
      "Epoch  2, CIFAR-10 Batch 3:  Loss:     0.9215 Validation Accuracy: 0.623000\n",
      "Epoch  2, CIFAR-10 Batch 4:  Loss:     0.9076 Validation Accuracy: 0.676600\n",
      "Epoch  2, CIFAR-10 Batch 5:  Loss:     0.7791 Validation Accuracy: 0.672400\n",
      "Epoch  3, CIFAR-10 Batch 1:  Loss:     0.8139 Validation Accuracy: 0.671200\n",
      "Epoch  3, CIFAR-10 Batch 2:  Loss:     0.9852 Validation Accuracy: 0.601200\n",
      "Epoch  3, CIFAR-10 Batch 3:  Loss:     0.5232 Validation Accuracy: 0.711000\n",
      "Epoch  3, CIFAR-10 Batch 4:  Loss:     0.5842 Validation Accuracy: 0.725800\n",
      "Epoch  3, CIFAR-10 Batch 5:  Loss:     0.5884 Validation Accuracy: 0.716200\n",
      "Epoch  4, CIFAR-10 Batch 1:  Loss:     0.6248 Validation Accuracy: 0.724800\n",
      "Epoch  4, CIFAR-10 Batch 2:  Loss:     0.7869 Validation Accuracy: 0.703200\n",
      "Epoch  4, CIFAR-10 Batch 3:  Loss:     0.4552 Validation Accuracy: 0.733400\n",
      "Epoch  4, CIFAR-10 Batch 4:  Loss:     0.4811 Validation Accuracy: 0.751800\n",
      "Epoch  4, CIFAR-10 Batch 5:  Loss:     0.5347 Validation Accuracy: 0.701200\n",
      "Epoch  5, CIFAR-10 Batch 1:  Loss:     0.4970 Validation Accuracy: 0.741800\n",
      "Epoch  5, CIFAR-10 Batch 2:  Loss:     0.5616 Validation Accuracy: 0.725800\n",
      "Epoch  5, CIFAR-10 Batch 3:  Loss:     0.3102 Validation Accuracy: 0.762800\n",
      "Epoch  5, CIFAR-10 Batch 4:  Loss:     0.4731 Validation Accuracy: 0.749200\n",
      "Epoch  5, CIFAR-10 Batch 5:  Loss:     0.4752 Validation Accuracy: 0.748600\n",
      "Epoch  6, CIFAR-10 Batch 1:  Loss:     0.3817 Validation Accuracy: 0.751800\n",
      "Epoch  6, CIFAR-10 Batch 2:  Loss:     0.4468 Validation Accuracy: 0.736200\n",
      "Epoch  6, CIFAR-10 Batch 3:  Loss:     0.3488 Validation Accuracy: 0.759000\n",
      "Epoch  6, CIFAR-10 Batch 4:  Loss:     0.3915 Validation Accuracy: 0.763000\n",
      "Epoch  6, CIFAR-10 Batch 5:  Loss:     0.4167 Validation Accuracy: 0.759200\n",
      "Epoch  7, CIFAR-10 Batch 1:  Loss:     0.3242 Validation Accuracy: 0.787200\n",
      "Epoch  7, CIFAR-10 Batch 2:  Loss:     0.4034 Validation Accuracy: 0.741600\n",
      "Epoch  7, CIFAR-10 Batch 3:  Loss:     0.2412 Validation Accuracy: 0.794200\n",
      "Epoch  7, CIFAR-10 Batch 4:  Loss:     0.2996 Validation Accuracy: 0.770200\n",
      "Epoch  7, CIFAR-10 Batch 5:  Loss:     0.2924 Validation Accuracy: 0.793000\n",
      "Epoch  8, CIFAR-10 Batch 1:  Loss:     0.2661 Validation Accuracy: 0.792600\n",
      "Epoch  8, CIFAR-10 Batch 2:  Loss:     0.2941 Validation Accuracy: 0.791400\n",
      "Epoch  8, CIFAR-10 Batch 3:  Loss:     0.2167 Validation Accuracy: 0.787000\n",
      "Epoch  8, CIFAR-10 Batch 4:  Loss:     0.2516 Validation Accuracy: 0.781200\n",
      "Epoch  8, CIFAR-10 Batch 5:  Loss:     0.2352 Validation Accuracy: 0.778600\n",
      "Epoch  9, CIFAR-10 Batch 1:  Loss:     0.3516 Validation Accuracy: 0.786800\n",
      "Epoch  9, CIFAR-10 Batch 2:  Loss:     0.2284 Validation Accuracy: 0.806000\n",
      "Epoch  9, CIFAR-10 Batch 3:  Loss:     0.2139 Validation Accuracy: 0.812200\n",
      "Epoch  9, CIFAR-10 Batch 4:  Loss:     0.2621 Validation Accuracy: 0.800200\n",
      "Epoch  9, CIFAR-10 Batch 5:  Loss:     0.1515 Validation Accuracy: 0.788600\n",
      "Epoch 10, CIFAR-10 Batch 1:  Loss:     0.2676 Validation Accuracy: 0.810200\n",
      "Epoch 10, CIFAR-10 Batch 2:  Loss:     0.1967 Validation Accuracy: 0.802600\n",
      "Epoch 10, CIFAR-10 Batch 3:  Loss:     0.1444 Validation Accuracy: 0.809800\n",
      "Epoch 10, CIFAR-10 Batch 4:  Loss:     0.1580 Validation Accuracy: 0.804000\n",
      "Epoch 10, CIFAR-10 Batch 5:  Loss:     0.1711 Validation Accuracy: 0.802000\n",
      "Epoch 11, CIFAR-10 Batch 1:  Loss:     0.2069 Validation Accuracy: 0.808000\n",
      "Epoch 11, CIFAR-10 Batch 2:  Loss:     0.1346 Validation Accuracy: 0.808800\n",
      "Epoch 11, CIFAR-10 Batch 3:  Loss:     0.1529 Validation Accuracy: 0.810000\n",
      "Epoch 11, CIFAR-10 Batch 4:  Loss:     0.2108 Validation Accuracy: 0.816600\n",
      "Epoch 11, CIFAR-10 Batch 5:  Loss:     0.0904 Validation Accuracy: 0.820800\n",
      "Epoch 12, CIFAR-10 Batch 1:  Loss:     0.1875 Validation Accuracy: 0.816200\n",
      "Epoch 12, CIFAR-10 Batch 2:  Loss:     0.1096 Validation Accuracy: 0.832600\n",
      "Epoch 12, CIFAR-10 Batch 3:  Loss:     0.1347 Validation Accuracy: 0.807800\n",
      "Epoch 12, CIFAR-10 Batch 4:  Loss:     0.1289 Validation Accuracy: 0.824400\n",
      "Epoch 12, CIFAR-10 Batch 5:  Loss:     0.1359 Validation Accuracy: 0.814800\n",
      "Epoch 13, CIFAR-10 Batch 1:  Loss:     0.1004 Validation Accuracy: 0.826800\n",
      "Epoch 13, CIFAR-10 Batch 2:  Loss:     0.0863 Validation Accuracy: 0.824800\n",
      "Epoch 13, CIFAR-10 Batch 3:  Loss:     0.0849 Validation Accuracy: 0.803800\n",
      "Epoch 13, CIFAR-10 Batch 4:  Loss:     0.0720 Validation Accuracy: 0.815800\n",
      "Epoch 13, CIFAR-10 Batch 5:  Loss:     0.1141 Validation Accuracy: 0.813400\n",
      "Epoch 14, CIFAR-10 Batch 1:  Loss:     0.0799 Validation Accuracy: 0.834400\n",
      "Epoch 14, CIFAR-10 Batch 2:  Loss:     0.1559 Validation Accuracy: 0.820000\n",
      "Epoch 14, CIFAR-10 Batch 3:  Loss:     0.0831 Validation Accuracy: 0.832800\n",
      "Epoch 14, CIFAR-10 Batch 4:  Loss:     0.0605 Validation Accuracy: 0.823800\n",
      "Epoch 14, CIFAR-10 Batch 5:  Loss:     0.0663 Validation Accuracy: 0.820000\n",
      "Epoch 15, CIFAR-10 Batch 1:  Loss:     0.0767 Validation Accuracy: 0.834800\n",
      "Epoch 15, CIFAR-10 Batch 2:  Loss:     0.0822 Validation Accuracy: 0.834800\n",
      "Epoch 15, CIFAR-10 Batch 3:  Loss:     0.0816 Validation Accuracy: 0.832400\n",
      "Epoch 15, CIFAR-10 Batch 4:  Loss:     0.0517 Validation Accuracy: 0.834600\n",
      "Epoch 15, CIFAR-10 Batch 5:  Loss:     0.0700 Validation Accuracy: 0.824800\n",
      "Epoch 16, CIFAR-10 Batch 1:  Loss:     0.0643 Validation Accuracy: 0.822200\n",
      "Epoch 16, CIFAR-10 Batch 2:  Loss:     0.0705 Validation Accuracy: 0.826600\n",
      "Epoch 16, CIFAR-10 Batch 3:  Loss:     0.0518 Validation Accuracy: 0.827000\n",
      "Epoch 16, CIFAR-10 Batch 4:  Loss:     0.0472 Validation Accuracy: 0.849600\n",
      "Epoch 16, CIFAR-10 Batch 5:  Loss:     0.0380 Validation Accuracy: 0.840000\n",
      "Epoch 17, CIFAR-10 Batch 1:  Loss:     0.0685 Validation Accuracy: 0.842200\n",
      "Epoch 17, CIFAR-10 Batch 2:  Loss:     0.0355 Validation Accuracy: 0.847600\n",
      "Epoch 17, CIFAR-10 Batch 3:  Loss:     0.0427 Validation Accuracy: 0.851000\n",
      "Epoch 17, CIFAR-10 Batch 4:  Loss:     0.0256 Validation Accuracy: 0.830400\n",
      "Epoch 17, CIFAR-10 Batch 5:  Loss:     0.0225 Validation Accuracy: 0.836800\n",
      "Epoch 18, CIFAR-10 Batch 1:  Loss:     0.0391 Validation Accuracy: 0.848000\n",
      "Epoch 18, CIFAR-10 Batch 2:  Loss:     0.0388 Validation Accuracy: 0.840800\n",
      "Epoch 18, CIFAR-10 Batch 3:  Loss:     0.0503 Validation Accuracy: 0.847000\n",
      "Epoch 18, CIFAR-10 Batch 4:  Loss:     0.0221 Validation Accuracy: 0.833000\n",
      "Epoch 18, CIFAR-10 Batch 5:  Loss:     0.0347 Validation Accuracy: 0.824200\n",
      "Epoch 19, CIFAR-10 Batch 1:  Loss:     0.0183 Validation Accuracy: 0.855400\n",
      "Epoch 19, CIFAR-10 Batch 2:  Loss:     0.0269 Validation Accuracy: 0.849000\n",
      "Epoch 19, CIFAR-10 Batch 3:  Loss:     0.0578 Validation Accuracy: 0.832400\n",
      "Epoch 19, CIFAR-10 Batch 4:  Loss:     0.0149 Validation Accuracy: 0.844600\n",
      "Epoch 19, CIFAR-10 Batch 5:  Loss:     0.0141 Validation Accuracy: 0.833200\n",
      "Epoch 20, CIFAR-10 Batch 1:  Loss:     0.0438 Validation Accuracy: 0.845800\n",
      "Epoch 20, CIFAR-10 Batch 2:  Loss:     0.0158 Validation Accuracy: 0.842200\n",
      "Epoch 20, CIFAR-10 Batch 3:  Loss:     0.0603 Validation Accuracy: 0.851400\n",
      "Epoch 20, CIFAR-10 Batch 4:  Loss:     0.0082 Validation Accuracy: 0.838000\n",
      "Epoch 20, CIFAR-10 Batch 5:  Loss:     0.0155 Validation Accuracy: 0.848800\n",
      "Epoch 21, CIFAR-10 Batch 1:  Loss:     0.0205 Validation Accuracy: 0.838400\n",
      "Epoch 21, CIFAR-10 Batch 2:  Loss:     0.0210 Validation Accuracy: 0.836800\n",
      "Epoch 21, CIFAR-10 Batch 3:  Loss:     0.0266 Validation Accuracy: 0.848600\n",
      "Epoch 21, CIFAR-10 Batch 4:  Loss:     0.0155 Validation Accuracy: 0.848800\n",
      "Epoch 21, CIFAR-10 Batch 5:  Loss:     0.0353 Validation Accuracy: 0.838400\n",
      "Epoch 22, CIFAR-10 Batch 1:  Loss:     0.0146 Validation Accuracy: 0.855200\n",
      "Epoch 22, CIFAR-10 Batch 2:  Loss:     0.0082 Validation Accuracy: 0.856200\n"
     ]
    },
    {
     "name": "stdout",
     "output_type": "stream",
     "text": [
      "Epoch 22, CIFAR-10 Batch 3:  Loss:     0.0125 Validation Accuracy: 0.845600\n",
      "Epoch 22, CIFAR-10 Batch 4:  Loss:     0.0056 Validation Accuracy: 0.849400\n",
      "Epoch 22, CIFAR-10 Batch 5:  Loss:     0.0156 Validation Accuracy: 0.833800\n",
      "Epoch 23, CIFAR-10 Batch 1:  Loss:     0.0151 Validation Accuracy: 0.844600\n",
      "Epoch 23, CIFAR-10 Batch 2:  Loss:     0.0100 Validation Accuracy: 0.841000\n",
      "Epoch 23, CIFAR-10 Batch 3:  Loss:     0.0070 Validation Accuracy: 0.840400\n",
      "Epoch 23, CIFAR-10 Batch 4:  Loss:     0.0071 Validation Accuracy: 0.836400\n",
      "Epoch 23, CIFAR-10 Batch 5:  Loss:     0.0130 Validation Accuracy: 0.833200\n",
      "Epoch 24, CIFAR-10 Batch 1:  Loss:     0.0094 Validation Accuracy: 0.861600\n",
      "Epoch 24, CIFAR-10 Batch 2:  Loss:     0.0145 Validation Accuracy: 0.857600\n",
      "Epoch 24, CIFAR-10 Batch 3:  Loss:     0.0046 Validation Accuracy: 0.858600\n",
      "Epoch 24, CIFAR-10 Batch 4:  Loss:     0.0063 Validation Accuracy: 0.854800\n",
      "Epoch 24, CIFAR-10 Batch 5:  Loss:     0.0081 Validation Accuracy: 0.834200\n",
      "Epoch 25, CIFAR-10 Batch 1:  Loss:     0.0072 Validation Accuracy: 0.855400\n",
      "Epoch 25, CIFAR-10 Batch 2:  Loss:     0.0055 Validation Accuracy: 0.853200\n",
      "Epoch 25, CIFAR-10 Batch 3:  Loss:     0.0032 Validation Accuracy: 0.854200\n",
      "Epoch 25, CIFAR-10 Batch 4:  Loss:     0.0079 Validation Accuracy: 0.860600\n",
      "Epoch 25, CIFAR-10 Batch 5:  Loss:     0.0030 Validation Accuracy: 0.846400\n",
      "Epoch 26, CIFAR-10 Batch 1:  Loss:     0.0141 Validation Accuracy: 0.852000\n",
      "Epoch 26, CIFAR-10 Batch 2:  Loss:     0.0115 Validation Accuracy: 0.853400\n",
      "Epoch 26, CIFAR-10 Batch 3:  Loss:     0.0038 Validation Accuracy: 0.850000\n",
      "Epoch 26, CIFAR-10 Batch 4:  Loss:     0.0050 Validation Accuracy: 0.856600\n",
      "Epoch 26, CIFAR-10 Batch 5:  Loss:     0.0082 Validation Accuracy: 0.842800\n",
      "Epoch 27, CIFAR-10 Batch 1:  Loss:     0.0081 Validation Accuracy: 0.851400\n",
      "Epoch 27, CIFAR-10 Batch 2:  Loss:     0.0045 Validation Accuracy: 0.856800\n",
      "Epoch 27, CIFAR-10 Batch 3:  Loss:     0.0015 Validation Accuracy: 0.843200\n",
      "Epoch 27, CIFAR-10 Batch 4:  Loss:     0.0020 Validation Accuracy: 0.860400\n",
      "Epoch 27, CIFAR-10 Batch 5:  Loss:     0.0037 Validation Accuracy: 0.854800\n",
      "Epoch 28, CIFAR-10 Batch 1:  Loss:     0.0082 Validation Accuracy: 0.857600\n",
      "Epoch 28, CIFAR-10 Batch 2:  Loss:     0.0065 Validation Accuracy: 0.862800\n",
      "Epoch 28, CIFAR-10 Batch 3:  Loss:     0.0038 Validation Accuracy: 0.864200\n",
      "Epoch 28, CIFAR-10 Batch 4:  Loss:     0.0090 Validation Accuracy: 0.846800\n",
      "Epoch 28, CIFAR-10 Batch 5:  Loss:     0.0056 Validation Accuracy: 0.841200\n",
      "Epoch 29, CIFAR-10 Batch 1:  Loss:     0.0127 Validation Accuracy: 0.856200\n",
      "Epoch 29, CIFAR-10 Batch 2:  Loss:     0.0047 Validation Accuracy: 0.854000\n",
      "Epoch 29, CIFAR-10 Batch 3:  Loss:     0.0012 Validation Accuracy: 0.856600\n",
      "Epoch 29, CIFAR-10 Batch 4:  Loss:     0.0063 Validation Accuracy: 0.859600\n",
      "Epoch 29, CIFAR-10 Batch 5:  Loss:     0.0081 Validation Accuracy: 0.843600\n",
      "Epoch 30, CIFAR-10 Batch 1:  Loss:     0.0048 Validation Accuracy: 0.865000\n",
      "Epoch 30, CIFAR-10 Batch 2:  Loss:     0.0032 Validation Accuracy: 0.865200\n",
      "Epoch 30, CIFAR-10 Batch 3:  Loss:     0.0007 Validation Accuracy: 0.864000\n",
      "Epoch 30, CIFAR-10 Batch 4:  Loss:     0.0038 Validation Accuracy: 0.862200\n",
      "Epoch 30, CIFAR-10 Batch 5:  Loss:     0.0017 Validation Accuracy: 0.848000\n"
     ]
    }
   ],
   "source": [
    "save_model_path = './image_classification'\n",
    "\n",
    "print('Training...')\n",
    "with tf.Session() as sess:\n",
    "    # Initializing the variables\n",
    "    sess.run(tf.global_variables_initializer())\n",
    "    \n",
    "    # Training cycle\n",
    "    for epoch in range(epochs):\n",
    "        # Loop over all batches\n",
    "        n_batches = 5\n",
    "        for batch_i in range(1, n_batches + 1):\n",
    "            for batch_features, batch_labels in helper.load_preprocess_training_batch(batch_i, batch_size):\n",
    "                train_neural_network(sess, optimizer, keep_probability, batch_features, batch_labels, True)\n",
    "            print('Epoch {:>2}, CIFAR-10 Batch {}:  '.format(epoch + 1, batch_i), end='')\n",
    "            print_stats(sess, batch_features, batch_labels, cost, accuracy)\n",
    "            \n",
    "    # Save Model\n",
    "    saver = tf.train.Saver()\n",
    "    save_path = saver.save(sess, save_model_path)"
   ]
  },
  {
   "cell_type": "markdown",
   "metadata": {},
   "source": [
    "## Test model"
   ]
  },
  {
   "cell_type": "code",
   "execution_count": 19,
   "metadata": {},
   "outputs": [
    {
     "name": "stdout",
     "output_type": "stream",
     "text": [
      "INFO:tensorflow:Restoring parameters from ./image_classification\n",
      "Testing Accuracy: 0.8419699367088608\n",
      "\n"
     ]
    },
    {
     "data": {
      "image/png": "[encoded data removed]",
      "text/plain": [
       "<matplotlib.figure.Figure at 0x1d403265e48>"
      ]
     },
     "metadata": {
      "image/png": {
       "height": 319,
       "width": 355
      }
     },
     "output_type": "display_data"
    }
   ],
   "source": [
    "%matplotlib inline\n",
    "%config InlineBackend.figure_format = 'retina'\n",
    "\n",
    "import tensorflow as tf\n",
    "import pickle\n",
    "import helper\n",
    "import random\n",
    "\n",
    "batch_size = 128\n",
    "\n",
    "save_model_path = './image_classification'\n",
    "n_samples = 4\n",
    "top_n_predictions = 3\n",
    "\n",
    "def test_model():\n",
    "    \"\"\"\n",
    "    Test the saved model against the test dataset\n",
    "    \"\"\"\n",
    "    test_features, test_labels = pickle.load(open('preprocess_test.p', mode='rb'))\n",
    "    loaded_graph = tf.Graph()\n",
    "\n",
    "    with tf.Session(graph=loaded_graph) as sess:\n",
    "        # Load model\n",
    "        loader = tf.train.import_meta_graph(save_model_path + '.meta')\n",
    "        loader.restore(sess, save_model_path)\n",
    "\n",
    "        # Get Tensors from loaded model\n",
    "        loaded_x = loaded_graph.get_tensor_by_name('x:0')\n",
    "        loaded_y = loaded_graph.get_tensor_by_name('y:0')\n",
    "        loaded_keep_prob = loaded_graph.get_tensor_by_name('keep_prob:0')\n",
    "        loaded_logits = loaded_graph.get_tensor_by_name('logits:0')\n",
    "        loaded_acc = loaded_graph.get_tensor_by_name('accuracy:0')\n",
    "        loaded_train_flag = loaded_graph.get_tensor_by_name('train_flag:0')\n",
    "        \n",
    "        # Get accuracy in batches for memory limitations\n",
    "        test_batch_acc_total = 0\n",
    "        test_batch_count = 0\n",
    "        \n",
    "        for test_feature_batch, test_label_batch in helper.batch_features_labels(test_features, test_labels, batch_size):\n",
    "            test_batch_acc_total += sess.run(loaded_acc,\n",
    "                feed_dict={loaded_x: test_feature_batch, loaded_y: test_label_batch, loaded_keep_prob: 1.0, loaded_train_flag:False})\n",
    "            test_batch_count += 1\n",
    "\n",
    "        print('Testing Accuracy: {}\\n'.format(test_batch_acc_total/test_batch_count))\n",
    "\n",
    "        # Print Random Samples\n",
    "        random_test_features, random_test_labels = tuple(zip(*random.sample(list(zip(test_features, test_labels)), n_samples)))\n",
    "        random_test_predictions = sess.run(tf.nn.top_k(tf.nn.softmax(loaded_logits), top_n_predictions),\n",
    "            feed_dict={loaded_x: random_test_features, loaded_y: random_test_labels, loaded_keep_prob: 1.0, loaded_train_flag:False})\n",
    "        helper.display_image_predictions(random_test_features, random_test_labels, random_test_predictions)\n",
    "\n",
    "test_model()"
   ]
  },
  {
   "cell_type": "code",
   "execution_count": null,
   "metadata": {
    "collapsed": true
   },
   "outputs": [],
   "source": []
  }
 ],
 "metadata": {
  "kernelspec": {
   "display_name": "Python [conda env:tf_1_2]",
   "language": "python",
   "name": "conda-env-tf_1_2-py"
  },
  "language_info": {
   "codemirror_mode": {
    "name": "ipython",
    "version": 3
   },
   "file_extension": ".py",
   "mimetype": "text/x-python",
   "name": "python",
   "nbconvert_exporter": "python",
   "pygments_lexer": "ipython3",
   "version": "3.5.3"
  }
 },
 "nbformat": 4,
 "nbformat_minor": 2
}
