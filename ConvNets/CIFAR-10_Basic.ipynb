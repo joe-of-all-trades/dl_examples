{
 "cells": [
  {
   "cell_type": "markdown",
   "metadata": {},
   "source": [
    "In this project, we'll build a simple convolutional neural network for CIFAR-10 image classification. Code contained in this project was based on Tensorflow 1.2.1 and python 3.5. "
   ]
  },
  {
   "cell_type": "code",
   "execution_count": 1,
   "metadata": {
    "collapsed": true
   },
   "outputs": [],
   "source": [
    "from urllib.request import urlretrieve\n",
    "from os.path import isfile, isdir\n",
    "from tqdm import tqdm\n",
    "import tarfile\n",
    "import tensorflow as tf\n",
    "\n",
    "cifar10_dataset_folder_path = 'cifar-10-batches-py'\n",
    "tar_gz_path = 'cifar-10-python.tar.gz'\n",
    "\n",
    "class DLProgress(tqdm):\n",
    "    last_block = 0\n",
    "\n",
    "    def hook(self, block_num=1, block_size=1, total_size=None):\n",
    "        self.total = total_size\n",
    "        self.update((block_num - self.last_block) * block_size)\n",
    "        self.last_block = block_num\n",
    "\n",
    "if not isfile(tar_gz_path):\n",
    "    with DLProgress(unit='B', unit_scale=True, miniters=1, desc='CIFAR-10 Dataset') as pbar:\n",
    "        urlretrieve(\n",
    "            'https://www.cs.toronto.edu/~kriz/cifar-10-python.tar.gz',\n",
    "            tar_gz_path,\n",
    "            pbar.hook)\n",
    "\n",
    "if not isdir(cifar10_dataset_folder_path):\n",
    "    with tarfile.open(tar_gz_path) as tar:\n",
    "        tar.extractall()\n",
    "        tar.close()"
   ]
  },
  {
   "cell_type": "code",
   "execution_count": 2,
   "metadata": {},
   "outputs": [
    {
     "name": "stdout",
     "output_type": "stream",
     "text": [
      "\n",
      "Stats of batch 1:\n",
      "Samples: 10000\n",
      "Label Counts: {0: 1005, 1: 974, 2: 1032, 3: 1016, 4: 999, 5: 937, 6: 1030, 7: 1001, 8: 1025, 9: 981}\n",
      "First 20 Labels: [6, 9, 9, 4, 1, 1, 2, 7, 8, 3, 4, 7, 7, 2, 9, 9, 9, 3, 2, 6]\n",
      "\n",
      "Example of Image 6:\n",
      "Image - Min Value: 7 Max Value: 249\n",
      "Image - Shape: (32, 32, 3)\n",
      "Label - Label Id: 2 Name: bird\n"
     ]
    },
    {
     "data": {
      "image/png": "[encoded data removed]",
      "text/plain": [
       "<matplotlib.figure.Figure at 0x1897f2e4da0>"
      ]
     },
     "metadata": {
      "image/png": {
       "height": 250,
       "width": 253
      }
     },
     "output_type": "display_data"
    }
   ],
   "source": [
    "%matplotlib inline\n",
    "%config InlineBackend.figure_format = 'retina'\n",
    "\n",
    "import helper\n",
    "import numpy as np\n",
    "\n",
    "# Explore the dataset\n",
    "batch_id = 1\n",
    "sample_id = 6\n",
    "helper.display_stats(cifar10_dataset_folder_path, batch_id, sample_id)"
   ]
  },
  {
   "cell_type": "markdown",
   "metadata": {},
   "source": [
    "# Preprocess Data\n",
    "\n",
    "## Normalize"
   ]
  },
  {
   "cell_type": "code",
   "execution_count": 3,
   "metadata": {
    "collapsed": true
   },
   "outputs": [],
   "source": [
    "def normalize(x):\n",
    "    \"\"\"\n",
    "    Normalize a list of sample image data in the range of 0 to 1\n",
    "    : x: List of image data.  The image shape is (32, 32, 3)\n",
    "    : return: Numpy array of normalize data\n",
    "    \"\"\"\n",
    "    return ( x - x.min() ) / ( x.max() - x.min() )"
   ]
  },
  {
   "cell_type": "markdown",
   "metadata": {},
   "source": [
    "## One hot encode"
   ]
  },
  {
   "cell_type": "code",
   "execution_count": 4,
   "metadata": {
    "collapsed": true
   },
   "outputs": [],
   "source": [
    "def one_hot_encode(x):\n",
    "    \"\"\"\n",
    "    One hot encode a list of sample labels. Return a one-hot encoded vector for each label.\n",
    "    : x: List of sample Labels\n",
    "    : return: Numpy array of one-hot encoded labels\n",
    "    \"\"\"\n",
    "    output = np.zeros([len(x), 10])\n",
    "    for idx, item in enumerate(x):\n",
    "        output[idx, item] = 1\n",
    "    return output"
   ]
  },
  {
   "cell_type": "markdown",
   "metadata": {},
   "source": [
    "This above function is equivalent to tf.one_hot(x, 10), but tensorflow module can not be pickled so we're sticking with the above implementation."
   ]
  },
  {
   "cell_type": "markdown",
   "metadata": {},
   "source": [
    "## Preprocess Data\n",
    "We will randomly shuffle the data, normalize them and save them in binary format."
   ]
  },
  {
   "cell_type": "code",
   "execution_count": 5,
   "metadata": {
    "collapsed": true
   },
   "outputs": [],
   "source": [
    "import tensorflow as tf\n",
    "# Preprocess Training, Validation, and Testing Data\n",
    "helper.preprocess_and_save_data(cifar10_dataset_folder_path, normalize, one_hot_encode)"
   ]
  },
  {
   "cell_type": "markdown",
   "metadata": {},
   "source": [
    "# Checkpoint\n",
    "The above work is all saved so when we're revisiting this notebook we don't have to do those work again. We can start from here."
   ]
  },
  {
   "cell_type": "code",
   "execution_count": 6,
   "metadata": {
    "collapsed": true
   },
   "outputs": [],
   "source": [
    "import pickle\n",
    "import helper\n",
    "\n",
    "valid_features, valid_labels = pickle.load(open('preprocess_validation.p', mode='rb'))"
   ]
  },
  {
   "cell_type": "markdown",
   "metadata": {},
   "source": [
    "# Building the network"
   ]
  },
  {
   "cell_type": "markdown",
   "metadata": {},
   "source": [
    "## Defining input"
   ]
  },
  {
   "cell_type": "code",
   "execution_count": 7,
   "metadata": {
    "collapsed": true
   },
   "outputs": [],
   "source": [
    "import tensorflow as tf\n",
    "\n",
    "def neural_net_image_input(image_shape):\n",
    "    \"\"\"\n",
    "    Return a Tensor for a batch of image input\n",
    "    : image_shape: Shape of the images\n",
    "    \"\"\"\n",
    "    return tf.placeholder(tf.float32, [None, image_shape[0], image_shape[1], image_shape[2]], \"x\")\n",
    "\n",
    "\n",
    "def neural_net_label_input(n_classes):\n",
    "    \"\"\"\n",
    "    Return a Tensor for a batch of label input\n",
    "    : n_classes: Number of classes\n",
    "    \"\"\"\n",
    "    return tf.placeholder(tf.float32, [None, n_classes], \"y\")\n",
    "\n",
    "\n",
    "def neural_net_keep_prob_input():\n",
    "    \"\"\"\n",
    "    Return a Tensor for keep probability\n",
    "    \"\"\"\n",
    "    return tf.placeholder(tf.float32, None, \"keep_prob\")"
   ]
  },
  {
   "cell_type": "markdown",
   "metadata": {},
   "source": [
    "## Convolution and maxpool layer"
   ]
  },
  {
   "cell_type": "code",
   "execution_count": 8,
   "metadata": {
    "collapsed": true
   },
   "outputs": [],
   "source": [
    "def conv2d(x_tensor, conv_num_outputs, conv_ksize, conv_strides):\n",
    "    \"\"\"\n",
    "    Apply convolution then max pooling to x_tensor\n",
    "    :param x_tensor: TensorFlow Tensor\n",
    "    :param conv_num_outputs: Number of outputs for the convolutional layer\n",
    "    :param conv_ksize: kernal size 2-D Tuple for the convolutional layer\n",
    "    :param conv_strides: Stride 2-D Tuple for convolution\n",
    "    :param pool_ksize: kernal size 2-D Tuple for pool\n",
    "    :param pool_strides: Stride 2-D Tuple for pool\n",
    "    : return: A tensor that represents convolution and max pooling of x_tensor\n",
    "    \"\"\"\n",
    "    w = tf.get_variable(\"w\", shape=[conv_ksize[0], conv_ksize[1], x_tensor.get_shape().as_list()[3], conv_num_outputs],\n",
    "                         initializer=tf.contrib.layers.xavier_initializer())\n",
    "    \n",
    "    b = tf.Variable(tf.truncated_normal([conv_num_outputs], mean=0.0, stddev=0.1, dtype=tf.float32))\n",
    "    \n",
    "    wc = tf.nn.conv2d(x_tensor, w, strides=[1, conv_strides[0], conv_strides[1], 1], padding='SAME')\n",
    "    z = tf.nn.bias_add(wc, b)\n",
    "    \n",
    "    return tf.nn.relu(z)\n"
   ]
  },
  {
   "cell_type": "markdown",
   "metadata": {},
   "source": [
    "## Flatten layer\n",
    "Implement the flatten function to change the dimension of x_tensor from a 4-D tensor to a 2-D tensor. The output should be the shape (Batch Size, Flattened Image Size). Shortcut option: you can use classes from the TensorFlow Layers or TensorFlow Layers (contrib) packages for this layer. For more of a challenge, only use other TensorFlow packages."
   ]
  },
  {
   "cell_type": "code",
   "execution_count": 9,
   "metadata": {
    "collapsed": true
   },
   "outputs": [],
   "source": [
    "def flatten(x_tensor):\n",
    "    \"\"\"\n",
    "    Flatten x_tensor to (Batch Size, Flattened Image Size)\n",
    "    : x_tensor: A tensor of size (Batch Size, ...), where ... are the image dimensions.\n",
    "    : return: A tensor of size (Batch Size, Flattened Image Size).\n",
    "    \"\"\"\n",
    "    # reference : https://github.com/tensorflow/tensorflow/issues/7253\n",
    "    return tf.reshape(x_tensor, [tf.shape(x_tensor)[0], np.prod(x_tensor.get_shape().as_list()[1:])])\n",
    "    \n",
    "    # This also works\n",
    "    #return tf.reshape(x_tensor, [-1, np.prod(x_tensor.shape[1:]).value])"
   ]
  },
  {
   "cell_type": "markdown",
   "metadata": {},
   "source": [
    "## Fully connected layer"
   ]
  },
  {
   "cell_type": "code",
   "execution_count": 10,
   "metadata": {
    "collapsed": true
   },
   "outputs": [],
   "source": [
    "def fully_conn(x_tensor, num_outputs):\n",
    "    \"\"\"\n",
    "    Apply a fully connected layer to x_tensor using weight and bias\n",
    "    : x_tensor: A 2-D tensor where the first dimension is batch size.\n",
    "    : num_outputs: The number of output that the new tensor should be.\n",
    "    : return: A 2-D tensor where the second dimension is num_outputs.\n",
    "    \"\"\"\n",
    "    fc = tf.reshape(x_tensor, [-1, np.prod(x_tensor.get_shape().as_list()[1:])])\n",
    "    \n",
    "    w = tf.get_variable(\"w\", shape=[np.prod(x_tensor.get_shape().as_list()[1:]), num_outputs],\n",
    "                         initializer=tf.contrib.layers.xavier_initializer())\n",
    "    \n",
    "    b = tf.Variable(tf.truncated_normal([num_outputs],mean=0.0, stddev=0.1, dtype=tf.float32))\n",
    "    z = tf.add(tf.matmul(fc, w), b)\n",
    "    \n",
    "    return tf.nn.relu(z)"
   ]
  },
  {
   "cell_type": "markdown",
   "metadata": {},
   "source": [
    "## Output layer"
   ]
  },
  {
   "cell_type": "code",
   "execution_count": 11,
   "metadata": {
    "collapsed": true
   },
   "outputs": [],
   "source": [
    "def output(x_tensor, num_outputs):\n",
    "    \"\"\"\n",
    "    Apply a output layer to x_tensor using weight and bias\n",
    "    : x_tensor: A 2-D tensor where the first dimension is batch size.\n",
    "    : num_outputs: The number of output that the new tensor should be.\n",
    "    : return: A 2-D tensor where the second dimension is num_outputs.\n",
    "    \"\"\"\n",
    "    w = tf.get_variable(\"w\", shape=[np.prod(x_tensor.get_shape().as_list()[1:]), num_outputs],\n",
    "                         initializer=tf.contrib.layers.xavier_initializer())\n",
    "    \n",
    "    b = tf.Variable(tf.truncated_normal([num_outputs],mean=0.0, stddev=0.1, dtype=tf.float32))\n",
    "    return tf.add(tf.matmul(x_tensor, w), b)\n"
   ]
  },
  {
   "cell_type": "markdown",
   "metadata": {},
   "source": [
    "## Create the convolutional neural network model"
   ]
  },
  {
   "cell_type": "code",
   "execution_count": 12,
   "metadata": {
    "collapsed": true
   },
   "outputs": [],
   "source": [
    "def conv_net(x, keep_prob):\n",
    "    \"\"\"\n",
    "    Create a convolutional neural network model\n",
    "    : x: Placeholder tensor that holds image data.\n",
    "    : keep_prob: Placeholder tensor that hold dropout keep probability.\n",
    "    : return: Tensor that represents logits\n",
    "    \"\"\"\n",
    "    # Convolution and maxpooling layers\n",
    "    with tf.variable_scope(\"conv1\"):\n",
    "        conv1 = conv2d(x, 40, (3, 3), (1, 1))\n",
    "        \n",
    "    with tf.variable_scope(\"conv2\"):\n",
    "        conv2 = conv2d(conv1, 80, (3, 3), (1, 1))\n",
    "    conv2 = tf.nn.max_pool(conv2, ksize=[1, 2, 2, 1], strides=[1, 2, 2, 1], padding='SAME')\n",
    "    conv2 = tf.nn.dropout(conv2, keep_prob)\n",
    "    \n",
    "    with tf.variable_scope(\"conv3\"):\n",
    "        conv3 = conv2d(conv2, 160, (3, 3), (1, 1))\n",
    "    \n",
    "    with tf.variable_scope(\"conv4\"):\n",
    "        conv4 = conv2d(conv3, 320, (3, 3), (1, 1))\n",
    "    conv4 = tf.nn.max_pool(conv4, ksize=[1, 2, 2, 1], strides=[1, 2, 2, 1], padding='SAME')\n",
    "    conv4 = tf.nn.dropout(conv4, keep_prob)\n",
    "    \n",
    "    # Flatten Layer\n",
    "    f = flatten(conv4)\n",
    "\n",
    "    # Fully Connected layers\n",
    "    with tf.variable_scope(\"fc1\"):\n",
    "        fc1 = fully_conn(f, 512)\n",
    "        fc1 = tf.nn.dropout(fc1, keep_prob)\n",
    "    with tf.variable_scope(\"fc2\"):\n",
    "        fc2 = fully_conn(fc1, 256)\n",
    "        fc2 = tf.nn.dropout(fc2, keep_prob)\n",
    "    \n",
    "    # Output Layer\n",
    "    with tf.variable_scope(\"out\"):\n",
    "        o = output(fc2, 10)\n",
    "    \n",
    "    # TODO: return output\n",
    "    return o"
   ]
  },
  {
   "cell_type": "markdown",
   "metadata": {},
   "source": [
    "## Build the network"
   ]
  },
  {
   "cell_type": "code",
   "execution_count": 13,
   "metadata": {
    "collapsed": true
   },
   "outputs": [],
   "source": [
    "tf.reset_default_graph()\n",
    "\n",
    "# Inputs\n",
    "x = neural_net_image_input((32, 32, 3))\n",
    "y = neural_net_label_input(10)\n",
    "keep_prob = neural_net_keep_prob_input()\n",
    "\n",
    "# Model\n",
    "logits = conv_net(x, keep_prob)\n",
    "\n",
    "# Name logits Tensor, so that is can be loaded from disk after training\n",
    "logits = tf.identity(logits, name='logits')\n",
    "\n",
    "# Loss and Optimizer\n",
    "cost = tf.reduce_mean(tf.nn.softmax_cross_entropy_with_logits(logits=logits, labels=y))\n",
    "optimizer = tf.train.AdamOptimizer(epsilon=1e-04).minimize(cost)\n",
    "\n",
    "# Accuracy\n",
    "correct_pred = tf.equal(tf.argmax(logits, 1), tf.argmax(y, 1))\n",
    "accuracy = tf.reduce_mean(tf.cast(correct_pred, tf.float32), name='accuracy')"
   ]
  },
  {
   "cell_type": "markdown",
   "metadata": {},
   "source": [
    "## Train network"
   ]
  },
  {
   "cell_type": "code",
   "execution_count": 14,
   "metadata": {
    "collapsed": true
   },
   "outputs": [],
   "source": [
    "def train_neural_network(session, optimizer, keep_probability, feature_batch, label_batch):\n",
    "    \"\"\"\n",
    "    Optimize the session on a batch of images and labels\n",
    "    \"\"\"\n",
    "    session.run(optimizer, feed_dict={x: feature_batch, y: label_batch, keep_prob: keep_probability})"
   ]
  },
  {
   "cell_type": "markdown",
   "metadata": {},
   "source": [
    "## Print Stats\n",
    "It's important to evaluate the performance of model once in a while. If effect, we're feeding a small batch of data to the neural network through forward propagation and then caculate the accuracy of prediction. We don't want to do this too often as this slows down the overall process. It's important to keep in mind that since we're actually using the model for prediction but not training it, we need to set keep probability for dropout to 1 so we're not losing any connection between neurons. "
   ]
  },
  {
   "cell_type": "code",
   "execution_count": 15,
   "metadata": {
    "collapsed": true
   },
   "outputs": [],
   "source": [
    "def print_stats(session, feature_batch, label_batch, cost, accuracy):\n",
    "    \"\"\"\n",
    "    Print information about loss and validation accuracy\n",
    "    \"\"\"\n",
    "    loss = session.run(cost, feed_dict={x: feature_batch, y: label_batch, keep_prob: 1.})\n",
    "    valid_acc = session.run(accuracy, feed_dict={x: valid_features, y: valid_labels, keep_prob: 1.})\n",
    "    print('Loss: {:>10.4f} Validation Accuracy: {:.6f}'.format(loss, valid_acc))"
   ]
  },
  {
   "cell_type": "markdown",
   "metadata": {},
   "source": [
    "## Hyperparameters"
   ]
  },
  {
   "cell_type": "code",
   "execution_count": 16,
   "metadata": {
    "collapsed": true
   },
   "outputs": [],
   "source": [
    "epochs = 30\n",
    "batch_size = 128\n",
    "keep_probability = 0.5"
   ]
  },
  {
   "cell_type": "markdown",
   "metadata": {},
   "source": [
    "## Train on a single CIFAR-10 batch"
   ]
  },
  {
   "cell_type": "code",
   "execution_count": 17,
   "metadata": {},
   "outputs": [
    {
     "name": "stdout",
     "output_type": "stream",
     "text": [
      "Checking the Training on a Single Batch...\n",
      "Epoch  1, CIFAR-10 Batch 1:  Loss:     2.2477 Validation Accuracy: 0.187800\n",
      "Epoch  2, CIFAR-10 Batch 1:  Loss:     2.1389 Validation Accuracy: 0.281600\n",
      "Epoch  3, CIFAR-10 Batch 1:  Loss:     1.9274 Validation Accuracy: 0.358200\n",
      "Epoch  4, CIFAR-10 Batch 1:  Loss:     1.8018 Validation Accuracy: 0.436400\n",
      "Epoch  5, CIFAR-10 Batch 1:  Loss:     1.6718 Validation Accuracy: 0.471400\n",
      "Epoch  6, CIFAR-10 Batch 1:  Loss:     1.4711 Validation Accuracy: 0.496600\n",
      "Epoch  7, CIFAR-10 Batch 1:  Loss:     1.2470 Validation Accuracy: 0.528200\n",
      "Epoch  8, CIFAR-10 Batch 1:  Loss:     1.1338 Validation Accuracy: 0.541600\n",
      "Epoch  9, CIFAR-10 Batch 1:  Loss:     0.9914 Validation Accuracy: 0.562800\n",
      "Epoch 10, CIFAR-10 Batch 1:  Loss:     0.8986 Validation Accuracy: 0.584400\n",
      "Epoch 11, CIFAR-10 Batch 1:  Loss:     0.7651 Validation Accuracy: 0.575000\n",
      "Epoch 12, CIFAR-10 Batch 1:  Loss:     0.6892 Validation Accuracy: 0.595400\n",
      "Epoch 13, CIFAR-10 Batch 1:  Loss:     0.5617 Validation Accuracy: 0.610600\n",
      "Epoch 14, CIFAR-10 Batch 1:  Loss:     0.5008 Validation Accuracy: 0.615800\n",
      "Epoch 15, CIFAR-10 Batch 1:  Loss:     0.4323 Validation Accuracy: 0.616400\n",
      "Epoch 16, CIFAR-10 Batch 1:  Loss:     0.3591 Validation Accuracy: 0.620600\n",
      "Epoch 17, CIFAR-10 Batch 1:  Loss:     0.2776 Validation Accuracy: 0.622400\n",
      "Epoch 18, CIFAR-10 Batch 1:  Loss:     0.2200 Validation Accuracy: 0.639800\n",
      "Epoch 19, CIFAR-10 Batch 1:  Loss:     0.1899 Validation Accuracy: 0.624800\n",
      "Epoch 20, CIFAR-10 Batch 1:  Loss:     0.1601 Validation Accuracy: 0.644400\n",
      "Epoch 21, CIFAR-10 Batch 1:  Loss:     0.1228 Validation Accuracy: 0.645800\n",
      "Epoch 22, CIFAR-10 Batch 1:  Loss:     0.0954 Validation Accuracy: 0.656600\n",
      "Epoch 23, CIFAR-10 Batch 1:  Loss:     0.0794 Validation Accuracy: 0.652000\n",
      "Epoch 24, CIFAR-10 Batch 1:  Loss:     0.0779 Validation Accuracy: 0.654000\n",
      "Epoch 25, CIFAR-10 Batch 1:  Loss:     0.0570 Validation Accuracy: 0.655200\n",
      "Epoch 26, CIFAR-10 Batch 1:  Loss:     0.0531 Validation Accuracy: 0.652200\n",
      "Epoch 27, CIFAR-10 Batch 1:  Loss:     0.0602 Validation Accuracy: 0.644600\n",
      "Epoch 28, CIFAR-10 Batch 1:  Loss:     0.0471 Validation Accuracy: 0.645600\n",
      "Epoch 29, CIFAR-10 Batch 1:  Loss:     0.0545 Validation Accuracy: 0.638200\n",
      "Epoch 30, CIFAR-10 Batch 1:  Loss:     0.0288 Validation Accuracy: 0.632600\n"
     ]
    }
   ],
   "source": [
    "print('Checking the Training on a Single Batch...')\n",
    "with tf.Session() as sess:\n",
    "    sess.run(tf.global_variables_initializer())\n",
    "    \n",
    "    # Training cycle\n",
    "    for epoch in range(epochs):\n",
    "        batch_i = 1\n",
    "        for batch_features, batch_labels in helper.load_preprocess_training_batch(batch_i, batch_size):\n",
    "            batch_mean = np.mean(batch_features)\n",
    "            batch_std = np.std(batch_features)\n",
    "            batch_features = batch_features.astype(np.float32)\n",
    "            for ii in range(batch_features.shape[0]):\n",
    "                batch_features[ii, :, :, :] = (batch_features[ii, :, :, :] - batch_mean) / batch_std  \n",
    "            train_neural_network(sess, optimizer, keep_probability, batch_features, batch_labels)\n",
    "        print('Epoch {:>2}, CIFAR-10 Batch {}:  '.format(epoch + 1, batch_i), end='')\n",
    "        print_stats(sess, batch_features, batch_labels, cost, accuracy)"
   ]
  },
  {
   "cell_type": "markdown",
   "metadata": {},
   "source": [
    "## Fully train the model"
   ]
  },
  {
   "cell_type": "code",
   "execution_count": 18,
   "metadata": {},
   "outputs": [
    {
     "name": "stdout",
     "output_type": "stream",
     "text": [
      "Training...\n",
      "Epoch  1, CIFAR-10 Batch 1:  Loss:     2.1751 Validation Accuracy: 0.210000\n",
      "Epoch  1, CIFAR-10 Batch 2:  Loss:     1.9525 Validation Accuracy: 0.310400\n",
      "Epoch  1, CIFAR-10 Batch 3:  Loss:     1.5749 Validation Accuracy: 0.359600\n",
      "Epoch  1, CIFAR-10 Batch 4:  Loss:     1.6473 Validation Accuracy: 0.429600\n",
      "Epoch  1, CIFAR-10 Batch 5:  Loss:     1.5522 Validation Accuracy: 0.469800\n",
      "Epoch  2, CIFAR-10 Batch 1:  Loss:     1.5799 Validation Accuracy: 0.490400\n",
      "Epoch  2, CIFAR-10 Batch 2:  Loss:     1.2913 Validation Accuracy: 0.496800\n",
      "Epoch  2, CIFAR-10 Batch 3:  Loss:     1.0500 Validation Accuracy: 0.543200\n",
      "Epoch  2, CIFAR-10 Batch 4:  Loss:     1.2493 Validation Accuracy: 0.553000\n",
      "Epoch  2, CIFAR-10 Batch 5:  Loss:     1.2244 Validation Accuracy: 0.591200\n",
      "Epoch  3, CIFAR-10 Batch 1:  Loss:     1.1295 Validation Accuracy: 0.598000\n",
      "Epoch  3, CIFAR-10 Batch 2:  Loss:     1.1143 Validation Accuracy: 0.564600\n",
      "Epoch  3, CIFAR-10 Batch 3:  Loss:     0.7979 Validation Accuracy: 0.629200\n",
      "Epoch  3, CIFAR-10 Batch 4:  Loss:     0.9991 Validation Accuracy: 0.620600\n",
      "Epoch  3, CIFAR-10 Batch 5:  Loss:     1.0824 Validation Accuracy: 0.617600\n",
      "Epoch  4, CIFAR-10 Batch 1:  Loss:     0.8377 Validation Accuracy: 0.648000\n",
      "Epoch  4, CIFAR-10 Batch 2:  Loss:     0.8784 Validation Accuracy: 0.671200\n",
      "Epoch  4, CIFAR-10 Batch 3:  Loss:     0.6835 Validation Accuracy: 0.674800\n",
      "Epoch  4, CIFAR-10 Batch 4:  Loss:     0.8066 Validation Accuracy: 0.673200\n",
      "Epoch  4, CIFAR-10 Batch 5:  Loss:     0.8452 Validation Accuracy: 0.669200\n",
      "Epoch  5, CIFAR-10 Batch 1:  Loss:     0.7348 Validation Accuracy: 0.699600\n",
      "Epoch  5, CIFAR-10 Batch 2:  Loss:     0.6603 Validation Accuracy: 0.692600\n",
      "Epoch  5, CIFAR-10 Batch 3:  Loss:     0.5506 Validation Accuracy: 0.699800\n",
      "Epoch  5, CIFAR-10 Batch 4:  Loss:     0.6128 Validation Accuracy: 0.689600\n",
      "Epoch  5, CIFAR-10 Batch 5:  Loss:     0.6780 Validation Accuracy: 0.714000\n",
      "Epoch  6, CIFAR-10 Batch 1:  Loss:     0.5964 Validation Accuracy: 0.728600\n",
      "Epoch  6, CIFAR-10 Batch 2:  Loss:     0.6197 Validation Accuracy: 0.726400\n",
      "Epoch  6, CIFAR-10 Batch 3:  Loss:     0.4679 Validation Accuracy: 0.726400\n",
      "Epoch  6, CIFAR-10 Batch 4:  Loss:     0.4515 Validation Accuracy: 0.736200\n",
      "Epoch  6, CIFAR-10 Batch 5:  Loss:     0.5419 Validation Accuracy: 0.735600\n",
      "Epoch  7, CIFAR-10 Batch 1:  Loss:     0.4913 Validation Accuracy: 0.744800\n",
      "Epoch  7, CIFAR-10 Batch 2:  Loss:     0.5765 Validation Accuracy: 0.744000\n",
      "Epoch  7, CIFAR-10 Batch 3:  Loss:     0.3619 Validation Accuracy: 0.747600\n",
      "Epoch  7, CIFAR-10 Batch 4:  Loss:     0.3879 Validation Accuracy: 0.737200\n",
      "Epoch  7, CIFAR-10 Batch 5:  Loss:     0.3968 Validation Accuracy: 0.746000\n",
      "Epoch  8, CIFAR-10 Batch 1:  Loss:     0.4048 Validation Accuracy: 0.761800\n",
      "Epoch  8, CIFAR-10 Batch 2:  Loss:     0.4581 Validation Accuracy: 0.751800\n",
      "Epoch  8, CIFAR-10 Batch 3:  Loss:     0.2963 Validation Accuracy: 0.751200\n",
      "Epoch  8, CIFAR-10 Batch 4:  Loss:     0.3453 Validation Accuracy: 0.752800\n",
      "Epoch  8, CIFAR-10 Batch 5:  Loss:     0.3505 Validation Accuracy: 0.757800\n",
      "Epoch  9, CIFAR-10 Batch 1:  Loss:     0.3818 Validation Accuracy: 0.763000\n",
      "Epoch  9, CIFAR-10 Batch 2:  Loss:     0.3985 Validation Accuracy: 0.768400\n",
      "Epoch  9, CIFAR-10 Batch 3:  Loss:     0.2389 Validation Accuracy: 0.762600\n",
      "Epoch  9, CIFAR-10 Batch 4:  Loss:     0.2750 Validation Accuracy: 0.759400\n",
      "Epoch  9, CIFAR-10 Batch 5:  Loss:     0.3026 Validation Accuracy: 0.768200\n",
      "Epoch 10, CIFAR-10 Batch 1:  Loss:     0.3073 Validation Accuracy: 0.775600\n",
      "Epoch 10, CIFAR-10 Batch 2:  Loss:     0.3798 Validation Accuracy: 0.753600\n",
      "Epoch 10, CIFAR-10 Batch 3:  Loss:     0.2014 Validation Accuracy: 0.780000\n",
      "Epoch 10, CIFAR-10 Batch 4:  Loss:     0.2246 Validation Accuracy: 0.782200\n",
      "Epoch 10, CIFAR-10 Batch 5:  Loss:     0.2867 Validation Accuracy: 0.767600\n",
      "Epoch 11, CIFAR-10 Batch 1:  Loss:     0.2726 Validation Accuracy: 0.777200\n",
      "Epoch 11, CIFAR-10 Batch 2:  Loss:     0.2722 Validation Accuracy: 0.769000\n",
      "Epoch 11, CIFAR-10 Batch 3:  Loss:     0.1276 Validation Accuracy: 0.794600\n",
      "Epoch 11, CIFAR-10 Batch 4:  Loss:     0.1740 Validation Accuracy: 0.787600\n",
      "Epoch 11, CIFAR-10 Batch 5:  Loss:     0.1565 Validation Accuracy: 0.787200\n",
      "Epoch 12, CIFAR-10 Batch 1:  Loss:     0.2853 Validation Accuracy: 0.774800\n",
      "Epoch 12, CIFAR-10 Batch 2:  Loss:     0.1967 Validation Accuracy: 0.786600\n",
      "Epoch 12, CIFAR-10 Batch 3:  Loss:     0.1394 Validation Accuracy: 0.789600\n",
      "Epoch 12, CIFAR-10 Batch 4:  Loss:     0.1638 Validation Accuracy: 0.794400\n",
      "Epoch 12, CIFAR-10 Batch 5:  Loss:     0.1697 Validation Accuracy: 0.789400\n",
      "Epoch 13, CIFAR-10 Batch 1:  Loss:     0.2321 Validation Accuracy: 0.787200\n",
      "Epoch 13, CIFAR-10 Batch 2:  Loss:     0.2031 Validation Accuracy: 0.793600\n",
      "Epoch 13, CIFAR-10 Batch 3:  Loss:     0.1087 Validation Accuracy: 0.795400\n",
      "Epoch 13, CIFAR-10 Batch 4:  Loss:     0.1385 Validation Accuracy: 0.792400\n",
      "Epoch 13, CIFAR-10 Batch 5:  Loss:     0.1442 Validation Accuracy: 0.790400\n",
      "Epoch 14, CIFAR-10 Batch 1:  Loss:     0.2553 Validation Accuracy: 0.787200\n",
      "Epoch 14, CIFAR-10 Batch 2:  Loss:     0.1565 Validation Accuracy: 0.785400\n",
      "Epoch 14, CIFAR-10 Batch 3:  Loss:     0.1394 Validation Accuracy: 0.791000\n",
      "Epoch 14, CIFAR-10 Batch 4:  Loss:     0.1320 Validation Accuracy: 0.790800\n",
      "Epoch 14, CIFAR-10 Batch 5:  Loss:     0.1490 Validation Accuracy: 0.798800\n",
      "Epoch 15, CIFAR-10 Batch 1:  Loss:     0.2041 Validation Accuracy: 0.794000\n",
      "Epoch 15, CIFAR-10 Batch 2:  Loss:     0.1242 Validation Accuracy: 0.800200\n",
      "Epoch 15, CIFAR-10 Batch 3:  Loss:     0.1065 Validation Accuracy: 0.796000\n",
      "Epoch 15, CIFAR-10 Batch 4:  Loss:     0.0886 Validation Accuracy: 0.799800\n",
      "Epoch 15, CIFAR-10 Batch 5:  Loss:     0.0824 Validation Accuracy: 0.800800\n",
      "Epoch 16, CIFAR-10 Batch 1:  Loss:     0.1449 Validation Accuracy: 0.796600\n",
      "Epoch 16, CIFAR-10 Batch 2:  Loss:     0.0991 Validation Accuracy: 0.796200\n",
      "Epoch 16, CIFAR-10 Batch 3:  Loss:     0.1081 Validation Accuracy: 0.797400\n",
      "Epoch 16, CIFAR-10 Batch 4:  Loss:     0.1009 Validation Accuracy: 0.805200\n",
      "Epoch 16, CIFAR-10 Batch 5:  Loss:     0.0683 Validation Accuracy: 0.796000\n",
      "Epoch 17, CIFAR-10 Batch 1:  Loss:     0.1428 Validation Accuracy: 0.806000\n",
      "Epoch 17, CIFAR-10 Batch 2:  Loss:     0.1083 Validation Accuracy: 0.786000\n",
      "Epoch 17, CIFAR-10 Batch 3:  Loss:     0.0785 Validation Accuracy: 0.800200\n",
      "Epoch 17, CIFAR-10 Batch 4:  Loss:     0.0651 Validation Accuracy: 0.797000\n",
      "Epoch 17, CIFAR-10 Batch 5:  Loss:     0.0766 Validation Accuracy: 0.791400\n",
      "Epoch 18, CIFAR-10 Batch 1:  Loss:     0.1078 Validation Accuracy: 0.808800\n",
      "Epoch 18, CIFAR-10 Batch 2:  Loss:     0.0777 Validation Accuracy: 0.801200\n",
      "Epoch 18, CIFAR-10 Batch 3:  Loss:     0.0617 Validation Accuracy: 0.787200\n",
      "Epoch 18, CIFAR-10 Batch 4:  Loss:     0.0639 Validation Accuracy: 0.805800\n",
      "Epoch 18, CIFAR-10 Batch 5:  Loss:     0.0593 Validation Accuracy: 0.785800\n",
      "Epoch 19, CIFAR-10 Batch 1:  Loss:     0.0980 Validation Accuracy: 0.800000\n",
      "Epoch 19, CIFAR-10 Batch 2:  Loss:     0.0857 Validation Accuracy: 0.793800\n",
      "Epoch 19, CIFAR-10 Batch 3:  Loss:     0.0593 Validation Accuracy: 0.811000\n",
      "Epoch 19, CIFAR-10 Batch 4:  Loss:     0.0722 Validation Accuracy: 0.802400\n",
      "Epoch 19, CIFAR-10 Batch 5:  Loss:     0.0513 Validation Accuracy: 0.794400\n",
      "Epoch 20, CIFAR-10 Batch 1:  Loss:     0.0925 Validation Accuracy: 0.809000\n",
      "Epoch 20, CIFAR-10 Batch 2:  Loss:     0.0757 Validation Accuracy: 0.801000\n",
      "Epoch 20, CIFAR-10 Batch 3:  Loss:     0.0485 Validation Accuracy: 0.815800\n",
      "Epoch 20, CIFAR-10 Batch 4:  Loss:     0.0513 Validation Accuracy: 0.810600\n",
      "Epoch 20, CIFAR-10 Batch 5:  Loss:     0.0419 Validation Accuracy: 0.804200\n",
      "Epoch 21, CIFAR-10 Batch 1:  Loss:     0.0840 Validation Accuracy: 0.824600\n",
      "Epoch 21, CIFAR-10 Batch 2:  Loss:     0.0546 Validation Accuracy: 0.812000\n",
      "Epoch 21, CIFAR-10 Batch 3:  Loss:     0.0279 Validation Accuracy: 0.817400\n",
      "Epoch 21, CIFAR-10 Batch 4:  Loss:     0.0554 Validation Accuracy: 0.802000\n",
      "Epoch 21, CIFAR-10 Batch 5:  Loss:     0.0301 Validation Accuracy: 0.808600\n",
      "Epoch 22, CIFAR-10 Batch 1:  Loss:     0.0838 Validation Accuracy: 0.814000\n",
      "Epoch 22, CIFAR-10 Batch 2:  Loss:     0.0465 Validation Accuracy: 0.807000\n",
      "Epoch 22, CIFAR-10 Batch 3:  Loss:     0.0277 Validation Accuracy: 0.812200\n",
      "Epoch 22, CIFAR-10 Batch 4:  Loss:     0.0508 Validation Accuracy: 0.805400\n",
      "Epoch 22, CIFAR-10 Batch 5:  Loss:     0.0362 Validation Accuracy: 0.808400\n",
      "Epoch 23, CIFAR-10 Batch 1:  Loss:     0.0774 Validation Accuracy: 0.819000\n",
      "Epoch 23, CIFAR-10 Batch 2:  Loss:     0.0418 Validation Accuracy: 0.806600\n",
      "Epoch 23, CIFAR-10 Batch 3:  Loss:     0.0233 Validation Accuracy: 0.803000\n",
      "Epoch 23, CIFAR-10 Batch 4:  Loss:     0.0393 Validation Accuracy: 0.809400\n",
      "Epoch 23, CIFAR-10 Batch 5:  Loss:     0.0311 Validation Accuracy: 0.806200\n",
      "Epoch 24, CIFAR-10 Batch 1:  Loss:     0.0616 Validation Accuracy: 0.814600\n",
      "Epoch 24, CIFAR-10 Batch 2:  Loss:     0.0681 Validation Accuracy: 0.805000\n",
      "Epoch 24, CIFAR-10 Batch 3:  Loss:     0.0218 Validation Accuracy: 0.819200\n",
      "Epoch 24, CIFAR-10 Batch 4:  Loss:     0.0455 Validation Accuracy: 0.795000\n",
      "Epoch 24, CIFAR-10 Batch 5:  Loss:     0.0367 Validation Accuracy: 0.789800\n",
      "Epoch 25, CIFAR-10 Batch 1:  Loss:     0.0591 Validation Accuracy: 0.815400\n",
      "Epoch 25, CIFAR-10 Batch 2:  Loss:     0.0367 Validation Accuracy: 0.804800\n",
      "Epoch 25, CIFAR-10 Batch 3:  Loss:     0.0302 Validation Accuracy: 0.815400\n",
      "Epoch 25, CIFAR-10 Batch 4:  Loss:     0.0464 Validation Accuracy: 0.808200\n",
      "Epoch 25, CIFAR-10 Batch 5:  Loss:     0.0367 Validation Accuracy: 0.814400\n",
      "Epoch 26, CIFAR-10 Batch 1:  Loss:     0.0418 Validation Accuracy: 0.817400\n",
      "Epoch 26, CIFAR-10 Batch 2:  Loss:     0.0386 Validation Accuracy: 0.805400\n",
      "Epoch 26, CIFAR-10 Batch 3:  Loss:     0.0376 Validation Accuracy: 0.801200\n",
      "Epoch 26, CIFAR-10 Batch 4:  Loss:     0.0183 Validation Accuracy: 0.822600\n",
      "Epoch 26, CIFAR-10 Batch 5:  Loss:     0.0297 Validation Accuracy: 0.804000\n",
      "Epoch 27, CIFAR-10 Batch 1:  Loss:     0.0491 Validation Accuracy: 0.811400\n",
      "Epoch 27, CIFAR-10 Batch 2:  Loss:     0.0475 Validation Accuracy: 0.805800\n",
      "Epoch 27, CIFAR-10 Batch 3:  Loss:     0.0175 Validation Accuracy: 0.819200\n",
      "Epoch 27, CIFAR-10 Batch 4:  Loss:     0.0280 Validation Accuracy: 0.813400\n",
      "Epoch 27, CIFAR-10 Batch 5:  Loss:     0.0199 Validation Accuracy: 0.813800\n",
      "Epoch 28, CIFAR-10 Batch 1:  Loss:     0.0463 Validation Accuracy: 0.816200\n",
      "Epoch 28, CIFAR-10 Batch 2:  Loss:     0.0459 Validation Accuracy: 0.803200\n",
      "Epoch 28, CIFAR-10 Batch 3:  Loss:     0.0129 Validation Accuracy: 0.816200\n",
      "Epoch 28, CIFAR-10 Batch 4:  Loss:     0.0298 Validation Accuracy: 0.821600\n",
      "Epoch 28, CIFAR-10 Batch 5:  Loss:     0.0152 Validation Accuracy: 0.814600\n",
      "Epoch 29, CIFAR-10 Batch 1:  Loss:     0.0329 Validation Accuracy: 0.817800\n",
      "Epoch 29, CIFAR-10 Batch 2:  Loss:     0.0365 Validation Accuracy: 0.815400\n",
      "Epoch 29, CIFAR-10 Batch 3:  Loss:     0.0230 Validation Accuracy: 0.810800\n",
      "Epoch 29, CIFAR-10 Batch 4:  Loss:     0.0187 Validation Accuracy: 0.816600\n",
      "Epoch 29, CIFAR-10 Batch 5:  Loss:     0.0162 Validation Accuracy: 0.806200\n",
      "Epoch 30, CIFAR-10 Batch 1:  Loss:     0.0365 Validation Accuracy: 0.817200\n",
      "Epoch 30, CIFAR-10 Batch 2:  Loss:     0.0206 Validation Accuracy: 0.814800\n",
      "Epoch 30, CIFAR-10 Batch 3:  Loss:     0.0263 Validation Accuracy: 0.799800\n",
      "Epoch 30, CIFAR-10 Batch 4:  Loss:     0.0355 Validation Accuracy: 0.808000\n",
      "Epoch 30, CIFAR-10 Batch 5:  Loss:     0.0214 Validation Accuracy: 0.803600\n"
     ]
    }
   ],
   "source": [
    "save_model_path = './image_classification'\n",
    "\n",
    "print('Training...')\n",
    "with tf.Session() as sess:\n",
    "    # Initializing the variables\n",
    "    sess.run(tf.global_variables_initializer())\n",
    "    \n",
    "    # Training cycle\n",
    "    for epoch in range(epochs):\n",
    "        # Loop over all batches\n",
    "        n_batches = 5\n",
    "        for batch_i in range(1, n_batches + 1):\n",
    "            \n",
    "            for batch_features, batch_labels in helper.load_preprocess_training_batch(batch_i, batch_size):\n",
    "                train_neural_network(sess, optimizer, keep_probability, batch_features, batch_labels)\n",
    "                batch_mean = np.mean(batch_features)\n",
    "                batch_std = np.std(batch_features)\n",
    "                batch_features = batch_features.astype(np.float32)\n",
    "                for ii in range(batch_features.shape[0]):\n",
    "                    batch_features[ii, :, :, :] = (batch_features[ii, :, :, :] - batch_mean) / batch_std \n",
    "            print('Epoch {:>2}, CIFAR-10 Batch {}:  '.format(epoch + 1, batch_i), end='')\n",
    "            print_stats(sess, batch_features, batch_labels, cost, accuracy)\n",
    "            \n",
    "    # Save Model\n",
    "    saver = tf.train.Saver()\n",
    "    save_path = saver.save(sess, save_model_path)"
   ]
  },
  {
   "cell_type": "markdown",
   "metadata": {},
   "source": [
    "## Test model"
   ]
  },
  {
   "cell_type": "code",
   "execution_count": 19,
   "metadata": {},
   "outputs": [
    {
     "name": "stdout",
     "output_type": "stream",
     "text": [
      "INFO:tensorflow:Restoring parameters from ./image_classification\n",
      "Testing Accuracy: 0.7952927215189873\n",
      "\n"
     ]
    },
    {
     "data": {
      "image/png": "[encoded data removed]",
      "text/plain": [
       "<matplotlib.figure.Figure at 0x1897f2becc0>"
      ]
     },
     "metadata": {
      "image/png": {
       "height": 319,
       "width": 355
      }
     },
     "output_type": "display_data"
    }
   ],
   "source": [
    "%matplotlib inline\n",
    "%config InlineBackend.figure_format = 'retina'\n",
    "\n",
    "import tensorflow as tf\n",
    "import pickle\n",
    "import helper\n",
    "import random\n",
    "\n",
    "batch_size = 128\n",
    "\n",
    "save_model_path = './image_classification'\n",
    "n_samples = 4\n",
    "top_n_predictions = 3\n",
    "\n",
    "def test_model():\n",
    "    \"\"\"\n",
    "    Test the saved model against the test dataset\n",
    "    \"\"\"\n",
    "    test_features, test_labels = pickle.load(open('preprocess_test.p', mode='rb'))\n",
    "    test_features = test_features.astype(np.float32)\n",
    "    batch_mean = np.mean(test_features)\n",
    "    batch_std = np.std(test_features)\n",
    "    for ii in range(test_features.shape[0]):\n",
    "        test_features[ii,:,:,:] = (test_features[ii,:,:,:] - batch_mean) / batch_std\n",
    "    \n",
    "    loaded_graph = tf.Graph()\n",
    "    \n",
    "    with tf.Session(graph=loaded_graph) as sess:\n",
    "        # Load model\n",
    "        loader = tf.train.import_meta_graph(save_model_path + '.meta')\n",
    "        loader.restore(sess, save_model_path)\n",
    "\n",
    "        # Get Tensors from loaded model\n",
    "        loaded_x = loaded_graph.get_tensor_by_name('x:0')\n",
    "        loaded_y = loaded_graph.get_tensor_by_name('y:0')\n",
    "        loaded_keep_prob = loaded_graph.get_tensor_by_name('keep_prob:0')\n",
    "        loaded_logits = loaded_graph.get_tensor_by_name('logits:0')\n",
    "        loaded_acc = loaded_graph.get_tensor_by_name('accuracy:0')\n",
    "        \n",
    "        # Get accuracy in batches for memory limitations\n",
    "        test_batch_acc_total = 0\n",
    "        test_batch_count = 0\n",
    "        \n",
    "        for test_feature_batch, test_label_batch in helper.batch_features_labels(test_features, test_labels, batch_size):\n",
    "            test_batch_acc_total += sess.run(loaded_acc,\n",
    "                feed_dict={loaded_x: test_feature_batch, loaded_y: test_label_batch, loaded_keep_prob: 1.0})\n",
    "            test_batch_count += 1\n",
    "\n",
    "        print('Testing Accuracy: {}\\n'.format(test_batch_acc_total/test_batch_count))\n",
    "\n",
    "        # Print Random Samples\n",
    "        random_test_features, random_test_labels = tuple(zip(*random.sample(list(zip(test_features, test_labels)), n_samples)))\n",
    "        random_test_predictions = sess.run(tf.nn.top_k(tf.nn.softmax(loaded_logits), top_n_predictions),\n",
    "            feed_dict={loaded_x: random_test_features, loaded_y: random_test_labels, loaded_keep_prob: 1.0})\n",
    "        helper.display_image_predictions(random_test_features, random_test_labels, random_test_predictions)\n",
    "\n",
    "test_model()"
   ]
  }
 ],
 "metadata": {
  "kernelspec": {
   "display_name": "Python [conda env:tf_1_2]",
   "language": "python",
   "name": "conda-env-tf_1_2-py"
  },
  "language_info": {
   "codemirror_mode": {
    "name": "ipython",
    "version": 3
   },
   "file_extension": ".py",
   "mimetype": "text/x-python",
   "name": "python",
   "nbconvert_exporter": "python",
   "pygments_lexer": "ipython3",
   "version": "3.5.3"
  }
 },
 "nbformat": 4,
 "nbformat_minor": 2
}
