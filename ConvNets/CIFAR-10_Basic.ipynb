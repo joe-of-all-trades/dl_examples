{
 "cells": [
  {
   "cell_type": "markdown",
   "metadata": {},
   "source": [
    "In this project, we'll build a simple convolutional neural network for CIFAR-10 image classification. Code contained in this project was based on Tensorflow 1.2.1 and python 3.5. "
   ]
  },
  {
   "cell_type": "code",
   "execution_count": 1,
   "metadata": {},
   "outputs": [],
   "source": [
    "from urllib.request import urlretrieve\n",
    "import time\n",
    "from os.path import isfile, isdir\n",
    "from tqdm import tqdm\n",
    "import tarfile\n",
    "import tensorflow as tf\n",
    "\n",
    "cifar10_dataset_folder_path = 'cifar-10-batches-py'\n",
    "tar_gz_path = 'cifar-10-python.tar.gz'\n",
    "\n",
    "class DLProgress(tqdm):\n",
    "    last_block = 0\n",
    "\n",
    "    def hook(self, block_num=1, block_size=1, total_size=None):\n",
    "        self.total = total_size\n",
    "        self.update((block_num - self.last_block) * block_size)\n",
    "        self.last_block = block_num\n",
    "\n",
    "if not isfile(tar_gz_path):\n",
    "    with DLProgress(unit='B', unit_scale=True, miniters=1, desc='CIFAR-10 Dataset') as pbar:\n",
    "        urlretrieve(\n",
    "            'https://www.cs.toronto.edu/~kriz/cifar-10-python.tar.gz',\n",
    "            tar_gz_path,\n",
    "            pbar.hook)\n",
    "\n",
    "if not isdir(cifar10_dataset_folder_path):\n",
    "    with tarfile.open(tar_gz_path) as tar:\n",
    "        tar.extractall()\n",
    "        tar.close()"
   ]
  },
  {
   "cell_type": "code",
   "execution_count": 2,
   "metadata": {},
   "outputs": [
    {
     "name": "stdout",
     "output_type": "stream",
     "text": [
      "\n",
      "Stats of batch 1:\n",
      "Samples: 10000\n",
      "Label Counts: {0: 1005, 1: 974, 2: 1032, 3: 1016, 4: 999, 5: 937, 6: 1030, 7: 1001, 8: 1025, 9: 981}\n",
      "First 20 Labels: [6, 9, 9, 4, 1, 1, 2, 7, 8, 3, 4, 7, 7, 2, 9, 9, 9, 3, 2, 6]\n",
      "\n",
      "Example of Image 6:\n",
      "Image - Min Value: 7 Max Value: 249\n",
      "Image - Shape: (32, 32, 3)\n",
      "Label - Label Id: 2 Name: bird\n"
     ]
    },
    {
     "data": {
      "image/png": "[encoded data removed]",
      "text/plain": [
       "<matplotlib.figure.Figure at 0x24cd7099278>"
      ]
     },
     "metadata": {
      "image/png": {
       "height": 250,
       "width": 253
      }
     },
     "output_type": "display_data"
    }
   ],
   "source": [
    "%matplotlib inline\n",
    "%config InlineBackend.figure_format = 'retina'\n",
    "\n",
    "import helper\n",
    "import numpy as np\n",
    "\n",
    "# Explore the dataset\n",
    "batch_id = 1\n",
    "sample_id = 6\n",
    "helper.display_stats(cifar10_dataset_folder_path, batch_id, sample_id)"
   ]
  },
  {
   "cell_type": "markdown",
   "metadata": {},
   "source": [
    "# Preprocess Data\n",
    "\n",
    "## Normalize"
   ]
  },
  {
   "cell_type": "code",
   "execution_count": 3,
   "metadata": {},
   "outputs": [],
   "source": [
    "def normalize(x):\n",
    "    \"\"\"\n",
    "    Normalize a list of sample image data in the range of 0 to 1\n",
    "    : x: List of image data.  The image shape is (32, 32, 3)\n",
    "    : return: Numpy array of normalize data\n",
    "    \"\"\"\n",
    "    return ( x - x.min() ) / ( x.max() - x.min() )"
   ]
  },
  {
   "cell_type": "markdown",
   "metadata": {},
   "source": [
    "## One hot encode"
   ]
  },
  {
   "cell_type": "code",
   "execution_count": 4,
   "metadata": {},
   "outputs": [],
   "source": [
    "def one_hot_encode(x):\n",
    "    \"\"\"\n",
    "    One hot encode a list of sample labels. Return a one-hot encoded vector for each label.\n",
    "    : x: List of sample Labels\n",
    "    : return: Numpy array of one-hot encoded labels\n",
    "    \"\"\"\n",
    "    output = np.zeros([len(x), 10])\n",
    "    for idx, item in enumerate(x):\n",
    "        output[idx, item] = 1\n",
    "    return output"
   ]
  },
  {
   "cell_type": "markdown",
   "metadata": {},
   "source": [
    "This above function is equivalent to tf.one_hot(x, 10), but tensorflow module can not be pickled so we're sticking with the above implementation."
   ]
  },
  {
   "cell_type": "markdown",
   "metadata": {},
   "source": [
    "## Preprocess Data\n",
    "We will randomly shuffle the data, normalize them and save them in binary format."
   ]
  },
  {
   "cell_type": "code",
   "execution_count": 5,
   "metadata": {},
   "outputs": [],
   "source": [
    "import tensorflow as tf\n",
    "# Preprocess Training, Validation, and Testing Data\n",
    "helper.preprocess_and_save_data(cifar10_dataset_folder_path, one_hot_encode)"
   ]
  },
  {
   "cell_type": "markdown",
   "metadata": {},
   "source": [
    "# Checkpoint\n",
    "The above work is all saved so when we're revisiting this notebook we don't have to do those work again. We can start from here."
   ]
  },
  {
   "cell_type": "code",
   "execution_count": 6,
   "metadata": {},
   "outputs": [],
   "source": [
    "import pickle\n",
    "import helper\n",
    "\n",
    "valid_features, valid_labels = pickle.load(open('preprocess_validation.p', mode='rb'))\n",
    "batch_mean = np.mean(valid_features)\n",
    "batch_std = np.std(valid_features)\n",
    "valid_features = valid_features.astype(np.float32)\n",
    "for ii in range(valid_features.shape[0]):\n",
    "    valid_features[ii, :, :, :] = (valid_features[ii, :, :, :] - batch_mean) / batch_std"
   ]
  },
  {
   "cell_type": "markdown",
   "metadata": {},
   "source": [
    "# Building the network"
   ]
  },
  {
   "cell_type": "markdown",
   "metadata": {},
   "source": [
    "## Defining input"
   ]
  },
  {
   "cell_type": "code",
   "execution_count": 7,
   "metadata": {},
   "outputs": [],
   "source": [
    "import tensorflow as tf\n",
    "\n",
    "def neural_net_image_input(image_shape):\n",
    "    \"\"\"\n",
    "    Return a Tensor for a batch of image input\n",
    "    : image_shape: Shape of the images\n",
    "    \"\"\"\n",
    "    return tf.placeholder(tf.float32, [None, image_shape[0], image_shape[1], image_shape[2]], \"x\")\n",
    "\n",
    "\n",
    "def neural_net_label_input(n_classes):\n",
    "    \"\"\"\n",
    "    Return a Tensor for a batch of label input\n",
    "    : n_classes: Number of classes\n",
    "    \"\"\"\n",
    "    return tf.placeholder(tf.float32, [None, n_classes], \"y\")\n",
    "\n",
    "\n",
    "def neural_net_keep_prob_input():\n",
    "    \"\"\"\n",
    "    Return a Tensor for keep probability\n",
    "    \"\"\"\n",
    "    return tf.placeholder(tf.float32, None, \"keep_prob\")"
   ]
  },
  {
   "cell_type": "markdown",
   "metadata": {},
   "source": [
    "## Convolution and maxpool layer"
   ]
  },
  {
   "cell_type": "code",
   "execution_count": 8,
   "metadata": {},
   "outputs": [],
   "source": [
    "def conv2d(x_tensor, conv_num_outputs, conv_ksize, conv_strides):\n",
    "    \"\"\"\n",
    "    Apply convolution to x_tensor\n",
    "    :param x_tensor: TensorFlow Tensor\n",
    "    :param conv_num_outputs: Number of outputs for the convolutional layer\n",
    "    :param conv_ksize: kernal size 2-D Tuple for the convolutional layer\n",
    "    :param conv_strides: Stride 2-D Tuple for convolution\n",
    "    : return: A tensor that represents convolution and max pooling of x_tensor\n",
    "    \"\"\"\n",
    "    w = tf.get_variable(\"w\", shape=[conv_ksize[0], conv_ksize[1], x_tensor.get_shape().as_list()[3], conv_num_outputs],\n",
    "                         initializer=tf.contrib.layers.xavier_initializer())\n",
    "    \n",
    "    b = tf.Variable(tf.truncated_normal([conv_num_outputs], mean=0.0, stddev=0.1, dtype=tf.float32))\n",
    "    \n",
    "    wc = tf.nn.conv2d(x_tensor, w, strides=[1, conv_strides[0], conv_strides[1], 1], padding='SAME')\n",
    "    z = tf.nn.bias_add(wc, b)\n",
    "    \n",
    "    return tf.nn.relu(z)\n"
   ]
  },
  {
   "cell_type": "markdown",
   "metadata": {},
   "source": [
    "## Flatten layer\n",
    "Implement the flatten function to change the dimension of x_tensor from a 4-D tensor to a 2-D tensor. The output should be the shape (Batch Size, Flattened Image Size). Shortcut option: you can use classes from the TensorFlow Layers or TensorFlow Layers (contrib) packages for this layer. For more of a challenge, only use other TensorFlow packages."
   ]
  },
  {
   "cell_type": "code",
   "execution_count": 9,
   "metadata": {},
   "outputs": [],
   "source": [
    "def flatten(x_tensor):\n",
    "    \"\"\"\n",
    "    Flatten x_tensor to (Batch Size, Flattened Image Size)\n",
    "    : x_tensor: A tensor of size (Batch Size, ...), where ... are the image dimensions.\n",
    "    : return: A tensor of size (Batch Size, Flattened Image Size).\n",
    "    \"\"\"\n",
    "    # reference : https://github.com/tensorflow/tensorflow/issues/7253\n",
    "    return tf.reshape(x_tensor, [tf.shape(x_tensor)[0], np.prod(x_tensor.get_shape().as_list()[1:])])\n",
    "    \n",
    "    # This also works\n",
    "    #return tf.reshape(x_tensor, [-1, np.prod(x_tensor.shape[1:]).value])"
   ]
  },
  {
   "cell_type": "markdown",
   "metadata": {},
   "source": [
    "## Fully connected layer"
   ]
  },
  {
   "cell_type": "code",
   "execution_count": 10,
   "metadata": {},
   "outputs": [],
   "source": [
    "def fully_conn(x_tensor, num_outputs):\n",
    "    \"\"\"\n",
    "    Apply a fully connected layer to x_tensor using weight and bias\n",
    "    : x_tensor: A 2-D tensor where the first dimension is batch size.\n",
    "    : num_outputs: The number of output that the new tensor should be.\n",
    "    : return: A 2-D tensor where the second dimension is num_outputs.\n",
    "    \"\"\"\n",
    "    fc = tf.reshape(x_tensor, [-1, np.prod(x_tensor.get_shape().as_list()[1:])])\n",
    "    \n",
    "    w = tf.get_variable(\"w\", shape=[np.prod(x_tensor.get_shape().as_list()[1:]), num_outputs],\n",
    "                         initializer=tf.contrib.layers.xavier_initializer())\n",
    "    \n",
    "    b = tf.Variable(tf.truncated_normal([num_outputs],mean=0.0, stddev=0.1, dtype=tf.float32))\n",
    "    z = tf.add(tf.matmul(fc, w), b)\n",
    "    \n",
    "    return tf.nn.relu(z)"
   ]
  },
  {
   "cell_type": "markdown",
   "metadata": {},
   "source": [
    "## Output layer"
   ]
  },
  {
   "cell_type": "code",
   "execution_count": 11,
   "metadata": {},
   "outputs": [],
   "source": [
    "def output(x_tensor, num_outputs):\n",
    "    \"\"\"\n",
    "    Apply a output layer to x_tensor using weight and bias\n",
    "    : x_tensor: A 2-D tensor where the first dimension is batch size.\n",
    "    : num_outputs: The number of output that the new tensor should be.\n",
    "    : return: A 2-D tensor where the second dimension is num_outputs.\n",
    "    \"\"\"\n",
    "    w = tf.get_variable(\"w\", shape=[np.prod(x_tensor.get_shape().as_list()[1:]), num_outputs],\n",
    "                         initializer=tf.contrib.layers.xavier_initializer())\n",
    "    \n",
    "    b = tf.Variable(tf.truncated_normal([num_outputs],mean=0.0, stddev=0.1, dtype=tf.float32))\n",
    "    return tf.add(tf.matmul(x_tensor, w), b)\n"
   ]
  },
  {
   "cell_type": "markdown",
   "metadata": {},
   "source": [
    "## Create the convolutional neural network model"
   ]
  },
  {
   "cell_type": "code",
   "execution_count": 12,
   "metadata": {},
   "outputs": [],
   "source": [
    "def conv_net(x, keep_prob):\n",
    "    \"\"\"\n",
    "    Create a convolutional neural network model\n",
    "    : x: Placeholder tensor that holds image data.\n",
    "    : keep_prob: Placeholder tensor that hold dropout keep probability.\n",
    "    : return: Tensor that represents logits\n",
    "    \"\"\"\n",
    "    # Convolution and maxpooling layers\n",
    "    with tf.variable_scope(\"conv1\"):\n",
    "        conv1 = conv2d(x, 40, (3, 3), (1, 1))\n",
    "        \n",
    "    with tf.variable_scope(\"conv2\"):\n",
    "        conv2 = conv2d(conv1, 80, (3, 3), (1, 1))\n",
    "    conv2 = tf.nn.max_pool(conv2, ksize=[1, 2, 2, 1], strides=[1, 2, 2, 1], padding='SAME')\n",
    "    conv2 = tf.nn.dropout(conv2, keep_prob)\n",
    "    \n",
    "    with tf.variable_scope(\"conv3\"):\n",
    "        conv3 = conv2d(conv2, 160, (3, 3), (1, 1))\n",
    "    \n",
    "    with tf.variable_scope(\"conv4\"):\n",
    "        conv4 = conv2d(conv3, 320, (3, 3), (1, 1))\n",
    "    conv4 = tf.nn.max_pool(conv4, ksize=[1, 2, 2, 1], strides=[1, 2, 2, 1], padding='SAME')\n",
    "    conv4 = tf.nn.dropout(conv4, keep_prob)\n",
    "    \n",
    "    # Flatten Layer\n",
    "    f = flatten(conv4)\n",
    "\n",
    "    # Fully Connected layers\n",
    "    with tf.variable_scope(\"fc1\"):\n",
    "        fc1 = fully_conn(f, 512)\n",
    "        fc1 = tf.nn.dropout(fc1, keep_prob)\n",
    "    with tf.variable_scope(\"fc2\"):\n",
    "        fc2 = fully_conn(fc1, 256)\n",
    "        fc2 = tf.nn.dropout(fc2, keep_prob)\n",
    "    \n",
    "    # Output Layer\n",
    "    with tf.variable_scope(\"out\"):\n",
    "        o = output(fc2, 10)\n",
    "    \n",
    "    # TODO: return output\n",
    "    return o"
   ]
  },
  {
   "cell_type": "markdown",
   "metadata": {},
   "source": [
    "## Build the network"
   ]
  },
  {
   "cell_type": "code",
   "execution_count": 13,
   "metadata": {},
   "outputs": [],
   "source": [
    "tf.reset_default_graph()\n",
    "\n",
    "# Inputs\n",
    "x = neural_net_image_input((32, 32, 3))\n",
    "y = neural_net_label_input(10)\n",
    "keep_prob = neural_net_keep_prob_input()\n",
    "\n",
    "# Model\n",
    "logits = conv_net(x, keep_prob)\n",
    "\n",
    "# Name logits Tensor, so that is can be loaded from disk after training\n",
    "logits = tf.identity(logits, name='logits')\n",
    "\n",
    "# Loss and Optimizer\n",
    "cost = tf.reduce_mean(tf.nn.softmax_cross_entropy_with_logits(logits=logits, labels=y))\n",
    "optimizer = tf.train.AdamOptimizer(epsilon=1e-04).minimize(cost)\n",
    "\n",
    "# Accuracy\n",
    "correct_pred = tf.equal(tf.argmax(logits, 1), tf.argmax(y, 1))\n",
    "accuracy = tf.reduce_mean(tf.cast(correct_pred, tf.float32), name='accuracy')"
   ]
  },
  {
   "cell_type": "markdown",
   "metadata": {},
   "source": [
    "## Train network"
   ]
  },
  {
   "cell_type": "code",
   "execution_count": 14,
   "metadata": {},
   "outputs": [],
   "source": [
    "def train_neural_network(session, optimizer, keep_probability, feature_batch, label_batch):\n",
    "    \"\"\"\n",
    "    Optimize the session on a batch of images and labels\n",
    "    \"\"\"\n",
    "    session.run(optimizer, feed_dict={x: feature_batch, y: label_batch, keep_prob: keep_probability})"
   ]
  },
  {
   "cell_type": "markdown",
   "metadata": {},
   "source": [
    "## Print Stats\n",
    "It's important to evaluate the performance of model once in a while. If effect, we're feeding a small batch of data to the neural network through forward propagation and then caculate the accuracy of prediction. We don't want to do this too often as this slows down the overall process. It's important to keep in mind that since we're actually using the model for prediction but not training it, we need to set keep probability for dropout to 1 so we're not losing any connection between neurons. "
   ]
  },
  {
   "cell_type": "code",
   "execution_count": 15,
   "metadata": {},
   "outputs": [],
   "source": [
    "def print_stats(session, feature_batch, label_batch, cost, accuracy):\n",
    "    \"\"\"\n",
    "    Print information about loss and validation accuracy\n",
    "    \"\"\"\n",
    "    loss = session.run(cost, feed_dict={x: feature_batch, y: label_batch, keep_prob: 1.})\n",
    "    \n",
    "    valid_batch_acc_total = 0\n",
    "    valid_batch_count = 0\n",
    "        \n",
    "    for valid_feature_batch, valid_label_batch in helper.batch_features_labels(valid_features, valid_labels, valid_batch_size):\n",
    "        valid_batch_acc_total += sess.run(accuracy,\n",
    "                feed_dict={x: valid_feature_batch, y: valid_label_batch, keep_prob: 1.})\n",
    "        valid_batch_count += 1\n",
    "    \n",
    "    #valid_acc = session.run(accuracy, feed_dict={x: valid_features, y: valid_labels, keep_prob: 1.})\n",
    "    print('Loss: {:>10.4f} Validation Accuracy: {:.6f}'.format(loss, valid_batch_acc_total/valid_batch_count))"
   ]
  },
  {
   "cell_type": "markdown",
   "metadata": {},
   "source": [
    "## Hyperparameters"
   ]
  },
  {
   "cell_type": "code",
   "execution_count": 16,
   "metadata": {},
   "outputs": [],
   "source": [
    "epochs = 30\n",
    "batch_size = 128\n",
    "valid_batch_size = 512\n",
    "keep_probability = 0.5"
   ]
  },
  {
   "cell_type": "markdown",
   "metadata": {},
   "source": [
    "## Train on a single CIFAR-10 batch"
   ]
  },
  {
   "cell_type": "code",
   "execution_count": 17,
   "metadata": {},
   "outputs": [
    {
     "name": "stdout",
     "output_type": "stream",
     "text": [
      "Checking the Training on a Single Batch...\n",
      "Epoch  1, CIFAR-10 Batch 1:  Loss:     1.8290 Validation Accuracy: 0.285248\n",
      "Epoch  2, CIFAR-10 Batch 1:  Loss:     1.2872 Validation Accuracy: 0.419762\n",
      "Epoch  3, CIFAR-10 Batch 1:  Loss:     1.3796 Validation Accuracy: 0.451148\n",
      "Epoch  4, CIFAR-10 Batch 1:  Loss:     1.3182 Validation Accuracy: 0.482286\n",
      "Epoch  5, CIFAR-10 Batch 1:  Loss:     1.0512 Validation Accuracy: 0.533813\n",
      "Epoch  6, CIFAR-10 Batch 1:  Loss:     1.3431 Validation Accuracy: 0.542602\n",
      "Epoch  7, CIFAR-10 Batch 1:  Loss:     0.8127 Validation Accuracy: 0.577412\n",
      "Epoch  8, CIFAR-10 Batch 1:  Loss:     0.8658 Validation Accuracy: 0.589756\n",
      "Epoch  9, CIFAR-10 Batch 1:  Loss:     0.7526 Validation Accuracy: 0.607633\n",
      "Epoch 10, CIFAR-10 Batch 1:  Loss:     0.6036 Validation Accuracy: 0.612488\n",
      "Epoch 11, CIFAR-10 Batch 1:  Loss:     0.4804 Validation Accuracy: 0.623302\n",
      "Epoch 12, CIFAR-10 Batch 1:  Loss:     0.3986 Validation Accuracy: 0.636643\n",
      "Epoch 13, CIFAR-10 Batch 1:  Loss:     0.4882 Validation Accuracy: 0.651124\n",
      "Epoch 14, CIFAR-10 Batch 1:  Loss:     0.6086 Validation Accuracy: 0.658215\n",
      "Epoch 15, CIFAR-10 Batch 1:  Loss:     0.4422 Validation Accuracy: 0.663022\n",
      "Epoch 16, CIFAR-10 Batch 1:  Loss:     0.3426 Validation Accuracy: 0.668475\n",
      "Epoch 17, CIFAR-10 Batch 1:  Loss:     0.2055 Validation Accuracy: 0.679668\n",
      "Epoch 18, CIFAR-10 Batch 1:  Loss:     0.2316 Validation Accuracy: 0.675387\n",
      "Epoch 19, CIFAR-10 Batch 1:  Loss:     0.2544 Validation Accuracy: 0.674653\n",
      "Epoch 20, CIFAR-10 Batch 1:  Loss:     0.1564 Validation Accuracy: 0.683454\n",
      "Epoch 21, CIFAR-10 Batch 1:  Loss:     0.0600 Validation Accuracy: 0.687899\n",
      "Epoch 22, CIFAR-10 Batch 1:  Loss:     0.1224 Validation Accuracy: 0.678691\n",
      "Epoch 23, CIFAR-10 Batch 1:  Loss:     0.0883 Validation Accuracy: 0.694436\n",
      "Epoch 24, CIFAR-10 Batch 1:  Loss:     0.0977 Validation Accuracy: 0.694240\n",
      "Epoch 25, CIFAR-10 Batch 1:  Loss:     0.0724 Validation Accuracy: 0.690589\n",
      "Epoch 26, CIFAR-10 Batch 1:  Loss:     0.0612 Validation Accuracy: 0.702081\n",
      "Epoch 27, CIFAR-10 Batch 1:  Loss:     0.1111 Validation Accuracy: 0.695245\n",
      "Epoch 28, CIFAR-10 Batch 1:  Loss:     0.0628 Validation Accuracy: 0.689385\n",
      "Epoch 29, CIFAR-10 Batch 1:  Loss:     0.0372 Validation Accuracy: 0.693742\n",
      "Epoch 30, CIFAR-10 Batch 1:  Loss:     0.0340 Validation Accuracy: 0.699255\n",
      "total took:220.8125 seconds\n"
     ]
    }
   ],
   "source": [
    "t1 = time.time()\n",
    "t = 0\n",
    "c = 0\n",
    "print('Checking the Training on a Single Batch...')\n",
    "with tf.Session() as sess:\n",
    "    sess.run(tf.global_variables_initializer())\n",
    "    \n",
    "    # Training cycle\n",
    "    for epoch in range(epochs):\n",
    "        batch_i = 1\n",
    "        for batch_features, batch_labels in helper.load_preprocess_training_batch(batch_i, batch_size):\n",
    "            batch_mean = np.mean(batch_features)\n",
    "            batch_std = np.std(batch_features)\n",
    "            batch_features = batch_features.astype(np.float32)\n",
    "            for ii in range(batch_features.shape[0]):\n",
    "                batch_features[ii, :, :, :] = (batch_features[ii, :, :, :] - batch_mean) / batch_std  \n",
    "            start = time.time()\n",
    "            train_neural_network(sess, optimizer, keep_probability, batch_features, batch_labels)\n",
    "            end = time.time()\n",
    "            t = t + end-start\n",
    "            c += 1\n",
    "            #print('training one batch took: {:0.4f} seconds'.format(end-start))\n",
    "        print('Epoch {:>2}, CIFAR-10 Batch {}:  '.format(epoch + 1, batch_i), end='')\n",
    "        print_stats(sess, batch_features, batch_labels, cost, accuracy)\n",
    "t2 = time.time()\n",
    "print('total took:{:0.4f} seconds'.format(t2-t1))"
   ]
  },
  {
   "cell_type": "code",
   "execution_count": 18,
   "metadata": {},
   "outputs": [
    {
     "data": {
      "text/plain": [
       "0.08465988143508983"
      ]
     },
     "execution_count": 18,
     "metadata": {},
     "output_type": "execute_result"
    }
   ],
   "source": [
    "t / c"
   ]
  },
  {
   "cell_type": "markdown",
   "metadata": {},
   "source": [
    "## Fully train the model"
   ]
  },
  {
   "cell_type": "code",
   "execution_count": 19,
   "metadata": {},
   "outputs": [
    {
     "name": "stdout",
     "output_type": "stream",
     "text": [
      "Training...\n",
      "Epoch  1, CIFAR-10 Batch 1:  Loss:     1.8170 Validation Accuracy: 0.269232\n",
      "Epoch  1, CIFAR-10 Batch 2:  Loss:     1.5681 Validation Accuracy: 0.397469\n",
      "Epoch  1, CIFAR-10 Batch 3:  Loss:     1.3325 Validation Accuracy: 0.455772\n",
      "Epoch  1, CIFAR-10 Batch 4:  Loss:     1.1531 Validation Accuracy: 0.471169\n",
      "Epoch  1, CIFAR-10 Batch 5:  Loss:     1.2311 Validation Accuracy: 0.541924\n",
      "Epoch  2, CIFAR-10 Batch 1:  Loss:     1.3407 Validation Accuracy: 0.566578\n",
      "Epoch  2, CIFAR-10 Batch 2:  Loss:     0.9250 Validation Accuracy: 0.580684\n",
      "Epoch  2, CIFAR-10 Batch 3:  Loss:     1.1193 Validation Accuracy: 0.604747\n",
      "Epoch  2, CIFAR-10 Batch 4:  Loss:     1.0015 Validation Accuracy: 0.625554\n",
      "Epoch  2, CIFAR-10 Batch 5:  Loss:     0.9838 Validation Accuracy: 0.640637\n",
      "Epoch  3, CIFAR-10 Batch 1:  Loss:     0.8293 Validation Accuracy: 0.637241\n",
      "Epoch  3, CIFAR-10 Batch 2:  Loss:     0.7270 Validation Accuracy: 0.669029\n",
      "Epoch  3, CIFAR-10 Batch 3:  Loss:     0.8224 Validation Accuracy: 0.675582\n",
      "Epoch  3, CIFAR-10 Batch 4:  Loss:     0.6012 Validation Accuracy: 0.703145\n",
      "Epoch  3, CIFAR-10 Batch 5:  Loss:     0.7648 Validation Accuracy: 0.678930\n",
      "Epoch  4, CIFAR-10 Batch 1:  Loss:     0.9564 Validation Accuracy: 0.692467\n",
      "Epoch  4, CIFAR-10 Batch 2:  Loss:     0.4291 Validation Accuracy: 0.702348\n",
      "Epoch  4, CIFAR-10 Batch 3:  Loss:     0.8300 Validation Accuracy: 0.703834\n",
      "Epoch  4, CIFAR-10 Batch 4:  Loss:     0.7615 Validation Accuracy: 0.694296\n",
      "Epoch  4, CIFAR-10 Batch 5:  Loss:     0.6461 Validation Accuracy: 0.720962\n",
      "Epoch  5, CIFAR-10 Batch 1:  Loss:     0.7976 Validation Accuracy: 0.723860\n",
      "Epoch  5, CIFAR-10 Batch 2:  Loss:     0.7128 Validation Accuracy: 0.740354\n",
      "Epoch  5, CIFAR-10 Batch 3:  Loss:     0.5132 Validation Accuracy: 0.739138\n",
      "Epoch  5, CIFAR-10 Batch 4:  Loss:     0.8348 Validation Accuracy: 0.739800\n",
      "Epoch  5, CIFAR-10 Batch 5:  Loss:     0.6994 Validation Accuracy: 0.752356\n",
      "Epoch  6, CIFAR-10 Batch 1:  Loss:     0.6241 Validation Accuracy: 0.756967\n",
      "Epoch  6, CIFAR-10 Batch 2:  Loss:     0.4700 Validation Accuracy: 0.738026\n",
      "Epoch  6, CIFAR-10 Batch 3:  Loss:     0.4194 Validation Accuracy: 0.751172\n",
      "Epoch  6, CIFAR-10 Batch 4:  Loss:     0.6518 Validation Accuracy: 0.749518\n",
      "Epoch  6, CIFAR-10 Batch 5:  Loss:     0.4547 Validation Accuracy: 0.753468\n",
      "Epoch  7, CIFAR-10 Batch 1:  Loss:     0.5497 Validation Accuracy: 0.768431\n",
      "Epoch  7, CIFAR-10 Batch 2:  Loss:     0.5015 Validation Accuracy: 0.769723\n",
      "Epoch  7, CIFAR-10 Batch 3:  Loss:     0.5928 Validation Accuracy: 0.771421\n",
      "Epoch  7, CIFAR-10 Batch 4:  Loss:     0.4776 Validation Accuracy: 0.772923\n",
      "Epoch  7, CIFAR-10 Batch 5:  Loss:     0.3510 Validation Accuracy: 0.761595\n",
      "Epoch  8, CIFAR-10 Batch 1:  Loss:     0.6743 Validation Accuracy: 0.765637\n",
      "Epoch  8, CIFAR-10 Batch 2:  Loss:     0.4938 Validation Accuracy: 0.784323\n",
      "Epoch  8, CIFAR-10 Batch 3:  Loss:     0.4614 Validation Accuracy: 0.768794\n",
      "Epoch  8, CIFAR-10 Batch 4:  Loss:     0.4648 Validation Accuracy: 0.771963\n",
      "Epoch  8, CIFAR-10 Batch 5:  Loss:     0.4723 Validation Accuracy: 0.771329\n",
      "Epoch  9, CIFAR-10 Batch 1:  Loss:     0.4270 Validation Accuracy: 0.785555\n",
      "Epoch  9, CIFAR-10 Batch 2:  Loss:     0.2720 Validation Accuracy: 0.782191\n",
      "Epoch  9, CIFAR-10 Batch 3:  Loss:     0.3873 Validation Accuracy: 0.782147\n",
      "Epoch  9, CIFAR-10 Batch 4:  Loss:     0.4521 Validation Accuracy: 0.795500\n",
      "Epoch  9, CIFAR-10 Batch 5:  Loss:     0.3751 Validation Accuracy: 0.773629\n",
      "Epoch 10, CIFAR-10 Batch 1:  Loss:     0.2973 Validation Accuracy: 0.783889\n",
      "Epoch 10, CIFAR-10 Batch 2:  Loss:     0.4210 Validation Accuracy: 0.796704\n",
      "Epoch 10, CIFAR-10 Batch 3:  Loss:     0.4224 Validation Accuracy: 0.795022\n",
      "Epoch 10, CIFAR-10 Batch 4:  Loss:     0.4922 Validation Accuracy: 0.787552\n",
      "Epoch 10, CIFAR-10 Batch 5:  Loss:     0.2183 Validation Accuracy: 0.794224\n",
      "Epoch 11, CIFAR-10 Batch 1:  Loss:     0.5137 Validation Accuracy: 0.798792\n",
      "Epoch 11, CIFAR-10 Batch 2:  Loss:     0.4069 Validation Accuracy: 0.799167\n",
      "Epoch 11, CIFAR-10 Batch 3:  Loss:     0.3942 Validation Accuracy: 0.782071\n",
      "Epoch 11, CIFAR-10 Batch 4:  Loss:     0.2183 Validation Accuracy: 0.787404\n",
      "Epoch 11, CIFAR-10 Batch 5:  Loss:     0.3976 Validation Accuracy: 0.790904\n",
      "Epoch 12, CIFAR-10 Batch 1:  Loss:     0.1936 Validation Accuracy: 0.801000\n",
      "Epoch 12, CIFAR-10 Batch 2:  Loss:     0.2654 Validation Accuracy: 0.800518\n",
      "Epoch 12, CIFAR-10 Batch 3:  Loss:     0.3152 Validation Accuracy: 0.797860\n",
      "Epoch 12, CIFAR-10 Batch 4:  Loss:     0.2522 Validation Accuracy: 0.804349\n",
      "Epoch 12, CIFAR-10 Batch 5:  Loss:     0.2901 Validation Accuracy: 0.804994\n",
      "Epoch 13, CIFAR-10 Batch 1:  Loss:     0.2464 Validation Accuracy: 0.801993\n",
      "Epoch 13, CIFAR-10 Batch 2:  Loss:     0.3109 Validation Accuracy: 0.809909\n",
      "Epoch 13, CIFAR-10 Batch 3:  Loss:     0.2162 Validation Accuracy: 0.799075\n",
      "Epoch 13, CIFAR-10 Batch 4:  Loss:     0.1458 Validation Accuracy: 0.794870\n",
      "Epoch 13, CIFAR-10 Batch 5:  Loss:     0.2748 Validation Accuracy: 0.795065\n",
      "Epoch 14, CIFAR-10 Batch 1:  Loss:     0.3220 Validation Accuracy: 0.800084\n",
      "Epoch 14, CIFAR-10 Batch 2:  Loss:     0.2938 Validation Accuracy: 0.804935\n",
      "Epoch 14, CIFAR-10 Batch 3:  Loss:     0.2333 Validation Accuracy: 0.794675\n",
      "Epoch 14, CIFAR-10 Batch 4:  Loss:     0.1973 Validation Accuracy: 0.815119\n",
      "Epoch 14, CIFAR-10 Batch 5:  Loss:     0.1707 Validation Accuracy: 0.800638\n",
      "Epoch 15, CIFAR-10 Batch 1:  Loss:     0.4303 Validation Accuracy: 0.804680\n",
      "Epoch 15, CIFAR-10 Batch 2:  Loss:     0.3568 Validation Accuracy: 0.797154\n",
      "Epoch 15, CIFAR-10 Batch 3:  Loss:     0.2457 Validation Accuracy: 0.814429\n",
      "Epoch 15, CIFAR-10 Batch 4:  Loss:     0.3141 Validation Accuracy: 0.813855\n",
      "Epoch 15, CIFAR-10 Batch 5:  Loss:     0.2742 Validation Accuracy: 0.823186\n",
      "Epoch 16, CIFAR-10 Batch 1:  Loss:     0.2432 Validation Accuracy: 0.812612\n",
      "Epoch 16, CIFAR-10 Batch 2:  Loss:     0.2353 Validation Accuracy: 0.806589\n",
      "Epoch 16, CIFAR-10 Batch 3:  Loss:     0.4725 Validation Accuracy: 0.817690\n",
      "Epoch 16, CIFAR-10 Batch 4:  Loss:     0.2355 Validation Accuracy: 0.807968\n",
      "Epoch 16, CIFAR-10 Batch 5:  Loss:     0.1487 Validation Accuracy: 0.809546\n",
      "Epoch 17, CIFAR-10 Batch 1:  Loss:     0.1252 Validation Accuracy: 0.818678\n",
      "Epoch 17, CIFAR-10 Batch 2:  Loss:     0.1293 Validation Accuracy: 0.812911\n",
      "Epoch 17, CIFAR-10 Batch 3:  Loss:     0.3337 Validation Accuracy: 0.805265\n",
      "Epoch 17, CIFAR-10 Batch 4:  Loss:     0.1863 Validation Accuracy: 0.817490\n",
      "Epoch 17, CIFAR-10 Batch 5:  Loss:     0.2645 Validation Accuracy: 0.821504\n",
      "Epoch 18, CIFAR-10 Batch 1:  Loss:     0.2812 Validation Accuracy: 0.823653\n",
      "Epoch 18, CIFAR-10 Batch 2:  Loss:     0.1313 Validation Accuracy: 0.813421\n",
      "Epoch 18, CIFAR-10 Batch 3:  Loss:     0.3131 Validation Accuracy: 0.809634\n",
      "Epoch 18, CIFAR-10 Batch 4:  Loss:     0.1495 Validation Accuracy: 0.813827\n",
      "Epoch 18, CIFAR-10 Batch 5:  Loss:     0.1844 Validation Accuracy: 0.817506\n",
      "Epoch 19, CIFAR-10 Batch 1:  Loss:     0.2251 Validation Accuracy: 0.822871\n",
      "Epoch 19, CIFAR-10 Batch 2:  Loss:     0.2256 Validation Accuracy: 0.817658\n",
      "Epoch 19, CIFAR-10 Batch 3:  Loss:     0.2232 Validation Accuracy: 0.815976\n",
      "Epoch 19, CIFAR-10 Batch 4:  Loss:     0.0868 Validation Accuracy: 0.815390\n",
      "Epoch 19, CIFAR-10 Batch 5:  Loss:     0.2058 Validation Accuracy: 0.818379\n",
      "Epoch 20, CIFAR-10 Batch 1:  Loss:     0.1058 Validation Accuracy: 0.821309\n",
      "Epoch 20, CIFAR-10 Batch 2:  Loss:     0.1620 Validation Accuracy: 0.826762\n",
      "Epoch 20, CIFAR-10 Batch 3:  Loss:     0.2860 Validation Accuracy: 0.820468\n",
      "Epoch 20, CIFAR-10 Batch 4:  Loss:     0.0733 Validation Accuracy: 0.821201\n",
      "Epoch 20, CIFAR-10 Batch 5:  Loss:     0.1739 Validation Accuracy: 0.824462\n",
      "Epoch 21, CIFAR-10 Batch 1:  Loss:     0.1920 Validation Accuracy: 0.822780\n",
      "Epoch 21, CIFAR-10 Batch 2:  Loss:     0.0466 Validation Accuracy: 0.825622\n",
      "Epoch 21, CIFAR-10 Batch 3:  Loss:     0.1898 Validation Accuracy: 0.822226\n",
      "Epoch 21, CIFAR-10 Batch 4:  Loss:     0.2742 Validation Accuracy: 0.823083\n",
      "Epoch 21, CIFAR-10 Batch 5:  Loss:     0.1772 Validation Accuracy: 0.821895\n",
      "Epoch 22, CIFAR-10 Batch 1:  Loss:     0.1958 Validation Accuracy: 0.823713\n",
      "Epoch 22, CIFAR-10 Batch 2:  Loss:     0.0964 Validation Accuracy: 0.824119\n"
     ]
    },
    {
     "name": "stdout",
     "output_type": "stream",
     "text": [
      "Epoch 22, CIFAR-10 Batch 3:  Loss:     0.1274 Validation Accuracy: 0.826598\n",
      "Epoch 22, CIFAR-10 Batch 4:  Loss:     0.1892 Validation Accuracy: 0.825562\n",
      "Epoch 22, CIFAR-10 Batch 5:  Loss:     0.1318 Validation Accuracy: 0.824868\n",
      "Epoch 23, CIFAR-10 Batch 1:  Loss:     0.0954 Validation Accuracy: 0.820077\n",
      "Epoch 23, CIFAR-10 Batch 2:  Loss:     0.1648 Validation Accuracy: 0.829062\n",
      "Epoch 23, CIFAR-10 Batch 3:  Loss:     0.2090 Validation Accuracy: 0.821791\n",
      "Epoch 23, CIFAR-10 Batch 4:  Loss:     0.1467 Validation Accuracy: 0.817359\n",
      "Epoch 23, CIFAR-10 Batch 5:  Loss:     0.1425 Validation Accuracy: 0.825813\n",
      "Epoch 24, CIFAR-10 Batch 1:  Loss:     0.0984 Validation Accuracy: 0.815270\n",
      "Epoch 24, CIFAR-10 Batch 2:  Loss:     0.1868 Validation Accuracy: 0.824554\n",
      "Epoch 24, CIFAR-10 Batch 3:  Loss:     0.0618 Validation Accuracy: 0.824000\n",
      "Epoch 24, CIFAR-10 Batch 4:  Loss:     0.0850 Validation Accuracy: 0.824071\n",
      "Epoch 24, CIFAR-10 Batch 5:  Loss:     0.0916 Validation Accuracy: 0.827423\n",
      "Epoch 25, CIFAR-10 Batch 1:  Loss:     0.0982 Validation Accuracy: 0.821520\n",
      "Epoch 25, CIFAR-10 Batch 2:  Loss:     0.1378 Validation Accuracy: 0.821098\n",
      "Epoch 25, CIFAR-10 Batch 3:  Loss:     0.0932 Validation Accuracy: 0.830592\n",
      "Epoch 25, CIFAR-10 Batch 4:  Loss:     0.1555 Validation Accuracy: 0.828970\n",
      "Epoch 25, CIFAR-10 Batch 5:  Loss:     0.1108 Validation Accuracy: 0.815254\n",
      "Epoch 26, CIFAR-10 Batch 1:  Loss:     0.1048 Validation Accuracy: 0.829225\n",
      "Epoch 26, CIFAR-10 Batch 2:  Loss:     0.0695 Validation Accuracy: 0.826610\n",
      "Epoch 26, CIFAR-10 Batch 3:  Loss:     0.1677 Validation Accuracy: 0.824163\n",
      "Epoch 26, CIFAR-10 Batch 4:  Loss:     0.2248 Validation Accuracy: 0.820480\n",
      "Epoch 26, CIFAR-10 Batch 5:  Loss:     0.0762 Validation Accuracy: 0.824059\n",
      "Epoch 27, CIFAR-10 Batch 1:  Loss:     0.1843 Validation Accuracy: 0.819926\n",
      "Epoch 27, CIFAR-10 Batch 2:  Loss:     0.0512 Validation Accuracy: 0.829616\n",
      "Epoch 27, CIFAR-10 Batch 3:  Loss:     0.1360 Validation Accuracy: 0.828938\n",
      "Epoch 27, CIFAR-10 Batch 4:  Loss:     0.0812 Validation Accuracy: 0.823426\n",
      "Epoch 27, CIFAR-10 Batch 5:  Loss:     0.1111 Validation Accuracy: 0.835308\n",
      "Epoch 28, CIFAR-10 Batch 1:  Loss:     0.0439 Validation Accuracy: 0.832545\n",
      "Epoch 28, CIFAR-10 Batch 2:  Loss:     0.0475 Validation Accuracy: 0.821445\n",
      "Epoch 28, CIFAR-10 Batch 3:  Loss:     0.1651 Validation Accuracy: 0.821819\n",
      "Epoch 28, CIFAR-10 Batch 4:  Loss:     0.1860 Validation Accuracy: 0.824478\n",
      "Epoch 28, CIFAR-10 Batch 5:  Loss:     0.1343 Validation Accuracy: 0.819236\n",
      "Epoch 29, CIFAR-10 Batch 1:  Loss:     0.0489 Validation Accuracy: 0.833279\n",
      "Epoch 29, CIFAR-10 Batch 2:  Loss:     0.1129 Validation Accuracy: 0.831884\n",
      "Epoch 29, CIFAR-10 Batch 3:  Loss:     0.1238 Validation Accuracy: 0.828834\n",
      "Epoch 29, CIFAR-10 Batch 4:  Loss:     0.0464 Validation Accuracy: 0.828910\n",
      "Epoch 29, CIFAR-10 Batch 5:  Loss:     0.1009 Validation Accuracy: 0.832681\n",
      "Epoch 30, CIFAR-10 Batch 1:  Loss:     0.0422 Validation Accuracy: 0.835730\n",
      "Epoch 30, CIFAR-10 Batch 2:  Loss:     0.1031 Validation Accuracy: 0.828504\n",
      "Epoch 30, CIFAR-10 Batch 3:  Loss:     0.1146 Validation Accuracy: 0.833131\n",
      "Epoch 30, CIFAR-10 Batch 4:  Loss:     0.0841 Validation Accuracy: 0.829827\n",
      "Epoch 30, CIFAR-10 Batch 5:  Loss:     0.1463 Validation Accuracy: 0.826551\n"
     ]
    }
   ],
   "source": [
    "save_model_path = './image_classification'\n",
    "\n",
    "print('Training...')\n",
    "with tf.Session() as sess:\n",
    "    # Initializing the variables\n",
    "    sess.run(tf.global_variables_initializer())\n",
    "    \n",
    "    # Training cycle\n",
    "    for epoch in range(epochs):\n",
    "        # Loop over all batches\n",
    "        n_batches = 5\n",
    "        for batch_i in range(1, n_batches + 1):\n",
    "            \n",
    "            for batch_features, batch_labels in helper.load_preprocess_training_batch(batch_i, batch_size):\n",
    "                \n",
    "                batch_mean = np.mean(batch_features)\n",
    "                batch_std = np.std(batch_features)\n",
    "                batch_features = batch_features.astype(np.float32)\n",
    "                for ii in range(batch_features.shape[0]):\n",
    "                    batch_features[ii, :, :, :] = (batch_features[ii, :, :, :] - batch_mean) / batch_std \n",
    "                train_neural_network(sess, optimizer, keep_probability, batch_features, batch_labels)\n",
    "            print('Epoch {:>2}, CIFAR-10 Batch {}:  '.format(epoch + 1, batch_i), end='')\n",
    "            print_stats(sess, batch_features, batch_labels, cost, accuracy)\n",
    "            \n",
    "    # Save Model\n",
    "    saver = tf.train.Saver()\n",
    "    save_path = saver.save(sess, save_model_path)"
   ]
  },
  {
   "cell_type": "markdown",
   "metadata": {},
   "source": [
    "## Test model"
   ]
  },
  {
   "cell_type": "code",
   "execution_count": 20,
   "metadata": {},
   "outputs": [
    {
     "name": "stdout",
     "output_type": "stream",
     "text": [
      "INFO:tensorflow:Restoring parameters from ./image_classification\n",
      "Testing Accuracy: 0.8221914556962026\n",
      "\n"
     ]
    },
    {
     "data": {
      "image/png": "[encoded data removed]",
      "text/plain": [
       "<matplotlib.figure.Figure at 0x24cdb1b0668>"
      ]
     },
     "metadata": {
      "image/png": {
       "height": 319,
       "width": 355
      }
     },
     "output_type": "display_data"
    }
   ],
   "source": [
    "%matplotlib inline\n",
    "%config InlineBackend.figure_format = 'retina'\n",
    "\n",
    "import tensorflow as tf\n",
    "import pickle\n",
    "import helper\n",
    "import random\n",
    "\n",
    "batch_size = 128\n",
    "\n",
    "save_model_path = './image_classification'\n",
    "n_samples = 4\n",
    "top_n_predictions = 3\n",
    "\n",
    "def test_model():\n",
    "    \"\"\"\n",
    "    Test the saved model against the test dataset\n",
    "    \"\"\"\n",
    "    test_features, test_labels = pickle.load(open('preprocess_test.p', mode='rb'))\n",
    "    test_features = test_features.astype(np.float32)\n",
    "    batch_mean = np.mean(test_features)\n",
    "    batch_std = np.std(test_features)\n",
    "    for ii in range(test_features.shape[0]):\n",
    "        test_features[ii,:,:,:] = (test_features[ii,:,:,:] - batch_mean) / batch_std\n",
    "    \n",
    "    loaded_graph = tf.Graph()\n",
    "    \n",
    "    with tf.Session(graph=loaded_graph) as sess:\n",
    "        # Load model\n",
    "        loader = tf.train.import_meta_graph(save_model_path + '.meta')\n",
    "        loader.restore(sess, save_model_path)\n",
    "\n",
    "        # Get Tensors from loaded model\n",
    "        loaded_x = loaded_graph.get_tensor_by_name('x:0')\n",
    "        loaded_y = loaded_graph.get_tensor_by_name('y:0')\n",
    "        loaded_keep_prob = loaded_graph.get_tensor_by_name('keep_prob:0')\n",
    "        loaded_logits = loaded_graph.get_tensor_by_name('logits:0')\n",
    "        loaded_acc = loaded_graph.get_tensor_by_name('accuracy:0')\n",
    "        \n",
    "        # Get accuracy in batches for memory limitations\n",
    "        test_batch_acc_total = 0\n",
    "        test_batch_count = 0\n",
    "        \n",
    "        for test_feature_batch, test_label_batch in helper.batch_features_labels(test_features, test_labels, batch_size):\n",
    "            test_batch_acc_total += sess.run(loaded_acc,\n",
    "                feed_dict={loaded_x: test_feature_batch, loaded_y: test_label_batch, loaded_keep_prob: 1.0})\n",
    "            test_batch_count += 1\n",
    "\n",
    "        print('Testing Accuracy: {}\\n'.format(test_batch_acc_total/test_batch_count))\n",
    "\n",
    "        # Print Random Samples\n",
    "        random_test_features, random_test_labels = tuple(zip(*random.sample(list(zip(test_features, test_labels)), n_samples)))\n",
    "        random_test_predictions = sess.run(tf.nn.top_k(tf.nn.softmax(loaded_logits), top_n_predictions),\n",
    "            feed_dict={loaded_x: random_test_features, loaded_y: random_test_labels, loaded_keep_prob: 1.0})\n",
    "        helper.display_image_predictions(random_test_features, random_test_labels, random_test_predictions)\n",
    "\n",
    "test_model()"
   ]
  },
  {
   "cell_type": "code",
   "execution_count": null,
   "metadata": {},
   "outputs": [],
   "source": []
  }
 ],
 "metadata": {
  "kernelspec": {
   "display_name": "Python [conda env:tf_1_2]",
   "language": "python",
   "name": "conda-env-tf_1_2-py"
  },
  "language_info": {
   "codemirror_mode": {
    "name": "ipython",
    "version": 3
   },
   "file_extension": ".py",
   "mimetype": "text/x-python",
   "name": "python",
   "nbconvert_exporter": "python",
   "pygments_lexer": "ipython3",
   "version": "3.5.4"
  }
 },
 "nbformat": 4,
 "nbformat_minor": 2
}
