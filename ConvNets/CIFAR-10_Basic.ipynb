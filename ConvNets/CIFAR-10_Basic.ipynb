{
 "cells": [
  {
   "cell_type": "markdown",
   "metadata": {},
   "source": [
    "In this project, we'll build a simple convolutional neural network for CIFAR-10 image classification. Code contained in this project was based on Tensorflow 1.2.1 and python 3.5. "
   ]
  },
  {
   "cell_type": "code",
   "execution_count": 1,
   "metadata": {},
   "outputs": [],
   "source": [
    "from urllib.request import urlretrieve\n",
    "import time\n",
    "from os.path import isfile, isdir\n",
    "from tqdm import tqdm\n",
    "import tarfile\n",
    "import tensorflow as tf\n",
    "\n",
    "cifar10_dataset_folder_path = 'cifar-10-batches-py'\n",
    "tar_gz_path = 'cifar-10-python.tar.gz'\n",
    "\n",
    "class DLProgress(tqdm):\n",
    "    last_block = 0\n",
    "\n",
    "    def hook(self, block_num=1, block_size=1, total_size=None):\n",
    "        self.total = total_size\n",
    "        self.update((block_num - self.last_block) * block_size)\n",
    "        self.last_block = block_num\n",
    "\n",
    "if not isfile(tar_gz_path):\n",
    "    with DLProgress(unit='B', unit_scale=True, miniters=1, desc='CIFAR-10 Dataset') as pbar:\n",
    "        urlretrieve(\n",
    "            'https://www.cs.toronto.edu/~kriz/cifar-10-python.tar.gz',\n",
    "            tar_gz_path,\n",
    "            pbar.hook)\n",
    "\n",
    "if not isdir(cifar10_dataset_folder_path):\n",
    "    with tarfile.open(tar_gz_path) as tar:\n",
    "        tar.extractall()\n",
    "        tar.close()"
   ]
  },
  {
   "cell_type": "code",
   "execution_count": 2,
   "metadata": {},
   "outputs": [
    {
     "name": "stdout",
     "output_type": "stream",
     "text": [
      "\n",
      "Stats of batch 1:\n",
      "Samples: 10000\n",
      "Label Counts: {0: 1005, 1: 974, 2: 1032, 3: 1016, 4: 999, 5: 937, 6: 1030, 7: 1001, 8: 1025, 9: 981}\n",
      "First 20 Labels: [6, 9, 9, 4, 1, 1, 2, 7, 8, 3, 4, 7, 7, 2, 9, 9, 9, 3, 2, 6]\n",
      "\n",
      "Example of Image 6:\n",
      "Image - Min Value: 7 Max Value: 249\n",
      "Image - Shape: (32, 32, 3)\n",
      "Label - Label Id: 2 Name: bird\n"
     ]
    },
    {
     "data": {
      "image/png": "[encoded data removed]",
      "text/plain": [
       "<matplotlib.figure.Figure at 0x1be3905fa90>"
      ]
     },
     "metadata": {
      "image/png": {
       "height": 250,
       "width": 253
      }
     },
     "output_type": "display_data"
    }
   ],
   "source": [
    "%matplotlib inline\n",
    "%config InlineBackend.figure_format = 'retina'\n",
    "\n",
    "import helper\n",
    "import numpy as np\n",
    "\n",
    "# Explore the dataset\n",
    "batch_id = 1\n",
    "sample_id = 6\n",
    "helper.display_stats(cifar10_dataset_folder_path, batch_id, sample_id)"
   ]
  },
  {
   "cell_type": "markdown",
   "metadata": {},
   "source": [
    "# Preprocess Data\n",
    "\n",
    "## Normalize"
   ]
  },
  {
   "cell_type": "code",
   "execution_count": 3,
   "metadata": {},
   "outputs": [],
   "source": [
    "def normalize(x):\n",
    "    \"\"\"\n",
    "    Normalize a list of sample image data in the range of 0 to 1\n",
    "    : x: List of image data.  The image shape is (32, 32, 3)\n",
    "    : return: Numpy array of normalize data\n",
    "    \"\"\"\n",
    "    return ( x - x.min() ) / ( x.max() - x.min() )"
   ]
  },
  {
   "cell_type": "markdown",
   "metadata": {},
   "source": [
    "## One hot encode"
   ]
  },
  {
   "cell_type": "code",
   "execution_count": 4,
   "metadata": {},
   "outputs": [],
   "source": [
    "def one_hot_encode(x):\n",
    "    \"\"\"\n",
    "    One hot encode a list of sample labels. Return a one-hot encoded vector for each label.\n",
    "    : x: List of sample Labels\n",
    "    : return: Numpy array of one-hot encoded labels\n",
    "    \"\"\"\n",
    "    output = np.zeros([len(x), 10])\n",
    "    for idx, item in enumerate(x):\n",
    "        output[idx, item] = 1\n",
    "    return output"
   ]
  },
  {
   "cell_type": "markdown",
   "metadata": {},
   "source": [
    "This above function is equivalent to tf.one_hot(x, 10), but tensorflow module can not be pickled so we're sticking with the above implementation."
   ]
  },
  {
   "cell_type": "markdown",
   "metadata": {},
   "source": [
    "## Preprocess Data\n",
    "We will randomly shuffle the data, normalize them and save them in binary format."
   ]
  },
  {
   "cell_type": "code",
   "execution_count": 5,
   "metadata": {},
   "outputs": [],
   "source": [
    "import tensorflow as tf\n",
    "# Preprocess Training, Validation, and Testing Data\n",
    "helper.preprocess_and_save_data(cifar10_dataset_folder_path, one_hot_encode)"
   ]
  },
  {
   "cell_type": "markdown",
   "metadata": {},
   "source": [
    "# Checkpoint\n",
    "The above work is all saved so when we're revisiting this notebook we don't have to do those work again. We can start from here."
   ]
  },
  {
   "cell_type": "code",
   "execution_count": 6,
   "metadata": {},
   "outputs": [],
   "source": [
    "import pickle\n",
    "import helper\n",
    "\n",
    "valid_features, valid_labels = pickle.load(open('preprocess_validation.p', mode='rb'))\n",
    "batch_mean = np.mean(valid_features)\n",
    "batch_std = np.std(valid_features)\n",
    "valid_features = valid_features.astype(np.float32)\n",
    "for ii in range(valid_features.shape[0]):\n",
    "    valid_features[ii, :, :, :] = (valid_features[ii, :, :, :] - batch_mean) / batch_std"
   ]
  },
  {
   "cell_type": "markdown",
   "metadata": {},
   "source": [
    "# Building the network"
   ]
  },
  {
   "cell_type": "markdown",
   "metadata": {},
   "source": [
    "## Defining input"
   ]
  },
  {
   "cell_type": "code",
   "execution_count": 7,
   "metadata": {},
   "outputs": [],
   "source": [
    "import tensorflow as tf\n",
    "\n",
    "def neural_net_image_input(image_shape):\n",
    "    \"\"\"\n",
    "    Return a Tensor for a batch of image input\n",
    "    : image_shape: Shape of the images\n",
    "    \"\"\"\n",
    "    return tf.placeholder(tf.float32, [None, image_shape[0], image_shape[1], image_shape[2]], \"x\")\n",
    "\n",
    "\n",
    "def neural_net_label_input(n_classes):\n",
    "    \"\"\"\n",
    "    Return a Tensor for a batch of label input\n",
    "    : n_classes: Number of classes\n",
    "    \"\"\"\n",
    "    return tf.placeholder(tf.float32, [None, n_classes], \"y\")\n",
    "\n",
    "\n",
    "def neural_net_keep_prob_input():\n",
    "    \"\"\"\n",
    "    Return a Tensor for keep probability\n",
    "    \"\"\"\n",
    "    return tf.placeholder(tf.float32, None, \"keep_prob\")"
   ]
  },
  {
   "cell_type": "markdown",
   "metadata": {},
   "source": [
    "## Convolution and maxpool layer"
   ]
  },
  {
   "cell_type": "code",
   "execution_count": 8,
   "metadata": {},
   "outputs": [],
   "source": [
    "def conv2d(x_tensor, conv_num_outputs, conv_ksize, conv_strides):\n",
    "    \"\"\"\n",
    "    Apply convolution to x_tensor\n",
    "    :param x_tensor: TensorFlow Tensor\n",
    "    :param conv_num_outputs: Number of outputs for the convolutional layer\n",
    "    :param conv_ksize: kernal size 2-D Tuple for the convolutional layer\n",
    "    :param conv_strides: Stride 2-D Tuple for convolution\n",
    "    : return: A tensor that represents convolution and max pooling of x_tensor\n",
    "    \"\"\"\n",
    "    w = tf.get_variable(\"w\", shape=[conv_ksize[0], conv_ksize[1], x_tensor.get_shape().as_list()[3], conv_num_outputs],\n",
    "                         initializer=tf.contrib.layers.xavier_initializer())\n",
    "    \n",
    "    b = tf.Variable(tf.truncated_normal([conv_num_outputs], mean=0.0, stddev=0.1, dtype=tf.float32))\n",
    "    \n",
    "    wc = tf.nn.conv2d(x_tensor, w, strides=[1, conv_strides[0], conv_strides[1], 1], padding='SAME')\n",
    "    z = tf.nn.bias_add(wc, b)\n",
    "    \n",
    "    return tf.nn.relu(z)\n"
   ]
  },
  {
   "cell_type": "markdown",
   "metadata": {},
   "source": [
    "## Flatten layer\n",
    "Implement the flatten function to change the dimension of x_tensor from a 4-D tensor to a 2-D tensor. The output should be the shape (Batch Size, Flattened Image Size). Shortcut option: you can use classes from the TensorFlow Layers or TensorFlow Layers (contrib) packages for this layer. For more of a challenge, only use other TensorFlow packages."
   ]
  },
  {
   "cell_type": "code",
   "execution_count": 9,
   "metadata": {},
   "outputs": [],
   "source": [
    "def flatten(x_tensor):\n",
    "    \"\"\"\n",
    "    Flatten x_tensor to (Batch Size, Flattened Image Size)\n",
    "    : x_tensor: A tensor of size (Batch Size, ...), where ... are the image dimensions.\n",
    "    : return: A tensor of size (Batch Size, Flattened Image Size).\n",
    "    \"\"\"\n",
    "    # reference : https://github.com/tensorflow/tensorflow/issues/7253\n",
    "    return tf.reshape(x_tensor, [tf.shape(x_tensor)[0], np.prod(x_tensor.get_shape().as_list()[1:])])\n",
    "    \n",
    "    # This also works\n",
    "    #return tf.reshape(x_tensor, [-1, np.prod(x_tensor.shape[1:]).value])"
   ]
  },
  {
   "cell_type": "markdown",
   "metadata": {},
   "source": [
    "## Fully connected layer"
   ]
  },
  {
   "cell_type": "code",
   "execution_count": 10,
   "metadata": {},
   "outputs": [],
   "source": [
    "def fully_conn(x_tensor, num_outputs):\n",
    "    \"\"\"\n",
    "    Apply a fully connected layer to x_tensor using weight and bias\n",
    "    : x_tensor: A 2-D tensor where the first dimension is batch size.\n",
    "    : num_outputs: The number of output that the new tensor should be.\n",
    "    : return: A 2-D tensor where the second dimension is num_outputs.\n",
    "    \"\"\"\n",
    "    fc = tf.reshape(x_tensor, [-1, np.prod(x_tensor.get_shape().as_list()[1:])])\n",
    "    \n",
    "    w = tf.get_variable(\"w\", shape=[np.prod(x_tensor.get_shape().as_list()[1:]), num_outputs],\n",
    "                         initializer=tf.contrib.layers.xavier_initializer())\n",
    "    \n",
    "    b = tf.Variable(tf.truncated_normal([num_outputs],mean=0.0, stddev=0.1, dtype=tf.float32))\n",
    "    z = tf.add(tf.matmul(fc, w), b)\n",
    "    \n",
    "    return tf.nn.relu(z)"
   ]
  },
  {
   "cell_type": "markdown",
   "metadata": {},
   "source": [
    "## Output layer"
   ]
  },
  {
   "cell_type": "code",
   "execution_count": 11,
   "metadata": {},
   "outputs": [],
   "source": [
    "def output(x_tensor, num_outputs):\n",
    "    \"\"\"\n",
    "    Apply a output layer to x_tensor using weight and bias\n",
    "    : x_tensor: A 2-D tensor where the first dimension is batch size.\n",
    "    : num_outputs: The number of output that the new tensor should be.\n",
    "    : return: A 2-D tensor where the second dimension is num_outputs.\n",
    "    \"\"\"\n",
    "    w = tf.get_variable(\"w\", shape=[np.prod(x_tensor.get_shape().as_list()[1:]), num_outputs],\n",
    "                         initializer=tf.contrib.layers.xavier_initializer())\n",
    "    \n",
    "    b = tf.Variable(tf.truncated_normal([num_outputs],mean=0.0, stddev=0.1, dtype=tf.float32))\n",
    "    return tf.add(tf.matmul(x_tensor, w), b)\n"
   ]
  },
  {
   "cell_type": "markdown",
   "metadata": {},
   "source": [
    "## Create the convolutional neural network model"
   ]
  },
  {
   "cell_type": "code",
   "execution_count": 12,
   "metadata": {},
   "outputs": [],
   "source": [
    "def conv_net(x, keep_prob):\n",
    "    \"\"\"\n",
    "    Create a convolutional neural network model\n",
    "    : x: Placeholder tensor that holds image data.\n",
    "    : keep_prob: Placeholder tensor that hold dropout keep probability.\n",
    "    : return: Tensor that represents logits\n",
    "    \"\"\"\n",
    "    # Convolution and maxpooling layers\n",
    "    with tf.variable_scope(\"conv1\"):\n",
    "        conv1 = conv2d(x, 40, (3, 3), (1, 1))\n",
    "        \n",
    "    with tf.variable_scope(\"conv2\"):\n",
    "        conv2 = conv2d(conv1, 80, (3, 3), (1, 1))\n",
    "    conv2 = tf.nn.max_pool(conv2, ksize=[1, 2, 2, 1], strides=[1, 2, 2, 1], padding='SAME')\n",
    "    conv2 = tf.nn.dropout(conv2, keep_prob)\n",
    "    \n",
    "    with tf.variable_scope(\"conv3\"):\n",
    "        conv3 = conv2d(conv2, 160, (3, 3), (1, 1))\n",
    "    \n",
    "    with tf.variable_scope(\"conv4\"):\n",
    "        conv4 = conv2d(conv3, 320, (3, 3), (1, 1))\n",
    "    conv4 = tf.nn.max_pool(conv4, ksize=[1, 2, 2, 1], strides=[1, 2, 2, 1], padding='SAME')\n",
    "    conv4 = tf.nn.dropout(conv4, keep_prob)\n",
    "    \n",
    "    # Flatten Layer\n",
    "    f = flatten(conv4)\n",
    "\n",
    "    # Fully Connected layers\n",
    "    with tf.variable_scope(\"fc1\"):\n",
    "        fc1 = fully_conn(f, 512)\n",
    "        fc1 = tf.nn.dropout(fc1, keep_prob)\n",
    "    with tf.variable_scope(\"fc2\"):\n",
    "        fc2 = fully_conn(fc1, 256)\n",
    "        fc2 = tf.nn.dropout(fc2, keep_prob)\n",
    "    \n",
    "    # Output Layer\n",
    "    with tf.variable_scope(\"out\"):\n",
    "        o = output(fc2, 10)\n",
    "    \n",
    "    # TODO: return output\n",
    "    return o"
   ]
  },
  {
   "cell_type": "markdown",
   "metadata": {},
   "source": [
    "## Build the network"
   ]
  },
  {
   "cell_type": "code",
   "execution_count": 13,
   "metadata": {},
   "outputs": [],
   "source": [
    "tf.reset_default_graph()\n",
    "\n",
    "# Inputs\n",
    "x = neural_net_image_input((32, 32, 3))\n",
    "y = neural_net_label_input(10)\n",
    "keep_prob = neural_net_keep_prob_input()\n",
    "\n",
    "# Model\n",
    "logits = conv_net(x, keep_prob)\n",
    "\n",
    "# Name logits Tensor, so that is can be loaded from disk after training\n",
    "logits = tf.identity(logits, name='logits')\n",
    "\n",
    "# Loss and Optimizer\n",
    "cost = tf.reduce_mean(tf.nn.softmax_cross_entropy_with_logits(logits=logits, labels=y))\n",
    "optimizer = tf.train.AdamOptimizer(epsilon=1e-04).minimize(cost)\n",
    "\n",
    "# Accuracy\n",
    "correct_pred = tf.equal(tf.argmax(logits, 1), tf.argmax(y, 1))\n",
    "accuracy = tf.reduce_mean(tf.cast(correct_pred, tf.float32), name='accuracy')"
   ]
  },
  {
   "cell_type": "markdown",
   "metadata": {},
   "source": [
    "## Train network"
   ]
  },
  {
   "cell_type": "code",
   "execution_count": 14,
   "metadata": {},
   "outputs": [],
   "source": [
    "def train_neural_network(session, optimizer, keep_probability, feature_batch, label_batch):\n",
    "    \"\"\"\n",
    "    Optimize the session on a batch of images and labels\n",
    "    \"\"\"\n",
    "    session.run(optimizer, feed_dict={x: feature_batch, y: label_batch, keep_prob: keep_probability})"
   ]
  },
  {
   "cell_type": "markdown",
   "metadata": {},
   "source": [
    "## Print Stats\n",
    "It's important to evaluate the performance of model once in a while. If effect, we're feeding a small batch of data to the neural network through forward propagation and then caculate the accuracy of prediction. We don't want to do this too often as this slows down the overall process. It's important to keep in mind that since we're actually using the model for prediction but not training it, we need to set keep probability for dropout to 1 so we're not losing any connection between neurons. "
   ]
  },
  {
   "cell_type": "code",
   "execution_count": 15,
   "metadata": {},
   "outputs": [],
   "source": [
    "def print_stats(session, feature_batch, label_batch, cost, accuracy):\n",
    "    \"\"\"\n",
    "    Print information about loss and validation accuracy\n",
    "    \"\"\"\n",
    "    loss = session.run(cost, feed_dict={x: feature_batch, y: label_batch, keep_prob: 1.})\n",
    "    \n",
    "    valid_batch_acc_total = 0\n",
    "    valid_batch_count = 0\n",
    "        \n",
    "    for valid_feature_batch, valid_label_batch in helper.batch_features_labels(valid_features, valid_labels, valid_batch_size):\n",
    "        valid_batch_acc_total += sess.run(accuracy,\n",
    "                feed_dict={x: valid_feature_batch, y: valid_label_batch, keep_prob: 1.})\n",
    "        valid_batch_count += 1\n",
    "    \n",
    "    print('Loss: {:>10.4f} Validation Accuracy: {:.6f}'.format(loss, valid_batch_acc_total/valid_batch_count))"
   ]
  },
  {
   "cell_type": "markdown",
   "metadata": {},
   "source": [
    "## Hyperparameters"
   ]
  },
  {
   "cell_type": "code",
   "execution_count": 16,
   "metadata": {},
   "outputs": [],
   "source": [
    "epochs = 30\n",
    "batch_size = 128\n",
    "valid_batch_size = 5000\n",
    "keep_probability = 0.5"
   ]
  },
  {
   "cell_type": "markdown",
   "metadata": {},
   "source": [
    "## Train on a single CIFAR-10 batch"
   ]
  },
  {
   "cell_type": "code",
   "execution_count": 17,
   "metadata": {},
   "outputs": [
    {
     "name": "stdout",
     "output_type": "stream",
     "text": [
      "Checking the Training on a Single Batch...\n",
      "Epoch  1, CIFAR-10 Batch 1:  Loss:     1.7181 Validation Accuracy: 0.289800\n",
      "Epoch  2, CIFAR-10 Batch 1:  Loss:     1.4933 Validation Accuracy: 0.417400\n",
      "Epoch  3, CIFAR-10 Batch 1:  Loss:     1.4610 Validation Accuracy: 0.491800\n",
      "Epoch  4, CIFAR-10 Batch 1:  Loss:     1.1008 Validation Accuracy: 0.533200\n",
      "Epoch  5, CIFAR-10 Batch 1:  Loss:     1.3419 Validation Accuracy: 0.548000\n",
      "Epoch  6, CIFAR-10 Batch 1:  Loss:     0.9871 Validation Accuracy: 0.537000\n",
      "Epoch  7, CIFAR-10 Batch 1:  Loss:     1.2740 Validation Accuracy: 0.564000\n",
      "Epoch  8, CIFAR-10 Batch 1:  Loss:     0.9073 Validation Accuracy: 0.609800\n",
      "Epoch  9, CIFAR-10 Batch 1:  Loss:     0.6034 Validation Accuracy: 0.623400\n",
      "Epoch 10, CIFAR-10 Batch 1:  Loss:     0.6413 Validation Accuracy: 0.639600\n",
      "Epoch 11, CIFAR-10 Batch 1:  Loss:     0.6257 Validation Accuracy: 0.659200\n",
      "Epoch 12, CIFAR-10 Batch 1:  Loss:     0.4954 Validation Accuracy: 0.668200\n",
      "Epoch 13, CIFAR-10 Batch 1:  Loss:     0.5504 Validation Accuracy: 0.665600\n",
      "Epoch 14, CIFAR-10 Batch 1:  Loss:     0.4200 Validation Accuracy: 0.652600\n",
      "Epoch 15, CIFAR-10 Batch 1:  Loss:     0.3029 Validation Accuracy: 0.667800\n",
      "Epoch 16, CIFAR-10 Batch 1:  Loss:     0.1674 Validation Accuracy: 0.681400\n",
      "Epoch 17, CIFAR-10 Batch 1:  Loss:     0.2130 Validation Accuracy: 0.675600\n",
      "Epoch 18, CIFAR-10 Batch 1:  Loss:     0.2821 Validation Accuracy: 0.677800\n",
      "Epoch 19, CIFAR-10 Batch 1:  Loss:     0.2002 Validation Accuracy: 0.684800\n",
      "Epoch 20, CIFAR-10 Batch 1:  Loss:     0.1323 Validation Accuracy: 0.682600\n",
      "Epoch 21, CIFAR-10 Batch 1:  Loss:     0.1686 Validation Accuracy: 0.690400\n",
      "Epoch 22, CIFAR-10 Batch 1:  Loss:     0.1228 Validation Accuracy: 0.694600\n",
      "Epoch 23, CIFAR-10 Batch 1:  Loss:     0.0706 Validation Accuracy: 0.699800\n",
      "Epoch 24, CIFAR-10 Batch 1:  Loss:     0.0488 Validation Accuracy: 0.706000\n",
      "Epoch 25, CIFAR-10 Batch 1:  Loss:     0.0891 Validation Accuracy: 0.699000\n",
      "Epoch 26, CIFAR-10 Batch 1:  Loss:     0.0657 Validation Accuracy: 0.692600\n",
      "Epoch 27, CIFAR-10 Batch 1:  Loss:     0.0179 Validation Accuracy: 0.695600\n",
      "Epoch 28, CIFAR-10 Batch 1:  Loss:     0.0403 Validation Accuracy: 0.701400\n",
      "Epoch 29, CIFAR-10 Batch 1:  Loss:     0.0159 Validation Accuracy: 0.697000\n",
      "Epoch 30, CIFAR-10 Batch 1:  Loss:     0.0307 Validation Accuracy: 0.702600\n",
      "total took:223.5225 seconds\n"
     ]
    }
   ],
   "source": [
    "t1 = time.time()\n",
    "t = 0\n",
    "c = 0\n",
    "print('Checking the Training on a Single Batch...')\n",
    "with tf.Session() as sess:\n",
    "    sess.run(tf.global_variables_initializer())\n",
    "    \n",
    "    # Training cycle\n",
    "    for epoch in range(epochs):\n",
    "        batch_i = 1\n",
    "        for batch_features, batch_labels in helper.load_preprocess_training_batch(batch_i, batch_size):\n",
    "            batch_mean = np.mean(batch_features)\n",
    "            batch_std = np.std(batch_features)\n",
    "            batch_features = batch_features.astype(np.float32)\n",
    "            for ii in range(batch_features.shape[0]):\n",
    "                batch_features[ii, :, :, :] = (batch_features[ii, :, :, :] - batch_mean) / batch_std  \n",
    "            start = time.time()\n",
    "            train_neural_network(sess, optimizer, keep_probability, batch_features, batch_labels)\n",
    "            end = time.time()\n",
    "            t = t + end-start\n",
    "            c += 1\n",
    "            #print('training one batch took: {:0.4f} seconds'.format(end-start))\n",
    "        print('Epoch {:>2}, CIFAR-10 Batch {}:  '.format(epoch + 1, batch_i), end='')\n",
    "        print_stats(sess, batch_features, batch_labels, cost, accuracy)\n",
    "t2 = time.time()\n",
    "print('total took:{:0.4f} seconds'.format(t2-t1))"
   ]
  },
  {
   "cell_type": "code",
   "execution_count": 18,
   "metadata": {},
   "outputs": [
    {
     "data": {
      "text/plain": [
       "0.08470565813807815"
      ]
     },
     "execution_count": 18,
     "metadata": {},
     "output_type": "execute_result"
    }
   ],
   "source": [
    "t / c"
   ]
  },
  {
   "cell_type": "markdown",
   "metadata": {},
   "source": [
    "## Fully train the model"
   ]
  },
  {
   "cell_type": "code",
   "execution_count": 19,
   "metadata": {},
   "outputs": [
    {
     "name": "stdout",
     "output_type": "stream",
     "text": [
      "Training...\n",
      "Epoch  1, CIFAR-10 Batch 1:  Loss:     1.7554 Validation Accuracy: 0.270000\n",
      "Epoch  1, CIFAR-10 Batch 2:  Loss:     1.7042 Validation Accuracy: 0.414400\n",
      "Epoch  1, CIFAR-10 Batch 3:  Loss:     1.3462 Validation Accuracy: 0.472600\n",
      "Epoch  1, CIFAR-10 Batch 4:  Loss:     1.5406 Validation Accuracy: 0.504800\n",
      "Epoch  1, CIFAR-10 Batch 5:  Loss:     1.0692 Validation Accuracy: 0.540400\n",
      "Epoch  2, CIFAR-10 Batch 1:  Loss:     0.8622 Validation Accuracy: 0.567800\n",
      "Epoch  2, CIFAR-10 Batch 2:  Loss:     0.8432 Validation Accuracy: 0.593800\n",
      "Epoch  2, CIFAR-10 Batch 3:  Loss:     1.0445 Validation Accuracy: 0.616200\n",
      "Epoch  2, CIFAR-10 Batch 4:  Loss:     1.0947 Validation Accuracy: 0.614800\n",
      "Epoch  2, CIFAR-10 Batch 5:  Loss:     1.0187 Validation Accuracy: 0.624600\n",
      "Epoch  3, CIFAR-10 Batch 1:  Loss:     0.6815 Validation Accuracy: 0.646800\n",
      "Epoch  3, CIFAR-10 Batch 2:  Loss:     0.8674 Validation Accuracy: 0.689800\n",
      "Epoch  3, CIFAR-10 Batch 3:  Loss:     1.1345 Validation Accuracy: 0.683400\n",
      "Epoch  3, CIFAR-10 Batch 4:  Loss:     0.6353 Validation Accuracy: 0.671800\n",
      "Epoch  3, CIFAR-10 Batch 5:  Loss:     0.6916 Validation Accuracy: 0.687000\n",
      "Epoch  4, CIFAR-10 Batch 1:  Loss:     0.5089 Validation Accuracy: 0.701200\n",
      "Epoch  4, CIFAR-10 Batch 2:  Loss:     0.7242 Validation Accuracy: 0.710800\n",
      "Epoch  4, CIFAR-10 Batch 3:  Loss:     0.7241 Validation Accuracy: 0.721800\n",
      "Epoch  4, CIFAR-10 Batch 4:  Loss:     0.5783 Validation Accuracy: 0.729400\n",
      "Epoch  4, CIFAR-10 Batch 5:  Loss:     0.7802 Validation Accuracy: 0.740800\n",
      "Epoch  5, CIFAR-10 Batch 1:  Loss:     0.5091 Validation Accuracy: 0.726200\n",
      "Epoch  5, CIFAR-10 Batch 2:  Loss:     0.8486 Validation Accuracy: 0.736800\n",
      "Epoch  5, CIFAR-10 Batch 3:  Loss:     0.6103 Validation Accuracy: 0.747800\n",
      "Epoch  5, CIFAR-10 Batch 4:  Loss:     0.4901 Validation Accuracy: 0.741800\n",
      "Epoch  5, CIFAR-10 Batch 5:  Loss:     0.5005 Validation Accuracy: 0.741400\n",
      "Epoch  6, CIFAR-10 Batch 1:  Loss:     0.7221 Validation Accuracy: 0.743400\n",
      "Epoch  6, CIFAR-10 Batch 2:  Loss:     0.4299 Validation Accuracy: 0.738200\n",
      "Epoch  6, CIFAR-10 Batch 3:  Loss:     0.7035 Validation Accuracy: 0.752000\n",
      "Epoch  6, CIFAR-10 Batch 4:  Loss:     0.4351 Validation Accuracy: 0.766000\n",
      "Epoch  6, CIFAR-10 Batch 5:  Loss:     0.3649 Validation Accuracy: 0.762200\n",
      "Epoch  7, CIFAR-10 Batch 1:  Loss:     0.4955 Validation Accuracy: 0.772000\n",
      "Epoch  7, CIFAR-10 Batch 2:  Loss:     0.5215 Validation Accuracy: 0.769800\n",
      "Epoch  7, CIFAR-10 Batch 3:  Loss:     0.4182 Validation Accuracy: 0.772200\n",
      "Epoch  7, CIFAR-10 Batch 4:  Loss:     0.5004 Validation Accuracy: 0.751800\n",
      "Epoch  7, CIFAR-10 Batch 5:  Loss:     0.5199 Validation Accuracy: 0.769000\n",
      "Epoch  8, CIFAR-10 Batch 1:  Loss:     0.4016 Validation Accuracy: 0.787000\n",
      "Epoch  8, CIFAR-10 Batch 2:  Loss:     0.4410 Validation Accuracy: 0.778000\n",
      "Epoch  8, CIFAR-10 Batch 3:  Loss:     0.3380 Validation Accuracy: 0.775200\n",
      "Epoch  8, CIFAR-10 Batch 4:  Loss:     0.4329 Validation Accuracy: 0.772000\n",
      "Epoch  8, CIFAR-10 Batch 5:  Loss:     0.3366 Validation Accuracy: 0.786200\n",
      "Epoch  9, CIFAR-10 Batch 1:  Loss:     0.3009 Validation Accuracy: 0.782400\n",
      "Epoch  9, CIFAR-10 Batch 2:  Loss:     0.2628 Validation Accuracy: 0.791400\n",
      "Epoch  9, CIFAR-10 Batch 3:  Loss:     0.5037 Validation Accuracy: 0.786800\n",
      "Epoch  9, CIFAR-10 Batch 4:  Loss:     0.5408 Validation Accuracy: 0.793600\n",
      "Epoch  9, CIFAR-10 Batch 5:  Loss:     0.3886 Validation Accuracy: 0.769800\n",
      "Epoch 10, CIFAR-10 Batch 1:  Loss:     0.3002 Validation Accuracy: 0.790600\n",
      "Epoch 10, CIFAR-10 Batch 2:  Loss:     0.3734 Validation Accuracy: 0.790400\n",
      "Epoch 10, CIFAR-10 Batch 3:  Loss:     0.3135 Validation Accuracy: 0.802000\n",
      "Epoch 10, CIFAR-10 Batch 4:  Loss:     0.3583 Validation Accuracy: 0.792800\n",
      "Epoch 10, CIFAR-10 Batch 5:  Loss:     0.4326 Validation Accuracy: 0.785000\n",
      "Epoch 11, CIFAR-10 Batch 1:  Loss:     0.1788 Validation Accuracy: 0.790800\n",
      "Epoch 11, CIFAR-10 Batch 2:  Loss:     0.2880 Validation Accuracy: 0.801000\n",
      "Epoch 11, CIFAR-10 Batch 3:  Loss:     0.3132 Validation Accuracy: 0.800000\n",
      "Epoch 11, CIFAR-10 Batch 4:  Loss:     0.2809 Validation Accuracy: 0.805800\n",
      "Epoch 11, CIFAR-10 Batch 5:  Loss:     0.2756 Validation Accuracy: 0.792000\n",
      "Epoch 12, CIFAR-10 Batch 1:  Loss:     0.2569 Validation Accuracy: 0.804200\n",
      "Epoch 12, CIFAR-10 Batch 2:  Loss:     0.4509 Validation Accuracy: 0.800600\n",
      "Epoch 12, CIFAR-10 Batch 3:  Loss:     0.3672 Validation Accuracy: 0.800800\n",
      "Epoch 12, CIFAR-10 Batch 4:  Loss:     0.2887 Validation Accuracy: 0.795600\n",
      "Epoch 12, CIFAR-10 Batch 5:  Loss:     0.4547 Validation Accuracy: 0.806400\n",
      "Epoch 13, CIFAR-10 Batch 1:  Loss:     0.3651 Validation Accuracy: 0.806000\n",
      "Epoch 13, CIFAR-10 Batch 2:  Loss:     0.1404 Validation Accuracy: 0.812400\n",
      "Epoch 13, CIFAR-10 Batch 3:  Loss:     0.2177 Validation Accuracy: 0.807000\n",
      "Epoch 13, CIFAR-10 Batch 4:  Loss:     0.1489 Validation Accuracy: 0.807200\n",
      "Epoch 13, CIFAR-10 Batch 5:  Loss:     0.2715 Validation Accuracy: 0.809200\n",
      "Epoch 14, CIFAR-10 Batch 1:  Loss:     0.2198 Validation Accuracy: 0.807600\n",
      "Epoch 14, CIFAR-10 Batch 2:  Loss:     0.1650 Validation Accuracy: 0.810400\n",
      "Epoch 14, CIFAR-10 Batch 3:  Loss:     0.3678 Validation Accuracy: 0.807000\n",
      "Epoch 14, CIFAR-10 Batch 4:  Loss:     0.1778 Validation Accuracy: 0.806600\n",
      "Epoch 14, CIFAR-10 Batch 5:  Loss:     0.2849 Validation Accuracy: 0.813600\n",
      "Epoch 15, CIFAR-10 Batch 1:  Loss:     0.2250 Validation Accuracy: 0.813600\n",
      "Epoch 15, CIFAR-10 Batch 2:  Loss:     0.2637 Validation Accuracy: 0.812800\n",
      "Epoch 15, CIFAR-10 Batch 3:  Loss:     0.2555 Validation Accuracy: 0.810600\n",
      "Epoch 15, CIFAR-10 Batch 4:  Loss:     0.1689 Validation Accuracy: 0.809600\n",
      "Epoch 15, CIFAR-10 Batch 5:  Loss:     0.2234 Validation Accuracy: 0.808800\n",
      "Epoch 16, CIFAR-10 Batch 1:  Loss:     0.1784 Validation Accuracy: 0.813200\n",
      "Epoch 16, CIFAR-10 Batch 2:  Loss:     0.1826 Validation Accuracy: 0.815400\n",
      "Epoch 16, CIFAR-10 Batch 3:  Loss:     0.1346 Validation Accuracy: 0.811600\n",
      "Epoch 16, CIFAR-10 Batch 4:  Loss:     0.2760 Validation Accuracy: 0.818000\n",
      "Epoch 16, CIFAR-10 Batch 5:  Loss:     0.3472 Validation Accuracy: 0.814200\n",
      "Epoch 17, CIFAR-10 Batch 1:  Loss:     0.1811 Validation Accuracy: 0.827400\n",
      "Epoch 17, CIFAR-10 Batch 2:  Loss:     0.1863 Validation Accuracy: 0.821200\n",
      "Epoch 17, CIFAR-10 Batch 3:  Loss:     0.1378 Validation Accuracy: 0.812000\n",
      "Epoch 17, CIFAR-10 Batch 4:  Loss:     0.1173 Validation Accuracy: 0.817000\n",
      "Epoch 17, CIFAR-10 Batch 5:  Loss:     0.2172 Validation Accuracy: 0.821600\n",
      "Epoch 18, CIFAR-10 Batch 1:  Loss:     0.1148 Validation Accuracy: 0.824600\n",
      "Epoch 18, CIFAR-10 Batch 2:  Loss:     0.2599 Validation Accuracy: 0.821400\n",
      "Epoch 18, CIFAR-10 Batch 3:  Loss:     0.0911 Validation Accuracy: 0.820200\n",
      "Epoch 18, CIFAR-10 Batch 4:  Loss:     0.1251 Validation Accuracy: 0.818800\n",
      "Epoch 18, CIFAR-10 Batch 5:  Loss:     0.1302 Validation Accuracy: 0.820600\n",
      "Epoch 19, CIFAR-10 Batch 1:  Loss:     0.0893 Validation Accuracy: 0.822200\n",
      "Epoch 19, CIFAR-10 Batch 2:  Loss:     0.2384 Validation Accuracy: 0.815400\n",
      "Epoch 19, CIFAR-10 Batch 3:  Loss:     0.1107 Validation Accuracy: 0.827000\n",
      "Epoch 19, CIFAR-10 Batch 4:  Loss:     0.1547 Validation Accuracy: 0.819800\n",
      "Epoch 19, CIFAR-10 Batch 5:  Loss:     0.1774 Validation Accuracy: 0.825800\n",
      "Epoch 20, CIFAR-10 Batch 1:  Loss:     0.1411 Validation Accuracy: 0.810800\n",
      "Epoch 20, CIFAR-10 Batch 2:  Loss:     0.1800 Validation Accuracy: 0.815000\n",
      "Epoch 20, CIFAR-10 Batch 3:  Loss:     0.2396 Validation Accuracy: 0.823200\n",
      "Epoch 20, CIFAR-10 Batch 4:  Loss:     0.1321 Validation Accuracy: 0.827800\n",
      "Epoch 20, CIFAR-10 Batch 5:  Loss:     0.2460 Validation Accuracy: 0.824200\n",
      "Epoch 21, CIFAR-10 Batch 1:  Loss:     0.1555 Validation Accuracy: 0.818000\n",
      "Epoch 21, CIFAR-10 Batch 2:  Loss:     0.1281 Validation Accuracy: 0.820200\n",
      "Epoch 21, CIFAR-10 Batch 3:  Loss:     0.1141 Validation Accuracy: 0.816600\n",
      "Epoch 21, CIFAR-10 Batch 4:  Loss:     0.0896 Validation Accuracy: 0.820800\n",
      "Epoch 21, CIFAR-10 Batch 5:  Loss:     0.1277 Validation Accuracy: 0.821600\n",
      "Epoch 22, CIFAR-10 Batch 1:  Loss:     0.0875 Validation Accuracy: 0.821200\n",
      "Epoch 22, CIFAR-10 Batch 2:  Loss:     0.1155 Validation Accuracy: 0.822200\n"
     ]
    },
    {
     "name": "stdout",
     "output_type": "stream",
     "text": [
      "Epoch 22, CIFAR-10 Batch 3:  Loss:     0.1069 Validation Accuracy: 0.820600\n",
      "Epoch 22, CIFAR-10 Batch 4:  Loss:     0.1597 Validation Accuracy: 0.805200\n",
      "Epoch 22, CIFAR-10 Batch 5:  Loss:     0.0880 Validation Accuracy: 0.813800\n",
      "Epoch 23, CIFAR-10 Batch 1:  Loss:     0.1015 Validation Accuracy: 0.825000\n",
      "Epoch 23, CIFAR-10 Batch 2:  Loss:     0.0602 Validation Accuracy: 0.824600\n",
      "Epoch 23, CIFAR-10 Batch 3:  Loss:     0.1140 Validation Accuracy: 0.813000\n",
      "Epoch 23, CIFAR-10 Batch 4:  Loss:     0.1548 Validation Accuracy: 0.821600\n",
      "Epoch 23, CIFAR-10 Batch 5:  Loss:     0.0911 Validation Accuracy: 0.825600\n",
      "Epoch 24, CIFAR-10 Batch 1:  Loss:     0.1578 Validation Accuracy: 0.822800\n",
      "Epoch 24, CIFAR-10 Batch 2:  Loss:     0.1606 Validation Accuracy: 0.823600\n",
      "Epoch 24, CIFAR-10 Batch 3:  Loss:     0.1738 Validation Accuracy: 0.822400\n",
      "Epoch 24, CIFAR-10 Batch 4:  Loss:     0.1584 Validation Accuracy: 0.825000\n",
      "Epoch 24, CIFAR-10 Batch 5:  Loss:     0.1122 Validation Accuracy: 0.826400\n",
      "Epoch 25, CIFAR-10 Batch 1:  Loss:     0.0361 Validation Accuracy: 0.825600\n",
      "Epoch 25, CIFAR-10 Batch 2:  Loss:     0.1560 Validation Accuracy: 0.821000\n",
      "Epoch 25, CIFAR-10 Batch 3:  Loss:     0.1387 Validation Accuracy: 0.819000\n",
      "Epoch 25, CIFAR-10 Batch 4:  Loss:     0.1260 Validation Accuracy: 0.818600\n",
      "Epoch 25, CIFAR-10 Batch 5:  Loss:     0.1230 Validation Accuracy: 0.817400\n",
      "Epoch 26, CIFAR-10 Batch 1:  Loss:     0.0900 Validation Accuracy: 0.834600\n",
      "Epoch 26, CIFAR-10 Batch 2:  Loss:     0.0952 Validation Accuracy: 0.822200\n",
      "Epoch 26, CIFAR-10 Batch 3:  Loss:     0.1123 Validation Accuracy: 0.822600\n",
      "Epoch 26, CIFAR-10 Batch 4:  Loss:     0.1277 Validation Accuracy: 0.820600\n",
      "Epoch 26, CIFAR-10 Batch 5:  Loss:     0.1057 Validation Accuracy: 0.825800\n",
      "Epoch 27, CIFAR-10 Batch 1:  Loss:     0.0275 Validation Accuracy: 0.829200\n",
      "Epoch 27, CIFAR-10 Batch 2:  Loss:     0.0434 Validation Accuracy: 0.829400\n",
      "Epoch 27, CIFAR-10 Batch 3:  Loss:     0.0931 Validation Accuracy: 0.834400\n",
      "Epoch 27, CIFAR-10 Batch 4:  Loss:     0.0883 Validation Accuracy: 0.832200\n",
      "Epoch 27, CIFAR-10 Batch 5:  Loss:     0.0803 Validation Accuracy: 0.827400\n",
      "Epoch 28, CIFAR-10 Batch 1:  Loss:     0.1026 Validation Accuracy: 0.825800\n",
      "Epoch 28, CIFAR-10 Batch 2:  Loss:     0.0747 Validation Accuracy: 0.833200\n",
      "Epoch 28, CIFAR-10 Batch 3:  Loss:     0.0708 Validation Accuracy: 0.830800\n",
      "Epoch 28, CIFAR-10 Batch 4:  Loss:     0.1141 Validation Accuracy: 0.829800\n",
      "Epoch 28, CIFAR-10 Batch 5:  Loss:     0.1156 Validation Accuracy: 0.831600\n",
      "Epoch 29, CIFAR-10 Batch 1:  Loss:     0.0943 Validation Accuracy: 0.833200\n",
      "Epoch 29, CIFAR-10 Batch 2:  Loss:     0.1365 Validation Accuracy: 0.829000\n",
      "Epoch 29, CIFAR-10 Batch 3:  Loss:     0.1188 Validation Accuracy: 0.831600\n",
      "Epoch 29, CIFAR-10 Batch 4:  Loss:     0.0445 Validation Accuracy: 0.829200\n",
      "Epoch 29, CIFAR-10 Batch 5:  Loss:     0.1443 Validation Accuracy: 0.831800\n",
      "Epoch 30, CIFAR-10 Batch 1:  Loss:     0.1196 Validation Accuracy: 0.825600\n",
      "Epoch 30, CIFAR-10 Batch 2:  Loss:     0.0257 Validation Accuracy: 0.827200\n",
      "Epoch 30, CIFAR-10 Batch 3:  Loss:     0.0718 Validation Accuracy: 0.828200\n",
      "Epoch 30, CIFAR-10 Batch 4:  Loss:     0.0501 Validation Accuracy: 0.826800\n",
      "Epoch 30, CIFAR-10 Batch 5:  Loss:     0.0564 Validation Accuracy: 0.824600\n"
     ]
    }
   ],
   "source": [
    "save_model_path = './image_classification'\n",
    "\n",
    "print('Training...')\n",
    "with tf.Session() as sess:\n",
    "    # Initializing the variables\n",
    "    sess.run(tf.global_variables_initializer())\n",
    "    \n",
    "    # Training cycle\n",
    "    for epoch in range(epochs):\n",
    "        # Loop over all batches\n",
    "        n_batches = 5\n",
    "        for batch_i in range(1, n_batches + 1):\n",
    "            \n",
    "            for batch_features, batch_labels in helper.load_preprocess_training_batch(batch_i, batch_size):\n",
    "                \n",
    "                batch_mean = np.mean(batch_features)\n",
    "                batch_std = np.std(batch_features)\n",
    "                batch_features = batch_features.astype(np.float32)\n",
    "                for ii in range(batch_features.shape[0]):\n",
    "                    batch_features[ii, :, :, :] = (batch_features[ii, :, :, :] - batch_mean) / batch_std \n",
    "                train_neural_network(sess, optimizer, keep_probability, batch_features, batch_labels)\n",
    "            print('Epoch {:>2}, CIFAR-10 Batch {}:  '.format(epoch + 1, batch_i), end='')\n",
    "            print_stats(sess, batch_features, batch_labels, cost, accuracy)\n",
    "            \n",
    "    # Save Model\n",
    "    saver = tf.train.Saver()\n",
    "    save_path = saver.save(sess, save_model_path)"
   ]
  },
  {
   "cell_type": "markdown",
   "metadata": {},
   "source": [
    "## Test model"
   ]
  },
  {
   "cell_type": "code",
   "execution_count": 20,
   "metadata": {},
   "outputs": [
    {
     "name": "stdout",
     "output_type": "stream",
     "text": [
      "INFO:tensorflow:Restoring parameters from ./image_classification\n",
      "Testing Accuracy: 0.8243670886075949\n",
      "\n"
     ]
    },
    {
     "data": {
      "image/png": "[encoded data removed]",
      "text/plain": [
       "<matplotlib.figure.Figure at 0x1bfcecf8160>"
      ]
     },
     "metadata": {
      "image/png": {
       "height": 319,
       "width": 355
      }
     },
     "output_type": "display_data"
    }
   ],
   "source": [
    "%matplotlib inline\n",
    "%config InlineBackend.figure_format = 'retina'\n",
    "\n",
    "import tensorflow as tf\n",
    "import pickle\n",
    "import helper\n",
    "import random\n",
    "\n",
    "batch_size = 128\n",
    "\n",
    "save_model_path = './image_classification'\n",
    "n_samples = 4\n",
    "top_n_predictions = 3\n",
    "\n",
    "def test_model():\n",
    "    \"\"\"\n",
    "    Test the saved model against the test dataset\n",
    "    \"\"\"\n",
    "    test_features, test_labels = pickle.load(open('preprocess_test.p', mode='rb'))\n",
    "    test_features = test_features.astype(np.float32)\n",
    "    batch_mean = np.mean(test_features)\n",
    "    batch_std = np.std(test_features)\n",
    "    for ii in range(test_features.shape[0]):\n",
    "        test_features[ii,:,:,:] = (test_features[ii,:,:,:] - batch_mean) / batch_std\n",
    "    \n",
    "    loaded_graph = tf.Graph()\n",
    "    \n",
    "    with tf.Session(graph=loaded_graph) as sess:\n",
    "        # Load model\n",
    "        loader = tf.train.import_meta_graph(save_model_path + '.meta')\n",
    "        loader.restore(sess, save_model_path)\n",
    "\n",
    "        # Get Tensors from loaded model\n",
    "        loaded_x = loaded_graph.get_tensor_by_name('x:0')\n",
    "        loaded_y = loaded_graph.get_tensor_by_name('y:0')\n",
    "        loaded_keep_prob = loaded_graph.get_tensor_by_name('keep_prob:0')\n",
    "        loaded_logits = loaded_graph.get_tensor_by_name('logits:0')\n",
    "        loaded_acc = loaded_graph.get_tensor_by_name('accuracy:0')\n",
    "        \n",
    "        # Get accuracy in batches for memory limitations\n",
    "        test_batch_acc_total = 0\n",
    "        test_batch_count = 0\n",
    "        \n",
    "        for test_feature_batch, test_label_batch in helper.batch_features_labels(test_features, test_labels, batch_size):\n",
    "            test_batch_acc_total += sess.run(loaded_acc,\n",
    "                feed_dict={loaded_x: test_feature_batch, loaded_y: test_label_batch, loaded_keep_prob: 1.0})\n",
    "            test_batch_count += 1\n",
    "\n",
    "        print('Testing Accuracy: {}\\n'.format(test_batch_acc_total/test_batch_count))\n",
    "\n",
    "        # Print Random Samples\n",
    "        random_test_features, random_test_labels = tuple(zip(*random.sample(list(zip(test_features, test_labels)), n_samples)))\n",
    "        random_test_predictions = sess.run(tf.nn.top_k(tf.nn.softmax(loaded_logits), top_n_predictions),\n",
    "            feed_dict={loaded_x: random_test_features, loaded_y: random_test_labels, loaded_keep_prob: 1.0})\n",
    "        helper.display_image_predictions(random_test_features, random_test_labels, random_test_predictions)\n",
    "\n",
    "test_model()"
   ]
  },
  {
   "cell_type": "code",
   "execution_count": null,
   "metadata": {},
   "outputs": [],
   "source": []
  }
 ],
 "metadata": {
  "kernelspec": {
   "display_name": "Python [conda env:tf_1_2]",
   "language": "python",
   "name": "conda-env-tf_1_2-py"
  },
  "language_info": {
   "codemirror_mode": {
    "name": "ipython",
    "version": 3
   },
   "file_extension": ".py",
   "mimetype": "text/x-python",
   "name": "python",
   "nbconvert_exporter": "python",
   "pygments_lexer": "ipython3",
   "version": "3.5.4"
  }
 },
 "nbformat": 4,
 "nbformat_minor": 2
}
