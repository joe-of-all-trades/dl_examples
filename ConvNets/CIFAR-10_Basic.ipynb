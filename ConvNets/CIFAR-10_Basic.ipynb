{
 "cells": [
  {
   "cell_type": "markdown",
   "metadata": {},
   "source": [
    "In this project, we'll build a simple convolutional neural network for CIFAR-10 image classification. Code contained in this project was based on Tensorflow 1.2.1 and python 3.5. "
   ]
  },
  {
   "cell_type": "code",
   "execution_count": 1,
   "metadata": {
    "collapsed": true
   },
   "outputs": [],
   "source": [
    "from urllib.request import urlretrieve\n",
    "import time\n",
    "from os.path import isfile, isdir\n",
    "from tqdm import tqdm\n",
    "import tarfile\n",
    "import tensorflow as tf\n",
    "\n",
    "cifar10_dataset_folder_path = 'cifar-10-batches-py'\n",
    "tar_gz_path = 'cifar-10-python.tar.gz'\n",
    "\n",
    "class DLProgress(tqdm):\n",
    "    last_block = 0\n",
    "\n",
    "    def hook(self, block_num=1, block_size=1, total_size=None):\n",
    "        self.total = total_size\n",
    "        self.update((block_num - self.last_block) * block_size)\n",
    "        self.last_block = block_num\n",
    "\n",
    "if not isfile(tar_gz_path):\n",
    "    with DLProgress(unit='B', unit_scale=True, miniters=1, desc='CIFAR-10 Dataset') as pbar:\n",
    "        urlretrieve(\n",
    "            'https://www.cs.toronto.edu/~kriz/cifar-10-python.tar.gz',\n",
    "            tar_gz_path,\n",
    "            pbar.hook)\n",
    "\n",
    "if not isdir(cifar10_dataset_folder_path):\n",
    "    with tarfile.open(tar_gz_path) as tar:\n",
    "        tar.extractall()\n",
    "        tar.close()"
   ]
  },
  {
   "cell_type": "code",
   "execution_count": 2,
   "metadata": {},
   "outputs": [
    {
     "name": "stdout",
     "output_type": "stream",
     "text": [
      "\n",
      "Stats of batch 1:\n",
      "Samples: 10000\n",
      "Label Counts: {0: 1005, 1: 974, 2: 1032, 3: 1016, 4: 999, 5: 937, 6: 1030, 7: 1001, 8: 1025, 9: 981}\n",
      "First 20 Labels: [6, 9, 9, 4, 1, 1, 2, 7, 8, 3, 4, 7, 7, 2, 9, 9, 9, 3, 2, 6]\n",
      "\n",
      "Example of Image 6:\n",
      "Image - Min Value: 7 Max Value: 249\n",
      "Image - Shape: (32, 32, 3)\n",
      "Label - Label Id: 2 Name: bird\n"
     ]
    },
    {
     "data": {
      "image/png": "[encoded data removed]",
      "text/plain": [
       "<matplotlib.figure.Figure at 0x7f7c5f702860>"
      ]
     },
     "metadata": {
      "image/png": {
       "height": 250,
       "width": 253
      }
     },
     "output_type": "display_data"
    }
   ],
   "source": [
    "%matplotlib inline\n",
    "%config InlineBackend.figure_format = 'retina'\n",
    "\n",
    "import helper\n",
    "import numpy as np\n",
    "\n",
    "# Explore the dataset\n",
    "batch_id = 1\n",
    "sample_id = 6\n",
    "helper.display_stats(cifar10_dataset_folder_path, batch_id, sample_id)"
   ]
  },
  {
   "cell_type": "markdown",
   "metadata": {},
   "source": [
    "# Preprocess Data\n",
    "\n",
    "## Normalize"
   ]
  },
  {
   "cell_type": "code",
   "execution_count": 3,
   "metadata": {
    "collapsed": true
   },
   "outputs": [],
   "source": [
    "def normalize(x):\n",
    "    \"\"\"\n",
    "    Normalize a list of sample image data in the range of 0 to 1\n",
    "    : x: List of image data.  The image shape is (32, 32, 3)\n",
    "    : return: Numpy array of normalize data\n",
    "    \"\"\"\n",
    "    return ( x - x.min() ) / ( x.max() - x.min() )"
   ]
  },
  {
   "cell_type": "markdown",
   "metadata": {},
   "source": [
    "## One hot encode"
   ]
  },
  {
   "cell_type": "code",
   "execution_count": 4,
   "metadata": {
    "collapsed": true
   },
   "outputs": [],
   "source": [
    "def one_hot_encode(x):\n",
    "    \"\"\"\n",
    "    One hot encode a list of sample labels. Return a one-hot encoded vector for each label.\n",
    "    : x: List of sample Labels\n",
    "    : return: Numpy array of one-hot encoded labels\n",
    "    \"\"\"\n",
    "    output = np.zeros([len(x), 10])\n",
    "    for idx, item in enumerate(x):\n",
    "        output[idx, item] = 1\n",
    "    return output"
   ]
  },
  {
   "cell_type": "markdown",
   "metadata": {},
   "source": [
    "This above function is equivalent to tf.one_hot(x, 10), but tensorflow module can not be pickled so we're sticking with the above implementation."
   ]
  },
  {
   "cell_type": "markdown",
   "metadata": {},
   "source": [
    "## Preprocess Data\n",
    "We will randomly shuffle the data, normalize them and save them in binary format."
   ]
  },
  {
   "cell_type": "code",
   "execution_count": 5,
   "metadata": {
    "collapsed": true
   },
   "outputs": [],
   "source": [
    "import tensorflow as tf\n",
    "# Preprocess Training, Validation, and Testing Data\n",
    "helper.preprocess_and_save_data(cifar10_dataset_folder_path, one_hot_encode)"
   ]
  },
  {
   "cell_type": "markdown",
   "metadata": {},
   "source": [
    "# Checkpoint\n",
    "The above work is all saved so when we're revisiting this notebook we don't have to do those work again. We can start from here."
   ]
  },
  {
   "cell_type": "code",
   "execution_count": 6,
   "metadata": {
    "collapsed": true
   },
   "outputs": [],
   "source": [
    "import pickle\n",
    "import helper\n",
    "\n",
    "valid_features, valid_labels = pickle.load(open('preprocess_validation.p', mode='rb'))\n",
    "batch_mean = np.mean(valid_features)\n",
    "batch_std = np.std(valid_features)\n",
    "valid_features = valid_features.astype(np.float32)\n",
    "for ii in range(valid_features.shape[0]):\n",
    "    valid_features[ii, :, :, :] = (valid_features[ii, :, :, :] - batch_mean) / batch_std"
   ]
  },
  {
   "cell_type": "markdown",
   "metadata": {},
   "source": [
    "# Building the network"
   ]
  },
  {
   "cell_type": "markdown",
   "metadata": {},
   "source": [
    "## Defining input"
   ]
  },
  {
   "cell_type": "code",
   "execution_count": 7,
   "metadata": {
    "collapsed": true
   },
   "outputs": [],
   "source": [
    "import tensorflow as tf\n",
    "\n",
    "def neural_net_image_input(image_shape):\n",
    "    \"\"\"\n",
    "    Return a Tensor for a batch of image input\n",
    "    : image_shape: Shape of the images\n",
    "    \"\"\"\n",
    "    return tf.placeholder(tf.float32, [None, image_shape[0], image_shape[1], image_shape[2]], \"x\")\n",
    "\n",
    "\n",
    "def neural_net_label_input(n_classes):\n",
    "    \"\"\"\n",
    "    Return a Tensor for a batch of label input\n",
    "    : n_classes: Number of classes\n",
    "    \"\"\"\n",
    "    return tf.placeholder(tf.float32, [None, n_classes], \"y\")\n",
    "\n",
    "\n",
    "def neural_net_keep_prob_input():\n",
    "    \"\"\"\n",
    "    Return a Tensor for keep probability\n",
    "    \"\"\"\n",
    "    return tf.placeholder(tf.float32, None, \"keep_prob\")"
   ]
  },
  {
   "cell_type": "markdown",
   "metadata": {},
   "source": [
    "## Convolution and maxpool layer"
   ]
  },
  {
   "cell_type": "code",
   "execution_count": 8,
   "metadata": {
    "collapsed": true
   },
   "outputs": [],
   "source": [
    "def conv2d(x_tensor, conv_num_outputs, conv_ksize, conv_strides):\n",
    "    \"\"\"\n",
    "    Apply convolution then max pooling to x_tensor\n",
    "    :param x_tensor: TensorFlow Tensor\n",
    "    :param conv_num_outputs: Number of outputs for the convolutional layer\n",
    "    :param conv_ksize: kernal size 2-D Tuple for the convolutional layer\n",
    "    :param conv_strides: Stride 2-D Tuple for convolution\n",
    "    :param pool_ksize: kernal size 2-D Tuple for pool\n",
    "    :param pool_strides: Stride 2-D Tuple for pool\n",
    "    : return: A tensor that represents convolution and max pooling of x_tensor\n",
    "    \"\"\"\n",
    "    w = tf.get_variable(\"w\", shape=[conv_ksize[0], conv_ksize[1], x_tensor.get_shape().as_list()[3], conv_num_outputs],\n",
    "                         initializer=tf.contrib.layers.xavier_initializer())\n",
    "    \n",
    "    b = tf.Variable(tf.truncated_normal([conv_num_outputs], mean=0.0, stddev=0.1, dtype=tf.float32))\n",
    "    \n",
    "    wc = tf.nn.conv2d(x_tensor, w, strides=[1, conv_strides[0], conv_strides[1], 1], padding='SAME')\n",
    "    z = tf.nn.bias_add(wc, b)\n",
    "    \n",
    "    return tf.nn.relu(z)\n"
   ]
  },
  {
   "cell_type": "markdown",
   "metadata": {},
   "source": [
    "## Flatten layer\n",
    "Implement the flatten function to change the dimension of x_tensor from a 4-D tensor to a 2-D tensor. The output should be the shape (Batch Size, Flattened Image Size). Shortcut option: you can use classes from the TensorFlow Layers or TensorFlow Layers (contrib) packages for this layer. For more of a challenge, only use other TensorFlow packages."
   ]
  },
  {
   "cell_type": "code",
   "execution_count": 9,
   "metadata": {
    "collapsed": true
   },
   "outputs": [],
   "source": [
    "def flatten(x_tensor):\n",
    "    \"\"\"\n",
    "    Flatten x_tensor to (Batch Size, Flattened Image Size)\n",
    "    : x_tensor: A tensor of size (Batch Size, ...), where ... are the image dimensions.\n",
    "    : return: A tensor of size (Batch Size, Flattened Image Size).\n",
    "    \"\"\"\n",
    "    # reference : https://github.com/tensorflow/tensorflow/issues/7253\n",
    "    return tf.reshape(x_tensor, [tf.shape(x_tensor)[0], np.prod(x_tensor.get_shape().as_list()[1:])])\n",
    "    \n",
    "    # This also works\n",
    "    #return tf.reshape(x_tensor, [-1, np.prod(x_tensor.shape[1:]).value])"
   ]
  },
  {
   "cell_type": "markdown",
   "metadata": {},
   "source": [
    "## Fully connected layer"
   ]
  },
  {
   "cell_type": "code",
   "execution_count": 10,
   "metadata": {
    "collapsed": true
   },
   "outputs": [],
   "source": [
    "def fully_conn(x_tensor, num_outputs):\n",
    "    \"\"\"\n",
    "    Apply a fully connected layer to x_tensor using weight and bias\n",
    "    : x_tensor: A 2-D tensor where the first dimension is batch size.\n",
    "    : num_outputs: The number of output that the new tensor should be.\n",
    "    : return: A 2-D tensor where the second dimension is num_outputs.\n",
    "    \"\"\"\n",
    "    fc = tf.reshape(x_tensor, [-1, np.prod(x_tensor.get_shape().as_list()[1:])])\n",
    "    \n",
    "    w = tf.get_variable(\"w\", shape=[np.prod(x_tensor.get_shape().as_list()[1:]), num_outputs],\n",
    "                         initializer=tf.contrib.layers.xavier_initializer())\n",
    "    \n",
    "    b = tf.Variable(tf.truncated_normal([num_outputs],mean=0.0, stddev=0.1, dtype=tf.float32))\n",
    "    z = tf.add(tf.matmul(fc, w), b)\n",
    "    \n",
    "    return tf.nn.relu(z)"
   ]
  },
  {
   "cell_type": "markdown",
   "metadata": {},
   "source": [
    "## Output layer"
   ]
  },
  {
   "cell_type": "code",
   "execution_count": 11,
   "metadata": {
    "collapsed": true
   },
   "outputs": [],
   "source": [
    "def output(x_tensor, num_outputs):\n",
    "    \"\"\"\n",
    "    Apply a output layer to x_tensor using weight and bias\n",
    "    : x_tensor: A 2-D tensor where the first dimension is batch size.\n",
    "    : num_outputs: The number of output that the new tensor should be.\n",
    "    : return: A 2-D tensor where the second dimension is num_outputs.\n",
    "    \"\"\"\n",
    "    w = tf.get_variable(\"w\", shape=[np.prod(x_tensor.get_shape().as_list()[1:]), num_outputs],\n",
    "                         initializer=tf.contrib.layers.xavier_initializer())\n",
    "    \n",
    "    b = tf.Variable(tf.truncated_normal([num_outputs],mean=0.0, stddev=0.1, dtype=tf.float32))\n",
    "    return tf.add(tf.matmul(x_tensor, w), b)\n"
   ]
  },
  {
   "cell_type": "markdown",
   "metadata": {},
   "source": [
    "## Create the convolutional neural network model"
   ]
  },
  {
   "cell_type": "code",
   "execution_count": 12,
   "metadata": {
    "collapsed": true
   },
   "outputs": [],
   "source": [
    "def conv_net(x, keep_prob):\n",
    "    \"\"\"\n",
    "    Create a convolutional neural network model\n",
    "    : x: Placeholder tensor that holds image data.\n",
    "    : keep_prob: Placeholder tensor that hold dropout keep probability.\n",
    "    : return: Tensor that represents logits\n",
    "    \"\"\"\n",
    "    # Convolution and maxpooling layers\n",
    "    with tf.variable_scope(\"conv1\"):\n",
    "        conv1 = conv2d(x, 40, (3, 3), (1, 1))\n",
    "        \n",
    "    with tf.variable_scope(\"conv2\"):\n",
    "        conv2 = conv2d(conv1, 80, (3, 3), (1, 1))\n",
    "    conv2 = tf.nn.max_pool(conv2, ksize=[1, 2, 2, 1], strides=[1, 2, 2, 1], padding='SAME')\n",
    "    conv2 = tf.nn.dropout(conv2, keep_prob)\n",
    "    \n",
    "    with tf.variable_scope(\"conv3\"):\n",
    "        conv3 = conv2d(conv2, 160, (3, 3), (1, 1))\n",
    "    \n",
    "    with tf.variable_scope(\"conv4\"):\n",
    "        conv4 = conv2d(conv3, 320, (3, 3), (1, 1))\n",
    "    conv4 = tf.nn.max_pool(conv4, ksize=[1, 2, 2, 1], strides=[1, 2, 2, 1], padding='SAME')\n",
    "    conv4 = tf.nn.dropout(conv4, keep_prob)\n",
    "    \n",
    "    # Flatten Layer\n",
    "    f = flatten(conv4)\n",
    "\n",
    "    # Fully Connected layers\n",
    "    with tf.variable_scope(\"fc1\"):\n",
    "        fc1 = fully_conn(f, 512)\n",
    "        fc1 = tf.nn.dropout(fc1, keep_prob)\n",
    "    with tf.variable_scope(\"fc2\"):\n",
    "        fc2 = fully_conn(fc1, 256)\n",
    "        fc2 = tf.nn.dropout(fc2, keep_prob)\n",
    "    \n",
    "    # Output Layer\n",
    "    with tf.variable_scope(\"out\"):\n",
    "        o = output(fc2, 10)\n",
    "    \n",
    "    # TODO: return output\n",
    "    return o"
   ]
  },
  {
   "cell_type": "markdown",
   "metadata": {},
   "source": [
    "## Build the network"
   ]
  },
  {
   "cell_type": "code",
   "execution_count": 13,
   "metadata": {
    "collapsed": true
   },
   "outputs": [],
   "source": [
    "tf.reset_default_graph()\n",
    "\n",
    "# Inputs\n",
    "x = neural_net_image_input((32, 32, 3))\n",
    "y = neural_net_label_input(10)\n",
    "keep_prob = neural_net_keep_prob_input()\n",
    "\n",
    "# Model\n",
    "logits = conv_net(x, keep_prob)\n",
    "\n",
    "# Name logits Tensor, so that is can be loaded from disk after training\n",
    "logits = tf.identity(logits, name='logits')\n",
    "\n",
    "# Loss and Optimizer\n",
    "cost = tf.reduce_mean(tf.nn.softmax_cross_entropy_with_logits(logits=logits, labels=y))\n",
    "optimizer = tf.train.AdamOptimizer(epsilon=1e-04).minimize(cost)\n",
    "\n",
    "# Accuracy\n",
    "correct_pred = tf.equal(tf.argmax(logits, 1), tf.argmax(y, 1))\n",
    "accuracy = tf.reduce_mean(tf.cast(correct_pred, tf.float32), name='accuracy')"
   ]
  },
  {
   "cell_type": "markdown",
   "metadata": {},
   "source": [
    "## Train network"
   ]
  },
  {
   "cell_type": "code",
   "execution_count": 14,
   "metadata": {
    "collapsed": true
   },
   "outputs": [],
   "source": [
    "def train_neural_network(session, optimizer, keep_probability, feature_batch, label_batch):\n",
    "    \"\"\"\n",
    "    Optimize the session on a batch of images and labels\n",
    "    \"\"\"\n",
    "    session.run(optimizer, feed_dict={x: feature_batch, y: label_batch, keep_prob: keep_probability})"
   ]
  },
  {
   "cell_type": "markdown",
   "metadata": {},
   "source": [
    "## Print Stats\n",
    "It's important to evaluate the performance of model once in a while. If effect, we're feeding a small batch of data to the neural network through forward propagation and then caculate the accuracy of prediction. We don't want to do this too often as this slows down the overall process. It's important to keep in mind that since we're actually using the model for prediction but not training it, we need to set keep probability for dropout to 1 so we're not losing any connection between neurons. "
   ]
  },
  {
   "cell_type": "code",
   "execution_count": 15,
   "metadata": {
    "collapsed": true
   },
   "outputs": [],
   "source": [
    "def print_stats(session, feature_batch, label_batch, cost, accuracy):\n",
    "    \"\"\"\n",
    "    Print information about loss and validation accuracy\n",
    "    \"\"\"\n",
    "    loss = session.run(cost, feed_dict={x: feature_batch, y: label_batch, keep_prob: 1.})\n",
    "    valid_acc = session.run(accuracy, feed_dict={x: valid_features, y: valid_labels, keep_prob: 1.})\n",
    "    print('Loss: {:>10.4f} Validation Accuracy: {:.6f}'.format(loss, valid_acc))"
   ]
  },
  {
   "cell_type": "markdown",
   "metadata": {},
   "source": [
    "## Hyperparameters"
   ]
  },
  {
   "cell_type": "code",
   "execution_count": 16,
   "metadata": {
    "collapsed": true
   },
   "outputs": [],
   "source": [
    "epochs = 30\n",
    "batch_size = 128\n",
    "keep_probability = 0.5"
   ]
  },
  {
   "cell_type": "markdown",
   "metadata": {},
   "source": [
    "## Train on a single CIFAR-10 batch"
   ]
  },
  {
   "cell_type": "code",
   "execution_count": 17,
   "metadata": {},
   "outputs": [
    {
     "name": "stdout",
     "output_type": "stream",
     "text": [
      "Checking the Training on a Single Batch...\n",
      "Epoch  1, CIFAR-10 Batch 1:  Loss:     1.8917 Validation Accuracy: 0.304600\n",
      "Epoch  2, CIFAR-10 Batch 1:  Loss:     1.5278 Validation Accuracy: 0.372200\n",
      "Epoch  3, CIFAR-10 Batch 1:  Loss:     1.5882 Validation Accuracy: 0.457800\n",
      "Epoch  4, CIFAR-10 Batch 1:  Loss:     1.0072 Validation Accuracy: 0.480600\n",
      "Epoch  5, CIFAR-10 Batch 1:  Loss:     1.0727 Validation Accuracy: 0.533600\n",
      "Epoch  6, CIFAR-10 Batch 1:  Loss:     1.0169 Validation Accuracy: 0.574000\n",
      "Epoch  7, CIFAR-10 Batch 1:  Loss:     0.8105 Validation Accuracy: 0.589400\n",
      "Epoch  8, CIFAR-10 Batch 1:  Loss:     0.7977 Validation Accuracy: 0.604000\n",
      "Epoch  9, CIFAR-10 Batch 1:  Loss:     0.7437 Validation Accuracy: 0.619000\n",
      "Epoch 10, CIFAR-10 Batch 1:  Loss:     0.4050 Validation Accuracy: 0.630800\n",
      "Epoch 11, CIFAR-10 Batch 1:  Loss:     0.5855 Validation Accuracy: 0.637400\n",
      "Epoch 12, CIFAR-10 Batch 1:  Loss:     0.4964 Validation Accuracy: 0.654600\n",
      "Epoch 13, CIFAR-10 Batch 1:  Loss:     0.5080 Validation Accuracy: 0.667400\n",
      "Epoch 14, CIFAR-10 Batch 1:  Loss:     0.5728 Validation Accuracy: 0.681400\n",
      "Epoch 15, CIFAR-10 Batch 1:  Loss:     0.4830 Validation Accuracy: 0.678200\n",
      "Epoch 16, CIFAR-10 Batch 1:  Loss:     0.3677 Validation Accuracy: 0.683000\n",
      "Epoch 17, CIFAR-10 Batch 1:  Loss:     0.3082 Validation Accuracy: 0.683000\n",
      "Epoch 18, CIFAR-10 Batch 1:  Loss:     0.2915 Validation Accuracy: 0.691400\n",
      "Epoch 19, CIFAR-10 Batch 1:  Loss:     0.1997 Validation Accuracy: 0.685400\n",
      "Epoch 20, CIFAR-10 Batch 1:  Loss:     0.2302 Validation Accuracy: 0.687400\n",
      "Epoch 21, CIFAR-10 Batch 1:  Loss:     0.1120 Validation Accuracy: 0.695200\n",
      "Epoch 22, CIFAR-10 Batch 1:  Loss:     0.1006 Validation Accuracy: 0.686200\n",
      "Epoch 23, CIFAR-10 Batch 1:  Loss:     0.1504 Validation Accuracy: 0.707000\n",
      "Epoch 24, CIFAR-10 Batch 1:  Loss:     0.1146 Validation Accuracy: 0.701800\n",
      "Epoch 25, CIFAR-10 Batch 1:  Loss:     0.0901 Validation Accuracy: 0.698000\n",
      "Epoch 26, CIFAR-10 Batch 1:  Loss:     0.1093 Validation Accuracy: 0.697800\n",
      "Epoch 27, CIFAR-10 Batch 1:  Loss:     0.0616 Validation Accuracy: 0.707400\n",
      "Epoch 28, CIFAR-10 Batch 1:  Loss:     0.0298 Validation Accuracy: 0.704000\n",
      "Epoch 29, CIFAR-10 Batch 1:  Loss:     0.0097 Validation Accuracy: 0.710400\n",
      "Epoch 30, CIFAR-10 Batch 1:  Loss:     0.0522 Validation Accuracy: 0.703800\n",
      "total took:93.6693 seconds\n"
     ]
    }
   ],
   "source": [
    "t1 = time.time()\n",
    "t = 0\n",
    "c = 0\n",
    "print('Checking the Training on a Single Batch...')\n",
    "with tf.Session() as sess:\n",
    "    sess.run(tf.global_variables_initializer())\n",
    "    \n",
    "    # Training cycle\n",
    "    for epoch in range(epochs):\n",
    "        batch_i = 1\n",
    "        for batch_features, batch_labels in helper.load_preprocess_training_batch(batch_i, batch_size):\n",
    "            batch_mean = np.mean(batch_features)\n",
    "            batch_std = np.std(batch_features)\n",
    "            batch_features = batch_features.astype(np.float32)\n",
    "            for ii in range(batch_features.shape[0]):\n",
    "                batch_features[ii, :, :, :] = (batch_features[ii, :, :, :] - batch_mean) / batch_std  \n",
    "            start = time.time()\n",
    "            train_neural_network(sess, optimizer, keep_probability, batch_features, batch_labels)\n",
    "            end = time.time()\n",
    "            t = t + end-start\n",
    "            c += 1\n",
    "            #print('training one batch took: {:0.4f} seconds'.format(end-start))\n",
    "        print('Epoch {:>2}, CIFAR-10 Batch {}:  '.format(epoch + 1, batch_i), end='')\n",
    "        print_stats(sess, batch_features, batch_labels, cost, accuracy)\n",
    "t2 = time.time()\n",
    "print('total took:{:0.4f} seconds'.format(t2-t1))"
   ]
  },
  {
   "cell_type": "code",
   "execution_count": 18,
   "metadata": {},
   "outputs": [
    {
     "data": {
      "text/plain": [
       "0.02893187249770187"
      ]
     },
     "execution_count": 18,
     "metadata": {},
     "output_type": "execute_result"
    }
   ],
   "source": [
    "t / c"
   ]
  },
  {
   "cell_type": "markdown",
   "metadata": {},
   "source": [
    "## Fully train the model"
   ]
  },
  {
   "cell_type": "code",
   "execution_count": 19,
   "metadata": {},
   "outputs": [
    {
     "name": "stdout",
     "output_type": "stream",
     "text": [
      "Training...\n",
      "Epoch  1, CIFAR-10 Batch 1:  Loss:     1.7940 Validation Accuracy: 0.279800\n",
      "Epoch  1, CIFAR-10 Batch 2:  Loss:     1.5829 Validation Accuracy: 0.411000\n",
      "Epoch  1, CIFAR-10 Batch 3:  Loss:     1.4727 Validation Accuracy: 0.453000\n",
      "Epoch  1, CIFAR-10 Batch 4:  Loss:     1.4952 Validation Accuracy: 0.504800\n",
      "Epoch  1, CIFAR-10 Batch 5:  Loss:     1.0511 Validation Accuracy: 0.514000\n",
      "Epoch  2, CIFAR-10 Batch 1:  Loss:     1.1485 Validation Accuracy: 0.564800\n",
      "Epoch  2, CIFAR-10 Batch 2:  Loss:     1.1410 Validation Accuracy: 0.586800\n",
      "Epoch  2, CIFAR-10 Batch 3:  Loss:     0.8796 Validation Accuracy: 0.616000\n",
      "Epoch  2, CIFAR-10 Batch 4:  Loss:     0.9125 Validation Accuracy: 0.628000\n",
      "Epoch  2, CIFAR-10 Batch 5:  Loss:     0.8555 Validation Accuracy: 0.636000\n",
      "Epoch  3, CIFAR-10 Batch 1:  Loss:     1.0708 Validation Accuracy: 0.671600\n",
      "Epoch  3, CIFAR-10 Batch 2:  Loss:     1.0933 Validation Accuracy: 0.655400\n",
      "Epoch  3, CIFAR-10 Batch 3:  Loss:     0.8114 Validation Accuracy: 0.685800\n",
      "Epoch  3, CIFAR-10 Batch 4:  Loss:     0.6305 Validation Accuracy: 0.685400\n",
      "Epoch  3, CIFAR-10 Batch 5:  Loss:     0.6692 Validation Accuracy: 0.701800\n",
      "Epoch  4, CIFAR-10 Batch 1:  Loss:     0.6591 Validation Accuracy: 0.696400\n",
      "Epoch  4, CIFAR-10 Batch 2:  Loss:     0.7907 Validation Accuracy: 0.711800\n",
      "Epoch  4, CIFAR-10 Batch 3:  Loss:     0.5739 Validation Accuracy: 0.738800\n",
      "Epoch  4, CIFAR-10 Batch 4:  Loss:     0.4679 Validation Accuracy: 0.721000\n",
      "Epoch  4, CIFAR-10 Batch 5:  Loss:     0.6602 Validation Accuracy: 0.714400\n",
      "Epoch  5, CIFAR-10 Batch 1:  Loss:     0.5234 Validation Accuracy: 0.755200\n",
      "Epoch  5, CIFAR-10 Batch 2:  Loss:     0.4762 Validation Accuracy: 0.740600\n",
      "Epoch  5, CIFAR-10 Batch 3:  Loss:     0.5250 Validation Accuracy: 0.732800\n",
      "Epoch  5, CIFAR-10 Batch 4:  Loss:     0.5396 Validation Accuracy: 0.747200\n",
      "Epoch  5, CIFAR-10 Batch 5:  Loss:     0.4876 Validation Accuracy: 0.761200\n",
      "Epoch  6, CIFAR-10 Batch 1:  Loss:     0.5272 Validation Accuracy: 0.757800\n",
      "Epoch  6, CIFAR-10 Batch 2:  Loss:     0.6647 Validation Accuracy: 0.762400\n",
      "Epoch  6, CIFAR-10 Batch 3:  Loss:     0.4672 Validation Accuracy: 0.762600\n",
      "Epoch  6, CIFAR-10 Batch 4:  Loss:     0.4157 Validation Accuracy: 0.753400\n",
      "Epoch  6, CIFAR-10 Batch 5:  Loss:     0.4235 Validation Accuracy: 0.780200\n",
      "Epoch  7, CIFAR-10 Batch 1:  Loss:     0.4286 Validation Accuracy: 0.773000\n",
      "Epoch  7, CIFAR-10 Batch 2:  Loss:     0.5717 Validation Accuracy: 0.779200\n",
      "Epoch  7, CIFAR-10 Batch 3:  Loss:     0.4088 Validation Accuracy: 0.759800\n",
      "Epoch  7, CIFAR-10 Batch 4:  Loss:     0.7025 Validation Accuracy: 0.764800\n",
      "Epoch  7, CIFAR-10 Batch 5:  Loss:     0.3142 Validation Accuracy: 0.785000\n",
      "Epoch  8, CIFAR-10 Batch 1:  Loss:     0.2532 Validation Accuracy: 0.783600\n",
      "Epoch  8, CIFAR-10 Batch 2:  Loss:     0.4170 Validation Accuracy: 0.791600\n",
      "Epoch  8, CIFAR-10 Batch 3:  Loss:     0.2564 Validation Accuracy: 0.781800\n",
      "Epoch  8, CIFAR-10 Batch 4:  Loss:     0.5673 Validation Accuracy: 0.787600\n",
      "Epoch  8, CIFAR-10 Batch 5:  Loss:     0.4599 Validation Accuracy: 0.782200\n",
      "Epoch  9, CIFAR-10 Batch 1:  Loss:     0.2871 Validation Accuracy: 0.770800\n",
      "Epoch  9, CIFAR-10 Batch 2:  Loss:     0.2743 Validation Accuracy: 0.784600\n",
      "Epoch  9, CIFAR-10 Batch 3:  Loss:     0.4939 Validation Accuracy: 0.778200\n",
      "Epoch  9, CIFAR-10 Batch 4:  Loss:     0.2963 Validation Accuracy: 0.786600\n",
      "Epoch  9, CIFAR-10 Batch 5:  Loss:     0.4030 Validation Accuracy: 0.782000\n",
      "Epoch 10, CIFAR-10 Batch 1:  Loss:     0.1392 Validation Accuracy: 0.776800\n",
      "Epoch 10, CIFAR-10 Batch 2:  Loss:     0.3472 Validation Accuracy: 0.783400\n",
      "Epoch 10, CIFAR-10 Batch 3:  Loss:     0.3152 Validation Accuracy: 0.797600\n",
      "Epoch 10, CIFAR-10 Batch 4:  Loss:     0.4360 Validation Accuracy: 0.792400\n",
      "Epoch 10, CIFAR-10 Batch 5:  Loss:     0.3209 Validation Accuracy: 0.798000\n",
      "Epoch 11, CIFAR-10 Batch 1:  Loss:     0.3358 Validation Accuracy: 0.810400\n",
      "Epoch 11, CIFAR-10 Batch 2:  Loss:     0.3834 Validation Accuracy: 0.800000\n",
      "Epoch 11, CIFAR-10 Batch 3:  Loss:     0.2547 Validation Accuracy: 0.790000\n",
      "Epoch 11, CIFAR-10 Batch 4:  Loss:     0.3034 Validation Accuracy: 0.793600\n",
      "Epoch 11, CIFAR-10 Batch 5:  Loss:     0.4389 Validation Accuracy: 0.808400\n",
      "Epoch 12, CIFAR-10 Batch 1:  Loss:     0.2701 Validation Accuracy: 0.792000\n",
      "Epoch 12, CIFAR-10 Batch 2:  Loss:     0.2477 Validation Accuracy: 0.809400\n",
      "Epoch 12, CIFAR-10 Batch 3:  Loss:     0.3053 Validation Accuracy: 0.803400\n",
      "Epoch 12, CIFAR-10 Batch 4:  Loss:     0.4602 Validation Accuracy: 0.807600\n",
      "Epoch 12, CIFAR-10 Batch 5:  Loss:     0.4549 Validation Accuracy: 0.812000\n",
      "Epoch 13, CIFAR-10 Batch 1:  Loss:     0.3467 Validation Accuracy: 0.799800\n",
      "Epoch 13, CIFAR-10 Batch 2:  Loss:     0.3585 Validation Accuracy: 0.816800\n",
      "Epoch 13, CIFAR-10 Batch 3:  Loss:     0.3272 Validation Accuracy: 0.814400\n",
      "Epoch 13, CIFAR-10 Batch 4:  Loss:     0.2103 Validation Accuracy: 0.810000\n",
      "Epoch 13, CIFAR-10 Batch 5:  Loss:     0.2826 Validation Accuracy: 0.800800\n",
      "Epoch 14, CIFAR-10 Batch 1:  Loss:     0.2036 Validation Accuracy: 0.801600\n",
      "Epoch 14, CIFAR-10 Batch 2:  Loss:     0.2383 Validation Accuracy: 0.813200\n",
      "Epoch 14, CIFAR-10 Batch 3:  Loss:     0.2348 Validation Accuracy: 0.803000\n",
      "Epoch 14, CIFAR-10 Batch 4:  Loss:     0.2816 Validation Accuracy: 0.813600\n",
      "Epoch 14, CIFAR-10 Batch 5:  Loss:     0.3595 Validation Accuracy: 0.799600\n",
      "Epoch 15, CIFAR-10 Batch 1:  Loss:     0.2630 Validation Accuracy: 0.808400\n",
      "Epoch 15, CIFAR-10 Batch 2:  Loss:     0.1755 Validation Accuracy: 0.811200\n",
      "Epoch 15, CIFAR-10 Batch 3:  Loss:     0.2492 Validation Accuracy: 0.813000\n",
      "Epoch 15, CIFAR-10 Batch 4:  Loss:     0.2325 Validation Accuracy: 0.817400\n",
      "Epoch 15, CIFAR-10 Batch 5:  Loss:     0.1817 Validation Accuracy: 0.812400\n",
      "Epoch 16, CIFAR-10 Batch 1:  Loss:     0.2069 Validation Accuracy: 0.824800\n",
      "Epoch 16, CIFAR-10 Batch 2:  Loss:     0.1029 Validation Accuracy: 0.821000\n",
      "Epoch 16, CIFAR-10 Batch 3:  Loss:     0.2160 Validation Accuracy: 0.815800\n",
      "Epoch 16, CIFAR-10 Batch 4:  Loss:     0.1617 Validation Accuracy: 0.815600\n",
      "Epoch 16, CIFAR-10 Batch 5:  Loss:     0.2271 Validation Accuracy: 0.817200\n",
      "Epoch 17, CIFAR-10 Batch 1:  Loss:     0.3157 Validation Accuracy: 0.820600\n",
      "Epoch 17, CIFAR-10 Batch 2:  Loss:     0.2268 Validation Accuracy: 0.825600\n",
      "Epoch 17, CIFAR-10 Batch 3:  Loss:     0.1634 Validation Accuracy: 0.814600\n",
      "Epoch 17, CIFAR-10 Batch 4:  Loss:     0.2630 Validation Accuracy: 0.824600\n",
      "Epoch 17, CIFAR-10 Batch 5:  Loss:     0.1787 Validation Accuracy: 0.810800\n",
      "Epoch 18, CIFAR-10 Batch 1:  Loss:     0.2390 Validation Accuracy: 0.822800\n",
      "Epoch 18, CIFAR-10 Batch 2:  Loss:     0.1884 Validation Accuracy: 0.822200\n",
      "Epoch 18, CIFAR-10 Batch 3:  Loss:     0.3300 Validation Accuracy: 0.816600\n",
      "Epoch 18, CIFAR-10 Batch 4:  Loss:     0.1242 Validation Accuracy: 0.823000\n",
      "Epoch 18, CIFAR-10 Batch 5:  Loss:     0.1379 Validation Accuracy: 0.818800\n",
      "Epoch 19, CIFAR-10 Batch 1:  Loss:     0.1825 Validation Accuracy: 0.821200\n",
      "Epoch 19, CIFAR-10 Batch 2:  Loss:     0.1319 Validation Accuracy: 0.826400\n",
      "Epoch 19, CIFAR-10 Batch 3:  Loss:     0.2330 Validation Accuracy: 0.819000\n",
      "Epoch 19, CIFAR-10 Batch 4:  Loss:     0.1779 Validation Accuracy: 0.822000\n",
      "Epoch 19, CIFAR-10 Batch 5:  Loss:     0.1930 Validation Accuracy: 0.825000\n",
      "Epoch 20, CIFAR-10 Batch 1:  Loss:     0.1666 Validation Accuracy: 0.824600\n",
      "Epoch 20, CIFAR-10 Batch 2:  Loss:     0.1884 Validation Accuracy: 0.824400\n",
      "Epoch 20, CIFAR-10 Batch 3:  Loss:     0.0926 Validation Accuracy: 0.821000\n",
      "Epoch 20, CIFAR-10 Batch 4:  Loss:     0.0758 Validation Accuracy: 0.833200\n",
      "Epoch 20, CIFAR-10 Batch 5:  Loss:     0.1818 Validation Accuracy: 0.820600\n",
      "Epoch 21, CIFAR-10 Batch 1:  Loss:     0.0735 Validation Accuracy: 0.834200\n",
      "Epoch 21, CIFAR-10 Batch 2:  Loss:     0.3404 Validation Accuracy: 0.826800\n",
      "Epoch 21, CIFAR-10 Batch 3:  Loss:     0.1015 Validation Accuracy: 0.820800\n",
      "Epoch 21, CIFAR-10 Batch 4:  Loss:     0.1561 Validation Accuracy: 0.810600\n",
      "Epoch 21, CIFAR-10 Batch 5:  Loss:     0.1230 Validation Accuracy: 0.831400\n",
      "Epoch 22, CIFAR-10 Batch 1:  Loss:     0.0497 Validation Accuracy: 0.826000\n",
      "Epoch 22, CIFAR-10 Batch 2:  Loss:     0.1361 Validation Accuracy: 0.826000\n",
      "Epoch 22, CIFAR-10 Batch 3:  Loss:     0.1400 Validation Accuracy: 0.831200\n"
     ]
    },
    {
     "name": "stdout",
     "output_type": "stream",
     "text": [
      "Epoch 22, CIFAR-10 Batch 4:  Loss:     0.0896 Validation Accuracy: 0.827000\n",
      "Epoch 22, CIFAR-10 Batch 5:  Loss:     0.0912 Validation Accuracy: 0.822800\n",
      "Epoch 23, CIFAR-10 Batch 1:  Loss:     0.0974 Validation Accuracy: 0.826800\n",
      "Epoch 23, CIFAR-10 Batch 2:  Loss:     0.1601 Validation Accuracy: 0.832200\n",
      "Epoch 23, CIFAR-10 Batch 3:  Loss:     0.1193 Validation Accuracy: 0.821200\n",
      "Epoch 23, CIFAR-10 Batch 4:  Loss:     0.0967 Validation Accuracy: 0.826800\n",
      "Epoch 23, CIFAR-10 Batch 5:  Loss:     0.0908 Validation Accuracy: 0.823400\n",
      "Epoch 24, CIFAR-10 Batch 1:  Loss:     0.0703 Validation Accuracy: 0.831400\n",
      "Epoch 24, CIFAR-10 Batch 2:  Loss:     0.1236 Validation Accuracy: 0.823800\n",
      "Epoch 24, CIFAR-10 Batch 3:  Loss:     0.0847 Validation Accuracy: 0.822400\n",
      "Epoch 24, CIFAR-10 Batch 4:  Loss:     0.1410 Validation Accuracy: 0.828800\n",
      "Epoch 24, CIFAR-10 Batch 5:  Loss:     0.0736 Validation Accuracy: 0.827600\n",
      "Epoch 25, CIFAR-10 Batch 1:  Loss:     0.0872 Validation Accuracy: 0.828000\n",
      "Epoch 25, CIFAR-10 Batch 2:  Loss:     0.0553 Validation Accuracy: 0.820600\n",
      "Epoch 25, CIFAR-10 Batch 3:  Loss:     0.1208 Validation Accuracy: 0.819000\n",
      "Epoch 25, CIFAR-10 Batch 4:  Loss:     0.1430 Validation Accuracy: 0.827600\n",
      "Epoch 25, CIFAR-10 Batch 5:  Loss:     0.1305 Validation Accuracy: 0.824800\n",
      "Epoch 26, CIFAR-10 Batch 1:  Loss:     0.0541 Validation Accuracy: 0.818800\n",
      "Epoch 26, CIFAR-10 Batch 2:  Loss:     0.1581 Validation Accuracy: 0.818000\n",
      "Epoch 26, CIFAR-10 Batch 3:  Loss:     0.0677 Validation Accuracy: 0.828600\n",
      "Epoch 26, CIFAR-10 Batch 4:  Loss:     0.0556 Validation Accuracy: 0.834800\n",
      "Epoch 26, CIFAR-10 Batch 5:  Loss:     0.0904 Validation Accuracy: 0.821200\n",
      "Epoch 27, CIFAR-10 Batch 1:  Loss:     0.1595 Validation Accuracy: 0.823000\n",
      "Epoch 27, CIFAR-10 Batch 2:  Loss:     0.0979 Validation Accuracy: 0.824800\n",
      "Epoch 27, CIFAR-10 Batch 3:  Loss:     0.0912 Validation Accuracy: 0.832000\n",
      "Epoch 27, CIFAR-10 Batch 4:  Loss:     0.0580 Validation Accuracy: 0.831600\n",
      "Epoch 27, CIFAR-10 Batch 5:  Loss:     0.0610 Validation Accuracy: 0.828800\n",
      "Epoch 28, CIFAR-10 Batch 1:  Loss:     0.0803 Validation Accuracy: 0.828000\n",
      "Epoch 28, CIFAR-10 Batch 2:  Loss:     0.0507 Validation Accuracy: 0.829200\n",
      "Epoch 28, CIFAR-10 Batch 3:  Loss:     0.0959 Validation Accuracy: 0.828600\n",
      "Epoch 28, CIFAR-10 Batch 4:  Loss:     0.0419 Validation Accuracy: 0.834200\n",
      "Epoch 28, CIFAR-10 Batch 5:  Loss:     0.1088 Validation Accuracy: 0.832400\n",
      "Epoch 29, CIFAR-10 Batch 1:  Loss:     0.0475 Validation Accuracy: 0.830600\n",
      "Epoch 29, CIFAR-10 Batch 2:  Loss:     0.0212 Validation Accuracy: 0.833800\n",
      "Epoch 29, CIFAR-10 Batch 3:  Loss:     0.1172 Validation Accuracy: 0.834400\n",
      "Epoch 29, CIFAR-10 Batch 4:  Loss:     0.0679 Validation Accuracy: 0.827800\n",
      "Epoch 29, CIFAR-10 Batch 5:  Loss:     0.1061 Validation Accuracy: 0.830000\n",
      "Epoch 30, CIFAR-10 Batch 1:  Loss:     0.1437 Validation Accuracy: 0.825600\n",
      "Epoch 30, CIFAR-10 Batch 2:  Loss:     0.0741 Validation Accuracy: 0.826400\n",
      "Epoch 30, CIFAR-10 Batch 3:  Loss:     0.0661 Validation Accuracy: 0.830800\n",
      "Epoch 30, CIFAR-10 Batch 4:  Loss:     0.0804 Validation Accuracy: 0.831800\n",
      "Epoch 30, CIFAR-10 Batch 5:  Loss:     0.0577 Validation Accuracy: 0.828200\n"
     ]
    }
   ],
   "source": [
    "save_model_path = './image_classification'\n",
    "\n",
    "print('Training...')\n",
    "with tf.Session() as sess:\n",
    "    # Initializing the variables\n",
    "    sess.run(tf.global_variables_initializer())\n",
    "    \n",
    "    # Training cycle\n",
    "    for epoch in range(epochs):\n",
    "        # Loop over all batches\n",
    "        n_batches = 5\n",
    "        for batch_i in range(1, n_batches + 1):\n",
    "            \n",
    "            for batch_features, batch_labels in helper.load_preprocess_training_batch(batch_i, batch_size):\n",
    "                \n",
    "                batch_mean = np.mean(batch_features)\n",
    "                batch_std = np.std(batch_features)\n",
    "                batch_features = batch_features.astype(np.float32)\n",
    "                for ii in range(batch_features.shape[0]):\n",
    "                    batch_features[ii, :, :, :] = (batch_features[ii, :, :, :] - batch_mean) / batch_std \n",
    "                train_neural_network(sess, optimizer, keep_probability, batch_features, batch_labels)\n",
    "            print('Epoch {:>2}, CIFAR-10 Batch {}:  '.format(epoch + 1, batch_i), end='')\n",
    "            print_stats(sess, batch_features, batch_labels, cost, accuracy)\n",
    "            \n",
    "    # Save Model\n",
    "    saver = tf.train.Saver()\n",
    "    save_path = saver.save(sess, save_model_path)"
   ]
  },
  {
   "cell_type": "markdown",
   "metadata": {},
   "source": [
    "## Test model"
   ]
  },
  {
   "cell_type": "code",
   "execution_count": 20,
   "metadata": {},
   "outputs": [
    {
     "name": "stdout",
     "output_type": "stream",
     "text": [
      "INFO:tensorflow:Restoring parameters from ./image_classification\n",
      "Testing Accuracy: 0.815565664556962\n",
      "\n"
     ]
    },
    {
     "data": {
      "image/png": "[encoded data removed]",
      "text/plain": [
       "<matplotlib.figure.Figure at 0x7f7c00769eb8>"
      ]
     },
     "metadata": {
      "image/png": {
       "height": 319,
       "width": 355
      }
     },
     "output_type": "display_data"
    }
   ],
   "source": [
    "%matplotlib inline\n",
    "%config InlineBackend.figure_format = 'retina'\n",
    "\n",
    "import tensorflow as tf\n",
    "import pickle\n",
    "import helper\n",
    "import random\n",
    "\n",
    "batch_size = 128\n",
    "\n",
    "save_model_path = './image_classification'\n",
    "n_samples = 4\n",
    "top_n_predictions = 3\n",
    "\n",
    "def test_model():\n",
    "    \"\"\"\n",
    "    Test the saved model against the test dataset\n",
    "    \"\"\"\n",
    "    test_features, test_labels = pickle.load(open('preprocess_test.p', mode='rb'))\n",
    "    test_features = test_features.astype(np.float32)\n",
    "    batch_mean = np.mean(test_features)\n",
    "    batch_std = np.std(test_features)\n",
    "    for ii in range(test_features.shape[0]):\n",
    "        test_features[ii,:,:,:] = (test_features[ii,:,:,:] - batch_mean) / batch_std\n",
    "    \n",
    "    loaded_graph = tf.Graph()\n",
    "    \n",
    "    with tf.Session(graph=loaded_graph) as sess:\n",
    "        # Load model\n",
    "        loader = tf.train.import_meta_graph(save_model_path + '.meta')\n",
    "        loader.restore(sess, save_model_path)\n",
    "\n",
    "        # Get Tensors from loaded model\n",
    "        loaded_x = loaded_graph.get_tensor_by_name('x:0')\n",
    "        loaded_y = loaded_graph.get_tensor_by_name('y:0')\n",
    "        loaded_keep_prob = loaded_graph.get_tensor_by_name('keep_prob:0')\n",
    "        loaded_logits = loaded_graph.get_tensor_by_name('logits:0')\n",
    "        loaded_acc = loaded_graph.get_tensor_by_name('accuracy:0')\n",
    "        \n",
    "        # Get accuracy in batches for memory limitations\n",
    "        test_batch_acc_total = 0\n",
    "        test_batch_count = 0\n",
    "        \n",
    "        for test_feature_batch, test_label_batch in helper.batch_features_labels(test_features, test_labels, batch_size):\n",
    "            test_batch_acc_total += sess.run(loaded_acc,\n",
    "                feed_dict={loaded_x: test_feature_batch, loaded_y: test_label_batch, loaded_keep_prob: 1.0})\n",
    "            test_batch_count += 1\n",
    "\n",
    "        print('Testing Accuracy: {}\\n'.format(test_batch_acc_total/test_batch_count))\n",
    "\n",
    "        # Print Random Samples\n",
    "        random_test_features, random_test_labels = tuple(zip(*random.sample(list(zip(test_features, test_labels)), n_samples)))\n",
    "        random_test_predictions = sess.run(tf.nn.top_k(tf.nn.softmax(loaded_logits), top_n_predictions),\n",
    "            feed_dict={loaded_x: random_test_features, loaded_y: random_test_labels, loaded_keep_prob: 1.0})\n",
    "        helper.display_image_predictions(random_test_features, random_test_labels, random_test_predictions)\n",
    "\n",
    "test_model()"
   ]
  },
  {
   "cell_type": "code",
   "execution_count": null,
   "metadata": {
    "collapsed": true
   },
   "outputs": [],
   "source": []
  }
 ],
 "metadata": {
  "kernelspec": {
   "display_name": "Python [conda env:tf_1_2]",
   "language": "python",
   "name": "conda-env-tf_1_2-py"
  },
  "language_info": {
   "codemirror_mode": {
    "name": "ipython",
    "version": 3
   },
   "file_extension": ".py",
   "mimetype": "text/x-python",
   "name": "python",
   "nbconvert_exporter": "python",
   "pygments_lexer": "ipython3",
   "version": "3.5.3"
  }
 },
 "nbformat": 4,
 "nbformat_minor": 2
}
