{
 "cells": [
  {
   "cell_type": "markdown",
   "metadata": {},
   "source": [
    "In this project, we'll build a simple convolutional neural network for CIFAR-10 image classification. Code contained in this project was based on Tensorflow 1.2.1 and python 3.5. "
   ]
  },
  {
   "cell_type": "code",
   "execution_count": 1,
   "metadata": {},
   "outputs": [],
   "source": [
    "from urllib.request import urlretrieve\n",
    "from os.path import isfile, isdir\n",
    "from tqdm import tqdm\n",
    "import tarfile\n",
    "import tensorflow as tf\n",
    "\n",
    "cifar10_dataset_folder_path = 'cifar-10-batches-py'\n",
    "tar_gz_path = 'cifar-10-python.tar.gz'\n",
    "\n",
    "class DLProgress(tqdm):\n",
    "    last_block = 0\n",
    "\n",
    "    def hook(self, block_num=1, block_size=1, total_size=None):\n",
    "        self.total = total_size\n",
    "        self.update((block_num - self.last_block) * block_size)\n",
    "        self.last_block = block_num\n",
    "\n",
    "if not isfile(tar_gz_path):\n",
    "    with DLProgress(unit='B', unit_scale=True, miniters=1, desc='CIFAR-10 Dataset') as pbar:\n",
    "        urlretrieve(\n",
    "            'https://www.cs.toronto.edu/~kriz/cifar-10-python.tar.gz',\n",
    "            tar_gz_path,\n",
    "            pbar.hook)\n",
    "\n",
    "if not isdir(cifar10_dataset_folder_path):\n",
    "    with tarfile.open(tar_gz_path) as tar:\n",
    "        tar.extractall()\n",
    "        tar.close()"
   ]
  },
  {
   "cell_type": "code",
   "execution_count": 2,
   "metadata": {},
   "outputs": [
    {
     "name": "stdout",
     "output_type": "stream",
     "text": [
      "\n",
      "Stats of batch 1:\n",
      "Samples: 10000\n",
      "Label Counts: {0: 1005, 1: 974, 2: 1032, 3: 1016, 4: 999, 5: 937, 6: 1030, 7: 1001, 8: 1025, 9: 981}\n",
      "First 20 Labels: [6, 9, 9, 4, 1, 1, 2, 7, 8, 3, 4, 7, 7, 2, 9, 9, 9, 3, 2, 6]\n",
      "\n",
      "Example of Image 6:\n",
      "Image - Min Value: 7 Max Value: 249\n",
      "Image - Shape: (32, 32, 3)\n",
      "Label - Label Id: 2 Name: bird\n"
     ]
    },
    {
     "data": {
      "image/png": "[encoded data removed]",
      "text/plain": [
       "<matplotlib.figure.Figure at 0x1ffebca00b8>"
      ]
     },
     "metadata": {
      "image/png": {
       "height": 250,
       "width": 253
      }
     },
     "output_type": "display_data"
    }
   ],
   "source": [
    "%matplotlib inline\n",
    "%config InlineBackend.figure_format = 'retina'\n",
    "\n",
    "import helper\n",
    "import numpy as np\n",
    "\n",
    "# Explore the dataset\n",
    "batch_id = 1\n",
    "sample_id = 6\n",
    "helper.display_stats(cifar10_dataset_folder_path, batch_id, sample_id)"
   ]
  },
  {
   "cell_type": "markdown",
   "metadata": {},
   "source": [
    "# Preprocess Data\n",
    "\n",
    "## Normalize"
   ]
  },
  {
   "cell_type": "code",
   "execution_count": 3,
   "metadata": {
    "collapsed": true
   },
   "outputs": [],
   "source": [
    "def normalize(x):\n",
    "    \"\"\"\n",
    "    Normalize a list of sample image data in the range of 0 to 1\n",
    "    : x: List of image data.  The image shape is (32, 32, 3)\n",
    "    : return: Numpy array of normalize data\n",
    "    \"\"\"\n",
    "    return ( x - x.min() ) / ( x.max() - x.min() )"
   ]
  },
  {
   "cell_type": "markdown",
   "metadata": {},
   "source": [
    "## One hot encode"
   ]
  },
  {
   "cell_type": "code",
   "execution_count": 4,
   "metadata": {},
   "outputs": [],
   "source": [
    "def one_hot_encode(x):\n",
    "    \"\"\"\n",
    "    One hot encode a list of sample labels. Return a one-hot encoded vector for each label.\n",
    "    : x: List of sample Labels\n",
    "    : return: Numpy array of one-hot encoded labels\n",
    "    \"\"\"\n",
    "    output = np.zeros([len(x), 10])\n",
    "    for idx, item in enumerate(x):\n",
    "        output[idx, item] = 1\n",
    "    return output"
   ]
  },
  {
   "cell_type": "markdown",
   "metadata": {},
   "source": [
    "This above function is equivalent to tf.one_hot(x, 10), but tensorflow module can not be pickled so we're sticking with the above implementation."
   ]
  },
  {
   "cell_type": "markdown",
   "metadata": {},
   "source": [
    "## Preprocess Data\n",
    "We will randomly shuffle the data, normalize them and save them in binary format."
   ]
  },
  {
   "cell_type": "code",
   "execution_count": 5,
   "metadata": {},
   "outputs": [],
   "source": [
    "import tensorflow as tf\n",
    "# Preprocess Training, Validation, and Testing Data\n",
    "helper.preprocess_and_save_data(cifar10_dataset_folder_path, normalize, one_hot_encode)"
   ]
  },
  {
   "cell_type": "markdown",
   "metadata": {},
   "source": [
    "# Checkpoint\n",
    "The above work is all saved so when we're revisiting this notebook we don't have to do those work again. We can start from here."
   ]
  },
  {
   "cell_type": "code",
   "execution_count": 6,
   "metadata": {},
   "outputs": [],
   "source": [
    "import pickle\n",
    "import helper\n",
    "\n",
    "valid_features, valid_labels = pickle.load(open('preprocess_validation.p', mode='rb'))"
   ]
  },
  {
   "cell_type": "markdown",
   "metadata": {},
   "source": [
    "# Building the network"
   ]
  },
  {
   "cell_type": "markdown",
   "metadata": {},
   "source": [
    "## Defining input"
   ]
  },
  {
   "cell_type": "code",
   "execution_count": 7,
   "metadata": {
    "collapsed": true
   },
   "outputs": [],
   "source": [
    "import tensorflow as tf\n",
    "\n",
    "def neural_net_image_input(image_shape):\n",
    "    \"\"\"\n",
    "    Return a Tensor for a batch of image input\n",
    "    : image_shape: Shape of the images\n",
    "    \"\"\"\n",
    "    return tf.placeholder(tf.float32, [None, image_shape[0], image_shape[1], image_shape[2]], \"x\")\n",
    "\n",
    "\n",
    "def neural_net_label_input(n_classes):\n",
    "    \"\"\"\n",
    "    Return a Tensor for a batch of label input\n",
    "    : n_classes: Number of classes\n",
    "    \"\"\"\n",
    "    return tf.placeholder(tf.float32, [None, n_classes], \"y\")\n",
    "\n",
    "\n",
    "def neural_net_keep_prob_input():\n",
    "    \"\"\"\n",
    "    Return a Tensor for keep probability\n",
    "    \"\"\"\n",
    "    return tf.placeholder(tf.float32, None, \"keep_prob\")"
   ]
  },
  {
   "cell_type": "markdown",
   "metadata": {},
   "source": [
    "## Convolution and maxpool layer"
   ]
  },
  {
   "cell_type": "code",
   "execution_count": 8,
   "metadata": {
    "collapsed": true
   },
   "outputs": [],
   "source": [
    "def conv2d_maxpool(x_tensor, conv_num_outputs, conv_ksize, conv_strides, pool_ksize, pool_strides, maxpool=True):\n",
    "    \"\"\"\n",
    "    Apply convolution then max pooling to x_tensor\n",
    "    :param x_tensor: TensorFlow Tensor\n",
    "    :param conv_num_outputs: Number of outputs for the convolutional layer\n",
    "    :param conv_ksize: kernal size 2-D Tuple for the convolutional layer\n",
    "    :param conv_strides: Stride 2-D Tuple for convolution\n",
    "    :param pool_ksize: kernal size 2-D Tuple for pool\n",
    "    :param pool_strides: Stride 2-D Tuple for pool\n",
    "    : return: A tensor that represents convolution and max pooling of x_tensor\n",
    "    \"\"\"\n",
    "    w = tf.get_variable(\"w\", shape=[conv_ksize[0], conv_ksize[1], x_tensor.get_shape().as_list()[3], conv_num_outputs],\n",
    "                         initializer=tf.contrib.layers.xavier_initializer())\n",
    "    \n",
    "    b = tf.Variable(tf.truncated_normal([conv_num_outputs],\n",
    "                                      mean=0.0, stddev=0.1, dtype=tf.float32))\n",
    "    \n",
    "    wc = tf.nn.conv2d(x_tensor, w, strides=[1, conv_strides[0], conv_strides[1], 1], padding='SAME')\n",
    "    z = tf.nn.bias_add(wc, b)\n",
    "    \n",
    "    if maxpool==True:\n",
    "        z = tf.nn.max_pool(z, ksize=[1, pool_ksize[0], pool_ksize[1], 1], \n",
    "                           strides=[1, pool_strides[0], pool_strides[1], 1], padding='SAME')\n",
    "    \n",
    "    return tf.nn.relu(z)\n"
   ]
  },
  {
   "cell_type": "markdown",
   "metadata": {},
   "source": [
    "## Flatten layer\n",
    "Implement the flatten function to change the dimension of x_tensor from a 4-D tensor to a 2-D tensor. The output should be the shape (Batch Size, Flattened Image Size). Shortcut option: you can use classes from the TensorFlow Layers or TensorFlow Layers (contrib) packages for this layer. For more of a challenge, only use other TensorFlow packages."
   ]
  },
  {
   "cell_type": "code",
   "execution_count": 9,
   "metadata": {
    "collapsed": true
   },
   "outputs": [],
   "source": [
    "def flatten(x_tensor):\n",
    "    \"\"\"\n",
    "    Flatten x_tensor to (Batch Size, Flattened Image Size)\n",
    "    : x_tensor: A tensor of size (Batch Size, ...), where ... are the image dimensions.\n",
    "    : return: A tensor of size (Batch Size, Flattened Image Size).\n",
    "    \"\"\"\n",
    "    # reference : https://github.com/tensorflow/tensorflow/issues/7253\n",
    "    return tf.reshape(x_tensor, [tf.shape(x_tensor)[0], np.prod(x_tensor.get_shape().as_list()[1:])])\n",
    "    \n",
    "    # This also works\n",
    "    #return tf.reshape(x_tensor, [-1, np.prod(x_tensor.shape[1:]).value])"
   ]
  },
  {
   "cell_type": "markdown",
   "metadata": {},
   "source": [
    "## Fully connected layer"
   ]
  },
  {
   "cell_type": "code",
   "execution_count": 10,
   "metadata": {
    "collapsed": true
   },
   "outputs": [],
   "source": [
    "def fully_conn(x_tensor, num_outputs):\n",
    "    \"\"\"\n",
    "    Apply a fully connected layer to x_tensor using weight and bias\n",
    "    : x_tensor: A 2-D tensor where the first dimension is batch size.\n",
    "    : num_outputs: The number of output that the new tensor should be.\n",
    "    : return: A 2-D tensor where the second dimension is num_outputs.\n",
    "    \"\"\"\n",
    "    fc = tf.reshape(x_tensor, [-1, np.prod(x_tensor.get_shape().as_list()[1:])])\n",
    "    \n",
    "    w = tf.get_variable(\"w\", shape=[np.prod(x_tensor.get_shape().as_list()[1:]), num_outputs],\n",
    "                         initializer=tf.contrib.layers.xavier_initializer())\n",
    "    \n",
    "    b = tf.Variable(tf.truncated_normal([num_outputs],mean=0.0, stddev=0.1, dtype=tf.float32))\n",
    "    z = tf.add(tf.matmul(fc, w), b)\n",
    "    \n",
    "    return tf.nn.relu(z)"
   ]
  },
  {
   "cell_type": "markdown",
   "metadata": {},
   "source": [
    "## Output layer"
   ]
  },
  {
   "cell_type": "code",
   "execution_count": 11,
   "metadata": {
    "collapsed": true
   },
   "outputs": [],
   "source": [
    "def output(x_tensor, num_outputs):\n",
    "    \"\"\"\n",
    "    Apply a output layer to x_tensor using weight and bias\n",
    "    : x_tensor: A 2-D tensor where the first dimension is batch size.\n",
    "    : num_outputs: The number of output that the new tensor should be.\n",
    "    : return: A 2-D tensor where the second dimension is num_outputs.\n",
    "    \"\"\"\n",
    "    w = tf.get_variable(\"w\", shape=[np.prod(x_tensor.get_shape().as_list()[1:]), num_outputs],\n",
    "                         initializer=tf.contrib.layers.xavier_initializer())\n",
    "    \n",
    "    b = tf.Variable(tf.truncated_normal([num_outputs],mean=0.0, stddev=0.1, dtype=tf.float32))\n",
    "    return tf.add(tf.matmul(x_tensor, w), b)\n"
   ]
  },
  {
   "cell_type": "markdown",
   "metadata": {},
   "source": [
    "## Create the convolutional neural network model"
   ]
  },
  {
   "cell_type": "code",
   "execution_count": 12,
   "metadata": {
    "collapsed": true
   },
   "outputs": [],
   "source": [
    "def conv_net(x, keep_prob):\n",
    "    \"\"\"\n",
    "    Create a convolutional neural network model\n",
    "    : x: Placeholder tensor that holds image data.\n",
    "    : keep_prob: Placeholder tensor that hold dropout keep probability.\n",
    "    : return: Tensor that represents logits\n",
    "    \"\"\"\n",
    "    # Convolution and maxpooling layers\n",
    "    with tf.variable_scope(\"conv1\"):\n",
    "        conv1 = conv2d_maxpool(x, 40, (3, 3), (1, 1), (2, 2), (2, 2), maxpool=False)\n",
    "    with tf.variable_scope(\"conv2\"):\n",
    "        conv2 = conv2d_maxpool(conv1, 80, (3, 3), (1, 1), (2, 2), (2, 2), maxpool=True)\n",
    "    # norm1 = tf.nn.lrn(conv2, 4, bias=1.0, alpha=0.001 / 9.0, beta=0.75,name='norm1')\n",
    "    conv2 = tf.nn.dropout(conv2, keep_prob)\n",
    "    with tf.variable_scope(\"conv3\"):\n",
    "        conv3 = conv2d_maxpool(conv2, 160, (3, 3), (1, 1), (2, 2), (2, 2), maxpool=False)\n",
    "    with tf.variable_scope(\"conv4\"):\n",
    "        conv4 = conv2d_maxpool(conv3, 320, (3, 3), (1, 1), (2, 2), (2, 2), maxpool=True)\n",
    "    #norm2 = tf.nn.lrn(conv4, 4, bias=1.0, alpha=0.001 / 9.0, beta=0.75,name='norm2')\n",
    "    conv4 = tf.nn.dropout(conv4, keep_prob)\n",
    "    \n",
    "    # Flatten Layer\n",
    "    f = flatten(conv4)\n",
    "\n",
    "    # Fully Connected layers\n",
    "    with tf.variable_scope(\"fc1\"):\n",
    "        fc1 = fully_conn(f, 512)\n",
    "        fc1 = tf.nn.dropout(fc1, keep_prob)\n",
    "    with tf.variable_scope(\"fc2\"):\n",
    "        fc2 = fully_conn(fc1, 256)\n",
    "        fc2 = tf.nn.dropout(fc2, keep_prob)\n",
    "    \n",
    "    # Output Layer\n",
    "    with tf.variable_scope(\"out\"):\n",
    "        o = output(fc2, 10)\n",
    "    \n",
    "    # TODO: return output\n",
    "    return o"
   ]
  },
  {
   "cell_type": "markdown",
   "metadata": {},
   "source": [
    "## Build the network"
   ]
  },
  {
   "cell_type": "code",
   "execution_count": 13,
   "metadata": {
    "collapsed": true
   },
   "outputs": [],
   "source": [
    "tf.reset_default_graph()\n",
    "\n",
    "# Inputs\n",
    "x = neural_net_image_input((32, 32, 3))\n",
    "y = neural_net_label_input(10)\n",
    "keep_prob = neural_net_keep_prob_input()\n",
    "\n",
    "# Model\n",
    "logits = conv_net(x, keep_prob)\n",
    "\n",
    "# Name logits Tensor, so that is can be loaded from disk after training\n",
    "logits = tf.identity(logits, name='logits')\n",
    "\n",
    "# Loss and Optimizer\n",
    "cost = tf.reduce_mean(tf.nn.softmax_cross_entropy_with_logits(logits=logits, labels=y))\n",
    "optimizer = tf.train.AdamOptimizer(epsilon=1e-04).minimize(cost)\n",
    "\n",
    "# Accuracy\n",
    "correct_pred = tf.equal(tf.argmax(logits, 1), tf.argmax(y, 1))\n",
    "accuracy = tf.reduce_mean(tf.cast(correct_pred, tf.float32), name='accuracy')"
   ]
  },
  {
   "cell_type": "markdown",
   "metadata": {},
   "source": [
    "## Train network"
   ]
  },
  {
   "cell_type": "code",
   "execution_count": 14,
   "metadata": {
    "collapsed": true
   },
   "outputs": [],
   "source": [
    "def train_neural_network(session, optimizer, keep_probability, feature_batch, label_batch):\n",
    "    \"\"\"\n",
    "    Optimize the session on a batch of images and labels\n",
    "    \"\"\"\n",
    "    session.run(optimizer, feed_dict={x: feature_batch, y: label_batch, keep_prob: keep_probability})"
   ]
  },
  {
   "cell_type": "markdown",
   "metadata": {},
   "source": [
    "## Print Stats\n",
    "It's important to evaluate the performance of model once in a while. If effect, we're feeding a small batch of data to the neural network through forward propagation and then caculate the accuracy of prediction. We don't want to do this too often as this slows down the overall process. It's important to keep in mind that since we're actually using the model for prediction but not training it, we need to set keep probability for dropout to 1 so we're not losing any connection between neurons. "
   ]
  },
  {
   "cell_type": "code",
   "execution_count": 15,
   "metadata": {
    "collapsed": true
   },
   "outputs": [],
   "source": [
    "def print_stats(session, feature_batch, label_batch, cost, accuracy):\n",
    "    \"\"\"\n",
    "    Print information about loss and validation accuracy\n",
    "    \"\"\"\n",
    "    loss = session.run(cost, feed_dict={x: feature_batch, y: label_batch, keep_prob: 1.})\n",
    "    valid_acc = session.run(accuracy, feed_dict={x: valid_features, y: valid_labels, keep_prob: 1.})\n",
    "    print('Loss: {:>10.4f} Validation Accuracy: {:.6f}'.format(loss, valid_acc))"
   ]
  },
  {
   "cell_type": "markdown",
   "metadata": {},
   "source": [
    "## Hyperparameters"
   ]
  },
  {
   "cell_type": "code",
   "execution_count": 16,
   "metadata": {
    "collapsed": true
   },
   "outputs": [],
   "source": [
    "epochs = 30\n",
    "batch_size = 128\n",
    "keep_probability = 0.5"
   ]
  },
  {
   "cell_type": "markdown",
   "metadata": {},
   "source": [
    "## Train on a single CIFAR-10 batch"
   ]
  },
  {
   "cell_type": "code",
   "execution_count": 17,
   "metadata": {},
   "outputs": [
    {
     "name": "stdout",
     "output_type": "stream",
     "text": [
      "Checking the Training on a Single Batch...\n",
      "Epoch  1, CIFAR-10 Batch 1:  Loss:     2.1947 Validation Accuracy: 0.245400\n",
      "Epoch  2, CIFAR-10 Batch 1:  Loss:     2.0570 Validation Accuracy: 0.309600\n",
      "Epoch  3, CIFAR-10 Batch 1:  Loss:     1.7925 Validation Accuracy: 0.398200\n",
      "Epoch  4, CIFAR-10 Batch 1:  Loss:     1.6331 Validation Accuracy: 0.440400\n",
      "Epoch  5, CIFAR-10 Batch 1:  Loss:     1.5380 Validation Accuracy: 0.473400\n",
      "Epoch  6, CIFAR-10 Batch 1:  Loss:     1.3290 Validation Accuracy: 0.503600\n",
      "Epoch  7, CIFAR-10 Batch 1:  Loss:     1.2129 Validation Accuracy: 0.531600\n",
      "Epoch  8, CIFAR-10 Batch 1:  Loss:     1.1562 Validation Accuracy: 0.542000\n",
      "Epoch  9, CIFAR-10 Batch 1:  Loss:     0.9836 Validation Accuracy: 0.550400\n",
      "Epoch 10, CIFAR-10 Batch 1:  Loss:     0.8717 Validation Accuracy: 0.563600\n",
      "Epoch 11, CIFAR-10 Batch 1:  Loss:     0.7652 Validation Accuracy: 0.585800\n",
      "Epoch 12, CIFAR-10 Batch 1:  Loss:     0.5693 Validation Accuracy: 0.602200\n",
      "Epoch 13, CIFAR-10 Batch 1:  Loss:     0.5031 Validation Accuracy: 0.597000\n",
      "Epoch 14, CIFAR-10 Batch 1:  Loss:     0.4149 Validation Accuracy: 0.598400\n",
      "Epoch 15, CIFAR-10 Batch 1:  Loss:     0.3819 Validation Accuracy: 0.621000\n",
      "Epoch 16, CIFAR-10 Batch 1:  Loss:     0.3223 Validation Accuracy: 0.598000\n",
      "Epoch 17, CIFAR-10 Batch 1:  Loss:     0.2734 Validation Accuracy: 0.623600\n",
      "Epoch 18, CIFAR-10 Batch 1:  Loss:     0.2017 Validation Accuracy: 0.641800\n",
      "Epoch 19, CIFAR-10 Batch 1:  Loss:     0.1649 Validation Accuracy: 0.633000\n",
      "Epoch 20, CIFAR-10 Batch 1:  Loss:     0.1635 Validation Accuracy: 0.626000\n",
      "Epoch 21, CIFAR-10 Batch 1:  Loss:     0.1216 Validation Accuracy: 0.647400\n",
      "Epoch 22, CIFAR-10 Batch 1:  Loss:     0.1204 Validation Accuracy: 0.658600\n",
      "Epoch 23, CIFAR-10 Batch 1:  Loss:     0.0768 Validation Accuracy: 0.654800\n",
      "Epoch 24, CIFAR-10 Batch 1:  Loss:     0.0616 Validation Accuracy: 0.652600\n",
      "Epoch 25, CIFAR-10 Batch 1:  Loss:     0.0593 Validation Accuracy: 0.637600\n",
      "Epoch 26, CIFAR-10 Batch 1:  Loss:     0.0430 Validation Accuracy: 0.655200\n",
      "Epoch 27, CIFAR-10 Batch 1:  Loss:     0.0349 Validation Accuracy: 0.644000\n",
      "Epoch 28, CIFAR-10 Batch 1:  Loss:     0.0221 Validation Accuracy: 0.635800\n",
      "Epoch 29, CIFAR-10 Batch 1:  Loss:     0.0235 Validation Accuracy: 0.661200\n",
      "Epoch 30, CIFAR-10 Batch 1:  Loss:     0.0261 Validation Accuracy: 0.652600\n"
     ]
    }
   ],
   "source": [
    "print('Checking the Training on a Single Batch...')\n",
    "with tf.Session() as sess:\n",
    "    sess.run(tf.global_variables_initializer())\n",
    "    \n",
    "    # Training cycle\n",
    "    for epoch in range(epochs):\n",
    "        batch_i = 1\n",
    "        for batch_features, batch_labels in helper.load_preprocess_training_batch(batch_i, batch_size):\n",
    "            train_neural_network(sess, optimizer, keep_probability, batch_features, batch_labels)\n",
    "        print('Epoch {:>2}, CIFAR-10 Batch {}:  '.format(epoch + 1, batch_i), end='')\n",
    "        print_stats(sess, batch_features, batch_labels, cost, accuracy)"
   ]
  },
  {
   "cell_type": "markdown",
   "metadata": {},
   "source": [
    "## Fully train the model"
   ]
  },
  {
   "cell_type": "code",
   "execution_count": 18,
   "metadata": {},
   "outputs": [
    {
     "name": "stdout",
     "output_type": "stream",
     "text": [
      "Training...\n",
      "Epoch  1, CIFAR-10 Batch 1:  Loss:     2.1928 Validation Accuracy: 0.245000\n",
      "Epoch  1, CIFAR-10 Batch 2:  Loss:     1.8811 Validation Accuracy: 0.332600\n",
      "Epoch  1, CIFAR-10 Batch 3:  Loss:     1.5814 Validation Accuracy: 0.377400\n",
      "Epoch  1, CIFAR-10 Batch 4:  Loss:     1.6241 Validation Accuracy: 0.409400\n",
      "Epoch  1, CIFAR-10 Batch 5:  Loss:     1.5421 Validation Accuracy: 0.463800\n",
      "Epoch  2, CIFAR-10 Batch 1:  Loss:     1.5700 Validation Accuracy: 0.482200\n",
      "Epoch  2, CIFAR-10 Batch 2:  Loss:     1.3951 Validation Accuracy: 0.509200\n",
      "Epoch  2, CIFAR-10 Batch 3:  Loss:     1.1389 Validation Accuracy: 0.531600\n",
      "Epoch  2, CIFAR-10 Batch 4:  Loss:     1.2848 Validation Accuracy: 0.543800\n",
      "Epoch  2, CIFAR-10 Batch 5:  Loss:     1.1975 Validation Accuracy: 0.574000\n",
      "Epoch  3, CIFAR-10 Batch 1:  Loss:     1.2737 Validation Accuracy: 0.595000\n",
      "Epoch  3, CIFAR-10 Batch 2:  Loss:     1.0663 Validation Accuracy: 0.603200\n",
      "Epoch  3, CIFAR-10 Batch 3:  Loss:     0.8663 Validation Accuracy: 0.616800\n",
      "Epoch  3, CIFAR-10 Batch 4:  Loss:     1.0309 Validation Accuracy: 0.607200\n",
      "Epoch  3, CIFAR-10 Batch 5:  Loss:     0.9744 Validation Accuracy: 0.638000\n",
      "Epoch  4, CIFAR-10 Batch 1:  Loss:     0.9242 Validation Accuracy: 0.653400\n",
      "Epoch  4, CIFAR-10 Batch 2:  Loss:     0.9381 Validation Accuracy: 0.675000\n",
      "Epoch  4, CIFAR-10 Batch 3:  Loss:     0.6731 Validation Accuracy: 0.673600\n",
      "Epoch  4, CIFAR-10 Batch 4:  Loss:     0.8397 Validation Accuracy: 0.674000\n",
      "Epoch  4, CIFAR-10 Batch 5:  Loss:     0.7448 Validation Accuracy: 0.696200\n",
      "Epoch  5, CIFAR-10 Batch 1:  Loss:     0.8100 Validation Accuracy: 0.691800\n",
      "Epoch  5, CIFAR-10 Batch 2:  Loss:     0.8042 Validation Accuracy: 0.694400\n",
      "Epoch  5, CIFAR-10 Batch 3:  Loss:     0.5057 Validation Accuracy: 0.713800\n",
      "Epoch  5, CIFAR-10 Batch 4:  Loss:     0.5871 Validation Accuracy: 0.700800\n",
      "Epoch  5, CIFAR-10 Batch 5:  Loss:     0.7011 Validation Accuracy: 0.701200\n",
      "Epoch  6, CIFAR-10 Batch 1:  Loss:     0.6599 Validation Accuracy: 0.717200\n",
      "Epoch  6, CIFAR-10 Batch 2:  Loss:     0.6640 Validation Accuracy: 0.713600\n",
      "Epoch  6, CIFAR-10 Batch 3:  Loss:     0.4632 Validation Accuracy: 0.722000\n",
      "Epoch  6, CIFAR-10 Batch 4:  Loss:     0.5935 Validation Accuracy: 0.728600\n",
      "Epoch  6, CIFAR-10 Batch 5:  Loss:     0.4817 Validation Accuracy: 0.738400\n",
      "Epoch  7, CIFAR-10 Batch 1:  Loss:     0.5659 Validation Accuracy: 0.742400\n",
      "Epoch  7, CIFAR-10 Batch 2:  Loss:     0.5148 Validation Accuracy: 0.745200\n",
      "Epoch  7, CIFAR-10 Batch 3:  Loss:     0.3471 Validation Accuracy: 0.755000\n",
      "Epoch  7, CIFAR-10 Batch 4:  Loss:     0.4654 Validation Accuracy: 0.746400\n",
      "Epoch  7, CIFAR-10 Batch 5:  Loss:     0.4213 Validation Accuracy: 0.750000\n",
      "Epoch  8, CIFAR-10 Batch 1:  Loss:     0.4221 Validation Accuracy: 0.746400\n",
      "Epoch  8, CIFAR-10 Batch 2:  Loss:     0.4263 Validation Accuracy: 0.761800\n",
      "Epoch  8, CIFAR-10 Batch 3:  Loss:     0.3033 Validation Accuracy: 0.768400\n",
      "Epoch  8, CIFAR-10 Batch 4:  Loss:     0.2935 Validation Accuracy: 0.772600\n",
      "Epoch  8, CIFAR-10 Batch 5:  Loss:     0.3307 Validation Accuracy: 0.752400\n",
      "Epoch  9, CIFAR-10 Batch 1:  Loss:     0.4515 Validation Accuracy: 0.767200\n",
      "Epoch  9, CIFAR-10 Batch 2:  Loss:     0.3677 Validation Accuracy: 0.766400\n",
      "Epoch  9, CIFAR-10 Batch 3:  Loss:     0.2897 Validation Accuracy: 0.769200\n",
      "Epoch  9, CIFAR-10 Batch 4:  Loss:     0.3216 Validation Accuracy: 0.774000\n",
      "Epoch  9, CIFAR-10 Batch 5:  Loss:     0.2838 Validation Accuracy: 0.777200\n",
      "Epoch 10, CIFAR-10 Batch 1:  Loss:     0.3361 Validation Accuracy: 0.774200\n",
      "Epoch 10, CIFAR-10 Batch 2:  Loss:     0.3095 Validation Accuracy: 0.784200\n",
      "Epoch 10, CIFAR-10 Batch 3:  Loss:     0.1874 Validation Accuracy: 0.784000\n",
      "Epoch 10, CIFAR-10 Batch 4:  Loss:     0.2483 Validation Accuracy: 0.761200\n",
      "Epoch 10, CIFAR-10 Batch 5:  Loss:     0.2922 Validation Accuracy: 0.774400\n",
      "Epoch 11, CIFAR-10 Batch 1:  Loss:     0.2671 Validation Accuracy: 0.777400\n",
      "Epoch 11, CIFAR-10 Batch 2:  Loss:     0.2608 Validation Accuracy: 0.781400\n",
      "Epoch 11, CIFAR-10 Batch 3:  Loss:     0.1512 Validation Accuracy: 0.782600\n",
      "Epoch 11, CIFAR-10 Batch 4:  Loss:     0.2020 Validation Accuracy: 0.782600\n",
      "Epoch 11, CIFAR-10 Batch 5:  Loss:     0.2105 Validation Accuracy: 0.784400\n",
      "Epoch 12, CIFAR-10 Batch 1:  Loss:     0.1976 Validation Accuracy: 0.792800\n",
      "Epoch 12, CIFAR-10 Batch 2:  Loss:     0.2616 Validation Accuracy: 0.777400\n",
      "Epoch 12, CIFAR-10 Batch 3:  Loss:     0.1241 Validation Accuracy: 0.783000\n",
      "Epoch 12, CIFAR-10 Batch 4:  Loss:     0.1895 Validation Accuracy: 0.791800\n",
      "Epoch 12, CIFAR-10 Batch 5:  Loss:     0.1983 Validation Accuracy: 0.786000\n",
      "Epoch 13, CIFAR-10 Batch 1:  Loss:     0.2084 Validation Accuracy: 0.789400\n",
      "Epoch 13, CIFAR-10 Batch 2:  Loss:     0.2256 Validation Accuracy: 0.789400\n",
      "Epoch 13, CIFAR-10 Batch 3:  Loss:     0.1358 Validation Accuracy: 0.801800\n",
      "Epoch 13, CIFAR-10 Batch 4:  Loss:     0.1160 Validation Accuracy: 0.793200\n",
      "Epoch 13, CIFAR-10 Batch 5:  Loss:     0.2004 Validation Accuracy: 0.790600\n",
      "Epoch 14, CIFAR-10 Batch 1:  Loss:     0.1410 Validation Accuracy: 0.794400\n",
      "Epoch 14, CIFAR-10 Batch 2:  Loss:     0.1445 Validation Accuracy: 0.793000\n",
      "Epoch 14, CIFAR-10 Batch 3:  Loss:     0.1250 Validation Accuracy: 0.800600\n",
      "Epoch 14, CIFAR-10 Batch 4:  Loss:     0.0823 Validation Accuracy: 0.799200\n",
      "Epoch 14, CIFAR-10 Batch 5:  Loss:     0.1341 Validation Accuracy: 0.792200\n",
      "Epoch 15, CIFAR-10 Batch 1:  Loss:     0.1394 Validation Accuracy: 0.798400\n",
      "Epoch 15, CIFAR-10 Batch 2:  Loss:     0.1121 Validation Accuracy: 0.799800\n",
      "Epoch 15, CIFAR-10 Batch 3:  Loss:     0.0881 Validation Accuracy: 0.806000\n",
      "Epoch 15, CIFAR-10 Batch 4:  Loss:     0.1009 Validation Accuracy: 0.794200\n",
      "Epoch 15, CIFAR-10 Batch 5:  Loss:     0.1344 Validation Accuracy: 0.792800\n",
      "Epoch 16, CIFAR-10 Batch 1:  Loss:     0.1097 Validation Accuracy: 0.806800\n",
      "Epoch 16, CIFAR-10 Batch 2:  Loss:     0.1159 Validation Accuracy: 0.804200\n",
      "Epoch 16, CIFAR-10 Batch 3:  Loss:     0.0789 Validation Accuracy: 0.810600\n",
      "Epoch 16, CIFAR-10 Batch 4:  Loss:     0.1080 Validation Accuracy: 0.796800\n",
      "Epoch 16, CIFAR-10 Batch 5:  Loss:     0.1115 Validation Accuracy: 0.799600\n",
      "Epoch 17, CIFAR-10 Batch 1:  Loss:     0.1076 Validation Accuracy: 0.812200\n",
      "Epoch 17, CIFAR-10 Batch 2:  Loss:     0.0807 Validation Accuracy: 0.798400\n",
      "Epoch 17, CIFAR-10 Batch 3:  Loss:     0.0638 Validation Accuracy: 0.801000\n",
      "Epoch 17, CIFAR-10 Batch 4:  Loss:     0.0843 Validation Accuracy: 0.807000\n",
      "Epoch 17, CIFAR-10 Batch 5:  Loss:     0.0851 Validation Accuracy: 0.802200\n",
      "Epoch 18, CIFAR-10 Batch 1:  Loss:     0.0902 Validation Accuracy: 0.813400\n",
      "Epoch 18, CIFAR-10 Batch 2:  Loss:     0.0738 Validation Accuracy: 0.807000\n",
      "Epoch 18, CIFAR-10 Batch 3:  Loss:     0.0649 Validation Accuracy: 0.790600\n",
      "Epoch 18, CIFAR-10 Batch 4:  Loss:     0.0645 Validation Accuracy: 0.801000\n",
      "Epoch 18, CIFAR-10 Batch 5:  Loss:     0.0833 Validation Accuracy: 0.810000\n",
      "Epoch 19, CIFAR-10 Batch 1:  Loss:     0.0721 Validation Accuracy: 0.813000\n",
      "Epoch 19, CIFAR-10 Batch 2:  Loss:     0.0728 Validation Accuracy: 0.803600\n",
      "Epoch 19, CIFAR-10 Batch 3:  Loss:     0.0503 Validation Accuracy: 0.815800\n",
      "Epoch 19, CIFAR-10 Batch 4:  Loss:     0.0438 Validation Accuracy: 0.813400\n",
      "Epoch 19, CIFAR-10 Batch 5:  Loss:     0.0598 Validation Accuracy: 0.800400\n",
      "Epoch 20, CIFAR-10 Batch 1:  Loss:     0.0792 Validation Accuracy: 0.810000\n",
      "Epoch 20, CIFAR-10 Batch 2:  Loss:     0.0686 Validation Accuracy: 0.810600\n",
      "Epoch 20, CIFAR-10 Batch 3:  Loss:     0.0411 Validation Accuracy: 0.814400\n",
      "Epoch 20, CIFAR-10 Batch 4:  Loss:     0.0515 Validation Accuracy: 0.801800\n",
      "Epoch 20, CIFAR-10 Batch 5:  Loss:     0.0458 Validation Accuracy: 0.812800\n",
      "Epoch 21, CIFAR-10 Batch 1:  Loss:     0.0609 Validation Accuracy: 0.812400\n",
      "Epoch 21, CIFAR-10 Batch 2:  Loss:     0.0574 Validation Accuracy: 0.820200\n",
      "Epoch 21, CIFAR-10 Batch 3:  Loss:     0.0356 Validation Accuracy: 0.809200\n",
      "Epoch 21, CIFAR-10 Batch 4:  Loss:     0.0300 Validation Accuracy: 0.817400\n",
      "Epoch 21, CIFAR-10 Batch 5:  Loss:     0.0457 Validation Accuracy: 0.808200\n",
      "Epoch 22, CIFAR-10 Batch 1:  Loss:     0.0864 Validation Accuracy: 0.821400\n",
      "Epoch 22, CIFAR-10 Batch 2:  Loss:     0.0545 Validation Accuracy: 0.803200\n"
     ]
    },
    {
     "name": "stdout",
     "output_type": "stream",
     "text": [
      "Epoch 22, CIFAR-10 Batch 3:  Loss:     0.0472 Validation Accuracy: 0.818000\n",
      "Epoch 22, CIFAR-10 Batch 4:  Loss:     0.0317 Validation Accuracy: 0.812400\n",
      "Epoch 22, CIFAR-10 Batch 5:  Loss:     0.0349 Validation Accuracy: 0.800200\n",
      "Epoch 23, CIFAR-10 Batch 1:  Loss:     0.0592 Validation Accuracy: 0.812800\n",
      "Epoch 23, CIFAR-10 Batch 2:  Loss:     0.0508 Validation Accuracy: 0.812200\n",
      "Epoch 23, CIFAR-10 Batch 3:  Loss:     0.0343 Validation Accuracy: 0.818000\n",
      "Epoch 23, CIFAR-10 Batch 4:  Loss:     0.0294 Validation Accuracy: 0.816800\n",
      "Epoch 23, CIFAR-10 Batch 5:  Loss:     0.0465 Validation Accuracy: 0.805800\n",
      "Epoch 24, CIFAR-10 Batch 1:  Loss:     0.0378 Validation Accuracy: 0.812400\n",
      "Epoch 24, CIFAR-10 Batch 2:  Loss:     0.0238 Validation Accuracy: 0.811200\n",
      "Epoch 24, CIFAR-10 Batch 3:  Loss:     0.0271 Validation Accuracy: 0.816400\n",
      "Epoch 24, CIFAR-10 Batch 4:  Loss:     0.0196 Validation Accuracy: 0.824200\n",
      "Epoch 24, CIFAR-10 Batch 5:  Loss:     0.0258 Validation Accuracy: 0.796000\n",
      "Epoch 25, CIFAR-10 Batch 1:  Loss:     0.0339 Validation Accuracy: 0.814600\n",
      "Epoch 25, CIFAR-10 Batch 2:  Loss:     0.0193 Validation Accuracy: 0.813400\n",
      "Epoch 25, CIFAR-10 Batch 3:  Loss:     0.0242 Validation Accuracy: 0.817600\n",
      "Epoch 25, CIFAR-10 Batch 4:  Loss:     0.0352 Validation Accuracy: 0.809800\n",
      "Epoch 25, CIFAR-10 Batch 5:  Loss:     0.0178 Validation Accuracy: 0.816000\n",
      "Epoch 26, CIFAR-10 Batch 1:  Loss:     0.0401 Validation Accuracy: 0.819800\n",
      "Epoch 26, CIFAR-10 Batch 2:  Loss:     0.0350 Validation Accuracy: 0.815800\n",
      "Epoch 26, CIFAR-10 Batch 3:  Loss:     0.0303 Validation Accuracy: 0.811400\n",
      "Epoch 26, CIFAR-10 Batch 4:  Loss:     0.0255 Validation Accuracy: 0.821000\n",
      "Epoch 26, CIFAR-10 Batch 5:  Loss:     0.0160 Validation Accuracy: 0.809200\n",
      "Epoch 27, CIFAR-10 Batch 1:  Loss:     0.0389 Validation Accuracy: 0.824800\n",
      "Epoch 27, CIFAR-10 Batch 2:  Loss:     0.0230 Validation Accuracy: 0.819000\n",
      "Epoch 27, CIFAR-10 Batch 3:  Loss:     0.0249 Validation Accuracy: 0.814000\n",
      "Epoch 27, CIFAR-10 Batch 4:  Loss:     0.0205 Validation Accuracy: 0.821400\n",
      "Epoch 27, CIFAR-10 Batch 5:  Loss:     0.0246 Validation Accuracy: 0.811400\n",
      "Epoch 28, CIFAR-10 Batch 1:  Loss:     0.0404 Validation Accuracy: 0.819800\n",
      "Epoch 28, CIFAR-10 Batch 2:  Loss:     0.0388 Validation Accuracy: 0.816800\n",
      "Epoch 28, CIFAR-10 Batch 3:  Loss:     0.0270 Validation Accuracy: 0.816000\n",
      "Epoch 28, CIFAR-10 Batch 4:  Loss:     0.0090 Validation Accuracy: 0.826400\n",
      "Epoch 28, CIFAR-10 Batch 5:  Loss:     0.0070 Validation Accuracy: 0.827800\n",
      "Epoch 29, CIFAR-10 Batch 1:  Loss:     0.0484 Validation Accuracy: 0.818800\n",
      "Epoch 29, CIFAR-10 Batch 2:  Loss:     0.0165 Validation Accuracy: 0.813200\n",
      "Epoch 29, CIFAR-10 Batch 3:  Loss:     0.0180 Validation Accuracy: 0.817800\n",
      "Epoch 29, CIFAR-10 Batch 4:  Loss:     0.0092 Validation Accuracy: 0.816400\n",
      "Epoch 29, CIFAR-10 Batch 5:  Loss:     0.0158 Validation Accuracy: 0.805800\n",
      "Epoch 30, CIFAR-10 Batch 1:  Loss:     0.0285 Validation Accuracy: 0.825400\n",
      "Epoch 30, CIFAR-10 Batch 2:  Loss:     0.0135 Validation Accuracy: 0.815400\n",
      "Epoch 30, CIFAR-10 Batch 3:  Loss:     0.0148 Validation Accuracy: 0.812200\n",
      "Epoch 30, CIFAR-10 Batch 4:  Loss:     0.0105 Validation Accuracy: 0.810600\n",
      "Epoch 30, CIFAR-10 Batch 5:  Loss:     0.0168 Validation Accuracy: 0.802600\n"
     ]
    }
   ],
   "source": [
    "save_model_path = './image_classification'\n",
    "\n",
    "print('Training...')\n",
    "with tf.Session() as sess:\n",
    "    # Initializing the variables\n",
    "    sess.run(tf.global_variables_initializer())\n",
    "    \n",
    "    # Training cycle\n",
    "    for epoch in range(epochs):\n",
    "        # Loop over all batches\n",
    "        n_batches = 5\n",
    "        for batch_i in range(1, n_batches + 1):\n",
    "            for batch_features, batch_labels in helper.load_preprocess_training_batch(batch_i, batch_size):\n",
    "                train_neural_network(sess, optimizer, keep_probability, batch_features, batch_labels)\n",
    "            print('Epoch {:>2}, CIFAR-10 Batch {}:  '.format(epoch + 1, batch_i), end='')\n",
    "            print_stats(sess, batch_features, batch_labels, cost, accuracy)\n",
    "            \n",
    "    # Save Model\n",
    "    saver = tf.train.Saver()\n",
    "    save_path = saver.save(sess, save_model_path)"
   ]
  },
  {
   "cell_type": "markdown",
   "metadata": {},
   "source": [
    "## Test model"
   ]
  },
  {
   "cell_type": "code",
   "execution_count": 19,
   "metadata": {},
   "outputs": [
    {
     "name": "stdout",
     "output_type": "stream",
     "text": [
      "INFO:tensorflow:Restoring parameters from ./image_classification\n",
      "Testing Accuracy: 0.7899525316455697\n",
      "\n"
     ]
    },
    {
     "data": {
      "image/png": "[encoded data removed]",
      "text/plain": [
       "<matplotlib.figure.Figure at 0x1ffebc6ecc0>"
      ]
     },
     "metadata": {
      "image/png": {
       "height": 319,
       "width": 355
      }
     },
     "output_type": "display_data"
    }
   ],
   "source": [
    "%matplotlib inline\n",
    "%config InlineBackend.figure_format = 'retina'\n",
    "\n",
    "import tensorflow as tf\n",
    "import pickle\n",
    "import helper\n",
    "import random\n",
    "\n",
    "batch_size = 128\n",
    "\n",
    "save_model_path = './image_classification'\n",
    "n_samples = 4\n",
    "top_n_predictions = 3\n",
    "\n",
    "def test_model():\n",
    "    \"\"\"\n",
    "    Test the saved model against the test dataset\n",
    "    \"\"\"\n",
    "    test_features, test_labels = pickle.load(open('preprocess_test.p', mode='rb'))\n",
    "    loaded_graph = tf.Graph()\n",
    "\n",
    "    with tf.Session(graph=loaded_graph) as sess:\n",
    "        # Load model\n",
    "        loader = tf.train.import_meta_graph(save_model_path + '.meta')\n",
    "        loader.restore(sess, save_model_path)\n",
    "\n",
    "        # Get Tensors from loaded model\n",
    "        loaded_x = loaded_graph.get_tensor_by_name('x:0')\n",
    "        loaded_y = loaded_graph.get_tensor_by_name('y:0')\n",
    "        loaded_keep_prob = loaded_graph.get_tensor_by_name('keep_prob:0')\n",
    "        loaded_logits = loaded_graph.get_tensor_by_name('logits:0')\n",
    "        loaded_acc = loaded_graph.get_tensor_by_name('accuracy:0')\n",
    "        \n",
    "        # Get accuracy in batches for memory limitations\n",
    "        test_batch_acc_total = 0\n",
    "        test_batch_count = 0\n",
    "        \n",
    "        for test_feature_batch, test_label_batch in helper.batch_features_labels(test_features, test_labels, batch_size):\n",
    "            test_batch_acc_total += sess.run(loaded_acc,\n",
    "                feed_dict={loaded_x: test_feature_batch, loaded_y: test_label_batch, loaded_keep_prob: 1.0})\n",
    "            test_batch_count += 1\n",
    "\n",
    "        print('Testing Accuracy: {}\\n'.format(test_batch_acc_total/test_batch_count))\n",
    "\n",
    "        # Print Random Samples\n",
    "        random_test_features, random_test_labels = tuple(zip(*random.sample(list(zip(test_features, test_labels)), n_samples)))\n",
    "        random_test_predictions = sess.run(tf.nn.top_k(tf.nn.softmax(loaded_logits), top_n_predictions),\n",
    "            feed_dict={loaded_x: random_test_features, loaded_y: random_test_labels, loaded_keep_prob: 1.0})\n",
    "        helper.display_image_predictions(random_test_features, random_test_labels, random_test_predictions)\n",
    "\n",
    "test_model()"
   ]
  }
 ],
 "metadata": {
  "kernelspec": {
   "display_name": "Python [conda env:tf_1_2]",
   "language": "python",
   "name": "conda-env-tf_1_2-py"
  },
  "language_info": {
   "codemirror_mode": {
    "name": "ipython",
    "version": 3
   },
   "file_extension": ".py",
   "mimetype": "text/x-python",
   "name": "python",
   "nbconvert_exporter": "python",
   "pygments_lexer": "ipython3",
   "version": "3.5.3"
  }
 },
 "nbformat": 4,
 "nbformat_minor": 2
}
