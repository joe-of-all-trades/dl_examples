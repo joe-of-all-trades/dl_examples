{
 "cells": [
  {
   "cell_type": "markdown",
   "metadata": {},
   "source": [
    "In this project, we'll build a simple convolutional neural network for CIFAR-10 image classification. Code contained in this project was based on Tensorflow 1.2.1 and python 3.5. "
   ]
  },
  {
   "cell_type": "code",
   "execution_count": 1,
   "metadata": {},
   "outputs": [],
   "source": [
    "from urllib.request import urlretrieve\n",
    "from os.path import isfile, isdir\n",
    "from tqdm import tqdm\n",
    "import tarfile\n",
    "import tensorflow as tf\n",
    "\n",
    "cifar10_dataset_folder_path = 'cifar-10-batches-py'\n",
    "tar_gz_path = 'cifar-10-python.tar.gz'\n",
    "\n",
    "class DLProgress(tqdm):\n",
    "    last_block = 0\n",
    "\n",
    "    def hook(self, block_num=1, block_size=1, total_size=None):\n",
    "        self.total = total_size\n",
    "        self.update((block_num - self.last_block) * block_size)\n",
    "        self.last_block = block_num\n",
    "\n",
    "if not isfile(tar_gz_path):\n",
    "    with DLProgress(unit='B', unit_scale=True, miniters=1, desc='CIFAR-10 Dataset') as pbar:\n",
    "        urlretrieve(\n",
    "            'https://www.cs.toronto.edu/~kriz/cifar-10-python.tar.gz',\n",
    "            tar_gz_path,\n",
    "            pbar.hook)\n",
    "\n",
    "if not isdir(cifar10_dataset_folder_path):\n",
    "    with tarfile.open(tar_gz_path) as tar:\n",
    "        tar.extractall()\n",
    "        tar.close()"
   ]
  },
  {
   "cell_type": "code",
   "execution_count": 2,
   "metadata": {},
   "outputs": [
    {
     "name": "stdout",
     "output_type": "stream",
     "text": [
      "\n",
      "Stats of batch 1:\n",
      "Samples: 10000\n",
      "Label Counts: {0: 1005, 1: 974, 2: 1032, 3: 1016, 4: 999, 5: 937, 6: 1030, 7: 1001, 8: 1025, 9: 981}\n",
      "First 20 Labels: [6, 9, 9, 4, 1, 1, 2, 7, 8, 3, 4, 7, 7, 2, 9, 9, 9, 3, 2, 6]\n",
      "\n",
      "Example of Image 6:\n",
      "Image - Min Value: 7 Max Value: 249\n",
      "Image - Shape: (32, 32, 3)\n",
      "Label - Label Id: 2 Name: bird\n"
     ]
    },
    {
     "data": {
      "image/png": "[encoded data removed]",
      "text/plain": [
       "<matplotlib.figure.Figure at 0x235152519b0>"
      ]
     },
     "metadata": {
      "image/png": {
       "height": 250,
       "width": 253
      }
     },
     "output_type": "display_data"
    }
   ],
   "source": [
    "%matplotlib inline\n",
    "%config InlineBackend.figure_format = 'retina'\n",
    "\n",
    "import helper\n",
    "import numpy as np\n",
    "\n",
    "# Explore the dataset\n",
    "batch_id = 1\n",
    "sample_id = 6\n",
    "helper.display_stats(cifar10_dataset_folder_path, batch_id, sample_id)"
   ]
  },
  {
   "cell_type": "markdown",
   "metadata": {},
   "source": [
    "# Preprocess Data\n",
    "\n",
    "## Normalize"
   ]
  },
  {
   "cell_type": "code",
   "execution_count": 3,
   "metadata": {
    "collapsed": true
   },
   "outputs": [],
   "source": [
    "def normalize(x):\n",
    "    \"\"\"\n",
    "    Normalize a list of sample image data in the range of 0 to 1\n",
    "    : x: List of image data.  The image shape is (32, 32, 3)\n",
    "    : return: Numpy array of normalize data\n",
    "    \"\"\"\n",
    "    return ( x - x.min() ) / ( x.max() - x.min() )"
   ]
  },
  {
   "cell_type": "markdown",
   "metadata": {},
   "source": [
    "## One hot encode"
   ]
  },
  {
   "cell_type": "code",
   "execution_count": 4,
   "metadata": {},
   "outputs": [],
   "source": [
    "def one_hot_encode(x):\n",
    "    \"\"\"\n",
    "    One hot encode a list of sample labels. Return a one-hot encoded vector for each label.\n",
    "    : x: List of sample Labels\n",
    "    : return: Numpy array of one-hot encoded labels\n",
    "    \"\"\"\n",
    "    output = np.zeros([len(x), 10])\n",
    "    for idx, item in enumerate(x):\n",
    "        output[idx, item] = 1\n",
    "    return output"
   ]
  },
  {
   "cell_type": "markdown",
   "metadata": {},
   "source": [
    "This above function is equivalent to tf.one_hot(x, 10), but tensorflow module can not be pickled so we're sticking with the above implementation."
   ]
  },
  {
   "cell_type": "markdown",
   "metadata": {},
   "source": [
    "## Preprocess Data\n",
    "We will randomly shuffle the data, normalize them and save them in binary format."
   ]
  },
  {
   "cell_type": "code",
   "execution_count": 5,
   "metadata": {},
   "outputs": [],
   "source": [
    "import tensorflow as tf\n",
    "# Preprocess Training, Validation, and Testing Data\n",
    "helper.preprocess_and_save_data(cifar10_dataset_folder_path, normalize, one_hot_encode)"
   ]
  },
  {
   "cell_type": "markdown",
   "metadata": {},
   "source": [
    "# Checkpoint\n",
    "The above work is all saved so when we're revisiting this notebook we don't have to do those work again. We can start from here."
   ]
  },
  {
   "cell_type": "code",
   "execution_count": 6,
   "metadata": {},
   "outputs": [],
   "source": [
    "import pickle\n",
    "import helper\n",
    "\n",
    "valid_features, valid_labels = pickle.load(open('preprocess_validation.p', mode='rb'))"
   ]
  },
  {
   "cell_type": "markdown",
   "metadata": {},
   "source": [
    "# Building the network"
   ]
  },
  {
   "cell_type": "markdown",
   "metadata": {},
   "source": [
    "## Defining input"
   ]
  },
  {
   "cell_type": "code",
   "execution_count": 7,
   "metadata": {
    "collapsed": true
   },
   "outputs": [],
   "source": [
    "import tensorflow as tf\n",
    "\n",
    "def neural_net_image_input(image_shape):\n",
    "    \"\"\"\n",
    "    Return a Tensor for a batch of image input\n",
    "    : image_shape: Shape of the images\n",
    "    \"\"\"\n",
    "    return tf.placeholder(tf.float32, [None, image_shape[0], image_shape[1], image_shape[2]], \"x\")\n",
    "\n",
    "\n",
    "def neural_net_label_input(n_classes):\n",
    "    \"\"\"\n",
    "    Return a Tensor for a batch of label input\n",
    "    : n_classes: Number of classes\n",
    "    \"\"\"\n",
    "    return tf.placeholder(tf.float32, [None, n_classes], \"y\")\n",
    "\n",
    "\n",
    "def neural_net_keep_prob_input():\n",
    "    \"\"\"\n",
    "    Return a Tensor for keep probability\n",
    "    \"\"\"\n",
    "    return tf.placeholder(tf.float32, None, \"keep_prob\")"
   ]
  },
  {
   "cell_type": "markdown",
   "metadata": {},
   "source": [
    "## Convolution and maxpool layer"
   ]
  },
  {
   "cell_type": "code",
   "execution_count": 8,
   "metadata": {
    "collapsed": true
   },
   "outputs": [],
   "source": [
    "def conv2d_maxpool(x_tensor, conv_num_outputs, conv_ksize, conv_strides, pool_ksize, pool_strides, maxpool=True):\n",
    "    \"\"\"\n",
    "    Apply convolution then max pooling to x_tensor\n",
    "    :param x_tensor: TensorFlow Tensor\n",
    "    :param conv_num_outputs: Number of outputs for the convolutional layer\n",
    "    :param conv_ksize: kernal size 2-D Tuple for the convolutional layer\n",
    "    :param conv_strides: Stride 2-D Tuple for convolution\n",
    "    :param pool_ksize: kernal size 2-D Tuple for pool\n",
    "    :param pool_strides: Stride 2-D Tuple for pool\n",
    "    : return: A tensor that represents convolution and max pooling of x_tensor\n",
    "    \"\"\"\n",
    "    with tf.variable_scope('') as scope:\n",
    "        try:\n",
    "            wc1 = tf.get_variable(\"wc1\", shape=[conv_ksize[0], conv_ksize[1], x_tensor.get_shape().as_list()[3], conv_num_outputs],\n",
    "                         initializer=tf.contrib.layers.xavier_initializer())\n",
    "        except ValueError:\n",
    "            scope.reuse_variables()\n",
    "            wc1 = tf.get_variable(\"wc1\", shape=[conv_ksize[0], conv_ksize[1], x_tensor.get_shape().as_list()[3], conv_num_outputs],\n",
    "                         initializer=tf.contrib.layers.xavier_initializer())\n",
    "    \n",
    "    bc1 = tf.Variable(tf.truncated_normal([conv_num_outputs],\n",
    "                                      mean=0.0, stddev=0.1, dtype=tf.float32))\n",
    "    \n",
    "    x_out = tf.nn.conv2d(x_tensor, wc1, strides=[1, conv_strides[0], conv_strides[1], 1], padding='SAME')\n",
    "    x_out = tf.nn.bias_add(x_out, bc1)\n",
    "    \n",
    "    if maxpool==True:\n",
    "        x_out = tf.nn.max_pool(x_out, ksize=[1, pool_ksize[0], pool_ksize[1], 1], \n",
    "                           strides=[1, pool_strides[0], pool_strides[1], 1], padding='SAME')\n",
    "    \n",
    "    return tf.nn.relu(x_out)\n"
   ]
  },
  {
   "cell_type": "markdown",
   "metadata": {},
   "source": [
    "## Flatten layer\n",
    "Implement the flatten function to change the dimension of x_tensor from a 4-D tensor to a 2-D tensor. The output should be the shape (Batch Size, Flattened Image Size). Shortcut option: you can use classes from the TensorFlow Layers or TensorFlow Layers (contrib) packages for this layer. For more of a challenge, only use other TensorFlow packages."
   ]
  },
  {
   "cell_type": "code",
   "execution_count": 9,
   "metadata": {
    "collapsed": true
   },
   "outputs": [],
   "source": [
    "def flatten(x_tensor):\n",
    "    \"\"\"\n",
    "    Flatten x_tensor to (Batch Size, Flattened Image Size)\n",
    "    : x_tensor: A tensor of size (Batch Size, ...), where ... are the image dimensions.\n",
    "    : return: A tensor of size (Batch Size, Flattened Image Size).\n",
    "    \"\"\"\n",
    "    # reference : https://github.com/tensorflow/tensorflow/issues/7253\n",
    "    \n",
    "    return tf.reshape(x_tensor, [tf.shape(x_tensor)[0], np.prod(x_tensor.get_shape().as_list()[1:])])\n",
    "    \n",
    "    # This also works\n",
    "    #return tf.reshape(x_tensor, [-1, np.prod(x_tensor.shape[1:]).value])"
   ]
  },
  {
   "cell_type": "markdown",
   "metadata": {},
   "source": [
    "## Fully connected layer"
   ]
  },
  {
   "cell_type": "code",
   "execution_count": 10,
   "metadata": {
    "collapsed": true
   },
   "outputs": [],
   "source": [
    "def fully_conn(x_tensor, num_outputs, ver=1):\n",
    "    \"\"\"\n",
    "    Apply a fully connected layer to x_tensor using weight and bias\n",
    "    : x_tensor: A 2-D tensor where the first dimension is batch size.\n",
    "    : num_outputs: The number of output that the new tensor should be.\n",
    "    : return: A 2-D tensor where the second dimension is num_outputs.\n",
    "    \"\"\"\n",
    "    # TODO: Implement Function\n",
    "    fc = tf.reshape(x_tensor, [-1, np.prod(x_tensor.get_shape().as_list()[1:])])\n",
    "        \n",
    "    with tf.variable_scope('') as scope:\n",
    "        try:\n",
    "            w = tf.get_variable(\"w\", shape=[np.prod(x_tensor.get_shape().as_list()[1:]), num_outputs],\n",
    "                         initializer=tf.contrib.layers.xavier_initializer())\n",
    "        except ValueError:\n",
    "            scope.reuse_variables()\n",
    "            w = tf.get_variable(\"w\", shape=[np.prod(x_tensor.get_shape().as_list()[1:]), num_outputs],\n",
    "                         initializer=tf.contrib.layers.xavier_initializer())\n",
    "\n",
    "    b = tf.Variable(tf.truncated_normal([num_outputs],mean=0.0, stddev=0.1, dtype=tf.float32))\n",
    "    z = tf.add(tf.matmul(fc, w), b)\n",
    "    \n",
    "    return tf.nn.relu(z)"
   ]
  },
  {
   "cell_type": "markdown",
   "metadata": {},
   "source": [
    "## Output layer"
   ]
  },
  {
   "cell_type": "code",
   "execution_count": 11,
   "metadata": {
    "collapsed": true
   },
   "outputs": [],
   "source": [
    "def output(x_tensor, num_outputs):\n",
    "    \"\"\"\n",
    "    Apply a output layer to x_tensor using weight and bias\n",
    "    : x_tensor: A 2-D tensor where the first dimension is batch size.\n",
    "    : num_outputs: The number of output that the new tensor should be.\n",
    "    : return: A 2-D tensor where the second dimension is num_outputs.\n",
    "    \"\"\"\n",
    "    # TODO: Implement Function\n",
    "    with tf.variable_scope('') as scope:\n",
    "        try:\n",
    "            wo = tf.get_variable(\"wo\", shape=[np.prod(x_tensor.get_shape().as_list()[1:]), num_outputs],\n",
    "                         initializer=tf.contrib.layers.xavier_initializer())\n",
    "        except ValueError:\n",
    "            scope.reuse_variables()\n",
    "            wo = tf.get_variable(\"wo\", shape=[np.prod(x_tensor.get_shape().as_list()[1:]), num_outputs],\n",
    "                         initializer=tf.contrib.layers.xavier_initializer())\n",
    "    \n",
    "    b = tf.Variable(tf.truncated_normal([num_outputs],mean=0.0, stddev=0.1, dtype=tf.float32))\n",
    "    return tf.add(tf.matmul(x_tensor, wo), b)\n"
   ]
  },
  {
   "cell_type": "markdown",
   "metadata": {},
   "source": [
    "## Create the convolutional neural network model"
   ]
  },
  {
   "cell_type": "code",
   "execution_count": 12,
   "metadata": {
    "collapsed": true
   },
   "outputs": [],
   "source": [
    "def conv_net(x, keep_prob):\n",
    "    \"\"\"\n",
    "    Create a convolutional neural network model\n",
    "    : x: Placeholder tensor that holds image data.\n",
    "    : keep_prob: Placeholder tensor that hold dropout keep probability.\n",
    "    : return: Tensor that represents logits\n",
    "    \"\"\"\n",
    "    # Convolution and maxpooling layers\n",
    "    with tf.variable_scope(\"conv1\"):\n",
    "        conv1 = conv2d_maxpool(x, 40, (3, 3), (1, 1), (2, 2), (2, 2), maxpool=False)\n",
    "    with tf.variable_scope(\"conv2\"):\n",
    "        conv2 = conv2d_maxpool(conv1, 80, (3, 3), (1, 1), (2, 2), (2, 2), maxpool=True)\n",
    "    # norm1 = tf.nn.lrn(conv2, 4, bias=1.0, alpha=0.001 / 9.0, beta=0.75,name='norm1')\n",
    "    conv2 = tf.nn.dropout(conv2, keep_prob)\n",
    "    with tf.variable_scope(\"conv3\"):\n",
    "        conv3 = conv2d_maxpool(conv2, 160, (3, 3), (1, 1), (2, 2), (2, 2), maxpool=False)\n",
    "    with tf.variable_scope(\"conv4\"):\n",
    "        conv4 = conv2d_maxpool(conv3, 320, (3, 3), (1, 1), (2, 2), (2, 2), maxpool=True)\n",
    "    #norm2 = tf.nn.lrn(conv4, 4, bias=1.0, alpha=0.001 / 9.0, beta=0.75,name='norm2')\n",
    "    conv4 = tf.nn.dropout(conv4, keep_prob)\n",
    "    \n",
    "    # Flatten Layer\n",
    "    f = flatten(conv4)\n",
    "\n",
    "    # Fully Connected layers\n",
    "    with tf.variable_scope(\"fc1\"):\n",
    "        fc1 = fully_conn(f, 512)\n",
    "        fc1 = tf.nn.dropout(fc1, keep_prob)\n",
    "    with tf.variable_scope(\"fc2\"):\n",
    "        fc2 = fully_conn(fc1, 256)\n",
    "        fc2 = tf.nn.dropout(fc2, keep_prob)\n",
    "    \n",
    "    # Output Layer\n",
    "    with tf.variable_scope(\"out\"):\n",
    "        o = output(fc2, 10)\n",
    "    \n",
    "    # TODO: return output\n",
    "    return o"
   ]
  },
  {
   "cell_type": "markdown",
   "metadata": {},
   "source": [
    "## Build the network"
   ]
  },
  {
   "cell_type": "code",
   "execution_count": 13,
   "metadata": {
    "collapsed": true
   },
   "outputs": [],
   "source": [
    "tf.reset_default_graph()\n",
    "\n",
    "# Inputs\n",
    "x = neural_net_image_input((32, 32, 3))\n",
    "y = neural_net_label_input(10)\n",
    "keep_prob = neural_net_keep_prob_input()\n",
    "\n",
    "# Model\n",
    "logits = conv_net(x, keep_prob)\n",
    "\n",
    "# Name logits Tensor, so that is can be loaded from disk after training\n",
    "logits = tf.identity(logits, name='logits')\n",
    "\n",
    "# Loss and Optimizer\n",
    "cost = tf.reduce_mean(tf.nn.softmax_cross_entropy_with_logits(logits=logits, labels=y))\n",
    "optimizer = tf.train.AdamOptimizer(epsilon=1e-04).minimize(cost)\n",
    "\n",
    "# Accuracy\n",
    "correct_pred = tf.equal(tf.argmax(logits, 1), tf.argmax(y, 1))\n",
    "accuracy = tf.reduce_mean(tf.cast(correct_pred, tf.float32), name='accuracy')"
   ]
  },
  {
   "cell_type": "markdown",
   "metadata": {},
   "source": [
    "## Train network"
   ]
  },
  {
   "cell_type": "code",
   "execution_count": 14,
   "metadata": {
    "collapsed": true
   },
   "outputs": [],
   "source": [
    "def train_neural_network(session, optimizer, keep_probability, feature_batch, label_batch):\n",
    "    \"\"\"\n",
    "    Optimize the session on a batch of images and labels\n",
    "    \"\"\"\n",
    "    session.run(optimizer, feed_dict={x: feature_batch, y: label_batch, keep_prob: keep_probability})"
   ]
  },
  {
   "cell_type": "markdown",
   "metadata": {},
   "source": [
    "## Print Stats\n",
    "It's important to evaluate the performance of model once in a while. If effect, we're feeding a small batch of data to the neural network through forward propagation and then caculate the accuracy of prediction. We don't want to do this too often as this slows down the overall process. It's important to keep in mind that since we're actually using the model for prediction but not training it, we need to set keep probability for dropout to 1 so we're not losing any connection between neurons. "
   ]
  },
  {
   "cell_type": "code",
   "execution_count": 15,
   "metadata": {
    "collapsed": true
   },
   "outputs": [],
   "source": [
    "def print_stats(session, feature_batch, label_batch, cost, accuracy):\n",
    "    \"\"\"\n",
    "    Print information about loss and validation accuracy\n",
    "    \"\"\"\n",
    "    loss = session.run(cost, feed_dict={x: feature_batch, y: label_batch, keep_prob: 1.})\n",
    "    valid_acc = session.run(accuracy, feed_dict={x: valid_features, y: valid_labels, keep_prob: 1.})\n",
    "    print('Loss: {:>10.4f} Validation Accuracy: {:.6f}'.format(loss, valid_acc))"
   ]
  },
  {
   "cell_type": "markdown",
   "metadata": {},
   "source": [
    "## Hyperparameters"
   ]
  },
  {
   "cell_type": "code",
   "execution_count": 16,
   "metadata": {
    "collapsed": true
   },
   "outputs": [],
   "source": [
    "epochs = 30\n",
    "batch_size = 128\n",
    "keep_probability = 0.5"
   ]
  },
  {
   "cell_type": "markdown",
   "metadata": {},
   "source": [
    "## Train on a single CIFAR-10 batch"
   ]
  },
  {
   "cell_type": "code",
   "execution_count": 17,
   "metadata": {},
   "outputs": [
    {
     "name": "stdout",
     "output_type": "stream",
     "text": [
      "Checking the Training on a Single Batch...\n",
      "Epoch  1, CIFAR-10 Batch 1:  Loss:     2.1701 Validation Accuracy: 0.154600\n",
      "Epoch  2, CIFAR-10 Batch 1:  Loss:     2.1091 Validation Accuracy: 0.238200\n",
      "Epoch  3, CIFAR-10 Batch 1:  Loss:     1.9599 Validation Accuracy: 0.336200\n",
      "Epoch  4, CIFAR-10 Batch 1:  Loss:     1.7834 Validation Accuracy: 0.366200\n",
      "Epoch  5, CIFAR-10 Batch 1:  Loss:     1.6243 Validation Accuracy: 0.448200\n",
      "Epoch  6, CIFAR-10 Batch 1:  Loss:     1.4387 Validation Accuracy: 0.485000\n",
      "Epoch  7, CIFAR-10 Batch 1:  Loss:     1.2319 Validation Accuracy: 0.511800\n",
      "Epoch  8, CIFAR-10 Batch 1:  Loss:     1.1458 Validation Accuracy: 0.538600\n",
      "Epoch  9, CIFAR-10 Batch 1:  Loss:     0.9763 Validation Accuracy: 0.560400\n",
      "Epoch 10, CIFAR-10 Batch 1:  Loss:     0.8821 Validation Accuracy: 0.569800\n",
      "Epoch 11, CIFAR-10 Batch 1:  Loss:     0.8045 Validation Accuracy: 0.576600\n",
      "Epoch 12, CIFAR-10 Batch 1:  Loss:     0.6521 Validation Accuracy: 0.603600\n",
      "Epoch 13, CIFAR-10 Batch 1:  Loss:     0.5197 Validation Accuracy: 0.602000\n",
      "Epoch 14, CIFAR-10 Batch 1:  Loss:     0.5051 Validation Accuracy: 0.619600\n",
      "Epoch 15, CIFAR-10 Batch 1:  Loss:     0.3767 Validation Accuracy: 0.638000\n",
      "Epoch 16, CIFAR-10 Batch 1:  Loss:     0.3443 Validation Accuracy: 0.638600\n",
      "Epoch 17, CIFAR-10 Batch 1:  Loss:     0.2478 Validation Accuracy: 0.638400\n",
      "Epoch 18, CIFAR-10 Batch 1:  Loss:     0.2437 Validation Accuracy: 0.648200\n",
      "Epoch 19, CIFAR-10 Batch 1:  Loss:     0.2063 Validation Accuracy: 0.642200\n",
      "Epoch 20, CIFAR-10 Batch 1:  Loss:     0.1733 Validation Accuracy: 0.651200\n",
      "Epoch 21, CIFAR-10 Batch 1:  Loss:     0.1406 Validation Accuracy: 0.647200\n",
      "Epoch 22, CIFAR-10 Batch 1:  Loss:     0.0999 Validation Accuracy: 0.654000\n",
      "Epoch 23, CIFAR-10 Batch 1:  Loss:     0.0912 Validation Accuracy: 0.649600\n",
      "Epoch 24, CIFAR-10 Batch 1:  Loss:     0.0645 Validation Accuracy: 0.665400\n",
      "Epoch 25, CIFAR-10 Batch 1:  Loss:     0.0441 Validation Accuracy: 0.657000\n",
      "Epoch 26, CIFAR-10 Batch 1:  Loss:     0.0407 Validation Accuracy: 0.666000\n",
      "Epoch 27, CIFAR-10 Batch 1:  Loss:     0.0399 Validation Accuracy: 0.656200\n",
      "Epoch 28, CIFAR-10 Batch 1:  Loss:     0.0231 Validation Accuracy: 0.655800\n",
      "Epoch 29, CIFAR-10 Batch 1:  Loss:     0.0217 Validation Accuracy: 0.647200\n",
      "Epoch 30, CIFAR-10 Batch 1:  Loss:     0.0262 Validation Accuracy: 0.650800\n"
     ]
    }
   ],
   "source": [
    "print('Checking the Training on a Single Batch...')\n",
    "with tf.Session() as sess:\n",
    "    sess.run(tf.global_variables_initializer())\n",
    "    \n",
    "    # Training cycle\n",
    "    for epoch in range(epochs):\n",
    "        batch_i = 1\n",
    "        for batch_features, batch_labels in helper.load_preprocess_training_batch(batch_i, batch_size):\n",
    "            train_neural_network(sess, optimizer, keep_probability, batch_features, batch_labels)\n",
    "        print('Epoch {:>2}, CIFAR-10 Batch {}:  '.format(epoch + 1, batch_i), end='')\n",
    "        print_stats(sess, batch_features, batch_labels, cost, accuracy)"
   ]
  },
  {
   "cell_type": "markdown",
   "metadata": {},
   "source": [
    "## Fully train the model"
   ]
  },
  {
   "cell_type": "code",
   "execution_count": 18,
   "metadata": {},
   "outputs": [
    {
     "name": "stdout",
     "output_type": "stream",
     "text": [
      "Training...\n",
      "Epoch  1, CIFAR-10 Batch 1:  Loss:     2.2120 Validation Accuracy: 0.228400\n",
      "Epoch  1, CIFAR-10 Batch 2:  Loss:     1.9208 Validation Accuracy: 0.323000\n",
      "Epoch  1, CIFAR-10 Batch 3:  Loss:     1.5944 Validation Accuracy: 0.376200\n",
      "Epoch  1, CIFAR-10 Batch 4:  Loss:     1.6863 Validation Accuracy: 0.425400\n",
      "Epoch  1, CIFAR-10 Batch 5:  Loss:     1.5391 Validation Accuracy: 0.465600\n",
      "Epoch  2, CIFAR-10 Batch 1:  Loss:     1.5706 Validation Accuracy: 0.489200\n",
      "Epoch  2, CIFAR-10 Batch 2:  Loss:     1.3758 Validation Accuracy: 0.504600\n",
      "Epoch  2, CIFAR-10 Batch 3:  Loss:     1.1224 Validation Accuracy: 0.533600\n",
      "Epoch  2, CIFAR-10 Batch 4:  Loss:     1.2589 Validation Accuracy: 0.552600\n",
      "Epoch  2, CIFAR-10 Batch 5:  Loss:     1.1212 Validation Accuracy: 0.570200\n",
      "Epoch  3, CIFAR-10 Batch 1:  Loss:     1.1261 Validation Accuracy: 0.577600\n",
      "Epoch  3, CIFAR-10 Batch 2:  Loss:     1.0763 Validation Accuracy: 0.619400\n",
      "Epoch  3, CIFAR-10 Batch 3:  Loss:     0.8719 Validation Accuracy: 0.631400\n",
      "Epoch  3, CIFAR-10 Batch 4:  Loss:     0.9382 Validation Accuracy: 0.637600\n",
      "Epoch  3, CIFAR-10 Batch 5:  Loss:     0.9164 Validation Accuracy: 0.641200\n",
      "Epoch  4, CIFAR-10 Batch 1:  Loss:     0.8933 Validation Accuracy: 0.656000\n",
      "Epoch  4, CIFAR-10 Batch 2:  Loss:     0.8424 Validation Accuracy: 0.661600\n",
      "Epoch  4, CIFAR-10 Batch 3:  Loss:     0.7189 Validation Accuracy: 0.674400\n",
      "Epoch  4, CIFAR-10 Batch 4:  Loss:     0.7663 Validation Accuracy: 0.674200\n",
      "Epoch  4, CIFAR-10 Batch 5:  Loss:     0.8061 Validation Accuracy: 0.682200\n",
      "Epoch  5, CIFAR-10 Batch 1:  Loss:     0.8635 Validation Accuracy: 0.688600\n",
      "Epoch  5, CIFAR-10 Batch 2:  Loss:     0.6451 Validation Accuracy: 0.701200\n",
      "Epoch  5, CIFAR-10 Batch 3:  Loss:     0.5691 Validation Accuracy: 0.705800\n",
      "Epoch  5, CIFAR-10 Batch 4:  Loss:     0.5933 Validation Accuracy: 0.712800\n",
      "Epoch  5, CIFAR-10 Batch 5:  Loss:     0.6441 Validation Accuracy: 0.708400\n",
      "Epoch  6, CIFAR-10 Batch 1:  Loss:     0.6146 Validation Accuracy: 0.725000\n",
      "Epoch  6, CIFAR-10 Batch 2:  Loss:     0.5427 Validation Accuracy: 0.732200\n",
      "Epoch  6, CIFAR-10 Batch 3:  Loss:     0.4869 Validation Accuracy: 0.728000\n",
      "Epoch  6, CIFAR-10 Batch 4:  Loss:     0.4242 Validation Accuracy: 0.737400\n",
      "Epoch  6, CIFAR-10 Batch 5:  Loss:     0.5276 Validation Accuracy: 0.741200\n",
      "Epoch  7, CIFAR-10 Batch 1:  Loss:     0.4571 Validation Accuracy: 0.747800\n",
      "Epoch  7, CIFAR-10 Batch 2:  Loss:     0.4251 Validation Accuracy: 0.746800\n",
      "Epoch  7, CIFAR-10 Batch 3:  Loss:     0.3338 Validation Accuracy: 0.744400\n",
      "Epoch  7, CIFAR-10 Batch 4:  Loss:     0.3975 Validation Accuracy: 0.735400\n",
      "Epoch  7, CIFAR-10 Batch 5:  Loss:     0.4407 Validation Accuracy: 0.744800\n",
      "Epoch  8, CIFAR-10 Batch 1:  Loss:     0.3910 Validation Accuracy: 0.757200\n",
      "Epoch  8, CIFAR-10 Batch 2:  Loss:     0.3475 Validation Accuracy: 0.756800\n",
      "Epoch  8, CIFAR-10 Batch 3:  Loss:     0.2841 Validation Accuracy: 0.762400\n",
      "Epoch  8, CIFAR-10 Batch 4:  Loss:     0.3592 Validation Accuracy: 0.762400\n",
      "Epoch  8, CIFAR-10 Batch 5:  Loss:     0.3729 Validation Accuracy: 0.764000\n",
      "Epoch  9, CIFAR-10 Batch 1:  Loss:     0.3269 Validation Accuracy: 0.763800\n",
      "Epoch  9, CIFAR-10 Batch 2:  Loss:     0.3045 Validation Accuracy: 0.760800\n",
      "Epoch  9, CIFAR-10 Batch 3:  Loss:     0.3238 Validation Accuracy: 0.759200\n",
      "Epoch  9, CIFAR-10 Batch 4:  Loss:     0.2877 Validation Accuracy: 0.763600\n",
      "Epoch  9, CIFAR-10 Batch 5:  Loss:     0.3259 Validation Accuracy: 0.774400\n",
      "Epoch 10, CIFAR-10 Batch 1:  Loss:     0.2860 Validation Accuracy: 0.774800\n",
      "Epoch 10, CIFAR-10 Batch 2:  Loss:     0.2454 Validation Accuracy: 0.779000\n",
      "Epoch 10, CIFAR-10 Batch 3:  Loss:     0.2114 Validation Accuracy: 0.784600\n",
      "Epoch 10, CIFAR-10 Batch 4:  Loss:     0.2439 Validation Accuracy: 0.783000\n",
      "Epoch 10, CIFAR-10 Batch 5:  Loss:     0.2861 Validation Accuracy: 0.777800\n",
      "Epoch 11, CIFAR-10 Batch 1:  Loss:     0.2594 Validation Accuracy: 0.781800\n",
      "Epoch 11, CIFAR-10 Batch 2:  Loss:     0.2148 Validation Accuracy: 0.778200\n",
      "Epoch 11, CIFAR-10 Batch 3:  Loss:     0.1558 Validation Accuracy: 0.784200\n",
      "Epoch 11, CIFAR-10 Batch 4:  Loss:     0.1457 Validation Accuracy: 0.792400\n",
      "Epoch 11, CIFAR-10 Batch 5:  Loss:     0.2184 Validation Accuracy: 0.781000\n",
      "Epoch 12, CIFAR-10 Batch 1:  Loss:     0.2623 Validation Accuracy: 0.787200\n",
      "Epoch 12, CIFAR-10 Batch 2:  Loss:     0.1533 Validation Accuracy: 0.786000\n",
      "Epoch 12, CIFAR-10 Batch 3:  Loss:     0.1833 Validation Accuracy: 0.795200\n",
      "Epoch 12, CIFAR-10 Batch 4:  Loss:     0.1917 Validation Accuracy: 0.777800\n",
      "Epoch 12, CIFAR-10 Batch 5:  Loss:     0.1592 Validation Accuracy: 0.791000\n",
      "Epoch 13, CIFAR-10 Batch 1:  Loss:     0.2169 Validation Accuracy: 0.786600\n",
      "Epoch 13, CIFAR-10 Batch 2:  Loss:     0.1492 Validation Accuracy: 0.799200\n",
      "Epoch 13, CIFAR-10 Batch 3:  Loss:     0.1071 Validation Accuracy: 0.793000\n",
      "Epoch 13, CIFAR-10 Batch 4:  Loss:     0.1434 Validation Accuracy: 0.793600\n",
      "Epoch 13, CIFAR-10 Batch 5:  Loss:     0.1601 Validation Accuracy: 0.792400\n",
      "Epoch 14, CIFAR-10 Batch 1:  Loss:     0.1285 Validation Accuracy: 0.799000\n",
      "Epoch 14, CIFAR-10 Batch 2:  Loss:     0.1443 Validation Accuracy: 0.795400\n",
      "Epoch 14, CIFAR-10 Batch 3:  Loss:     0.0939 Validation Accuracy: 0.798400\n",
      "Epoch 14, CIFAR-10 Batch 4:  Loss:     0.1274 Validation Accuracy: 0.801000\n",
      "Epoch 14, CIFAR-10 Batch 5:  Loss:     0.1400 Validation Accuracy: 0.785000\n",
      "Epoch 15, CIFAR-10 Batch 1:  Loss:     0.1419 Validation Accuracy: 0.805400\n",
      "Epoch 15, CIFAR-10 Batch 2:  Loss:     0.1289 Validation Accuracy: 0.798800\n",
      "Epoch 15, CIFAR-10 Batch 3:  Loss:     0.1218 Validation Accuracy: 0.794000\n",
      "Epoch 15, CIFAR-10 Batch 4:  Loss:     0.1125 Validation Accuracy: 0.795600\n",
      "Epoch 15, CIFAR-10 Batch 5:  Loss:     0.0998 Validation Accuracy: 0.796000\n",
      "Epoch 16, CIFAR-10 Batch 1:  Loss:     0.1197 Validation Accuracy: 0.800800\n",
      "Epoch 16, CIFAR-10 Batch 2:  Loss:     0.0949 Validation Accuracy: 0.797200\n",
      "Epoch 16, CIFAR-10 Batch 3:  Loss:     0.0944 Validation Accuracy: 0.789400\n",
      "Epoch 16, CIFAR-10 Batch 4:  Loss:     0.0949 Validation Accuracy: 0.804400\n",
      "Epoch 16, CIFAR-10 Batch 5:  Loss:     0.0914 Validation Accuracy: 0.793200\n",
      "Epoch 17, CIFAR-10 Batch 1:  Loss:     0.1249 Validation Accuracy: 0.801600\n",
      "Epoch 17, CIFAR-10 Batch 2:  Loss:     0.0995 Validation Accuracy: 0.797200\n",
      "Epoch 17, CIFAR-10 Batch 3:  Loss:     0.1361 Validation Accuracy: 0.797000\n",
      "Epoch 17, CIFAR-10 Batch 4:  Loss:     0.0726 Validation Accuracy: 0.802200\n",
      "Epoch 17, CIFAR-10 Batch 5:  Loss:     0.0788 Validation Accuracy: 0.796600\n",
      "Epoch 18, CIFAR-10 Batch 1:  Loss:     0.1191 Validation Accuracy: 0.810600\n",
      "Epoch 18, CIFAR-10 Batch 2:  Loss:     0.0919 Validation Accuracy: 0.805000\n",
      "Epoch 18, CIFAR-10 Batch 3:  Loss:     0.0869 Validation Accuracy: 0.806400\n",
      "Epoch 18, CIFAR-10 Batch 4:  Loss:     0.0414 Validation Accuracy: 0.814000\n",
      "Epoch 18, CIFAR-10 Batch 5:  Loss:     0.0771 Validation Accuracy: 0.804000\n",
      "Epoch 19, CIFAR-10 Batch 1:  Loss:     0.1012 Validation Accuracy: 0.808600\n",
      "Epoch 19, CIFAR-10 Batch 2:  Loss:     0.0670 Validation Accuracy: 0.794600\n",
      "Epoch 19, CIFAR-10 Batch 3:  Loss:     0.0708 Validation Accuracy: 0.804800\n",
      "Epoch 19, CIFAR-10 Batch 4:  Loss:     0.0564 Validation Accuracy: 0.806800\n",
      "Epoch 19, CIFAR-10 Batch 5:  Loss:     0.0498 Validation Accuracy: 0.796600\n",
      "Epoch 20, CIFAR-10 Batch 1:  Loss:     0.0770 Validation Accuracy: 0.816400\n",
      "Epoch 20, CIFAR-10 Batch 2:  Loss:     0.0879 Validation Accuracy: 0.796000\n",
      "Epoch 20, CIFAR-10 Batch 3:  Loss:     0.0920 Validation Accuracy: 0.800000\n",
      "Epoch 20, CIFAR-10 Batch 4:  Loss:     0.0418 Validation Accuracy: 0.812200\n",
      "Epoch 20, CIFAR-10 Batch 5:  Loss:     0.0703 Validation Accuracy: 0.812600\n",
      "Epoch 21, CIFAR-10 Batch 1:  Loss:     0.0874 Validation Accuracy: 0.812600\n",
      "Epoch 21, CIFAR-10 Batch 2:  Loss:     0.0435 Validation Accuracy: 0.804000\n",
      "Epoch 21, CIFAR-10 Batch 3:  Loss:     0.0750 Validation Accuracy: 0.795600\n",
      "Epoch 21, CIFAR-10 Batch 4:  Loss:     0.0638 Validation Accuracy: 0.815400\n",
      "Epoch 21, CIFAR-10 Batch 5:  Loss:     0.0487 Validation Accuracy: 0.804400\n",
      "Epoch 22, CIFAR-10 Batch 1:  Loss:     0.0599 Validation Accuracy: 0.809200\n",
      "Epoch 22, CIFAR-10 Batch 2:  Loss:     0.0315 Validation Accuracy: 0.798600\n"
     ]
    },
    {
     "name": "stdout",
     "output_type": "stream",
     "text": [
      "Epoch 22, CIFAR-10 Batch 3:  Loss:     0.0633 Validation Accuracy: 0.800600\n",
      "Epoch 22, CIFAR-10 Batch 4:  Loss:     0.0466 Validation Accuracy: 0.801400\n",
      "Epoch 22, CIFAR-10 Batch 5:  Loss:     0.0658 Validation Accuracy: 0.800400\n",
      "Epoch 23, CIFAR-10 Batch 1:  Loss:     0.0534 Validation Accuracy: 0.809200\n",
      "Epoch 23, CIFAR-10 Batch 2:  Loss:     0.0432 Validation Accuracy: 0.812800\n",
      "Epoch 23, CIFAR-10 Batch 3:  Loss:     0.0482 Validation Accuracy: 0.810800\n",
      "Epoch 23, CIFAR-10 Batch 4:  Loss:     0.0319 Validation Accuracy: 0.812200\n",
      "Epoch 23, CIFAR-10 Batch 5:  Loss:     0.0425 Validation Accuracy: 0.805800\n",
      "Epoch 24, CIFAR-10 Batch 1:  Loss:     0.0426 Validation Accuracy: 0.814800\n",
      "Epoch 24, CIFAR-10 Batch 2:  Loss:     0.0349 Validation Accuracy: 0.808000\n",
      "Epoch 24, CIFAR-10 Batch 3:  Loss:     0.0600 Validation Accuracy: 0.812400\n",
      "Epoch 24, CIFAR-10 Batch 4:  Loss:     0.0274 Validation Accuracy: 0.816000\n",
      "Epoch 24, CIFAR-10 Batch 5:  Loss:     0.0309 Validation Accuracy: 0.805200\n",
      "Epoch 25, CIFAR-10 Batch 1:  Loss:     0.0520 Validation Accuracy: 0.811000\n",
      "Epoch 25, CIFAR-10 Batch 2:  Loss:     0.0450 Validation Accuracy: 0.809600\n",
      "Epoch 25, CIFAR-10 Batch 3:  Loss:     0.0547 Validation Accuracy: 0.807000\n",
      "Epoch 25, CIFAR-10 Batch 4:  Loss:     0.0335 Validation Accuracy: 0.816800\n",
      "Epoch 25, CIFAR-10 Batch 5:  Loss:     0.0274 Validation Accuracy: 0.804800\n",
      "Epoch 26, CIFAR-10 Batch 1:  Loss:     0.0498 Validation Accuracy: 0.811600\n",
      "Epoch 26, CIFAR-10 Batch 2:  Loss:     0.0416 Validation Accuracy: 0.806600\n",
      "Epoch 26, CIFAR-10 Batch 3:  Loss:     0.0364 Validation Accuracy: 0.812800\n",
      "Epoch 26, CIFAR-10 Batch 4:  Loss:     0.0356 Validation Accuracy: 0.813200\n",
      "Epoch 26, CIFAR-10 Batch 5:  Loss:     0.0262 Validation Accuracy: 0.807800\n",
      "Epoch 27, CIFAR-10 Batch 1:  Loss:     0.0437 Validation Accuracy: 0.812600\n",
      "Epoch 27, CIFAR-10 Batch 2:  Loss:     0.0233 Validation Accuracy: 0.811200\n",
      "Epoch 27, CIFAR-10 Batch 3:  Loss:     0.0668 Validation Accuracy: 0.810000\n",
      "Epoch 27, CIFAR-10 Batch 4:  Loss:     0.0282 Validation Accuracy: 0.813000\n",
      "Epoch 27, CIFAR-10 Batch 5:  Loss:     0.0213 Validation Accuracy: 0.808400\n",
      "Epoch 28, CIFAR-10 Batch 1:  Loss:     0.0275 Validation Accuracy: 0.816200\n",
      "Epoch 28, CIFAR-10 Batch 2:  Loss:     0.0419 Validation Accuracy: 0.802200\n",
      "Epoch 28, CIFAR-10 Batch 3:  Loss:     0.0242 Validation Accuracy: 0.815400\n",
      "Epoch 28, CIFAR-10 Batch 4:  Loss:     0.0368 Validation Accuracy: 0.815600\n",
      "Epoch 28, CIFAR-10 Batch 5:  Loss:     0.0505 Validation Accuracy: 0.788600\n",
      "Epoch 29, CIFAR-10 Batch 1:  Loss:     0.0289 Validation Accuracy: 0.819800\n",
      "Epoch 29, CIFAR-10 Batch 2:  Loss:     0.0368 Validation Accuracy: 0.801000\n",
      "Epoch 29, CIFAR-10 Batch 3:  Loss:     0.0295 Validation Accuracy: 0.811000\n",
      "Epoch 29, CIFAR-10 Batch 4:  Loss:     0.0266 Validation Accuracy: 0.817800\n",
      "Epoch 29, CIFAR-10 Batch 5:  Loss:     0.0156 Validation Accuracy: 0.803000\n",
      "Epoch 30, CIFAR-10 Batch 1:  Loss:     0.0321 Validation Accuracy: 0.819400\n",
      "Epoch 30, CIFAR-10 Batch 2:  Loss:     0.0119 Validation Accuracy: 0.806600\n",
      "Epoch 30, CIFAR-10 Batch 3:  Loss:     0.0171 Validation Accuracy: 0.817800\n",
      "Epoch 30, CIFAR-10 Batch 4:  Loss:     0.0128 Validation Accuracy: 0.817400\n",
      "Epoch 30, CIFAR-10 Batch 5:  Loss:     0.0366 Validation Accuracy: 0.814800\n"
     ]
    }
   ],
   "source": [
    "save_model_path = './image_classification'\n",
    "\n",
    "print('Training...')\n",
    "with tf.Session() as sess:\n",
    "    # Initializing the variables\n",
    "    sess.run(tf.global_variables_initializer())\n",
    "    \n",
    "    # Training cycle\n",
    "    for epoch in range(epochs):\n",
    "        # Loop over all batches\n",
    "        n_batches = 5\n",
    "        for batch_i in range(1, n_batches + 1):\n",
    "            for batch_features, batch_labels in helper.load_preprocess_training_batch(batch_i, batch_size):\n",
    "                train_neural_network(sess, optimizer, keep_probability, batch_features, batch_labels)\n",
    "            print('Epoch {:>2}, CIFAR-10 Batch {}:  '.format(epoch + 1, batch_i), end='')\n",
    "            print_stats(sess, batch_features, batch_labels, cost, accuracy)\n",
    "            \n",
    "    # Save Model\n",
    "    saver = tf.train.Saver()\n",
    "    save_path = saver.save(sess, save_model_path)"
   ]
  },
  {
   "cell_type": "markdown",
   "metadata": {},
   "source": [
    "## Test model"
   ]
  },
  {
   "cell_type": "code",
   "execution_count": 19,
   "metadata": {},
   "outputs": [
    {
     "name": "stdout",
     "output_type": "stream",
     "text": [
      "INFO:tensorflow:Restoring parameters from ./image_classification\n",
      "Testing Accuracy: 0.8049841772151899\n",
      "\n"
     ]
    },
    {
     "data": {
      "image/png": "[encoded data removed]",
      "text/plain": [
       "<matplotlib.figure.Figure at 0x235167a5518>"
      ]
     },
     "metadata": {
      "image/png": {
       "height": 319,
       "width": 355
      }
     },
     "output_type": "display_data"
    }
   ],
   "source": [
    "%matplotlib inline\n",
    "%config InlineBackend.figure_format = 'retina'\n",
    "\n",
    "import tensorflow as tf\n",
    "import pickle\n",
    "import helper\n",
    "import random\n",
    "\n",
    "batch_size = 128\n",
    "\n",
    "save_model_path = './image_classification'\n",
    "n_samples = 4\n",
    "top_n_predictions = 3\n",
    "\n",
    "def test_model():\n",
    "    \"\"\"\n",
    "    Test the saved model against the test dataset\n",
    "    \"\"\"\n",
    "    test_features, test_labels = pickle.load(open('preprocess_test.p', mode='rb'))\n",
    "    loaded_graph = tf.Graph()\n",
    "\n",
    "    with tf.Session(graph=loaded_graph) as sess:\n",
    "        # Load model\n",
    "        loader = tf.train.import_meta_graph(save_model_path + '.meta')\n",
    "        loader.restore(sess, save_model_path)\n",
    "\n",
    "        # Get Tensors from loaded model\n",
    "        loaded_x = loaded_graph.get_tensor_by_name('x:0')\n",
    "        loaded_y = loaded_graph.get_tensor_by_name('y:0')\n",
    "        loaded_keep_prob = loaded_graph.get_tensor_by_name('keep_prob:0')\n",
    "        loaded_logits = loaded_graph.get_tensor_by_name('logits:0')\n",
    "        loaded_acc = loaded_graph.get_tensor_by_name('accuracy:0')\n",
    "        \n",
    "        # Get accuracy in batches for memory limitations\n",
    "        test_batch_acc_total = 0\n",
    "        test_batch_count = 0\n",
    "        \n",
    "        for test_feature_batch, test_label_batch in helper.batch_features_labels(test_features, test_labels, batch_size):\n",
    "            test_batch_acc_total += sess.run(loaded_acc,\n",
    "                feed_dict={loaded_x: test_feature_batch, loaded_y: test_label_batch, loaded_keep_prob: 1.0})\n",
    "            test_batch_count += 1\n",
    "\n",
    "        print('Testing Accuracy: {}\\n'.format(test_batch_acc_total/test_batch_count))\n",
    "\n",
    "        # Print Random Samples\n",
    "        random_test_features, random_test_labels = tuple(zip(*random.sample(list(zip(test_features, test_labels)), n_samples)))\n",
    "        random_test_predictions = sess.run(tf.nn.top_k(tf.nn.softmax(loaded_logits), top_n_predictions),\n",
    "            feed_dict={loaded_x: random_test_features, loaded_y: random_test_labels, loaded_keep_prob: 1.0})\n",
    "        helper.display_image_predictions(random_test_features, random_test_labels, random_test_predictions)\n",
    "\n",
    "test_model()"
   ]
  }
 ],
 "metadata": {
  "kernelspec": {
   "display_name": "Python [conda env:tf_1_2]",
   "language": "python",
   "name": "conda-env-tf_1_2-py"
  },
  "language_info": {
   "codemirror_mode": {
    "name": "ipython",
    "version": 3
   },
   "file_extension": ".py",
   "mimetype": "text/x-python",
   "name": "python",
   "nbconvert_exporter": "python",
   "pygments_lexer": "ipython3",
   "version": "3.5.3"
  }
 },
 "nbformat": 4,
 "nbformat_minor": 2
}
