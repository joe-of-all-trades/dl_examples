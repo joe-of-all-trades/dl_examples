{
 "cells": [
  {
   "cell_type": "markdown",
   "metadata": {},
   "source": [
    "In this project, we'll build a simple convolutional neural network for CIFAR-10 image classification. Code contained in this project was based on Tensorflow 1.2.1 and python 3.5. "
   ]
  },
  {
   "cell_type": "code",
   "execution_count": 1,
   "metadata": {
    "collapsed": true
   },
   "outputs": [],
   "source": [
    "from urllib.request import urlretrieve\n",
    "from os.path import isfile, isdir\n",
    "from tqdm import tqdm\n",
    "import tarfile\n",
    "import tensorflow as tf\n",
    "\n",
    "cifar10_dataset_folder_path = 'cifar-10-batches-py'\n",
    "tar_gz_path = 'cifar-10-python.tar.gz'\n",
    "\n",
    "class DLProgress(tqdm):\n",
    "    last_block = 0\n",
    "\n",
    "    def hook(self, block_num=1, block_size=1, total_size=None):\n",
    "        self.total = total_size\n",
    "        self.update((block_num - self.last_block) * block_size)\n",
    "        self.last_block = block_num\n",
    "\n",
    "if not isfile(tar_gz_path):\n",
    "    with DLProgress(unit='B', unit_scale=True, miniters=1, desc='CIFAR-10 Dataset') as pbar:\n",
    "        urlretrieve(\n",
    "            'https://www.cs.toronto.edu/~kriz/cifar-10-python.tar.gz',\n",
    "            tar_gz_path,\n",
    "            pbar.hook)\n",
    "\n",
    "if not isdir(cifar10_dataset_folder_path):\n",
    "    with tarfile.open(tar_gz_path) as tar:\n",
    "        tar.extractall()\n",
    "        tar.close()"
   ]
  },
  {
   "cell_type": "code",
   "execution_count": 2,
   "metadata": {},
   "outputs": [
    {
     "name": "stdout",
     "output_type": "stream",
     "text": [
      "\n",
      "Stats of batch 1:\n",
      "Samples: 10000\n",
      "Label Counts: {0: 1005, 1: 974, 2: 1032, 3: 1016, 4: 999, 5: 937, 6: 1030, 7: 1001, 8: 1025, 9: 981}\n",
      "First 20 Labels: [6, 9, 9, 4, 1, 1, 2, 7, 8, 3, 4, 7, 7, 2, 9, 9, 9, 3, 2, 6]\n",
      "\n",
      "Example of Image 6:\n",
      "Image - Min Value: 7 Max Value: 249\n",
      "Image - Shape: (32, 32, 3)\n",
      "Label - Label Id: 2 Name: bird\n"
     ]
    },
    {
     "data": {
      "image/png": "[encoded data removed]",
      "text/plain": [
       "<matplotlib.figure.Figure at 0x7fc106d55160>"
      ]
     },
     "metadata": {
      "image/png": {
       "height": 250,
       "width": 253
      }
     },
     "output_type": "display_data"
    }
   ],
   "source": [
    "%matplotlib inline\n",
    "%config InlineBackend.figure_format = 'retina'\n",
    "\n",
    "import helper\n",
    "import numpy as np\n",
    "\n",
    "# Explore the dataset\n",
    "batch_id = 1\n",
    "sample_id = 6\n",
    "helper.display_stats(cifar10_dataset_folder_path, batch_id, sample_id)"
   ]
  },
  {
   "cell_type": "markdown",
   "metadata": {},
   "source": [
    "# Preprocess Data\n",
    "\n",
    "## Normalize"
   ]
  },
  {
   "cell_type": "code",
   "execution_count": 3,
   "metadata": {
    "collapsed": true
   },
   "outputs": [],
   "source": [
    "def normalize(x):\n",
    "    \"\"\"\n",
    "    Normalize a list of sample image data in the range of 0 to 1\n",
    "    : x: List of image data.  The image shape is (32, 32, 3)\n",
    "    \"\"\"\n",
    "    return (x - np.mean(x)) / np.std(x)\n",
    "    # return ( x - x.min() ) / ( x.max() - x.min() )"
   ]
  },
  {
   "cell_type": "markdown",
   "metadata": {},
   "source": [
    "## One hot encode"
   ]
  },
  {
   "cell_type": "code",
   "execution_count": 4,
   "metadata": {
    "collapsed": true
   },
   "outputs": [],
   "source": [
    "def one_hot_encode(x):\n",
    "    \"\"\"\n",
    "    One hot encode a list of sample labels. Return a one-hot encoded vector for each label.\n",
    "    : x: List of sample Labels\n",
    "    : return: Numpy array of one-hot encoded labels\n",
    "    \"\"\"\n",
    "    output = np.zeros([len(x), 10])\n",
    "    for idx, item in enumerate(x):\n",
    "        output[idx, item] = 1\n",
    "    return output"
   ]
  },
  {
   "cell_type": "markdown",
   "metadata": {},
   "source": [
    "This above function is equivalent to tf.one_hot(x, 10), but tensorflow module can not be pickled so we're sticking with the above implementation."
   ]
  },
  {
   "cell_type": "markdown",
   "metadata": {},
   "source": [
    "## Preprocess Data\n",
    "We will randomly shuffle the data, normalize them and save them in binary format."
   ]
  },
  {
   "cell_type": "code",
   "execution_count": 5,
   "metadata": {
    "collapsed": true
   },
   "outputs": [],
   "source": [
    "import tensorflow as tf\n",
    "# Preprocess Training, Validation, and Testing Data\n",
    "helper.preprocess_and_save_data(cifar10_dataset_folder_path, normalize, one_hot_encode)"
   ]
  },
  {
   "cell_type": "markdown",
   "metadata": {},
   "source": [
    "# Checkpoint\n",
    "The above work is all saved so when we're revisiting this notebook we don't have to do those work again. We can start from here."
   ]
  },
  {
   "cell_type": "code",
   "execution_count": 6,
   "metadata": {
    "collapsed": true
   },
   "outputs": [],
   "source": [
    "import pickle\n",
    "import helper\n",
    "\n",
    "valid_features, valid_labels = pickle.load(open('preprocess_validation.p', mode='rb'))"
   ]
  },
  {
   "cell_type": "markdown",
   "metadata": {},
   "source": [
    "# Building the network"
   ]
  },
  {
   "cell_type": "markdown",
   "metadata": {},
   "source": [
    "## Defining input"
   ]
  },
  {
   "cell_type": "code",
   "execution_count": 7,
   "metadata": {
    "collapsed": true
   },
   "outputs": [],
   "source": [
    "import tensorflow as tf\n",
    "\n",
    "def neural_net_image_input(image_shape):\n",
    "    \"\"\"\n",
    "    Return a Tensor for a batch of image input\n",
    "    : image_shape: Shape of the images\n",
    "    \"\"\"\n",
    "    return tf.placeholder(tf.float32, [None, image_shape[0], image_shape[1], image_shape[2]], \"x\")\n",
    "\n",
    "\n",
    "def neural_net_label_input(n_classes):\n",
    "    \"\"\"\n",
    "    Return a Tensor for a batch of label input\n",
    "    : n_classes: Number of classes\n",
    "    \"\"\"\n",
    "    return tf.placeholder(tf.float32, [None, n_classes], \"y\")\n",
    "\n",
    "\n",
    "def neural_net_keep_prob_input():\n",
    "    \"\"\"\n",
    "    Return a Tensor for keep probability\n",
    "    \"\"\"\n",
    "    return tf.placeholder(tf.float32, None, \"keep_prob\")\n",
    "\n",
    "\n",
    "def neural_net_training_flag():\n",
    "    return tf.placeholder(tf.bool, None, \"train_flag\")"
   ]
  },
  {
   "cell_type": "markdown",
   "metadata": {},
   "source": [
    "## Convolution and maxpool layer"
   ]
  },
  {
   "cell_type": "code",
   "execution_count": 8,
   "metadata": {
    "collapsed": true
   },
   "outputs": [],
   "source": [
    "def conv2d(x_tensor, conv_num_outputs, conv_ksize, conv_strides, is_train):\n",
    "    \"\"\"\n",
    "    Apply convolution then max pooling to x_tensor\n",
    "    :param x_tensor: TensorFlow Tensor\n",
    "    :param conv_num_outputs: Number of outputs for the convolutional layer\n",
    "    :param conv_ksize: kernal size 2-D Tuple for the convolutional layer\n",
    "    :param conv_strides: Stride 2-D Tuple for convolution\n",
    "    :param pool_ksize: kernal size 2-D Tuple for pool\n",
    "    :param pool_strides: Stride 2-D Tuple for pool\n",
    "    : return: A tensor that represents convolution and max pooling of x_tensor\n",
    "    \"\"\"\n",
    "    w = tf.get_variable(\"w\", shape=[conv_ksize[0], conv_ksize[1], x_tensor.get_shape().as_list()[3], conv_num_outputs],\n",
    "                         initializer=tf.contrib.layers.xavier_initializer())\n",
    "    \n",
    "    #b = tf.Variable(tf.truncated_normal([conv_num_outputs],\n",
    "    #                                  mean=0.0, stddev=0.1, dtype=tf.float32))\n",
    "    \n",
    "    wc = tf.nn.conv2d(x_tensor, w, strides=[1, conv_strides[0], conv_strides[1], 1], padding='SAME')\n",
    "    # z = tf.nn.bias_add(wc, b)\n",
    "    z = tf.layers.batch_normalization(wc, training=is_train)\n",
    "    \n",
    "    return tf.nn.relu(z)\n",
    "\n"
   ]
  },
  {
   "cell_type": "markdown",
   "metadata": {},
   "source": [
    "## Flatten layer\n",
    "Implement the flatten function to change the dimension of x_tensor from a 4-D tensor to a 2-D tensor. The output should be the shape (Batch Size, Flattened Image Size). Shortcut option: you can use classes from the TensorFlow Layers or TensorFlow Layers (contrib) packages for this layer. For more of a challenge, only use other TensorFlow packages."
   ]
  },
  {
   "cell_type": "code",
   "execution_count": 9,
   "metadata": {
    "collapsed": true
   },
   "outputs": [],
   "source": [
    "def flatten(x_tensor):\n",
    "    \"\"\"\n",
    "    Flatten x_tensor to (Batch Size, Flattened Image Size)\n",
    "    : x_tensor: A tensor of size (Batch Size, ...), where ... are the image dimensions.\n",
    "    : return: A tensor of size (Batch Size, Flattened Image Size).\n",
    "    \"\"\"\n",
    "    # reference : https://github.com/tensorflow/tensorflow/issues/7253\n",
    "    return tf.reshape(x_tensor, [tf.shape(x_tensor)[0], np.prod(x_tensor.get_shape().as_list()[1:])])\n",
    "    \n",
    "    # This also works\n",
    "    #return tf.reshape(x_tensor, [-1, np.prod(x_tensor.shape[1:]).value])"
   ]
  },
  {
   "cell_type": "markdown",
   "metadata": {},
   "source": [
    "## Fully connected layer"
   ]
  },
  {
   "cell_type": "code",
   "execution_count": 10,
   "metadata": {
    "collapsed": true
   },
   "outputs": [],
   "source": [
    "def fully_conn(x_tensor, num_outputs, is_train):\n",
    "    \"\"\"\n",
    "    Apply a fully connected layer to x_tensor using weight and bias\n",
    "    : x_tensor: A 2-D tensor where the first dimension is batch size.\n",
    "    : num_outputs: The number of output that the new tensor should be.\n",
    "    : return: A 2-D tensor where the second dimension is num_outputs.\n",
    "    \"\"\"\n",
    "    fc = tf.reshape(x_tensor, [-1, np.prod(x_tensor.get_shape().as_list()[1:])])\n",
    "    \n",
    "    w = tf.get_variable(\"w\", shape=[np.prod(x_tensor.get_shape().as_list()[1:]), num_outputs],\n",
    "                         initializer=tf.contrib.layers.xavier_initializer())\n",
    "    \n",
    "    # b = tf.Variable(tf.truncated_normal([num_outputs],mean=0.0, stddev=0.1, dtype=tf.float32))\n",
    "    z = tf.matmul(fc, w)\n",
    "    z = tf.layers.batch_normalization(z, training=is_train)\n",
    "    \n",
    "    return tf.nn.relu(z)"
   ]
  },
  {
   "cell_type": "markdown",
   "metadata": {},
   "source": [
    "## Output layer"
   ]
  },
  {
   "cell_type": "code",
   "execution_count": 11,
   "metadata": {
    "collapsed": true
   },
   "outputs": [],
   "source": [
    "def output(x_tensor, num_outputs):\n",
    "    \"\"\"\n",
    "    Apply a output layer to x_tensor using weight and bias\n",
    "    : x_tensor: A 2-D tensor where the first dimension is batch size.\n",
    "    : num_outputs: The number of output that the new tensor should be.\n",
    "    : return: A 2-D tensor where the second dimension is num_outputs.\n",
    "    \"\"\"\n",
    "    w = tf.get_variable(\"w\", shape=[np.prod(x_tensor.get_shape().as_list()[1:]), num_outputs],\n",
    "                         initializer=tf.contrib.layers.xavier_initializer())\n",
    "    \n",
    "    b = tf.Variable(tf.truncated_normal([num_outputs],mean=0.0, stddev=0.1, dtype=tf.float32))\n",
    "    return tf.add(tf.matmul(x_tensor, w), b)\n"
   ]
  },
  {
   "cell_type": "markdown",
   "metadata": {},
   "source": [
    "## Create the convolutional neural network model"
   ]
  },
  {
   "cell_type": "code",
   "execution_count": 12,
   "metadata": {
    "collapsed": true
   },
   "outputs": [],
   "source": [
    "def conv_net(x, keep_prob, train_flag):\n",
    "    \"\"\"\n",
    "    Create a convolutional neural network model\n",
    "    : x: Placeholder tensor that holds image data.\n",
    "    : keep_prob: Placeholder tensor that hold dropout keep probability.\n",
    "    : return: Tensor that represents logits\n",
    "    \"\"\"\n",
    "    # Convolution and maxpooling layers\n",
    "    with tf.variable_scope(\"conv1\"):\n",
    "        conv1 = conv2d(x, 40, (3, 3), (1, 1), train_flag)\n",
    "    \n",
    "    with tf.variable_scope(\"conv2\"):\n",
    "        conv2 = conv2d(conv1, 80, (3, 3), (1, 1), train_flag)\n",
    "    conv2 = tf.nn.max_pool(conv2, ksize=[1, 2, 2, 1], strides=[1, 2, 2, 1], padding='SAME')\n",
    "    conv2 = tf.nn.dropout(conv2, keep_prob)\n",
    "    \n",
    "    with tf.variable_scope(\"conv3\"):\n",
    "        conv3 = conv2d(conv2, 160, (3, 3), (1, 1), train_flag)\n",
    "    \n",
    "    with tf.variable_scope(\"conv4\"):\n",
    "        conv4 = conv2d(conv3, 320, (3, 3), (1, 1), train_flag)\n",
    "    conv4 = tf.nn.max_pool(conv4, ksize=[1, 2, 2, 1], strides=[1, 2, 2, 1], padding='SAME')\n",
    "    conv4 = tf.nn.dropout(conv4, keep_prob)\n",
    "    \n",
    "    with tf.variable_scope(\"conv5\"):\n",
    "        conv5 = conv2d(conv4, 160, (1, 1), (1, 1), train_flag)\n",
    "    conv5 = tf.nn.dropout(conv5, keep_prob)\n",
    "    \n",
    "    # Flatten Layer\n",
    "    f = flatten(conv5)\n",
    "\n",
    "    # Fully Connected layers\n",
    "    with tf.variable_scope(\"fc1\"):\n",
    "        fc1 = fully_conn(f, 512, train_flag)\n",
    "        fc1 = tf.nn.dropout(fc1, keep_prob)\n",
    "    with tf.variable_scope(\"fc2\"):\n",
    "        fc2 = fully_conn(fc1, 256, train_flag)\n",
    "        fc2 = tf.nn.dropout(fc2, keep_prob)\n",
    "    #with tf.variable_scope(\"fc3\"):\n",
    "    #    fc3 = fully_conn(fc2, 96, train_flag)\n",
    "    #    fc3 = tf.nn.dropout(fc3, keep_prob)\n",
    "    \n",
    "    # Output Layer\n",
    "    with tf.variable_scope(\"out\"):\n",
    "        o = output(fc2, 10)\n",
    "    \n",
    "    # TODO: return output\n",
    "    return o"
   ]
  },
  {
   "cell_type": "markdown",
   "metadata": {},
   "source": [
    "## Build the network"
   ]
  },
  {
   "cell_type": "code",
   "execution_count": 13,
   "metadata": {
    "collapsed": true
   },
   "outputs": [],
   "source": [
    "tf.reset_default_graph()\n",
    "\n",
    "# Inputs\n",
    "x = neural_net_image_input((32, 32, 3))\n",
    "y = neural_net_label_input(10)\n",
    "keep_prob = neural_net_keep_prob_input()\n",
    "train_flag = neural_net_training_flag()\n",
    "\n",
    "# Model\n",
    "logits = conv_net(x, keep_prob, train_flag)\n",
    "\n",
    "# Name logits Tensor, so that is can be loaded from disk after training\n",
    "logits = tf.identity(logits, name='logits')\n",
    "\n",
    "# Loss and Optimizer\n",
    "cost = tf.reduce_mean(tf.nn.softmax_cross_entropy_with_logits(logits=logits, labels=y))\n",
    "\n",
    "# Collect batch mean and variance for batch normalization\n",
    "update_ops = tf.get_collection(tf.GraphKeys.UPDATE_OPS)\n",
    "with tf.control_dependencies(update_ops):\n",
    "    optimizer = tf.train.AdamOptimizer(epsilon=1e-04).minimize(cost)\n",
    "\n",
    "# Accuracy\n",
    "correct_pred = tf.equal(tf.argmax(logits, 1), tf.argmax(y, 1))\n",
    "accuracy = tf.reduce_mean(tf.cast(correct_pred, tf.float32), name='accuracy')"
   ]
  },
  {
   "cell_type": "markdown",
   "metadata": {},
   "source": [
    "## Train network"
   ]
  },
  {
   "cell_type": "code",
   "execution_count": 14,
   "metadata": {
    "collapsed": true
   },
   "outputs": [],
   "source": [
    "def train_neural_network(session, optimizer, keep_probability, feature_batch, label_batch, is_train):\n",
    "    \"\"\"\n",
    "    Optimize the session on a batch of images and labels\n",
    "    \"\"\"\n",
    "    session.run(optimizer, feed_dict={x: feature_batch, y: label_batch, keep_prob: keep_probability, train_flag:is_train})"
   ]
  },
  {
   "cell_type": "markdown",
   "metadata": {},
   "source": [
    "## Print Stats\n",
    "It's important to evaluate the performance of model once in a while. If effect, we're feeding a small batch of data to the neural network through forward propagation and then caculate the accuracy of prediction. We don't want to do this too often as this slows down the overall process. It's important to keep in mind that since we're actually using the model for prediction but not training it, we need to set keep probability for dropout to 1 so we're not losing any connection between neurons. "
   ]
  },
  {
   "cell_type": "code",
   "execution_count": 15,
   "metadata": {
    "collapsed": true
   },
   "outputs": [],
   "source": [
    "def print_stats(session, feature_batch, label_batch, cost, accuracy):\n",
    "    \"\"\"\n",
    "    Print information about loss and validation accuracy\n",
    "    \"\"\"\n",
    "    loss = session.run(cost, feed_dict={x: feature_batch, y: label_batch, keep_prob: 1., train_flag:False})\n",
    "    valid_batch_acc_total = 0\n",
    "    valid_batch_count = 0\n",
    "        \n",
    "    for valid_feature_batch, valid_label_batch in helper.batch_features_labels(valid_features, valid_labels, valid_batch_size):\n",
    "        valid_batch_acc_total += sess.run(accuracy,\n",
    "                feed_dict={x: valid_feature_batch, y: valid_label_batch, keep_prob: 1.})\n",
    "        valid_batch_count += 1\n",
    "    \n",
    "    print('Loss: {:>10.4f} Validation Accuracy: {:.6f}'.format(loss, valid_batch_acc_total/valid_batch_count))"
   ]
  },
  {
   "cell_type": "markdown",
   "metadata": {},
   "source": [
    "## Hyperparameters"
   ]
  },
  {
   "cell_type": "code",
   "execution_count": 16,
   "metadata": {
    "collapsed": true
   },
   "outputs": [],
   "source": [
    "epochs = 60\n",
    "batch_size = 64\n",
    "valid_batch_size = 512\n",
    "keep_probability = 0.5"
   ]
  },
  {
   "cell_type": "markdown",
   "metadata": {},
   "source": [
    "## Train on a single CIFAR-10 batch"
   ]
  },
  {
   "cell_type": "code",
   "execution_count": 17,
   "metadata": {
    "collapsed": true
   },
   "outputs": [],
   "source": [
    "#print('Checking the Training on a Single Batch...')\n",
    "#with tf.Session() as sess:\n",
    "#    sess.run(tf.global_variables_initializer())\n",
    "    \n",
    "    # Training cycle\n",
    "#    for epoch in range(epochs):\n",
    "#        batch_i = 1\n",
    "#        for batch_features, batch_labels in helper.load_preprocess_training_batch(batch_i, batch_size):\n",
    "#            batch_mean = np.mean(batch_features)\n",
    "#            batch_std = np.std(batch_features)\n",
    "#            batch_features = batch_features.astype(np.float32)\n",
    "#            for ii in range(batch_features.shape[0]):\n",
    "#                batch_features[ii, :, :, :] = (batch_features[ii, :, :, :] - batch_mean) / batch_std  \n",
    "#            train_neural_network(sess, optimizer, keep_probability, batch_features, batch_labels, True)\n",
    "#        print('Epoch {:>2}, CIFAR-10 Batch {}:  '.format(epoch + 1, batch_i), end='')\n",
    "#        print_stats(sess, batch_features, batch_labels, cost, accuracy)"
   ]
  },
  {
   "cell_type": "markdown",
   "metadata": {},
   "source": [
    "## Fully train the model"
   ]
  },
  {
   "cell_type": "code",
   "execution_count": 18,
   "metadata": {},
   "outputs": [
    {
     "name": "stdout",
     "output_type": "stream",
     "text": [
      "Training...\n",
      "Epoch  1, CIFAR-10 Batch 1:  Loss:     3.4504 Validation Accuracy: 0.135400\n",
      "Epoch  1, CIFAR-10 Batch 2:  Loss:     2.2509 Validation Accuracy: 0.295400\n",
      "Epoch  1, CIFAR-10 Batch 3:  Loss:     1.8512 Validation Accuracy: 0.356600\n",
      "Epoch  1, CIFAR-10 Batch 4:  Loss:     1.3832 Validation Accuracy: 0.492600\n",
      "Epoch  1, CIFAR-10 Batch 5:  Loss:     1.3637 Validation Accuracy: 0.535600\n",
      "Epoch  2, CIFAR-10 Batch 1:  Loss:     1.3033 Validation Accuracy: 0.541600\n",
      "Epoch  2, CIFAR-10 Batch 2:  Loss:     1.1453 Validation Accuracy: 0.599200\n",
      "Epoch  2, CIFAR-10 Batch 3:  Loss:     1.1969 Validation Accuracy: 0.587200\n",
      "Epoch  2, CIFAR-10 Batch 4:  Loss:     1.0145 Validation Accuracy: 0.629800\n",
      "Epoch  2, CIFAR-10 Batch 5:  Loss:     0.9595 Validation Accuracy: 0.653600\n",
      "Epoch  3, CIFAR-10 Batch 1:  Loss:     0.9543 Validation Accuracy: 0.657800\n",
      "Epoch  3, CIFAR-10 Batch 2:  Loss:     0.9118 Validation Accuracy: 0.628400\n",
      "Epoch  3, CIFAR-10 Batch 3:  Loss:     0.9308 Validation Accuracy: 0.650000\n",
      "Epoch  3, CIFAR-10 Batch 4:  Loss:     0.9218 Validation Accuracy: 0.658600\n",
      "Epoch  3, CIFAR-10 Batch 5:  Loss:     0.7811 Validation Accuracy: 0.696200\n",
      "Epoch  4, CIFAR-10 Batch 1:  Loss:     0.7065 Validation Accuracy: 0.705000\n",
      "Epoch  4, CIFAR-10 Batch 2:  Loss:     0.6205 Validation Accuracy: 0.719600\n",
      "Epoch  4, CIFAR-10 Batch 3:  Loss:     0.6063 Validation Accuracy: 0.712200\n",
      "Epoch  4, CIFAR-10 Batch 4:  Loss:     0.8281 Validation Accuracy: 0.694400\n",
      "Epoch  4, CIFAR-10 Batch 5:  Loss:     0.7018 Validation Accuracy: 0.707600\n",
      "Epoch  5, CIFAR-10 Batch 1:  Loss:     0.5733 Validation Accuracy: 0.722400\n",
      "Epoch  5, CIFAR-10 Batch 2:  Loss:     0.8829 Validation Accuracy: 0.681800\n",
      "Epoch  5, CIFAR-10 Batch 3:  Loss:     0.5058 Validation Accuracy: 0.746400\n",
      "Epoch  5, CIFAR-10 Batch 4:  Loss:     0.7005 Validation Accuracy: 0.729800\n",
      "Epoch  5, CIFAR-10 Batch 5:  Loss:     0.6044 Validation Accuracy: 0.734200\n",
      "Epoch  6, CIFAR-10 Batch 1:  Loss:     0.5114 Validation Accuracy: 0.769000\n",
      "Epoch  6, CIFAR-10 Batch 2:  Loss:     0.5957 Validation Accuracy: 0.755400\n",
      "Epoch  6, CIFAR-10 Batch 3:  Loss:     0.4310 Validation Accuracy: 0.765200\n",
      "Epoch  6, CIFAR-10 Batch 4:  Loss:     0.5733 Validation Accuracy: 0.764400\n",
      "Epoch  6, CIFAR-10 Batch 5:  Loss:     0.5577 Validation Accuracy: 0.765600\n",
      "Epoch  7, CIFAR-10 Batch 1:  Loss:     0.5438 Validation Accuracy: 0.763200\n",
      "Epoch  7, CIFAR-10 Batch 2:  Loss:     0.5703 Validation Accuracy: 0.739000\n",
      "Epoch  7, CIFAR-10 Batch 3:  Loss:     0.3763 Validation Accuracy: 0.781600\n",
      "Epoch  7, CIFAR-10 Batch 4:  Loss:     0.5394 Validation Accuracy: 0.766800\n",
      "Epoch  7, CIFAR-10 Batch 5:  Loss:     0.4077 Validation Accuracy: 0.778800\n",
      "Epoch  8, CIFAR-10 Batch 1:  Loss:     0.4973 Validation Accuracy: 0.777200\n",
      "Epoch  8, CIFAR-10 Batch 2:  Loss:     0.4170 Validation Accuracy: 0.787600\n",
      "Epoch  8, CIFAR-10 Batch 3:  Loss:     0.2956 Validation Accuracy: 0.783000\n",
      "Epoch  8, CIFAR-10 Batch 4:  Loss:     0.4974 Validation Accuracy: 0.784200\n",
      "Epoch  8, CIFAR-10 Batch 5:  Loss:     0.2847 Validation Accuracy: 0.790800\n",
      "Epoch  9, CIFAR-10 Batch 1:  Loss:     0.4350 Validation Accuracy: 0.794200\n",
      "Epoch  9, CIFAR-10 Batch 2:  Loss:     0.3831 Validation Accuracy: 0.780800\n",
      "Epoch  9, CIFAR-10 Batch 3:  Loss:     0.2385 Validation Accuracy: 0.813400\n",
      "Epoch  9, CIFAR-10 Batch 4:  Loss:     0.3958 Validation Accuracy: 0.807800\n",
      "Epoch  9, CIFAR-10 Batch 5:  Loss:     0.3024 Validation Accuracy: 0.776200\n",
      "Epoch 10, CIFAR-10 Batch 1:  Loss:     0.4644 Validation Accuracy: 0.782200\n",
      "Epoch 10, CIFAR-10 Batch 2:  Loss:     0.3675 Validation Accuracy: 0.784800\n",
      "Epoch 10, CIFAR-10 Batch 3:  Loss:     0.2571 Validation Accuracy: 0.813400\n",
      "Epoch 10, CIFAR-10 Batch 4:  Loss:     0.3621 Validation Accuracy: 0.793800\n",
      "Epoch 10, CIFAR-10 Batch 5:  Loss:     0.3041 Validation Accuracy: 0.808400\n",
      "Epoch 11, CIFAR-10 Batch 1:  Loss:     0.4207 Validation Accuracy: 0.795400\n",
      "Epoch 11, CIFAR-10 Batch 2:  Loss:     0.3456 Validation Accuracy: 0.781200\n",
      "Epoch 11, CIFAR-10 Batch 3:  Loss:     0.2089 Validation Accuracy: 0.813000\n",
      "Epoch 11, CIFAR-10 Batch 4:  Loss:     0.3211 Validation Accuracy: 0.812400\n",
      "Epoch 11, CIFAR-10 Batch 5:  Loss:     0.2083 Validation Accuracy: 0.809600\n",
      "Epoch 12, CIFAR-10 Batch 1:  Loss:     0.4159 Validation Accuracy: 0.811600\n",
      "Epoch 12, CIFAR-10 Batch 2:  Loss:     0.3430 Validation Accuracy: 0.807800\n",
      "Epoch 12, CIFAR-10 Batch 3:  Loss:     0.2462 Validation Accuracy: 0.823400\n",
      "Epoch 12, CIFAR-10 Batch 4:  Loss:     0.2442 Validation Accuracy: 0.813400\n",
      "Epoch 12, CIFAR-10 Batch 5:  Loss:     0.2295 Validation Accuracy: 0.817000\n",
      "Epoch 13, CIFAR-10 Batch 1:  Loss:     0.3523 Validation Accuracy: 0.810200\n",
      "Epoch 13, CIFAR-10 Batch 2:  Loss:     0.3604 Validation Accuracy: 0.813000\n",
      "Epoch 13, CIFAR-10 Batch 3:  Loss:     0.2475 Validation Accuracy: 0.809200\n",
      "Epoch 13, CIFAR-10 Batch 4:  Loss:     0.2123 Validation Accuracy: 0.822400\n",
      "Epoch 13, CIFAR-10 Batch 5:  Loss:     0.2334 Validation Accuracy: 0.823000\n",
      "Epoch 14, CIFAR-10 Batch 1:  Loss:     0.3300 Validation Accuracy: 0.811800\n",
      "Epoch 14, CIFAR-10 Batch 2:  Loss:     0.2870 Validation Accuracy: 0.804400\n",
      "Epoch 14, CIFAR-10 Batch 3:  Loss:     0.1746 Validation Accuracy: 0.835200\n",
      "Epoch 14, CIFAR-10 Batch 4:  Loss:     0.2225 Validation Accuracy: 0.823200\n",
      "Epoch 14, CIFAR-10 Batch 5:  Loss:     0.2129 Validation Accuracy: 0.832400\n",
      "Epoch 15, CIFAR-10 Batch 1:  Loss:     0.3056 Validation Accuracy: 0.822200\n",
      "Epoch 15, CIFAR-10 Batch 2:  Loss:     0.2651 Validation Accuracy: 0.823200\n",
      "Epoch 15, CIFAR-10 Batch 3:  Loss:     0.1651 Validation Accuracy: 0.827000\n",
      "Epoch 15, CIFAR-10 Batch 4:  Loss:     0.1653 Validation Accuracy: 0.824400\n",
      "Epoch 15, CIFAR-10 Batch 5:  Loss:     0.2359 Validation Accuracy: 0.832600\n",
      "Epoch 16, CIFAR-10 Batch 1:  Loss:     0.2587 Validation Accuracy: 0.815600\n",
      "Epoch 16, CIFAR-10 Batch 2:  Loss:     0.2880 Validation Accuracy: 0.815400\n",
      "Epoch 16, CIFAR-10 Batch 3:  Loss:     0.1654 Validation Accuracy: 0.831200\n",
      "Epoch 16, CIFAR-10 Batch 4:  Loss:     0.2184 Validation Accuracy: 0.821400\n",
      "Epoch 16, CIFAR-10 Batch 5:  Loss:     0.1684 Validation Accuracy: 0.827000\n",
      "Epoch 17, CIFAR-10 Batch 1:  Loss:     0.2604 Validation Accuracy: 0.820400\n",
      "Epoch 17, CIFAR-10 Batch 2:  Loss:     0.2679 Validation Accuracy: 0.816400\n",
      "Epoch 17, CIFAR-10 Batch 3:  Loss:     0.1294 Validation Accuracy: 0.830600\n",
      "Epoch 17, CIFAR-10 Batch 4:  Loss:     0.1372 Validation Accuracy: 0.826000\n",
      "Epoch 17, CIFAR-10 Batch 5:  Loss:     0.1760 Validation Accuracy: 0.828600\n",
      "Epoch 18, CIFAR-10 Batch 1:  Loss:     0.1361 Validation Accuracy: 0.838600\n",
      "Epoch 18, CIFAR-10 Batch 2:  Loss:     0.1986 Validation Accuracy: 0.834400\n",
      "Epoch 18, CIFAR-10 Batch 3:  Loss:     0.1874 Validation Accuracy: 0.821400\n",
      "Epoch 18, CIFAR-10 Batch 4:  Loss:     0.1253 Validation Accuracy: 0.855400\n",
      "Epoch 18, CIFAR-10 Batch 5:  Loss:     0.1902 Validation Accuracy: 0.836400\n",
      "Epoch 19, CIFAR-10 Batch 1:  Loss:     0.1730 Validation Accuracy: 0.845000\n",
      "Epoch 19, CIFAR-10 Batch 2:  Loss:     0.1642 Validation Accuracy: 0.840200\n",
      "Epoch 19, CIFAR-10 Batch 3:  Loss:     0.1143 Validation Accuracy: 0.841800\n",
      "Epoch 19, CIFAR-10 Batch 4:  Loss:     0.1412 Validation Accuracy: 0.852000\n",
      "Epoch 19, CIFAR-10 Batch 5:  Loss:     0.1265 Validation Accuracy: 0.838000\n",
      "Epoch 20, CIFAR-10 Batch 1:  Loss:     0.1422 Validation Accuracy: 0.853400\n",
      "Epoch 20, CIFAR-10 Batch 2:  Loss:     0.1968 Validation Accuracy: 0.840800\n",
      "Epoch 20, CIFAR-10 Batch 3:  Loss:     0.1545 Validation Accuracy: 0.842800\n",
      "Epoch 20, CIFAR-10 Batch 4:  Loss:     0.1442 Validation Accuracy: 0.848000\n",
      "Epoch 20, CIFAR-10 Batch 5:  Loss:     0.0892 Validation Accuracy: 0.840600\n",
      "Epoch 21, CIFAR-10 Batch 1:  Loss:     0.1327 Validation Accuracy: 0.855800\n",
      "Epoch 21, CIFAR-10 Batch 2:  Loss:     0.1566 Validation Accuracy: 0.852000\n",
      "Epoch 21, CIFAR-10 Batch 3:  Loss:     0.1401 Validation Accuracy: 0.845400\n",
      "Epoch 21, CIFAR-10 Batch 4:  Loss:     0.1192 Validation Accuracy: 0.854000\n",
      "Epoch 21, CIFAR-10 Batch 5:  Loss:     0.0809 Validation Accuracy: 0.838800\n",
      "Epoch 22, CIFAR-10 Batch 1:  Loss:     0.1674 Validation Accuracy: 0.845600\n",
      "Epoch 22, CIFAR-10 Batch 2:  Loss:     0.1392 Validation Accuracy: 0.838800\n",
      "Epoch 22, CIFAR-10 Batch 3:  Loss:     0.1155 Validation Accuracy: 0.845600\n"
     ]
    },
    {
     "name": "stdout",
     "output_type": "stream",
     "text": [
      "Epoch 22, CIFAR-10 Batch 4:  Loss:     0.0941 Validation Accuracy: 0.845200\n",
      "Epoch 22, CIFAR-10 Batch 5:  Loss:     0.1805 Validation Accuracy: 0.828000\n",
      "Epoch 23, CIFAR-10 Batch 1:  Loss:     0.1898 Validation Accuracy: 0.850600\n",
      "Epoch 23, CIFAR-10 Batch 2:  Loss:     0.1428 Validation Accuracy: 0.845400\n",
      "Epoch 23, CIFAR-10 Batch 3:  Loss:     0.1085 Validation Accuracy: 0.821800\n",
      "Epoch 23, CIFAR-10 Batch 4:  Loss:     0.0679 Validation Accuracy: 0.845200\n",
      "Epoch 23, CIFAR-10 Batch 5:  Loss:     0.1215 Validation Accuracy: 0.840400\n",
      "Epoch 24, CIFAR-10 Batch 1:  Loss:     0.1938 Validation Accuracy: 0.843600\n",
      "Epoch 24, CIFAR-10 Batch 2:  Loss:     0.1595 Validation Accuracy: 0.840800\n",
      "Epoch 24, CIFAR-10 Batch 3:  Loss:     0.1025 Validation Accuracy: 0.857200\n",
      "Epoch 24, CIFAR-10 Batch 4:  Loss:     0.0541 Validation Accuracy: 0.835000\n",
      "Epoch 24, CIFAR-10 Batch 5:  Loss:     0.0679 Validation Accuracy: 0.838200\n",
      "Epoch 25, CIFAR-10 Batch 1:  Loss:     0.0850 Validation Accuracy: 0.839200\n",
      "Epoch 25, CIFAR-10 Batch 2:  Loss:     0.1123 Validation Accuracy: 0.856800\n",
      "Epoch 25, CIFAR-10 Batch 3:  Loss:     0.1227 Validation Accuracy: 0.852000\n",
      "Epoch 25, CIFAR-10 Batch 4:  Loss:     0.0662 Validation Accuracy: 0.853000\n",
      "Epoch 25, CIFAR-10 Batch 5:  Loss:     0.0828 Validation Accuracy: 0.843400\n",
      "Epoch 26, CIFAR-10 Batch 1:  Loss:     0.0785 Validation Accuracy: 0.856600\n",
      "Epoch 26, CIFAR-10 Batch 2:  Loss:     0.1204 Validation Accuracy: 0.847600\n",
      "Epoch 26, CIFAR-10 Batch 3:  Loss:     0.1044 Validation Accuracy: 0.852800\n",
      "Epoch 26, CIFAR-10 Batch 4:  Loss:     0.0566 Validation Accuracy: 0.855600\n",
      "Epoch 26, CIFAR-10 Batch 5:  Loss:     0.0606 Validation Accuracy: 0.843200\n",
      "Epoch 27, CIFAR-10 Batch 1:  Loss:     0.1185 Validation Accuracy: 0.858000\n",
      "Epoch 27, CIFAR-10 Batch 2:  Loss:     0.0837 Validation Accuracy: 0.862800\n",
      "Epoch 27, CIFAR-10 Batch 3:  Loss:     0.0887 Validation Accuracy: 0.865400\n",
      "Epoch 27, CIFAR-10 Batch 4:  Loss:     0.0839 Validation Accuracy: 0.854200\n",
      "Epoch 27, CIFAR-10 Batch 5:  Loss:     0.0710 Validation Accuracy: 0.837200\n",
      "Epoch 28, CIFAR-10 Batch 1:  Loss:     0.1446 Validation Accuracy: 0.850000\n",
      "Epoch 28, CIFAR-10 Batch 2:  Loss:     0.0901 Validation Accuracy: 0.858800\n",
      "Epoch 28, CIFAR-10 Batch 3:  Loss:     0.0696 Validation Accuracy: 0.858200\n",
      "Epoch 28, CIFAR-10 Batch 4:  Loss:     0.0511 Validation Accuracy: 0.860600\n",
      "Epoch 28, CIFAR-10 Batch 5:  Loss:     0.0668 Validation Accuracy: 0.847200\n",
      "Epoch 29, CIFAR-10 Batch 1:  Loss:     0.0964 Validation Accuracy: 0.864000\n",
      "Epoch 29, CIFAR-10 Batch 2:  Loss:     0.0756 Validation Accuracy: 0.853400\n",
      "Epoch 29, CIFAR-10 Batch 3:  Loss:     0.0789 Validation Accuracy: 0.863200\n",
      "Epoch 29, CIFAR-10 Batch 4:  Loss:     0.0449 Validation Accuracy: 0.842800\n",
      "Epoch 29, CIFAR-10 Batch 5:  Loss:     0.0743 Validation Accuracy: 0.858800\n",
      "Epoch 30, CIFAR-10 Batch 1:  Loss:     0.0803 Validation Accuracy: 0.857000\n",
      "Epoch 30, CIFAR-10 Batch 2:  Loss:     0.1000 Validation Accuracy: 0.856200\n",
      "Epoch 30, CIFAR-10 Batch 3:  Loss:     0.0595 Validation Accuracy: 0.849200\n",
      "Epoch 30, CIFAR-10 Batch 4:  Loss:     0.0381 Validation Accuracy: 0.859600\n",
      "Epoch 30, CIFAR-10 Batch 5:  Loss:     0.0414 Validation Accuracy: 0.849000\n",
      "Epoch 31, CIFAR-10 Batch 1:  Loss:     0.0422 Validation Accuracy: 0.861600\n",
      "Epoch 31, CIFAR-10 Batch 2:  Loss:     0.1082 Validation Accuracy: 0.857600\n",
      "Epoch 31, CIFAR-10 Batch 3:  Loss:     0.0382 Validation Accuracy: 0.860600\n",
      "Epoch 31, CIFAR-10 Batch 4:  Loss:     0.0669 Validation Accuracy: 0.855800\n",
      "Epoch 31, CIFAR-10 Batch 5:  Loss:     0.0572 Validation Accuracy: 0.858800\n",
      "Epoch 32, CIFAR-10 Batch 1:  Loss:     0.0871 Validation Accuracy: 0.861400\n",
      "Epoch 32, CIFAR-10 Batch 2:  Loss:     0.1106 Validation Accuracy: 0.852000\n",
      "Epoch 32, CIFAR-10 Batch 3:  Loss:     0.0497 Validation Accuracy: 0.857000\n",
      "Epoch 32, CIFAR-10 Batch 4:  Loss:     0.0521 Validation Accuracy: 0.851200\n",
      "Epoch 32, CIFAR-10 Batch 5:  Loss:     0.0407 Validation Accuracy: 0.859200\n",
      "Epoch 33, CIFAR-10 Batch 1:  Loss:     0.0482 Validation Accuracy: 0.866400\n",
      "Epoch 33, CIFAR-10 Batch 2:  Loss:     0.1096 Validation Accuracy: 0.846600\n",
      "Epoch 33, CIFAR-10 Batch 3:  Loss:     0.0396 Validation Accuracy: 0.858200\n",
      "Epoch 33, CIFAR-10 Batch 4:  Loss:     0.0394 Validation Accuracy: 0.864000\n",
      "Epoch 33, CIFAR-10 Batch 5:  Loss:     0.0538 Validation Accuracy: 0.840200\n",
      "Epoch 34, CIFAR-10 Batch 1:  Loss:     0.0401 Validation Accuracy: 0.861600\n",
      "Epoch 34, CIFAR-10 Batch 2:  Loss:     0.0609 Validation Accuracy: 0.856200\n",
      "Epoch 34, CIFAR-10 Batch 3:  Loss:     0.0635 Validation Accuracy: 0.862400\n",
      "Epoch 34, CIFAR-10 Batch 4:  Loss:     0.0319 Validation Accuracy: 0.865800\n",
      "Epoch 34, CIFAR-10 Batch 5:  Loss:     0.0374 Validation Accuracy: 0.845600\n",
      "Epoch 35, CIFAR-10 Batch 1:  Loss:     0.0394 Validation Accuracy: 0.860600\n",
      "Epoch 35, CIFAR-10 Batch 2:  Loss:     0.0390 Validation Accuracy: 0.844800\n",
      "Epoch 35, CIFAR-10 Batch 3:  Loss:     0.0378 Validation Accuracy: 0.857400\n",
      "Epoch 35, CIFAR-10 Batch 4:  Loss:     0.0214 Validation Accuracy: 0.857400\n",
      "Epoch 35, CIFAR-10 Batch 5:  Loss:     0.0317 Validation Accuracy: 0.862800\n",
      "Epoch 36, CIFAR-10 Batch 1:  Loss:     0.0397 Validation Accuracy: 0.852800\n",
      "Epoch 36, CIFAR-10 Batch 2:  Loss:     0.0899 Validation Accuracy: 0.859600\n",
      "Epoch 36, CIFAR-10 Batch 3:  Loss:     0.0305 Validation Accuracy: 0.863600\n",
      "Epoch 36, CIFAR-10 Batch 4:  Loss:     0.0340 Validation Accuracy: 0.865400\n",
      "Epoch 36, CIFAR-10 Batch 5:  Loss:     0.0192 Validation Accuracy: 0.841000\n",
      "Epoch 37, CIFAR-10 Batch 1:  Loss:     0.0385 Validation Accuracy: 0.863200\n",
      "Epoch 37, CIFAR-10 Batch 2:  Loss:     0.0564 Validation Accuracy: 0.862600\n",
      "Epoch 37, CIFAR-10 Batch 3:  Loss:     0.0323 Validation Accuracy: 0.861200\n",
      "Epoch 37, CIFAR-10 Batch 4:  Loss:     0.0258 Validation Accuracy: 0.861800\n",
      "Epoch 37, CIFAR-10 Batch 5:  Loss:     0.0212 Validation Accuracy: 0.851200\n",
      "Epoch 38, CIFAR-10 Batch 1:  Loss:     0.0553 Validation Accuracy: 0.856600\n",
      "Epoch 38, CIFAR-10 Batch 2:  Loss:     0.0462 Validation Accuracy: 0.856200\n",
      "Epoch 38, CIFAR-10 Batch 3:  Loss:     0.0460 Validation Accuracy: 0.859400\n",
      "Epoch 38, CIFAR-10 Batch 4:  Loss:     0.0295 Validation Accuracy: 0.858600\n",
      "Epoch 38, CIFAR-10 Batch 5:  Loss:     0.0151 Validation Accuracy: 0.864200\n",
      "Epoch 39, CIFAR-10 Batch 1:  Loss:     0.0596 Validation Accuracy: 0.860600\n",
      "Epoch 39, CIFAR-10 Batch 2:  Loss:     0.1201 Validation Accuracy: 0.853000\n",
      "Epoch 39, CIFAR-10 Batch 3:  Loss:     0.0349 Validation Accuracy: 0.852600\n",
      "Epoch 39, CIFAR-10 Batch 4:  Loss:     0.0470 Validation Accuracy: 0.867200\n",
      "Epoch 39, CIFAR-10 Batch 5:  Loss:     0.0185 Validation Accuracy: 0.860200\n",
      "Epoch 40, CIFAR-10 Batch 1:  Loss:     0.0344 Validation Accuracy: 0.866800\n",
      "Epoch 40, CIFAR-10 Batch 2:  Loss:     0.0462 Validation Accuracy: 0.860200\n",
      "Epoch 40, CIFAR-10 Batch 3:  Loss:     0.0142 Validation Accuracy: 0.859600\n",
      "Epoch 40, CIFAR-10 Batch 4:  Loss:     0.0395 Validation Accuracy: 0.859200\n",
      "Epoch 40, CIFAR-10 Batch 5:  Loss:     0.0164 Validation Accuracy: 0.856800\n",
      "Epoch 41, CIFAR-10 Batch 1:  Loss:     0.0369 Validation Accuracy: 0.861000\n",
      "Epoch 41, CIFAR-10 Batch 2:  Loss:     0.0411 Validation Accuracy: 0.858000\n",
      "Epoch 41, CIFAR-10 Batch 3:  Loss:     0.0274 Validation Accuracy: 0.863000\n",
      "Epoch 41, CIFAR-10 Batch 4:  Loss:     0.0153 Validation Accuracy: 0.859400\n",
      "Epoch 41, CIFAR-10 Batch 5:  Loss:     0.0153 Validation Accuracy: 0.846200\n",
      "Epoch 42, CIFAR-10 Batch 1:  Loss:     0.0454 Validation Accuracy: 0.862200\n",
      "Epoch 42, CIFAR-10 Batch 2:  Loss:     0.0318 Validation Accuracy: 0.860600\n",
      "Epoch 42, CIFAR-10 Batch 3:  Loss:     0.0231 Validation Accuracy: 0.857400\n",
      "Epoch 42, CIFAR-10 Batch 4:  Loss:     0.0133 Validation Accuracy: 0.866600\n",
      "Epoch 42, CIFAR-10 Batch 5:  Loss:     0.0209 Validation Accuracy: 0.849800\n",
      "Epoch 43, CIFAR-10 Batch 1:  Loss:     0.0330 Validation Accuracy: 0.860800\n",
      "Epoch 43, CIFAR-10 Batch 2:  Loss:     0.0334 Validation Accuracy: 0.858800\n",
      "Epoch 43, CIFAR-10 Batch 3:  Loss:     0.0169 Validation Accuracy: 0.859800\n",
      "Epoch 43, CIFAR-10 Batch 4:  Loss:     0.0101 Validation Accuracy: 0.867600\n",
      "Epoch 43, CIFAR-10 Batch 5:  Loss:     0.0194 Validation Accuracy: 0.862600\n",
      "Epoch 44, CIFAR-10 Batch 1:  Loss:     0.0185 Validation Accuracy: 0.866400\n"
     ]
    },
    {
     "name": "stdout",
     "output_type": "stream",
     "text": [
      "Epoch 44, CIFAR-10 Batch 2:  Loss:     0.0519 Validation Accuracy: 0.860800\n",
      "Epoch 44, CIFAR-10 Batch 3:  Loss:     0.0147 Validation Accuracy: 0.865600\n",
      "Epoch 44, CIFAR-10 Batch 4:  Loss:     0.0183 Validation Accuracy: 0.870200\n",
      "Epoch 44, CIFAR-10 Batch 5:  Loss:     0.0108 Validation Accuracy: 0.861400\n",
      "Epoch 45, CIFAR-10 Batch 1:  Loss:     0.0328 Validation Accuracy: 0.866400\n",
      "Epoch 45, CIFAR-10 Batch 2:  Loss:     0.0204 Validation Accuracy: 0.864600\n",
      "Epoch 45, CIFAR-10 Batch 3:  Loss:     0.0198 Validation Accuracy: 0.864000\n",
      "Epoch 45, CIFAR-10 Batch 4:  Loss:     0.0136 Validation Accuracy: 0.869200\n",
      "Epoch 45, CIFAR-10 Batch 5:  Loss:     0.0074 Validation Accuracy: 0.862600\n",
      "Epoch 46, CIFAR-10 Batch 1:  Loss:     0.0505 Validation Accuracy: 0.865800\n",
      "Epoch 46, CIFAR-10 Batch 2:  Loss:     0.0851 Validation Accuracy: 0.855800\n",
      "Epoch 46, CIFAR-10 Batch 3:  Loss:     0.0125 Validation Accuracy: 0.866400\n",
      "Epoch 46, CIFAR-10 Batch 4:  Loss:     0.0124 Validation Accuracy: 0.870000\n",
      "Epoch 46, CIFAR-10 Batch 5:  Loss:     0.0092 Validation Accuracy: 0.865000\n",
      "Epoch 47, CIFAR-10 Batch 1:  Loss:     0.0683 Validation Accuracy: 0.866600\n",
      "Epoch 47, CIFAR-10 Batch 2:  Loss:     0.0209 Validation Accuracy: 0.868600\n",
      "Epoch 47, CIFAR-10 Batch 3:  Loss:     0.0185 Validation Accuracy: 0.861600\n",
      "Epoch 47, CIFAR-10 Batch 4:  Loss:     0.0162 Validation Accuracy: 0.873000\n",
      "Epoch 47, CIFAR-10 Batch 5:  Loss:     0.0181 Validation Accuracy: 0.854400\n",
      "Epoch 48, CIFAR-10 Batch 1:  Loss:     0.0114 Validation Accuracy: 0.866400\n",
      "Epoch 48, CIFAR-10 Batch 2:  Loss:     0.0789 Validation Accuracy: 0.853400\n",
      "Epoch 48, CIFAR-10 Batch 3:  Loss:     0.0181 Validation Accuracy: 0.868400\n",
      "Epoch 48, CIFAR-10 Batch 4:  Loss:     0.0125 Validation Accuracy: 0.869200\n",
      "Epoch 48, CIFAR-10 Batch 5:  Loss:     0.0062 Validation Accuracy: 0.863400\n",
      "Epoch 49, CIFAR-10 Batch 1:  Loss:     0.0113 Validation Accuracy: 0.867600\n",
      "Epoch 49, CIFAR-10 Batch 2:  Loss:     0.0765 Validation Accuracy: 0.860200\n",
      "Epoch 49, CIFAR-10 Batch 3:  Loss:     0.0155 Validation Accuracy: 0.853200\n",
      "Epoch 49, CIFAR-10 Batch 4:  Loss:     0.0094 Validation Accuracy: 0.854600\n",
      "Epoch 49, CIFAR-10 Batch 5:  Loss:     0.0075 Validation Accuracy: 0.867000\n",
      "Epoch 50, CIFAR-10 Batch 1:  Loss:     0.0100 Validation Accuracy: 0.871600\n",
      "Epoch 50, CIFAR-10 Batch 2:  Loss:     0.0224 Validation Accuracy: 0.869000\n",
      "Epoch 50, CIFAR-10 Batch 3:  Loss:     0.0081 Validation Accuracy: 0.866400\n",
      "Epoch 50, CIFAR-10 Batch 4:  Loss:     0.0087 Validation Accuracy: 0.867600\n",
      "Epoch 50, CIFAR-10 Batch 5:  Loss:     0.0069 Validation Accuracy: 0.857800\n",
      "Epoch 51, CIFAR-10 Batch 1:  Loss:     0.0387 Validation Accuracy: 0.862400\n",
      "Epoch 51, CIFAR-10 Batch 2:  Loss:     0.0615 Validation Accuracy: 0.864800\n",
      "Epoch 51, CIFAR-10 Batch 3:  Loss:     0.0081 Validation Accuracy: 0.866000\n",
      "Epoch 51, CIFAR-10 Batch 4:  Loss:     0.0107 Validation Accuracy: 0.870400\n",
      "Epoch 51, CIFAR-10 Batch 5:  Loss:     0.0118 Validation Accuracy: 0.858400\n",
      "Epoch 52, CIFAR-10 Batch 1:  Loss:     0.0131 Validation Accuracy: 0.870000\n",
      "Epoch 52, CIFAR-10 Batch 2:  Loss:     0.0483 Validation Accuracy: 0.858600\n",
      "Epoch 52, CIFAR-10 Batch 3:  Loss:     0.0121 Validation Accuracy: 0.866200\n",
      "Epoch 52, CIFAR-10 Batch 4:  Loss:     0.0063 Validation Accuracy: 0.871000\n",
      "Epoch 52, CIFAR-10 Batch 5:  Loss:     0.0072 Validation Accuracy: 0.866000\n",
      "Epoch 53, CIFAR-10 Batch 1:  Loss:     0.0120 Validation Accuracy: 0.870000\n",
      "Epoch 53, CIFAR-10 Batch 2:  Loss:     0.0157 Validation Accuracy: 0.865000\n",
      "Epoch 53, CIFAR-10 Batch 3:  Loss:     0.0066 Validation Accuracy: 0.866000\n",
      "Epoch 53, CIFAR-10 Batch 4:  Loss:     0.0096 Validation Accuracy: 0.872800\n",
      "Epoch 53, CIFAR-10 Batch 5:  Loss:     0.0065 Validation Accuracy: 0.864600\n",
      "Epoch 54, CIFAR-10 Batch 1:  Loss:     0.0148 Validation Accuracy: 0.863400\n",
      "Epoch 54, CIFAR-10 Batch 2:  Loss:     0.0179 Validation Accuracy: 0.863200\n",
      "Epoch 54, CIFAR-10 Batch 3:  Loss:     0.0025 Validation Accuracy: 0.873200\n",
      "Epoch 54, CIFAR-10 Batch 4:  Loss:     0.0085 Validation Accuracy: 0.864600\n",
      "Epoch 54, CIFAR-10 Batch 5:  Loss:     0.0053 Validation Accuracy: 0.866200\n",
      "Epoch 55, CIFAR-10 Batch 1:  Loss:     0.0083 Validation Accuracy: 0.861600\n",
      "Epoch 55, CIFAR-10 Batch 2:  Loss:     0.0258 Validation Accuracy: 0.853000\n",
      "Epoch 55, CIFAR-10 Batch 3:  Loss:     0.0019 Validation Accuracy: 0.871800\n",
      "Epoch 55, CIFAR-10 Batch 4:  Loss:     0.0142 Validation Accuracy: 0.865600\n",
      "Epoch 55, CIFAR-10 Batch 5:  Loss:     0.0109 Validation Accuracy: 0.855000\n",
      "Epoch 56, CIFAR-10 Batch 1:  Loss:     0.0197 Validation Accuracy: 0.866000\n",
      "Epoch 56, CIFAR-10 Batch 2:  Loss:     0.0142 Validation Accuracy: 0.869600\n",
      "Epoch 56, CIFAR-10 Batch 3:  Loss:     0.0053 Validation Accuracy: 0.864400\n",
      "Epoch 56, CIFAR-10 Batch 4:  Loss:     0.0060 Validation Accuracy: 0.872800\n",
      "Epoch 56, CIFAR-10 Batch 5:  Loss:     0.0109 Validation Accuracy: 0.859600\n",
      "Epoch 57, CIFAR-10 Batch 1:  Loss:     0.0079 Validation Accuracy: 0.862000\n",
      "Epoch 57, CIFAR-10 Batch 2:  Loss:     0.0155 Validation Accuracy: 0.866600\n",
      "Epoch 57, CIFAR-10 Batch 3:  Loss:     0.0052 Validation Accuracy: 0.864600\n",
      "Epoch 57, CIFAR-10 Batch 4:  Loss:     0.0069 Validation Accuracy: 0.867200\n",
      "Epoch 57, CIFAR-10 Batch 5:  Loss:     0.0046 Validation Accuracy: 0.866600\n",
      "Epoch 58, CIFAR-10 Batch 1:  Loss:     0.0128 Validation Accuracy: 0.858200\n",
      "Epoch 58, CIFAR-10 Batch 2:  Loss:     0.0163 Validation Accuracy: 0.859200\n",
      "Epoch 58, CIFAR-10 Batch 3:  Loss:     0.0035 Validation Accuracy: 0.863200\n",
      "Epoch 58, CIFAR-10 Batch 4:  Loss:     0.0072 Validation Accuracy: 0.867600\n",
      "Epoch 58, CIFAR-10 Batch 5:  Loss:     0.0052 Validation Accuracy: 0.866800\n",
      "Epoch 59, CIFAR-10 Batch 1:  Loss:     0.0105 Validation Accuracy: 0.868400\n",
      "Epoch 59, CIFAR-10 Batch 2:  Loss:     0.0132 Validation Accuracy: 0.865400\n",
      "Epoch 59, CIFAR-10 Batch 3:  Loss:     0.0206 Validation Accuracy: 0.848800\n",
      "Epoch 59, CIFAR-10 Batch 4:  Loss:     0.0061 Validation Accuracy: 0.862600\n",
      "Epoch 59, CIFAR-10 Batch 5:  Loss:     0.0044 Validation Accuracy: 0.866600\n",
      "Epoch 60, CIFAR-10 Batch 1:  Loss:     0.0041 Validation Accuracy: 0.863000\n",
      "Epoch 60, CIFAR-10 Batch 2:  Loss:     0.0085 Validation Accuracy: 0.855800\n",
      "Epoch 60, CIFAR-10 Batch 3:  Loss:     0.0046 Validation Accuracy: 0.865600\n",
      "Epoch 60, CIFAR-10 Batch 4:  Loss:     0.0046 Validation Accuracy: 0.869000\n",
      "Epoch 60, CIFAR-10 Batch 5:  Loss:     0.0061 Validation Accuracy: 0.864000\n"
     ]
    }
   ],
   "source": [
    "save_model_path = './image_classification'\n",
    "\n",
    "print('Training...')\n",
    "with tf.Session() as sess:\n",
    "    # Initializing the variables\n",
    "    sess.run(tf.global_variables_initializer())\n",
    "    \n",
    "    # Training cycle\n",
    "    for epoch in range(epochs):\n",
    "        # Loop over all batches\n",
    "        n_batches = 5\n",
    "        for batch_i in range(1, n_batches + 1):\n",
    "            for batch_features, batch_labels in helper.load_preprocess_training_batch(batch_i, batch_size):\n",
    "                batch_mean = np.mean(batch_features)\n",
    "                batch_std = np.std(batch_features)\n",
    "                batch_features = batch_features.astype(np.float32)\n",
    "                for ii in range(batch_features.shape[0]):\n",
    "                    batch_features[ii, :, :, :] = (batch_features[ii, :, :, :] - batch_mean) / batch_std  \n",
    "                train_neural_network(sess, optimizer, keep_probability, batch_features, batch_labels, True)\n",
    "            print('Epoch {:>2}, CIFAR-10 Batch {}:  '.format(epoch + 1, batch_i), end='')\n",
    "            print_stats(sess, batch_features, batch_labels, cost, accuracy)\n",
    "            \n",
    "    # Save Model\n",
    "    saver = tf.train.Saver()\n",
    "    save_path = saver.save(sess, save_model_path)"
   ]
  },
  {
   "cell_type": "markdown",
   "metadata": {},
   "source": [
    "## Test model"
   ]
  },
  {
   "cell_type": "code",
   "execution_count": 19,
   "metadata": {},
   "outputs": [
    {
     "name": "stdout",
     "output_type": "stream",
     "text": [
      "INFO:tensorflow:Restoring parameters from ./image_classification\n",
      "Testing Accuracy: 0.857484076433121\n",
      "\n"
     ]
    },
    {
     "data": {
      "image/png": "[encoded data removed]",
      "text/plain": [
       "<matplotlib.figure.Figure at 0x7fc0ec274a90>"
      ]
     },
     "metadata": {
      "image/png": {
       "height": 319,
       "width": 349
      }
     },
     "output_type": "display_data"
    }
   ],
   "source": [
    "%matplotlib inline\n",
    "%config InlineBackend.figure_format = 'retina'\n",
    "\n",
    "import tensorflow as tf\n",
    "import pickle\n",
    "import helper\n",
    "import random\n",
    "\n",
    "batch_size = 64\n",
    "\n",
    "save_model_path = './image_classification'\n",
    "n_samples = 4\n",
    "top_n_predictions = 3\n",
    "\n",
    "def test_model():\n",
    "    \"\"\"\n",
    "    Test the saved model against the test dataset\n",
    "    \"\"\"\n",
    "    test_features, test_labels = pickle.load(open('preprocess_test.p', mode='rb'))\n",
    "    test_features = test_features.astype(np.float32)\n",
    "    batch_mean = np.mean(test_features)\n",
    "    batch_std = np.std(test_features)\n",
    "    for ii in range(test_features.shape[0]):\n",
    "        test_features[ii,:,:,:] = (test_features[ii,:,:,:] - batch_mean) / batch_std\n",
    "    \n",
    "    loaded_graph = tf.Graph()\n",
    "\n",
    "    with tf.Session(graph=loaded_graph) as sess:\n",
    "        # Load model\n",
    "        loader = tf.train.import_meta_graph(save_model_path + '.meta')\n",
    "        loader.restore(sess, save_model_path)\n",
    "\n",
    "        # Get Tensors from loaded model\n",
    "        loaded_x = loaded_graph.get_tensor_by_name('x:0')\n",
    "        loaded_y = loaded_graph.get_tensor_by_name('y:0')\n",
    "        loaded_keep_prob = loaded_graph.get_tensor_by_name('keep_prob:0')\n",
    "        loaded_logits = loaded_graph.get_tensor_by_name('logits:0')\n",
    "        loaded_acc = loaded_graph.get_tensor_by_name('accuracy:0')\n",
    "        loaded_train_flag = loaded_graph.get_tensor_by_name('train_flag:0')\n",
    "        \n",
    "        # Get accuracy in batches for memory limitations\n",
    "        test_batch_acc_total = 0\n",
    "        test_batch_count = 0\n",
    "        \n",
    "        for test_feature_batch, test_label_batch in helper.batch_features_labels(test_features, test_labels, batch_size):\n",
    "            test_batch_acc_total += sess.run(loaded_acc,\n",
    "                feed_dict={loaded_x: test_feature_batch, loaded_y: test_label_batch, loaded_keep_prob: 1.0, loaded_train_flag:False})\n",
    "            test_batch_count += 1\n",
    "\n",
    "        print('Testing Accuracy: {}\\n'.format(test_batch_acc_total/test_batch_count))\n",
    "\n",
    "        # Print Random Samples\n",
    "        random_test_features, random_test_labels = tuple(zip(*random.sample(list(zip(test_features, test_labels)), n_samples)))\n",
    "        random_test_predictions = sess.run(tf.nn.top_k(tf.nn.softmax(loaded_logits), top_n_predictions),\n",
    "            feed_dict={loaded_x: random_test_features, loaded_y: random_test_labels, loaded_keep_prob: 1.0, loaded_train_flag:False})\n",
    "        helper.display_image_predictions(random_test_features, random_test_labels, random_test_predictions)\n",
    "\n",
    "test_model()"
   ]
  },
  {
   "cell_type": "code",
   "execution_count": null,
   "metadata": {
    "collapsed": true
   },
   "outputs": [],
   "source": []
  }
 ],
 "metadata": {
  "kernelspec": {
   "display_name": "Python [conda env:tf_1_2]",
   "language": "python",
   "name": "conda-env-tf_1_2-py"
  },
  "language_info": {
   "codemirror_mode": {
    "name": "ipython",
    "version": 3
   },
   "file_extension": ".py",
   "mimetype": "text/x-python",
   "name": "python",
   "nbconvert_exporter": "python",
   "pygments_lexer": "ipython3",
   "version": "3.5.4"
  }
 },
 "nbformat": 4,
 "nbformat_minor": 2
}
