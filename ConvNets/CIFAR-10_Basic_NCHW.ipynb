{
 "cells": [
  {
   "cell_type": "markdown",
   "metadata": {},
   "source": [
    "In this project, we'll build a simple convolutional neural network for CIFAR-10 image classification. Code contained in this project was based on Tensorflow 1.2.1 and python 3.5.   \n",
    "\n",
    "This version is different in that images are in channel first format. For further info, see here: https://www.tensorflow.org/performance/performance_guide  \n",
    "\n",
    "tf.nn.conv2d, tf.nn.bias_add, and tf.nn.max_pool are effects. Keyworod argument ( data_format=\"NCHW\" ) should be added. For conv2d, filter remains the same, [height, width, in_depth, out_depth], but stride should be [1, 1, stride, stride]. For max_pool, stride is [1, 1, stride, stride]. "
   ]
  },
  {
   "cell_type": "code",
   "execution_count": 1,
   "metadata": {
    "collapsed": true
   },
   "outputs": [],
   "source": [
    "from urllib.request import urlretrieve\n",
    "from os.path import isfile, isdir\n",
    "import time\n",
    "from tqdm import tqdm\n",
    "import tarfile\n",
    "import tensorflow as tf\n",
    "\n",
    "cifar10_dataset_folder_path = 'cifar-10-batches-py'\n",
    "tar_gz_path = 'cifar-10-python.tar.gz'\n",
    "\n",
    "class DLProgress(tqdm):\n",
    "    last_block = 0\n",
    "\n",
    "    def hook(self, block_num=1, block_size=1, total_size=None):\n",
    "        self.total = total_size\n",
    "        self.update((block_num - self.last_block) * block_size)\n",
    "        self.last_block = block_num\n",
    "\n",
    "if not isfile(tar_gz_path):\n",
    "    with DLProgress(unit='B', unit_scale=True, miniters=1, desc='CIFAR-10 Dataset') as pbar:\n",
    "        urlretrieve(\n",
    "            'https://www.cs.toronto.edu/~kriz/cifar-10-python.tar.gz',\n",
    "            tar_gz_path,\n",
    "            pbar.hook)\n",
    "\n",
    "if not isdir(cifar10_dataset_folder_path):\n",
    "    with tarfile.open(tar_gz_path) as tar:\n",
    "        tar.extractall()\n",
    "        tar.close()"
   ]
  },
  {
   "cell_type": "code",
   "execution_count": 2,
   "metadata": {},
   "outputs": [
    {
     "name": "stdout",
     "output_type": "stream",
     "text": [
      "\n",
      "Stats of batch 1:\n",
      "Samples: 10000\n",
      "Label Counts: {0: 1005, 1: 974, 2: 1032, 3: 1016, 4: 999, 5: 937, 6: 1030, 7: 1001, 8: 1025, 9: 981}\n",
      "First 20 Labels: [6, 9, 9, 4, 1, 1, 2, 7, 8, 3, 4, 7, 7, 2, 9, 9, 9, 3, 2, 6]\n",
      "\n",
      "Example of Image 6:\n",
      "Image - Min Value: 7 Max Value: 249\n",
      "Image - Shape: (32, 32, 3)\n",
      "Label - Label Id: 2 Name: bird\n"
     ]
    },
    {
     "data": {
      "image/png": "[encoded data removed]",
      "text/plain": [
       "<matplotlib.figure.Figure at 0x7fa0eb2825c0>"
      ]
     },
     "metadata": {
      "image/png": {
       "height": 250,
       "width": 253
      }
     },
     "output_type": "display_data"
    }
   ],
   "source": [
    "%matplotlib inline\n",
    "%config InlineBackend.figure_format = 'retina'\n",
    "\n",
    "import helper\n",
    "import numpy as np\n",
    "\n",
    "# Explore the dataset\n",
    "batch_id = 1\n",
    "sample_id = 6\n",
    "helper.display_stats(cifar10_dataset_folder_path, batch_id, sample_id)"
   ]
  },
  {
   "cell_type": "markdown",
   "metadata": {},
   "source": [
    "# Preprocess Data\n"
   ]
  },
  {
   "cell_type": "markdown",
   "metadata": {},
   "source": [
    "## One hot encode"
   ]
  },
  {
   "cell_type": "code",
   "execution_count": 3,
   "metadata": {
    "collapsed": true
   },
   "outputs": [],
   "source": [
    "def one_hot_encode(x):\n",
    "    \"\"\"\n",
    "    One hot encode a list of sample labels. Return a one-hot encoded vector for each label.\n",
    "    : x: List of sample Labels\n",
    "    : return: Numpy array of one-hot encoded labels\n",
    "    \"\"\"\n",
    "    output = np.zeros([len(x), 10])\n",
    "    for idx, item in enumerate(x):\n",
    "        output[idx, item] = 1\n",
    "    return output"
   ]
  },
  {
   "cell_type": "markdown",
   "metadata": {},
   "source": [
    "This above function is equivalent to tf.one_hot(x, 10), but tensorflow module can not be pickled so we're sticking with the above implementation."
   ]
  },
  {
   "cell_type": "markdown",
   "metadata": {},
   "source": [
    "## Preprocess Data\n",
    "We will randomly shuffle the data, normalize them and save them in binary format."
   ]
  },
  {
   "cell_type": "code",
   "execution_count": 4,
   "metadata": {
    "collapsed": true
   },
   "outputs": [],
   "source": [
    "import tensorflow as tf\n",
    "# Preprocess Training, Validation, and Testing Data\n",
    "helper.preprocess_and_save_data(cifar10_dataset_folder_path, one_hot_encode)"
   ]
  },
  {
   "cell_type": "markdown",
   "metadata": {},
   "source": [
    "# Checkpoint\n",
    "The above work is all saved so when we're revisiting this notebook we don't have to do those work again. We can start from here."
   ]
  },
  {
   "cell_type": "code",
   "execution_count": 5,
   "metadata": {
    "collapsed": true
   },
   "outputs": [],
   "source": [
    "import pickle\n",
    "import helper\n",
    "\n",
    "valid_features, valid_labels = pickle.load(open('preprocess_validation.p', mode='rb'))\n",
    "valid_features = np.transpose(valid_features,(0, 3, 1, 2))\n",
    "batch_mean = np.mean(valid_features)\n",
    "batch_std = np.std(valid_features)\n",
    "valid_features = valid_features.astype(np.float32)\n",
    "for ii in range(valid_features.shape[0]):\n",
    "    valid_features[ii, :, :, :] = (valid_features[ii, :, :, :] - batch_mean) / batch_std\n"
   ]
  },
  {
   "cell_type": "markdown",
   "metadata": {},
   "source": [
    "# Building the network"
   ]
  },
  {
   "cell_type": "markdown",
   "metadata": {},
   "source": [
    "## Defining input"
   ]
  },
  {
   "cell_type": "code",
   "execution_count": 6,
   "metadata": {
    "collapsed": true
   },
   "outputs": [],
   "source": [
    "import tensorflow as tf\n",
    "\n",
    "def neural_net_image_input(image_shape):\n",
    "    \"\"\"\n",
    "    Return a Tensor for a batch of image input\n",
    "    : image_shape: Shape of the images\n",
    "    \"\"\"\n",
    "    return tf.placeholder(tf.float32, [None, image_shape[0], image_shape[1], image_shape[2]], \"x\")\n",
    "\n",
    "\n",
    "def neural_net_label_input(n_classes):\n",
    "    \"\"\"\n",
    "    Return a Tensor for a batch of label input\n",
    "    : n_classes: Number of classes\n",
    "    \"\"\"\n",
    "    return tf.placeholder(tf.float32, [None, n_classes], \"y\")\n",
    "\n",
    "\n",
    "def neural_net_keep_prob_input():\n",
    "    \"\"\"\n",
    "    Return a Tensor for keep probability\n",
    "    \"\"\"\n",
    "    return tf.placeholder(tf.float32, None, \"keep_prob\")"
   ]
  },
  {
   "cell_type": "markdown",
   "metadata": {},
   "source": [
    "## Convolution and maxpool layer"
   ]
  },
  {
   "cell_type": "code",
   "execution_count": 7,
   "metadata": {
    "collapsed": true
   },
   "outputs": [],
   "source": [
    "def conv2d(x_tensor, conv_num_outputs, conv_ksize, conv_strides):\n",
    "    \"\"\"\n",
    "    Apply convolution then max pooling to x_tensor\n",
    "    :param x_tensor: TensorFlow Tensor\n",
    "    :param conv_num_outputs: Number of outputs for the convolutional layer\n",
    "    :param conv_ksize: kernal size 2-D Tuple for the convolutional layer\n",
    "    :param conv_strides: Stride 2-D Tuple for convolution\n",
    "    :param pool_ksize: kernal size 2-D Tuple for pool\n",
    "    :param pool_strides: Stride 2-D Tuple for pool\n",
    "    : return: A tensor that represents convolution and max pooling of x_tensor\n",
    "    \"\"\"\n",
    "    w = tf.get_variable(\"w\", shape=[conv_ksize[0], conv_ksize[1], x_tensor.get_shape().as_list()[1], conv_num_outputs],\n",
    "                         initializer=tf.contrib.layers.xavier_initializer())\n",
    "    \n",
    "    b = tf.Variable(tf.truncated_normal([conv_num_outputs], mean=0.0, stddev=0.1, dtype=tf.float32))\n",
    "    \n",
    "    wc = tf.nn.conv2d(x_tensor, w, strides=[1, 1, conv_strides[0], conv_strides[1]], padding='SAME', data_format=\"NCHW\")\n",
    "    z = tf.nn.bias_add(wc, b, data_format=\"NCHW\")\n",
    "    print(x_tensor.get_shape().as_list())\n",
    "    return tf.nn.relu(z)\n"
   ]
  },
  {
   "cell_type": "markdown",
   "metadata": {},
   "source": [
    "## Flatten layer\n",
    "Implement the flatten function to change the dimension of x_tensor from a 4-D tensor to a 2-D tensor. The output should be the shape (Batch Size, Flattened Image Size). Shortcut option: you can use classes from the TensorFlow Layers or TensorFlow Layers (contrib) packages for this layer. For more of a challenge, only use other TensorFlow packages."
   ]
  },
  {
   "cell_type": "code",
   "execution_count": 8,
   "metadata": {
    "collapsed": true
   },
   "outputs": [],
   "source": [
    "def flatten(x_tensor):\n",
    "    \"\"\"\n",
    "    Flatten x_tensor to (Batch Size, Flattened Image Size)\n",
    "    : x_tensor: A tensor of size (Batch Size, ...), where ... are the image dimensions.\n",
    "    : return: A tensor of size (Batch Size, Flattened Image Size).\n",
    "    \"\"\"\n",
    "    # reference : https://github.com/tensorflow/tensorflow/issues/7253\n",
    "    return tf.reshape(x_tensor, [tf.shape(x_tensor)[0], np.prod(x_tensor.get_shape().as_list()[1:])])\n",
    "    \n",
    "    # This also works\n",
    "    #return tf.reshape(x_tensor, [-1, np.prod(x_tensor.shape[1:]).value])"
   ]
  },
  {
   "cell_type": "markdown",
   "metadata": {},
   "source": [
    "## Fully connected layer"
   ]
  },
  {
   "cell_type": "code",
   "execution_count": 9,
   "metadata": {
    "collapsed": true
   },
   "outputs": [],
   "source": [
    "def fully_conn(x_tensor, num_outputs):\n",
    "    \"\"\"\n",
    "    Apply a fully connected layer to x_tensor using weight and bias\n",
    "    : x_tensor: A 2-D tensor where the first dimension is batch size.\n",
    "    : num_outputs: The number of output that the new tensor should be.\n",
    "    : return: A 2-D tensor where the second dimension is num_outputs.\n",
    "    \"\"\"\n",
    "    fc = tf.reshape(x_tensor, [-1, np.prod(x_tensor.get_shape().as_list()[1:])])\n",
    "    \n",
    "    w = tf.get_variable(\"w\", shape=[np.prod(x_tensor.get_shape().as_list()[1:]), num_outputs],\n",
    "                         initializer=tf.contrib.layers.xavier_initializer())\n",
    "    \n",
    "    b = tf.Variable(tf.truncated_normal([num_outputs],mean=0.0, stddev=0.1, dtype=tf.float32))\n",
    "    z = tf.add(tf.matmul(fc, w), b)\n",
    "    \n",
    "    return tf.nn.relu(z)"
   ]
  },
  {
   "cell_type": "markdown",
   "metadata": {},
   "source": [
    "## Output layer"
   ]
  },
  {
   "cell_type": "code",
   "execution_count": 10,
   "metadata": {
    "collapsed": true
   },
   "outputs": [],
   "source": [
    "def output(x_tensor, num_outputs):\n",
    "    \"\"\"\n",
    "    Apply a output layer to x_tensor using weight and bias\n",
    "    : x_tensor: A 2-D tensor where the first dimension is batch size.\n",
    "    : num_outputs: The number of output that the new tensor should be.\n",
    "    : return: A 2-D tensor where the second dimension is num_outputs.\n",
    "    \"\"\"\n",
    "    w = tf.get_variable(\"w\", shape=[np.prod(x_tensor.get_shape().as_list()[1:]), num_outputs],\n",
    "                         initializer=tf.contrib.layers.xavier_initializer())\n",
    "    \n",
    "    b = tf.Variable(tf.truncated_normal([num_outputs],mean=0.0, stddev=0.1, dtype=tf.float32))\n",
    "    return tf.add(tf.matmul(x_tensor, w), b)\n"
   ]
  },
  {
   "cell_type": "markdown",
   "metadata": {},
   "source": [
    "## Create the convolutional neural network model"
   ]
  },
  {
   "cell_type": "code",
   "execution_count": 11,
   "metadata": {
    "collapsed": true
   },
   "outputs": [],
   "source": [
    "def conv_net(x, keep_prob):\n",
    "    \"\"\"\n",
    "    Create a convolutional neural network model\n",
    "    : x: Placeholder tensor that holds image data.\n",
    "    : keep_prob: Placeholder tensor that hold dropout keep probability.\n",
    "    : return: Tensor that represents logits\n",
    "    \"\"\"\n",
    "    # Convolution and maxpooling layers\n",
    "    with tf.variable_scope(\"conv1\"):\n",
    "        conv1 = conv2d(x, 40, (3, 3), (1, 1))\n",
    "        \n",
    "    with tf.variable_scope(\"conv2\"):\n",
    "        conv2 = conv2d(conv1, 80, (3, 3), (1, 1))\n",
    "    conv2 = tf.nn.max_pool(conv2, ksize=[1, 1, 2, 2], strides=[1, 1, 2, 2], padding='SAME', data_format=\"NCHW\")\n",
    "    conv2 = tf.nn.dropout(conv2, keep_prob)\n",
    "    \n",
    "    with tf.variable_scope(\"conv3\"):\n",
    "        conv3 = conv2d(conv2, 160, (3, 3), (1, 1))\n",
    "    \n",
    "    with tf.variable_scope(\"conv4\"):\n",
    "        conv4 = conv2d(conv3, 320, (3, 3), (1, 1))\n",
    "    conv4 = tf.nn.max_pool(conv4, ksize=[1, 1, 2, 2], strides=[1, 1, 2, 2], padding='SAME', data_format=\"NCHW\")\n",
    "    conv4 = tf.nn.dropout(conv4, keep_prob)\n",
    "    \n",
    "    # Flatten Layer\n",
    "    f = flatten(conv4)\n",
    "\n",
    "    # Fully Connected layers\n",
    "    with tf.variable_scope(\"fc1\"):\n",
    "        fc1 = fully_conn(f, 512)\n",
    "        fc1 = tf.nn.dropout(fc1, keep_prob)\n",
    "    with tf.variable_scope(\"fc2\"):\n",
    "        fc2 = fully_conn(fc1, 256)\n",
    "        fc2 = tf.nn.dropout(fc2, keep_prob)\n",
    "    \n",
    "    # Output Layer\n",
    "    with tf.variable_scope(\"out\"):\n",
    "        o = output(fc2, 10)\n",
    "    \n",
    "    # TODO: return output\n",
    "    return o"
   ]
  },
  {
   "cell_type": "markdown",
   "metadata": {},
   "source": [
    "## Build the network"
   ]
  },
  {
   "cell_type": "code",
   "execution_count": 12,
   "metadata": {},
   "outputs": [
    {
     "name": "stdout",
     "output_type": "stream",
     "text": [
      "[None, 3, 32, 32]\n",
      "[None, 40, 32, 32]\n",
      "[None, 80, 16, 16]\n",
      "[None, 160, 16, 16]\n"
     ]
    }
   ],
   "source": [
    "tf.reset_default_graph()\n",
    "\n",
    "# Inputs\n",
    "# Channel first data format has hugh performance advantage!\n",
    "# It's at least three times faster than channel last format.\n",
    "x = neural_net_image_input((3, 32, 32))\n",
    "y = neural_net_label_input(10)\n",
    "keep_prob = neural_net_keep_prob_input()\n",
    "\n",
    "# Model\n",
    "logits = conv_net(x, keep_prob)\n",
    "\n",
    "# Name logits Tensor, so that is can be loaded from disk after training\n",
    "logits = tf.identity(logits, name='logits')\n",
    "\n",
    "# Loss and Optimizer\n",
    "cost = tf.reduce_mean(tf.nn.softmax_cross_entropy_with_logits(logits=logits, labels=y))\n",
    "optimizer = tf.train.AdamOptimizer(epsilon=1e-04).minimize(cost)\n",
    "\n",
    "# Accuracy\n",
    "correct_pred = tf.equal(tf.argmax(logits, 1), tf.argmax(y, 1))\n",
    "accuracy = tf.reduce_mean(tf.cast(correct_pred, tf.float32), name='accuracy')"
   ]
  },
  {
   "cell_type": "markdown",
   "metadata": {},
   "source": [
    "## Train network"
   ]
  },
  {
   "cell_type": "code",
   "execution_count": 13,
   "metadata": {
    "collapsed": true
   },
   "outputs": [],
   "source": [
    "def train_neural_network(session, optimizer, keep_probability, feature_batch, label_batch):\n",
    "    \"\"\"\n",
    "    Optimize the session on a batch of images and labels\n",
    "    \"\"\"\n",
    "    session.run(optimizer, feed_dict={x: feature_batch, y: label_batch, keep_prob: keep_probability})"
   ]
  },
  {
   "cell_type": "markdown",
   "metadata": {},
   "source": [
    "## Print Stats\n",
    "It's important to evaluate the performance of model once in a while. If effect, we're feeding a small batch of data to the neural network through forward propagation and then caculate the accuracy of prediction. We don't want to do this too often as this slows down the overall process. It's important to keep in mind that since we're actually using the model for prediction but not training it, we need to set keep probability for dropout to 1 so we're not losing any connection between neurons. "
   ]
  },
  {
   "cell_type": "code",
   "execution_count": 14,
   "metadata": {
    "collapsed": true
   },
   "outputs": [],
   "source": [
    "def print_stats(session, feature_batch, label_batch, cost, accuracy):\n",
    "    \"\"\"\n",
    "    Print information about loss and validation accuracy\n",
    "    \"\"\"\n",
    "    loss = session.run(cost, feed_dict={x: feature_batch, y: label_batch, keep_prob: 1.})\n",
    "    valid_batch_acc_total = 0\n",
    "    valid_batch_count = 0\n",
    "        \n",
    "    for valid_feature_batch, valid_label_batch in helper.batch_features_labels(valid_features, valid_labels, valid_batch_size):\n",
    "        valid_batch_acc_total += sess.run(accuracy,\n",
    "                feed_dict={x: valid_feature_batch, y: valid_label_batch, keep_prob: 1.})\n",
    "        valid_batch_count += 1\n",
    "    \n",
    "    print('Loss: {:>10.4f} Validation Accuracy: {:.6f}'.format(loss, valid_batch_acc_total/valid_batch_count))"
   ]
  },
  {
   "cell_type": "markdown",
   "metadata": {},
   "source": [
    "## Hyperparameters"
   ]
  },
  {
   "cell_type": "code",
   "execution_count": 15,
   "metadata": {
    "collapsed": true
   },
   "outputs": [],
   "source": [
    "epochs = 30\n",
    "batch_size = 128\n",
    "valid_batch_size = 512\n",
    "keep_probability = 0.5"
   ]
  },
  {
   "cell_type": "markdown",
   "metadata": {},
   "source": [
    "## Train on a single CIFAR-10 batch"
   ]
  },
  {
   "cell_type": "code",
   "execution_count": 16,
   "metadata": {},
   "outputs": [
    {
     "name": "stdout",
     "output_type": "stream",
     "text": [
      "Checking the Training on a Single Batch...\n",
      "Epoch  1, CIFAR-10 Batch 1:  Loss:     1.8040 Validation Accuracy: 0.307600\n",
      "Epoch  2, CIFAR-10 Batch 1:  Loss:     1.4169 Validation Accuracy: 0.391600\n",
      "Epoch  3, CIFAR-10 Batch 1:  Loss:     1.3103 Validation Accuracy: 0.461800\n",
      "Epoch  4, CIFAR-10 Batch 1:  Loss:     1.2170 Validation Accuracy: 0.489600\n",
      "Epoch  5, CIFAR-10 Batch 1:  Loss:     1.5156 Validation Accuracy: 0.524200\n",
      "Epoch  6, CIFAR-10 Batch 1:  Loss:     1.1837 Validation Accuracy: 0.571800\n",
      "Epoch  7, CIFAR-10 Batch 1:  Loss:     1.1185 Validation Accuracy: 0.585200\n",
      "Epoch  8, CIFAR-10 Batch 1:  Loss:     0.6074 Validation Accuracy: 0.612600\n",
      "Epoch  9, CIFAR-10 Batch 1:  Loss:     0.7857 Validation Accuracy: 0.635400\n",
      "Epoch 10, CIFAR-10 Batch 1:  Loss:     0.5532 Validation Accuracy: 0.656200\n",
      "Epoch 11, CIFAR-10 Batch 1:  Loss:     0.5990 Validation Accuracy: 0.661800\n",
      "Epoch 12, CIFAR-10 Batch 1:  Loss:     0.5562 Validation Accuracy: 0.661800\n",
      "Epoch 13, CIFAR-10 Batch 1:  Loss:     0.3743 Validation Accuracy: 0.677000\n",
      "Epoch 14, CIFAR-10 Batch 1:  Loss:     0.3028 Validation Accuracy: 0.682200\n",
      "Epoch 15, CIFAR-10 Batch 1:  Loss:     0.4792 Validation Accuracy: 0.675400\n",
      "Epoch 16, CIFAR-10 Batch 1:  Loss:     0.4192 Validation Accuracy: 0.685600\n",
      "Epoch 17, CIFAR-10 Batch 1:  Loss:     0.3082 Validation Accuracy: 0.691800\n",
      "Epoch 18, CIFAR-10 Batch 1:  Loss:     0.1910 Validation Accuracy: 0.691200\n",
      "Epoch 19, CIFAR-10 Batch 1:  Loss:     0.1304 Validation Accuracy: 0.684200\n",
      "Epoch 20, CIFAR-10 Batch 1:  Loss:     0.1834 Validation Accuracy: 0.695800\n",
      "Epoch 21, CIFAR-10 Batch 1:  Loss:     0.0887 Validation Accuracy: 0.697800\n",
      "Epoch 22, CIFAR-10 Batch 1:  Loss:     0.1708 Validation Accuracy: 0.695400\n",
      "Epoch 23, CIFAR-10 Batch 1:  Loss:     0.0232 Validation Accuracy: 0.701200\n",
      "Epoch 24, CIFAR-10 Batch 1:  Loss:     0.0197 Validation Accuracy: 0.693000\n",
      "Epoch 25, CIFAR-10 Batch 1:  Loss:     0.0296 Validation Accuracy: 0.696400\n",
      "Epoch 26, CIFAR-10 Batch 1:  Loss:     0.0400 Validation Accuracy: 0.698200\n",
      "Epoch 27, CIFAR-10 Batch 1:  Loss:     0.0256 Validation Accuracy: 0.698800\n",
      "Epoch 28, CIFAR-10 Batch 1:  Loss:     0.0176 Validation Accuracy: 0.701600\n",
      "Epoch 29, CIFAR-10 Batch 1:  Loss:     0.0463 Validation Accuracy: 0.700400\n",
      "Epoch 30, CIFAR-10 Batch 1:  Loss:     0.0101 Validation Accuracy: 0.706400\n",
      "total took:84.8833 seconds\n"
     ]
    }
   ],
   "source": [
    "t1 = time.time()\n",
    "t = 0\n",
    "c = 0\n",
    "print('Checking the Training on a Single Batch...')\n",
    "with tf.Session() as sess:\n",
    "    sess.run(tf.global_variables_initializer())\n",
    "    \n",
    "    # Training cycle\n",
    "    for epoch in range(epochs):\n",
    "        batch_i = 1\n",
    "        for batch_features, batch_labels in helper.load_preprocess_training_batch(batch_i, batch_size):\n",
    "            batch_mean = np.mean(batch_features)\n",
    "            batch_std = np.std(batch_features)\n",
    "            batch_features = batch_features.astype(np.float32)\n",
    "            for ii in range(batch_features.shape[0]):\n",
    "                batch_features[ii, :, :, :] = (batch_features[ii, :, :, :] - batch_mean) / batch_std \n",
    "            batch_features = np.transpose(batch_features, (0, 3, 1, 2))\n",
    "            start = time.time()\n",
    "            train_neural_network(sess, optimizer, keep_probability, batch_features, batch_labels)\n",
    "            end = time.time()\n",
    "            t = t+end-start\n",
    "            c += 1\n",
    "        print('Epoch {:>2}, CIFAR-10 Batch {}:  '.format(epoch + 1, batch_i), end='')\n",
    "        print_stats(sess, batch_features, batch_labels, cost, accuracy)\n",
    "t2 = time.time()\n",
    "print('total took:{:0.4f} seconds'.format(t2-t1))"
   ]
  },
  {
   "cell_type": "code",
   "execution_count": 17,
   "metadata": {},
   "outputs": [
    {
     "data": {
      "text/plain": [
       "0.025088821890208644"
      ]
     },
     "execution_count": 17,
     "metadata": {},
     "output_type": "execute_result"
    }
   ],
   "source": [
    "t / c"
   ]
  },
  {
   "cell_type": "markdown",
   "metadata": {},
   "source": [
    "## Fully train the model"
   ]
  },
  {
   "cell_type": "code",
   "execution_count": 18,
   "metadata": {},
   "outputs": [
    {
     "name": "stdout",
     "output_type": "stream",
     "text": [
      "Training...\n",
      "Epoch  1, CIFAR-10 Batch 1:  Loss:     1.7988 Validation Accuracy: 0.283600\n",
      "Epoch  1, CIFAR-10 Batch 2:  Loss:     1.5159 Validation Accuracy: 0.395400\n",
      "Epoch  1, CIFAR-10 Batch 3:  Loss:     1.2522 Validation Accuracy: 0.465000\n",
      "Epoch  1, CIFAR-10 Batch 4:  Loss:     1.2294 Validation Accuracy: 0.515600\n",
      "Epoch  1, CIFAR-10 Batch 5:  Loss:     0.9890 Validation Accuracy: 0.559600\n",
      "Epoch  2, CIFAR-10 Batch 1:  Loss:     1.1423 Validation Accuracy: 0.536400\n",
      "Epoch  2, CIFAR-10 Batch 2:  Loss:     0.9019 Validation Accuracy: 0.609600\n",
      "Epoch  2, CIFAR-10 Batch 3:  Loss:     0.8350 Validation Accuracy: 0.617400\n",
      "Epoch  2, CIFAR-10 Batch 4:  Loss:     0.8534 Validation Accuracy: 0.625600\n",
      "Epoch  2, CIFAR-10 Batch 5:  Loss:     0.8755 Validation Accuracy: 0.635000\n",
      "Epoch  3, CIFAR-10 Batch 1:  Loss:     0.9443 Validation Accuracy: 0.666000\n",
      "Epoch  3, CIFAR-10 Batch 2:  Loss:     0.7007 Validation Accuracy: 0.681800\n",
      "Epoch  3, CIFAR-10 Batch 3:  Loss:     0.7573 Validation Accuracy: 0.699400\n",
      "Epoch  3, CIFAR-10 Batch 4:  Loss:     0.7388 Validation Accuracy: 0.674000\n",
      "Epoch  3, CIFAR-10 Batch 5:  Loss:     0.5870 Validation Accuracy: 0.700800\n",
      "Epoch  4, CIFAR-10 Batch 1:  Loss:     0.7159 Validation Accuracy: 0.715000\n",
      "Epoch  4, CIFAR-10 Batch 2:  Loss:     0.5822 Validation Accuracy: 0.717000\n",
      "Epoch  4, CIFAR-10 Batch 3:  Loss:     0.6388 Validation Accuracy: 0.726400\n",
      "Epoch  4, CIFAR-10 Batch 4:  Loss:     0.5762 Validation Accuracy: 0.718400\n",
      "Epoch  4, CIFAR-10 Batch 5:  Loss:     0.6347 Validation Accuracy: 0.739200\n",
      "Epoch  5, CIFAR-10 Batch 1:  Loss:     0.5379 Validation Accuracy: 0.738800\n",
      "Epoch  5, CIFAR-10 Batch 2:  Loss:     0.5655 Validation Accuracy: 0.751600\n",
      "Epoch  5, CIFAR-10 Batch 3:  Loss:     0.4287 Validation Accuracy: 0.744800\n",
      "Epoch  5, CIFAR-10 Batch 4:  Loss:     0.4164 Validation Accuracy: 0.747600\n",
      "Epoch  5, CIFAR-10 Batch 5:  Loss:     0.6644 Validation Accuracy: 0.754400\n",
      "Epoch  6, CIFAR-10 Batch 1:  Loss:     0.4074 Validation Accuracy: 0.759800\n",
      "Epoch  6, CIFAR-10 Batch 2:  Loss:     0.6362 Validation Accuracy: 0.737600\n",
      "Epoch  6, CIFAR-10 Batch 3:  Loss:     0.5229 Validation Accuracy: 0.748000\n",
      "Epoch  6, CIFAR-10 Batch 4:  Loss:     0.3276 Validation Accuracy: 0.765000\n",
      "Epoch  6, CIFAR-10 Batch 5:  Loss:     0.7293 Validation Accuracy: 0.776800\n",
      "Epoch  7, CIFAR-10 Batch 1:  Loss:     0.4658 Validation Accuracy: 0.765800\n",
      "Epoch  7, CIFAR-10 Batch 2:  Loss:     0.5590 Validation Accuracy: 0.763800\n",
      "Epoch  7, CIFAR-10 Batch 3:  Loss:     0.4865 Validation Accuracy: 0.769400\n",
      "Epoch  7, CIFAR-10 Batch 4:  Loss:     0.2830 Validation Accuracy: 0.764800\n",
      "Epoch  7, CIFAR-10 Batch 5:  Loss:     0.3535 Validation Accuracy: 0.782200\n",
      "Epoch  8, CIFAR-10 Batch 1:  Loss:     0.2914 Validation Accuracy: 0.773400\n",
      "Epoch  8, CIFAR-10 Batch 2:  Loss:     0.4322 Validation Accuracy: 0.788000\n",
      "Epoch  8, CIFAR-10 Batch 3:  Loss:     0.4398 Validation Accuracy: 0.776400\n",
      "Epoch  8, CIFAR-10 Batch 4:  Loss:     0.3145 Validation Accuracy: 0.781000\n",
      "Epoch  8, CIFAR-10 Batch 5:  Loss:     0.4032 Validation Accuracy: 0.775200\n",
      "Epoch  9, CIFAR-10 Batch 1:  Loss:     0.4739 Validation Accuracy: 0.782000\n",
      "Epoch  9, CIFAR-10 Batch 2:  Loss:     0.3327 Validation Accuracy: 0.794600\n",
      "Epoch  9, CIFAR-10 Batch 3:  Loss:     0.4483 Validation Accuracy: 0.784000\n",
      "Epoch  9, CIFAR-10 Batch 4:  Loss:     0.3437 Validation Accuracy: 0.805400\n",
      "Epoch  9, CIFAR-10 Batch 5:  Loss:     0.3347 Validation Accuracy: 0.781800\n",
      "Epoch 10, CIFAR-10 Batch 1:  Loss:     0.4953 Validation Accuracy: 0.788600\n",
      "Epoch 10, CIFAR-10 Batch 2:  Loss:     0.2465 Validation Accuracy: 0.788800\n",
      "Epoch 10, CIFAR-10 Batch 3:  Loss:     0.3135 Validation Accuracy: 0.790000\n",
      "Epoch 10, CIFAR-10 Batch 4:  Loss:     0.5347 Validation Accuracy: 0.782800\n",
      "Epoch 10, CIFAR-10 Batch 5:  Loss:     0.2815 Validation Accuracy: 0.799600\n",
      "Epoch 11, CIFAR-10 Batch 1:  Loss:     0.4526 Validation Accuracy: 0.796000\n",
      "Epoch 11, CIFAR-10 Batch 2:  Loss:     0.1992 Validation Accuracy: 0.801400\n",
      "Epoch 11, CIFAR-10 Batch 3:  Loss:     0.3595 Validation Accuracy: 0.800600\n",
      "Epoch 11, CIFAR-10 Batch 4:  Loss:     0.3202 Validation Accuracy: 0.787200\n",
      "Epoch 11, CIFAR-10 Batch 5:  Loss:     0.3009 Validation Accuracy: 0.809400\n",
      "Epoch 12, CIFAR-10 Batch 1:  Loss:     0.2513 Validation Accuracy: 0.801600\n",
      "Epoch 12, CIFAR-10 Batch 2:  Loss:     0.2721 Validation Accuracy: 0.809600\n",
      "Epoch 12, CIFAR-10 Batch 3:  Loss:     0.3811 Validation Accuracy: 0.801200\n",
      "Epoch 12, CIFAR-10 Batch 4:  Loss:     0.2727 Validation Accuracy: 0.805000\n",
      "Epoch 12, CIFAR-10 Batch 5:  Loss:     0.4863 Validation Accuracy: 0.804400\n",
      "Epoch 13, CIFAR-10 Batch 1:  Loss:     0.2526 Validation Accuracy: 0.800600\n",
      "Epoch 13, CIFAR-10 Batch 2:  Loss:     0.3355 Validation Accuracy: 0.801800\n",
      "Epoch 13, CIFAR-10 Batch 3:  Loss:     0.3995 Validation Accuracy: 0.804200\n",
      "Epoch 13, CIFAR-10 Batch 4:  Loss:     0.2475 Validation Accuracy: 0.816800\n",
      "Epoch 13, CIFAR-10 Batch 5:  Loss:     0.4208 Validation Accuracy: 0.791600\n",
      "Epoch 14, CIFAR-10 Batch 1:  Loss:     0.1469 Validation Accuracy: 0.812600\n",
      "Epoch 14, CIFAR-10 Batch 2:  Loss:     0.1249 Validation Accuracy: 0.813000\n",
      "Epoch 14, CIFAR-10 Batch 3:  Loss:     0.2203 Validation Accuracy: 0.813000\n",
      "Epoch 14, CIFAR-10 Batch 4:  Loss:     0.2827 Validation Accuracy: 0.814800\n",
      "Epoch 14, CIFAR-10 Batch 5:  Loss:     0.2744 Validation Accuracy: 0.811000\n",
      "Epoch 15, CIFAR-10 Batch 1:  Loss:     0.3211 Validation Accuracy: 0.814600\n",
      "Epoch 15, CIFAR-10 Batch 2:  Loss:     0.3485 Validation Accuracy: 0.800200\n",
      "Epoch 15, CIFAR-10 Batch 3:  Loss:     0.1247 Validation Accuracy: 0.806800\n",
      "Epoch 15, CIFAR-10 Batch 4:  Loss:     0.1701 Validation Accuracy: 0.813400\n",
      "Epoch 15, CIFAR-10 Batch 5:  Loss:     0.2052 Validation Accuracy: 0.810200\n",
      "Epoch 16, CIFAR-10 Batch 1:  Loss:     0.2802 Validation Accuracy: 0.816000\n",
      "Epoch 16, CIFAR-10 Batch 2:  Loss:     0.1766 Validation Accuracy: 0.810200\n",
      "Epoch 16, CIFAR-10 Batch 3:  Loss:     0.1815 Validation Accuracy: 0.818600\n",
      "Epoch 16, CIFAR-10 Batch 4:  Loss:     0.2575 Validation Accuracy: 0.815400\n",
      "Epoch 16, CIFAR-10 Batch 5:  Loss:     0.3373 Validation Accuracy: 0.803800\n",
      "Epoch 17, CIFAR-10 Batch 1:  Loss:     0.1683 Validation Accuracy: 0.817600\n",
      "Epoch 17, CIFAR-10 Batch 2:  Loss:     0.1821 Validation Accuracy: 0.813600\n",
      "Epoch 17, CIFAR-10 Batch 3:  Loss:     0.1922 Validation Accuracy: 0.808600\n",
      "Epoch 17, CIFAR-10 Batch 4:  Loss:     0.2114 Validation Accuracy: 0.820400\n",
      "Epoch 17, CIFAR-10 Batch 5:  Loss:     0.2888 Validation Accuracy: 0.817000\n",
      "Epoch 18, CIFAR-10 Batch 1:  Loss:     0.2019 Validation Accuracy: 0.811600\n",
      "Epoch 18, CIFAR-10 Batch 2:  Loss:     0.1355 Validation Accuracy: 0.817000\n",
      "Epoch 18, CIFAR-10 Batch 3:  Loss:     0.2206 Validation Accuracy: 0.815400\n",
      "Epoch 18, CIFAR-10 Batch 4:  Loss:     0.1924 Validation Accuracy: 0.821800\n",
      "Epoch 18, CIFAR-10 Batch 5:  Loss:     0.2766 Validation Accuracy: 0.827600\n",
      "Epoch 19, CIFAR-10 Batch 1:  Loss:     0.1669 Validation Accuracy: 0.825800\n",
      "Epoch 19, CIFAR-10 Batch 2:  Loss:     0.2048 Validation Accuracy: 0.821600\n",
      "Epoch 19, CIFAR-10 Batch 3:  Loss:     0.1786 Validation Accuracy: 0.815600\n",
      "Epoch 19, CIFAR-10 Batch 4:  Loss:     0.1522 Validation Accuracy: 0.817400\n",
      "Epoch 19, CIFAR-10 Batch 5:  Loss:     0.1024 Validation Accuracy: 0.818200\n",
      "Epoch 20, CIFAR-10 Batch 1:  Loss:     0.1285 Validation Accuracy: 0.817200\n",
      "Epoch 20, CIFAR-10 Batch 2:  Loss:     0.1745 Validation Accuracy: 0.831400\n",
      "Epoch 20, CIFAR-10 Batch 3:  Loss:     0.1751 Validation Accuracy: 0.818200\n",
      "Epoch 20, CIFAR-10 Batch 4:  Loss:     0.2037 Validation Accuracy: 0.822200\n",
      "Epoch 20, CIFAR-10 Batch 5:  Loss:     0.1100 Validation Accuracy: 0.827400\n",
      "Epoch 21, CIFAR-10 Batch 1:  Loss:     0.1428 Validation Accuracy: 0.817400\n",
      "Epoch 21, CIFAR-10 Batch 2:  Loss:     0.1524 Validation Accuracy: 0.824800\n",
      "Epoch 21, CIFAR-10 Batch 3:  Loss:     0.1021 Validation Accuracy: 0.818800\n",
      "Epoch 21, CIFAR-10 Batch 4:  Loss:     0.2296 Validation Accuracy: 0.818000\n",
      "Epoch 21, CIFAR-10 Batch 5:  Loss:     0.1124 Validation Accuracy: 0.818400\n",
      "Epoch 22, CIFAR-10 Batch 1:  Loss:     0.1851 Validation Accuracy: 0.826600\n",
      "Epoch 22, CIFAR-10 Batch 2:  Loss:     0.1128 Validation Accuracy: 0.820200\n",
      "Epoch 22, CIFAR-10 Batch 3:  Loss:     0.1759 Validation Accuracy: 0.828200\n"
     ]
    },
    {
     "name": "stdout",
     "output_type": "stream",
     "text": [
      "Epoch 22, CIFAR-10 Batch 4:  Loss:     0.1316 Validation Accuracy: 0.825400\n",
      "Epoch 22, CIFAR-10 Batch 5:  Loss:     0.1250 Validation Accuracy: 0.820600\n",
      "Epoch 23, CIFAR-10 Batch 1:  Loss:     0.1405 Validation Accuracy: 0.818800\n",
      "Epoch 23, CIFAR-10 Batch 2:  Loss:     0.0887 Validation Accuracy: 0.822600\n",
      "Epoch 23, CIFAR-10 Batch 3:  Loss:     0.0664 Validation Accuracy: 0.822600\n",
      "Epoch 23, CIFAR-10 Batch 4:  Loss:     0.1182 Validation Accuracy: 0.822800\n",
      "Epoch 23, CIFAR-10 Batch 5:  Loss:     0.1129 Validation Accuracy: 0.820800\n",
      "Epoch 24, CIFAR-10 Batch 1:  Loss:     0.1175 Validation Accuracy: 0.826000\n",
      "Epoch 24, CIFAR-10 Batch 2:  Loss:     0.1172 Validation Accuracy: 0.828600\n",
      "Epoch 24, CIFAR-10 Batch 3:  Loss:     0.1222 Validation Accuracy: 0.831800\n",
      "Epoch 24, CIFAR-10 Batch 4:  Loss:     0.1305 Validation Accuracy: 0.826000\n",
      "Epoch 24, CIFAR-10 Batch 5:  Loss:     0.0633 Validation Accuracy: 0.827600\n",
      "Epoch 25, CIFAR-10 Batch 1:  Loss:     0.1237 Validation Accuracy: 0.825800\n",
      "Epoch 25, CIFAR-10 Batch 2:  Loss:     0.1577 Validation Accuracy: 0.826000\n",
      "Epoch 25, CIFAR-10 Batch 3:  Loss:     0.0838 Validation Accuracy: 0.833400\n",
      "Epoch 25, CIFAR-10 Batch 4:  Loss:     0.0582 Validation Accuracy: 0.824400\n",
      "Epoch 25, CIFAR-10 Batch 5:  Loss:     0.0808 Validation Accuracy: 0.826200\n",
      "Epoch 26, CIFAR-10 Batch 1:  Loss:     0.1072 Validation Accuracy: 0.831000\n",
      "Epoch 26, CIFAR-10 Batch 2:  Loss:     0.0980 Validation Accuracy: 0.828000\n",
      "Epoch 26, CIFAR-10 Batch 3:  Loss:     0.0614 Validation Accuracy: 0.823600\n",
      "Epoch 26, CIFAR-10 Batch 4:  Loss:     0.0940 Validation Accuracy: 0.826400\n",
      "Epoch 26, CIFAR-10 Batch 5:  Loss:     0.0782 Validation Accuracy: 0.826600\n",
      "Epoch 27, CIFAR-10 Batch 1:  Loss:     0.0927 Validation Accuracy: 0.828000\n",
      "Epoch 27, CIFAR-10 Batch 2:  Loss:     0.0966 Validation Accuracy: 0.829000\n",
      "Epoch 27, CIFAR-10 Batch 3:  Loss:     0.1332 Validation Accuracy: 0.832800\n",
      "Epoch 27, CIFAR-10 Batch 4:  Loss:     0.1638 Validation Accuracy: 0.831200\n",
      "Epoch 27, CIFAR-10 Batch 5:  Loss:     0.1067 Validation Accuracy: 0.835800\n",
      "Epoch 28, CIFAR-10 Batch 1:  Loss:     0.1126 Validation Accuracy: 0.825600\n",
      "Epoch 28, CIFAR-10 Batch 2:  Loss:     0.0323 Validation Accuracy: 0.828400\n",
      "Epoch 28, CIFAR-10 Batch 3:  Loss:     0.0702 Validation Accuracy: 0.831800\n",
      "Epoch 28, CIFAR-10 Batch 4:  Loss:     0.0641 Validation Accuracy: 0.832200\n",
      "Epoch 28, CIFAR-10 Batch 5:  Loss:     0.0191 Validation Accuracy: 0.833000\n",
      "Epoch 29, CIFAR-10 Batch 1:  Loss:     0.0886 Validation Accuracy: 0.823800\n",
      "Epoch 29, CIFAR-10 Batch 2:  Loss:     0.0461 Validation Accuracy: 0.833000\n",
      "Epoch 29, CIFAR-10 Batch 3:  Loss:     0.0838 Validation Accuracy: 0.835400\n",
      "Epoch 29, CIFAR-10 Batch 4:  Loss:     0.0832 Validation Accuracy: 0.834800\n",
      "Epoch 29, CIFAR-10 Batch 5:  Loss:     0.0940 Validation Accuracy: 0.829400\n",
      "Epoch 30, CIFAR-10 Batch 1:  Loss:     0.0582 Validation Accuracy: 0.833600\n",
      "Epoch 30, CIFAR-10 Batch 2:  Loss:     0.0554 Validation Accuracy: 0.819000\n",
      "Epoch 30, CIFAR-10 Batch 3:  Loss:     0.0648 Validation Accuracy: 0.834000\n",
      "Epoch 30, CIFAR-10 Batch 4:  Loss:     0.0359 Validation Accuracy: 0.835600\n",
      "Epoch 30, CIFAR-10 Batch 5:  Loss:     0.1212 Validation Accuracy: 0.827200\n"
     ]
    }
   ],
   "source": [
    "save_model_path = './image_classification'\n",
    "\n",
    "print('Training...')\n",
    "with tf.Session() as sess:\n",
    "    # Initializing the variables\n",
    "    sess.run(tf.global_variables_initializer())\n",
    "    \n",
    "    # Training cycle\n",
    "    for epoch in range(epochs):\n",
    "        # Loop over all batches\n",
    "        n_batches = 5\n",
    "        for batch_i in range(1, n_batches + 1):\n",
    "            \n",
    "            for batch_features, batch_labels in helper.load_preprocess_training_batch(batch_i, batch_size):\n",
    "                \n",
    "                batch_mean = np.mean(batch_features)\n",
    "                batch_std = np.std(batch_features)\n",
    "                batch_features = batch_features.astype(np.float32)\n",
    "                for ii in range(batch_features.shape[0]):\n",
    "                    batch_features[ii, :, :, :] = (batch_features[ii, :, :, :] - batch_mean) / batch_std \n",
    "                batch_features = np.transpose(batch_features, (0, 3, 1, 2))\n",
    "                train_neural_network(sess, optimizer, keep_probability, batch_features, batch_labels)\n",
    "            print('Epoch {:>2}, CIFAR-10 Batch {}:  '.format(epoch + 1, batch_i), end='')\n",
    "            print_stats(sess, batch_features, batch_labels, cost, accuracy)\n",
    "            \n",
    "    # Save Model\n",
    "    saver = tf.train.Saver()\n",
    "    save_path = saver.save(sess, save_model_path)"
   ]
  },
  {
   "cell_type": "markdown",
   "metadata": {},
   "source": [
    "## Test model"
   ]
  },
  {
   "cell_type": "code",
   "execution_count": 19,
   "metadata": {},
   "outputs": [
    {
     "name": "stdout",
     "output_type": "stream",
     "text": [
      "INFO:tensorflow:Restoring parameters from ./image_classification\n",
      "Testing Accuracy: 0.8150712025316456\n",
      "\n"
     ]
    },
    {
     "data": {
      "image/png": "[encoded data removed]",
      "text/plain": [
       "<matplotlib.figure.Figure at 0x7fa09c087c88>"
      ]
     },
     "metadata": {
      "image/png": {
       "height": 319,
       "width": 355
      }
     },
     "output_type": "display_data"
    }
   ],
   "source": [
    "%matplotlib inline\n",
    "%config InlineBackend.figure_format = 'retina'\n",
    "\n",
    "import tensorflow as tf\n",
    "import pickle\n",
    "import helper\n",
    "import random\n",
    "\n",
    "batch_size = 128\n",
    "\n",
    "save_model_path = './image_classification'\n",
    "n_samples = 4\n",
    "top_n_predictions = 3\n",
    "\n",
    "def test_model():\n",
    "    \"\"\"\n",
    "    Test the saved model against the test dataset\n",
    "    \"\"\"\n",
    "    test_features, test_labels = pickle.load(open('preprocess_test.p', mode='rb'))\n",
    "    test_features = test_features.astype(np.float32)\n",
    "    batch_mean = np.mean(test_features)\n",
    "    batch_std = np.std(test_features)\n",
    "    for ii in range(test_features.shape[0]):\n",
    "        test_features[ii,:,:,:] = (test_features[ii,:,:,:] - batch_mean) / batch_std\n",
    "    \n",
    "    loaded_graph = tf.Graph()\n",
    "    \n",
    "    with tf.Session(graph=loaded_graph) as sess:\n",
    "        # Load model\n",
    "        loader = tf.train.import_meta_graph(save_model_path + '.meta')\n",
    "        loader.restore(sess, save_model_path)\n",
    "\n",
    "        # Get Tensors from loaded model\n",
    "        loaded_x = loaded_graph.get_tensor_by_name('x:0')\n",
    "        loaded_y = loaded_graph.get_tensor_by_name('y:0')\n",
    "        loaded_keep_prob = loaded_graph.get_tensor_by_name('keep_prob:0')\n",
    "        loaded_logits = loaded_graph.get_tensor_by_name('logits:0')\n",
    "        loaded_acc = loaded_graph.get_tensor_by_name('accuracy:0')\n",
    "        \n",
    "        # Get accuracy in batches for memory limitations\n",
    "        test_batch_acc_total = 0\n",
    "        test_batch_count = 0\n",
    "        \n",
    "        for test_feature_batch, test_label_batch in helper.batch_features_labels(test_features, test_labels, batch_size):\n",
    "            test_feature_batch = np.transpose(test_feature_batch, (0, 3, 1, 2))\n",
    "            test_batch_acc_total += sess.run(loaded_acc,\n",
    "                feed_dict={loaded_x: test_feature_batch, loaded_y: test_label_batch, loaded_keep_prob: 1.0})\n",
    "            test_batch_count += 1\n",
    "\n",
    "        print('Testing Accuracy: {}\\n'.format(test_batch_acc_total/test_batch_count))\n",
    "\n",
    "        # Print Random Samples\n",
    "        random_test_features, random_test_labels = tuple(zip(*random.sample(list(zip(test_features, test_labels)), n_samples)))\n",
    "        random_test_features = np.transpose(random_test_features, (0, 3, 1, 2))\n",
    "        random_test_predictions = sess.run(tf.nn.top_k(tf.nn.softmax(loaded_logits), top_n_predictions),\n",
    "            feed_dict={loaded_x: random_test_features, loaded_y: random_test_labels, loaded_keep_prob: 1.0})\n",
    "        random_test_features = np.transpose(random_test_features, (0, 2, 3, 1))\n",
    "        helper.display_image_predictions(random_test_features, random_test_labels, random_test_predictions)\n",
    "\n",
    "test_model()"
   ]
  },
  {
   "cell_type": "code",
   "execution_count": null,
   "metadata": {
    "collapsed": true
   },
   "outputs": [],
   "source": []
  }
 ],
 "metadata": {
  "kernelspec": {
   "display_name": "Python [conda env:tf_1_2]",
   "language": "python",
   "name": "conda-env-tf_1_2-py"
  },
  "language_info": {
   "codemirror_mode": {
    "name": "ipython",
    "version": 3
   },
   "file_extension": ".py",
   "mimetype": "text/x-python",
   "name": "python",
   "nbconvert_exporter": "python",
   "pygments_lexer": "ipython3",
   "version": "3.5.4"
  }
 },
 "nbformat": 4,
 "nbformat_minor": 2
}
